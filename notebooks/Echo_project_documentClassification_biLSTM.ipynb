{
 "cells": [
  {
   "cell_type": "code",
   "id": "initial_id",
   "metadata": {
    "collapsed": true,
    "ExecuteTime": {
     "end_time": "2024-05-03T08:36:06.870387Z",
     "start_time": "2024-05-03T08:36:06.506351Z"
    }
   },
   "source": [
    "# add autoreload\n",
    "%load_ext autoreload\n",
    "%autoreload 2\n",
    "\n",
    "import numpy as np\n",
    "import matplotlib.pyplot as plt\n",
    "import seaborn as sns\n",
    "import pandas as pd\n",
    "import re\n",
    "\n",
    "import os\n",
    "from collections import defaultdict\n",
    "\n",
    "from sklearn.metrics import accuracy_score, f1_score, precision_score, recall_score, confusion_matrix, roc_auc_score, multilabel_confusion_matrix\n",
    "from sklearn.model_selection import StratifiedKFold, KFold\n"
   ],
   "outputs": [
    {
     "name": "stdout",
     "output_type": "stream",
     "text": [
      "The autoreload extension is already loaded. To reload it, use:\n",
      "  %reload_ext autoreload\n"
     ]
    }
   ],
   "execution_count": 18
  },
  {
   "cell_type": "code",
   "id": "1dd8f28e",
   "metadata": {
    "ExecuteTime": {
     "end_time": "2024-05-03T08:34:31.254882Z",
     "start_time": "2024-05-03T08:34:28.189829Z"
    }
   },
   "source": [
    "from keras.utils import pad_sequences\n",
    "from tensorflow.keras.preprocessing.text import Tokenizer as KerasTokenizer\n",
    "from keras.models import Sequential\n",
    "from keras import layers, utils\n",
    "from keras import optimizers\n",
    "import tensorflow as tf\n",
    "\n",
    "import spacy\n",
    "\n",
    "from sklearn.preprocessing import LabelEncoder\n",
    "import gc\n",
    "\n",
    "from typing import Callable, Tuple, Dict, List, Literal"
   ],
   "outputs": [],
   "execution_count": 16
  },
  {
   "cell_type": "code",
   "id": "1461462f259a5bda",
   "metadata": {
    "ExecuteTime": {
     "end_time": "2024-05-03T08:28:05.132958Z",
     "start_time": "2024-05-03T08:28:04.826807Z"
    }
   },
   "source": [
    "# TODO: add pre-trained word embeddings\n",
    "# Generic Spacy\n",
    "# Medical Dutch"
   ],
   "outputs": [],
   "execution_count": 3
  },
  {
   "cell_type": "code",
   "id": "32c717711699522f",
   "metadata": {
    "ExecuteTime": {
     "end_time": "2024-05-03T08:28:05.674565Z",
     "start_time": "2024-05-03T08:28:05.136312Z"
    }
   },
   "source": [
    "os.chdir('T://lab_research/RES-Folder-UPOD/Echo_label/E_ResearchData/2_ResearchData')"
   ],
   "outputs": [],
   "execution_count": 4
  },
  {
   "cell_type": "code",
   "id": "ace45bb284174d6d",
   "metadata": {
    "ExecuteTime": {
     "end_time": "2024-05-03T08:28:06.031086Z",
     "start_time": "2024-05-03T08:28:05.676534Z"
    }
   },
   "source": [
    "os.listdir(\"./echo_doc_labels\")"
   ],
   "outputs": [
    {
     "data": {
      "text/plain": [
       "['aortic_regurgitation.jsonl',\n",
       " 'aortic_stenosis.jsonl',\n",
       " 'diastolic_dysfunction.jsonl',\n",
       " 'lv_dil.jsonl',\n",
       " 'lv_syst_func.jsonl',\n",
       " 'merged_labels.jsonl',\n",
       " 'mitral_regurgitation.jsonl',\n",
       " 'pe.jsonl',\n",
       " 'rv_dil.jsonl',\n",
       " 'rv_syst_func.jsonl',\n",
       " 'tricuspid_regurgitation.jsonl',\n",
       " 'wma.jsonl']"
      ]
     },
     "execution_count": 5,
     "metadata": {},
     "output_type": "execute_result"
    }
   ],
   "execution_count": 5
  },
  {
   "cell_type": "code",
   "id": "4efa158612b8bcd0",
   "metadata": {
    "ExecuteTime": {
     "end_time": "2024-05-03T09:15:13.921671Z",
     "start_time": "2024-05-03T09:15:13.532126Z"
    }
   },
   "source": [
    "#  settings\n",
    "embedding_dim = 256\n",
    "max_len = 200\n",
    "num_words_in_vocab = 5_000\n",
    "num_epochs = 50\n",
    "num_folds = 10\n",
    "Class = 'pe' # aortic_regurgitation, lv_sys_func, None to run all  \n",
    "batch_size = 128\n",
    "ModelType = 'cnn' # bigru, bilstm, cnn\n",
    "ProcessorType = \"cpu\" if len(tf.config.experimental.list_physical_devices(\"GPU\"))==0 else \"gpu\"\n",
    "Splitting = 'from_file' # CV or from_file\n",
    "UseClassWeights = False\n",
    "LR = 0.0005\n",
    "dilation=1\n",
    "num_layers = 128\n",
    "lemmatize = True\n",
    "lowercase = False\n",
    "pre_trained_embeddings = False\n",
    "deabbreviator = False # TODO: replace abbreviations\n",
    "typo_removal = False # TODO: remove typos\n",
    "filter_reports = True"
   ],
   "outputs": [],
   "execution_count": 21
  },
  {
   "cell_type": "code",
   "id": "9a824afe",
   "metadata": {
    "ExecuteTime": {
     "end_time": "2024-05-03T08:28:06.759572Z",
     "start_time": "2024-05-03T08:28:06.394065Z"
    }
   },
   "source": [
    "print(ProcessorType)"
   ],
   "outputs": [
    {
     "name": "stdout",
     "output_type": "stream",
     "text": [
      "cpu\n"
     ]
    }
   ],
   "execution_count": 7
  },
  {
   "cell_type": "code",
   "id": "353550069f4de85f",
   "metadata": {
    "ExecuteTime": {
     "end_time": "2024-05-03T08:28:11.177104Z",
     "start_time": "2024-05-03T08:28:06.762575Z"
    }
   },
   "source": [
    "plt.style.use('ggplot')\n",
    "if lemmatize | pre_trained_embeddings:\n",
    "    nlp = spacy.load(\"nl_core_news_lg\", disable = ['parser','ner'])    "
   ],
   "outputs": [],
   "execution_count": 8
  },
  {
   "cell_type": "code",
   "id": "96e4a0adc5cce0c1",
   "metadata": {
    "ExecuteTime": {
     "end_time": "2024-05-03T08:28:11.533611Z",
     "start_time": "2024-05-03T08:28:11.179606Z"
    }
   },
   "source": [
    "# source: https://jesusleal.io/2021/04/21/Longformer-multilabel-classification/\n",
    "def multi_label_metrics(probs, labels, threshold=0.5):\n",
    "    # next, use threshold to turn them into integer predictions\n",
    "    y_pred = np.zeros(probs.shape)\n",
    "    y_pred[np.where(probs >= threshold)] = 1\n",
    "    # finally, compute metrics\n",
    "    \n",
    "    y_true = labels\n",
    "    #y_true = tf.keras.backend.eval(y_true)\n",
    "    #y_pred = tf.keras.backend.eval(y_pred)\n",
    "    \n",
    "    f1_macro = f1_score(y_true=y_true, y_pred=y_pred, average='macro')\n",
    "    f1_weighted = f1_score(y_true=y_true, y_pred=y_pred, average='weighted')\n",
    "    f1_micro = f1_score(y_true=y_true, y_pred=y_pred, average='micro')\n",
    "    prec_macro = precision_score(y_true=y_true, y_pred=y_pred, average='macro')\n",
    "    prec_weighted = precision_score(y_true=y_true, y_pred=y_pred, average='weighted')\n",
    "    prec_micro = precision_score(y_true=y_true, y_pred=y_pred, average='micro')\n",
    "    recall_macro = recall_score(y_true=y_true, y_pred=y_pred, average='macro')\n",
    "    recall_weighted = recall_score(y_true=y_true, y_pred=y_pred, average='weighted')\n",
    "    recall_micro = recall_score(y_true=y_true, y_pred=y_pred, average='micro')\n",
    "    try:\n",
    "        roc_auc_weighted = roc_auc_score(y_true, probs, average = 'weighted')\n",
    "        roc_auc_macro = roc_auc_score(y_true, probs, average = 'macro')\n",
    "        roc_auc_micro = roc_auc_score(y_true, probs, average = 'micro')\n",
    "    except ValueError:\n",
    "        roc_auc_weighted = None\n",
    "        roc_auc_macro = None\n",
    "        roc_auc_micro = None\n",
    "\n",
    "    accuracy = accuracy_score(y_true, y_pred)\n",
    "    # return as dictionary\n",
    "    metrics = {'f1_macro': f1_macro,\n",
    "               'f1_weighted': f1_weighted,\n",
    "               'f1_micro': f1_micro,\n",
    "               'prec_macro': prec_macro,\n",
    "               'prec_weighted': prec_weighted,\n",
    "               'prec_micro': prec_micro,\n",
    "               'recall_macro': recall_macro,\n",
    "               'recall_weighted': recall_weighted,\n",
    "               'recall_micro': recall_micro,\n",
    "               'roc_auc_macro': roc_auc_macro,\n",
    "               'roc_auc_weighted': roc_auc_weighted,\n",
    "               'roc_auc_micro': roc_auc_micro,\n",
    "               'accuracy': accuracy}\n",
    "    return metrics\n",
    "     \n"
   ],
   "outputs": [],
   "execution_count": 9
  },
  {
   "cell_type": "code",
   "id": "ecd0b0ba39bca6be",
   "metadata": {
    "ExecuteTime": {
     "end_time": "2024-05-03T08:28:11.921110Z",
     "start_time": "2024-05-03T08:28:11.536108Z"
    }
   },
   "source": [
    "# inference pipe\n",
    "def tokenize_and_pad(x, tokenizer, maxlen = 256):\n",
    "    toks = tokenizer.texts_to_sequences(x)\n",
    "    toks_padded = pad_sequences(toks, padding = 'post', maxlen = maxlen)\n",
    "    return toks_padded\n",
    "\n",
    "def evaluate_model(clf, labels):\n",
    "    probas = clf.predict(X_test)\n",
    "    cf_matrix = confusion_matrix(np.argmax(labels, axis=1),\n",
    "                                 np.argmax(probas, axis=1))\n",
    "\n",
    "    return cf_matrix\n"
   ],
   "outputs": [],
   "execution_count": 10
  },
  {
   "cell_type": "code",
   "id": "3331f26fd0c509f7",
   "metadata": {
    "ExecuteTime": {
     "end_time": "2024-05-03T08:28:12.262142Z",
     "start_time": "2024-05-03T08:28:11.924114Z"
    }
   },
   "source": [
    "# Stratified cross-validation\n",
    "\n",
    "def fold_indices(targets: pd.Series=None, stratified: bool=True, seed: int=42, numfolds: int=10)->Tuple[List,List]:\n",
    "    if stratified:\n",
    "        splitter = StratifiedKFold(n_splits=numfolds, shuffle=True, random_state=seed)\n",
    "        _Targets = targets\n",
    "    else:\n",
    "        splitter = KFold(n_splits=numfolds, shuffle=True, random_state=seed)\n",
    "        _Targets = None\n",
    "\n",
    "    train_indcs, test_indcs = [], []\n",
    "    for train_index, test_index in splitter.split(X=targets, y=_Targets):\n",
    "        train_indcs.append(train_index)\n",
    "        test_indcs.append(test_index)\n",
    "\n",
    "    return zip(train_indcs, test_indcs)"
   ],
   "outputs": [],
   "execution_count": 11
  },
  {
   "cell_type": "code",
   "id": "a2ce3cf91202770e",
   "metadata": {
    "ExecuteTime": {
     "end_time": "2024-05-03T08:28:12.665117Z",
     "start_time": "2024-05-03T08:28:12.267616Z"
    }
   },
   "source": [
    "class CustomMetrics(tf.keras.callbacks.Callback):\n",
    "    def __init__(self, validation_data):\n",
    "        super(CustomMetrics, self).__init__()\n",
    "        self.validation_data = validation_data\n",
    "\n",
    "    def on_epoch_end(self, epoch, logs=None):\n",
    "        logs = logs or {}\n",
    "        val_predict = self.model.predict(self.validation_data[0])\n",
    "        val_targ = self.validation_data[1]\n",
    "\n",
    "        _val_metrics = multi_label_metrics(val_targ, val_predict)\n",
    "        for name, value in _val_metrics.items():\n",
    "            logs['val_' + name] = value\n",
    "\n",
    "        print(\" — val_f1_macro: %f — val_accuracy: %f\" % (logs['val_f1_macro'], logs['val_accuracy']))\n",
    "        return"
   ],
   "outputs": [],
   "execution_count": 12
  },
  {
   "cell_type": "code",
   "id": "e4c02977",
   "metadata": {
    "ExecuteTime": {
     "end_time": "2024-05-03T08:28:13.021620Z",
     "start_time": "2024-05-03T08:28:12.667118Z"
    }
   },
   "source": [
    "def CurrentModel(modelselection: Literal['bigru', 'bilstm', 'cnn'], \n",
    "                 embeddingdim: int=128, \n",
    "                 maxlen: int=256, \n",
    "                 vocabsize: int=50_000,\n",
    "                 numclasses: int=5,\n",
    "                 learningrate: float=0.001,\n",
    "                 num_layers: int=128,\n",
    "                 pre_trained_vectors: bool=False,\n",
    "                 dilation=4):\n",
    "    model = Sequential()\n",
    "    if pre_trained_vectors:\n",
    "        num_dense = 20\n",
    "    else:\n",
    "        num_dense = 10\n",
    "    if modelselection =='bigru':\n",
    "        if pre_trained_vectors:\n",
    "            model.add(layers.Bidirectional(layers.GRU(num_layers), input_shape=(maxlen, embeddingdim)))\n",
    "        else:\n",
    "            model.add(layers.Embedding(vocabsize, embeddingdim, input_length=maxlen))\n",
    "            model.add(layers.Bidirectional(layers.GRU(num_layers)))\n",
    "        model.add(layers.Dense(num_dense, activation = 'relu'))\n",
    "        model.add(layers.Dense(numclasses, activation = 'softmax'))\n",
    "        model.compile(optimizer = optimizers.Adam(learning_rate=learningrate),\n",
    "                      loss = 'categorical_crossentropy', \n",
    "                      metrics = ['accuracy'])\n",
    "    elif modelselection =='bilstm':\n",
    "        if pre_trained_vectors:\n",
    "            model.add(layers.Bidirectional(layers.LSTM(num_layers), input_shape=(maxlen, embeddingdim)))\n",
    "        else:\n",
    "            model.add(layers.Embedding(vocabsize, embeddingdim, input_length=maxlen))\n",
    "            model.add(layers.Bidirectional(layers.LSTM(num_layers)))\n",
    "        model.add(layers.Dense(num_dense, activation = 'relu'))\n",
    "        model.add(layers.Dense(numclasses, activation = 'softmax'))\n",
    "        model.compile(optimizer = optimizers.Adam(learning_rate=learningrate),\n",
    "                      loss = 'categorical_crossentropy',\n",
    "                      metrics = ['accuracy'])\n",
    "    elif modelselection =='cnn':\n",
    "        if pre_trained_vectors:\n",
    "            model.add(layers.Conv1D(num_layers, 5, activation = 'relu', dilation_rate = dilation, input_shape = (maxlen, embeddingdim)))\n",
    "        else:\n",
    "            model.add(layers.Embedding(vocabsize, embeddingdim, input_length = maxlen))\n",
    "            model.add(layers.Conv1D(num_layers, 5, activation = 'relu', dilation_rate = dilation))\n",
    "        model.add(layers.GlobalMaxPooling1D())\n",
    "        model.add(layers.Dense(num_dense, activation = 'relu'))\n",
    "        model.add(layers.Dense(numclasses, activation = 'softmax'))\n",
    "        model.compile(optimizer = optimizers.Adam(learning_rate=learningrate),\n",
    "                      loss = 'categorical_crossentropy',\n",
    "                      metrics = ['accuracy'])\n",
    "    return model"
   ],
   "outputs": [],
   "execution_count": 13
  },
  {
   "cell_type": "code",
   "id": "0c8d3cd3",
   "metadata": {
    "ExecuteTime": {
     "end_time": "2024-05-03T08:28:13.362624Z",
     "start_time": "2024-05-03T08:28:13.024127Z"
    }
   },
   "source": [
    "def run_model_pipe(x: list, model: Sequential, maxlen: int=256, tokenizer=None):\n",
    "    x_tok = tokenize_and_pad(x, tokenizer=tokenizer, maxlen=maxlen)\n",
    "    return model.predict(x_tok)"
   ],
   "outputs": [],
   "execution_count": 14
  },
  {
   "cell_type": "code",
   "id": "1a9b8aa843f30de4",
   "metadata": {
    "ExecuteTime": {
     "end_time": "2024-05-03T08:28:13.703628Z",
     "start_time": "2024-05-03T08:28:13.365123Z"
    }
   },
   "source": [
    "def text_to_vectors(texts, maxlen):\n",
    "    '''\n",
    "    :param texts: texts to embed, list of strings\n",
    "    :param maxlen: max length, in tokens, of the texts\n",
    "    :return: array of arrays\n",
    "    '''\n",
    "    _docs = nlp.pipe(texts)\n",
    "    # We truncate or pad the document vector to a fixed size\n",
    "    array_list = []\n",
    "    for doc in _docs:\n",
    "        vectors = [token.vector for token in doc]\n",
    "        if len(vectors) > maxlen:\n",
    "            vectors = vectors[:maxlen]\n",
    "        elif len(vectors) < max_len:\n",
    "            vectors += [np.zeros((nlp.vocab.vectors_length,))] * (maxlen - len(vectors))\n",
    "        array_list.append(np.array(vectors))\n",
    "    return np.array(array_list)"
   ],
   "outputs": [],
   "execution_count": 15
  },
  {
   "metadata": {
    "ExecuteTime": {
     "end_time": "2024-05-03T09:16:14.232021Z",
     "start_time": "2024-05-03T09:16:13.802519Z"
    }
   },
   "cell_type": "code",
   "source": [
    "def report_filter(texts: List[str], \n",
    "           Tokenizer: Callable=None,\n",
    "           min_tokens: int=4, \n",
    "           min_chars: int=15, \n",
    "           flag_terms: List[str]=None, \n",
    "           suspect_terms: List[str]=None):\n",
    "    '''    \n",
    "    :param texts: texts to filter, List of strings\n",
    "    :param Tokenizer: Tokenizer to be used for filtering, use standard tokenizer if None\n",
    "           The tokenizer is expected to ingest a string, and output a list of strings \n",
    "    :param min_tokens: texts with < min_tokens are filtered out\n",
    "    :param min_chars: texts with < min_char are filtered out\n",
    "    :param flag_terms: texts with any of these spans are filtered out\n",
    "    :param suspect_terms: texts with any of these spans are flagged as suspect for removal\n",
    "    :return: \n",
    "    '''\n",
    "    if Tokenizer is None:\n",
    "        Tokenizer = lambda x: x.split()\n",
    "    \n",
    "    filtered_texts = []\n",
    "    suspect_texts = []\n",
    "    for text in texts:        \n",
    "        Tokens = Tokenizer(text)\n",
    "        \n",
    "        numtokens = len(Tokens)\n",
    "        numchars = len(text)\n",
    "        \n",
    "        if (numtokens < min_tokens) or (numchars < min_chars):\n",
    "            filtered_texts.append(None)\n",
    "            continue\n",
    "        \n",
    "        if any([ft in text for ft in flag_terms]):\n",
    "            filtered_texts.append(None)\n",
    "            continue\n",
    "        \n",
    "        if any([st in text for st in suspect_terms]):\n",
    "            filtered_texts.append(text)\n",
    "            suspect_texts.append(text)\n",
    "            continue\n",
    "        \n",
    "        filtered_texts.append(text)\n",
    "    return filtered_texts, suspect_texts\n"
   ],
   "id": "77516b92728e547f",
   "outputs": [],
   "execution_count": 22
  },
  {
   "metadata": {},
   "cell_type": "code",
   "outputs": [],
   "execution_count": null,
   "source": "def deabber",
   "id": "af9e878e59ea9158"
  },
  {
   "cell_type": "markdown",
   "id": "3d471e0819f26480",
   "metadata": {},
   "source": " # Load data"
  },
  {
   "cell_type": "code",
   "execution_count": 835,
   "id": "9d0028d86cdb445f",
   "metadata": {
    "ExecuteTime": {
     "end_time": "2024-05-01T15:55:01.989910Z",
     "start_time": "2024-05-01T15:55:01.605400Z"
    }
   },
   "outputs": [],
   "source": [
    "labeled_documents = pd.read_json(f\"./echo_doc_labels/{Class}.jsonl\", lines=True)\n",
    "label_col = 'label' if Class!='merged_labels' else 'labels'\n",
    "target_df = pd.DataFrame.from_records(labeled_documents[label_col])"
   ]
  },
  {
   "cell_type": "code",
   "execution_count": 836,
   "id": "7581d300fbdc685b",
   "metadata": {
    "ExecuteTime": {
     "end_time": "2024-05-01T15:55:02.346451Z",
     "start_time": "2024-05-01T15:55:01.992909Z"
    }
   },
   "outputs": [
    {
     "data": {
      "text/plain": [
       "(5750, 3)"
      ]
     },
     "execution_count": 836,
     "metadata": {},
     "output_type": "execute_result"
    }
   ],
   "source": [
    "labeled_documents.shape"
   ]
  },
  {
   "cell_type": "code",
   "execution_count": 837,
   "id": "91a201c2411f947b",
   "metadata": {
    "ExecuteTime": {
     "end_time": "2024-05-01T15:55:02.842480Z",
     "start_time": "2024-05-01T15:55:02.349417Z"
    }
   },
   "outputs": [
    {
     "data": {
      "image/png": "[encoded data removed]",
      "text/plain": [
       "<Figure size 432x288 with 1 Axes>"
      ]
     },
     "metadata": {},
     "output_type": "display_data"
    }
   ],
   "source": [
    "num_tokens = labeled_documents.text.apply(lambda x: len(x.split(\" \")))\n",
    "plt.hist(num_tokens, bins=30);"
   ]
  },
  {
   "cell_type": "code",
   "execution_count": 838,
   "id": "49a00fc68e98cfdd",
   "metadata": {
    "ExecuteTime": {
     "end_time": "2024-05-01T15:55:05.121057Z",
     "start_time": "2024-05-01T15:55:02.844950Z"
    }
   },
   "outputs": [
    {
     "name": "stdout",
     "output_type": "stream",
     "text": [
      "Number of unique tokens: 18989\n"
     ]
    }
   ],
   "source": [
    "_set = set()\n",
    "for __set in labeled_documents.text.apply(lambda x: set(x.split(\" \"))).values:\n",
    "    _set = _set.union(__set)\n",
    "print(f\"Number of unique tokens: {len(_set)}\")"
   ]
  },
  {
   "cell_type": "code",
   "execution_count": 839,
   "id": "2bd53d2d",
   "metadata": {
    "ExecuteTime": {
     "end_time": "2024-05-01T15:55:05.632014Z",
     "start_time": "2024-05-01T15:55:05.124002Z"
    }
   },
   "outputs": [],
   "source": [
    "# load train/test hashes\n",
    "#hash_docs_link = pd.read_json(\"./echo_span_labels/reduced_labels/merged_labels.jsonl\", lines=True)[['text', '_input_hash']]\n",
    "train_ids = pd.read_csv('./train_echoid.csv', sep=',').input_hash.unique()\n",
    "test_ids = pd.read_csv('./test_echoid.csv', sep=',').input_hash.unique()\n",
    "\n",
    "labeled_documents['_hash'] = labeled_documents.text.str.strip().apply(lambda x: hash(x))\n",
    "#hash_docs_link['_hash'] = hash_docs_link.text.str.strip().apply(lambda x: hash(x))\n",
    "\n",
    "#labeled_documents = labeled_documents.merge(hash_docs_link[['_input_hash', '_hash']], \n",
    "#                                            on='_hash', how='inner')\n",
    "\n",
    "labeled_documents = labeled_documents.drop_duplicates(subset=['_hash']).reset_index(drop=True)"
   ]
  },
  {
   "cell_type": "code",
   "execution_count": 840,
   "id": "382490b3d36e7508",
   "metadata": {
    "ExecuteTime": {
     "end_time": "2024-05-01T15:55:06.004026Z",
     "start_time": "2024-05-01T15:55:05.634514Z"
    }
   },
   "outputs": [
    {
     "data": {
      "text/html": [
       "<div>\n",
       "<style scoped>\n",
       "    .dataframe tbody tr th:only-of-type {\n",
       "        vertical-align: middle;\n",
       "    }\n",
       "\n",
       "    .dataframe tbody tr th {\n",
       "        vertical-align: top;\n",
       "    }\n",
       "\n",
       "    .dataframe thead th {\n",
       "        text-align: right;\n",
       "    }\n",
       "</style>\n",
       "<table border=\"1\" class=\"dataframe\">\n",
       "  <thead>\n",
       "    <tr style=\"text-align: right;\">\n",
       "      <th></th>\n",
       "      <th>text</th>\n",
       "      <th>label</th>\n",
       "      <th>_input_hash</th>\n",
       "      <th>_hash</th>\n",
       "    </tr>\n",
       "  </thead>\n",
       "  <tbody>\n",
       "    <tr>\n",
       "      <th>0</th>\n",
       "      <td>Goede functie van R.V. en L.V. Nog bekijken me...</td>\n",
       "      <td>No label</td>\n",
       "      <td>-1492643194</td>\n",
       "      <td>-8829369265011805554</td>\n",
       "    </tr>\n",
       "    <tr>\n",
       "      <th>1</th>\n",
       "      <td>Goede L.V. functie en R.V. functie. Er is een ...</td>\n",
       "      <td>No label</td>\n",
       "      <td>-1268308324</td>\n",
       "      <td>-38610910844393231</td>\n",
       "    </tr>\n",
       "    <tr>\n",
       "      <th>2</th>\n",
       "      <td>Normale dimensie LV. prominent basale septum, ...</td>\n",
       "      <td>No label</td>\n",
       "      <td>-1752879130</td>\n",
       "      <td>-1076752421785114265</td>\n",
       "    </tr>\n",
       "    <tr>\n",
       "      <th>3</th>\n",
       "      <td>Goede systolische LV-functie. Matige cLVH. Gee...</td>\n",
       "      <td>Normal</td>\n",
       "      <td>570163096</td>\n",
       "      <td>4292931891081664247</td>\n",
       "    </tr>\n",
       "    <tr>\n",
       "      <th>4</th>\n",
       "      <td>Globaal redelijke systolische restfunctie. Voo...</td>\n",
       "      <td>Normal</td>\n",
       "      <td>-1692751703</td>\n",
       "      <td>-708272756211602641</td>\n",
       "    </tr>\n",
       "    <tr>\n",
       "      <th>...</th>\n",
       "      <td>...</td>\n",
       "      <td>...</td>\n",
       "      <td>...</td>\n",
       "      <td>...</td>\n",
       "    </tr>\n",
       "    <tr>\n",
       "      <th>5744</th>\n",
       "      <td>Technisch beperkt; moeizame echovensters.\\r\\n\\...</td>\n",
       "      <td>No label</td>\n",
       "      <td>-646413772</td>\n",
       "      <td>-1883685935776333483</td>\n",
       "    </tr>\n",
       "    <tr>\n",
       "      <th>5745</th>\n",
       "      <td>Matig echo window.\\r\\n- niet gedilateerde LV m...</td>\n",
       "      <td>No label</td>\n",
       "      <td>-670141983</td>\n",
       "      <td>-1836875323323155183</td>\n",
       "    </tr>\n",
       "    <tr>\n",
       "      <th>5746</th>\n",
       "      <td>Normale dimensies en funktie LV. RVF laag norm...</td>\n",
       "      <td>Normal</td>\n",
       "      <td>-623844709</td>\n",
       "      <td>6938213997979499964</td>\n",
       "    </tr>\n",
       "    <tr>\n",
       "      <th>5747</th>\n",
       "      <td>Op dit echo geen duidelijke afwijkingen, goede...</td>\n",
       "      <td>Normal</td>\n",
       "      <td>-79275016</td>\n",
       "      <td>1939100293359204699</td>\n",
       "    </tr>\n",
       "    <tr>\n",
       "      <th>5748</th>\n",
       "      <td>Geen significante verandering tov het onderzoe...</td>\n",
       "      <td>Severe</td>\n",
       "      <td>-1935827222</td>\n",
       "      <td>1202408018747504284</td>\n",
       "    </tr>\n",
       "  </tbody>\n",
       "</table>\n",
       "<p>5749 rows × 4 columns</p>\n",
       "</div>"
      ],
      "text/plain": [
       "                                                   text     label  \\\n",
       "0     Goede functie van R.V. en L.V. Nog bekijken me...  No label   \n",
       "1     Goede L.V. functie en R.V. functie. Er is een ...  No label   \n",
       "2     Normale dimensie LV. prominent basale septum, ...  No label   \n",
       "3     Goede systolische LV-functie. Matige cLVH. Gee...    Normal   \n",
       "4     Globaal redelijke systolische restfunctie. Voo...    Normal   \n",
       "...                                                 ...       ...   \n",
       "5744  Technisch beperkt; moeizame echovensters.\\r\\n\\...  No label   \n",
       "5745  Matig echo window.\\r\\n- niet gedilateerde LV m...  No label   \n",
       "5746  Normale dimensies en funktie LV. RVF laag norm...    Normal   \n",
       "5747  Op dit echo geen duidelijke afwijkingen, goede...    Normal   \n",
       "5748  Geen significante verandering tov het onderzoe...    Severe   \n",
       "\n",
       "      _input_hash                _hash  \n",
       "0     -1492643194 -8829369265011805554  \n",
       "1     -1268308324   -38610910844393231  \n",
       "2     -1752879130 -1076752421785114265  \n",
       "3       570163096  4292931891081664247  \n",
       "4     -1692751703  -708272756211602641  \n",
       "...           ...                  ...  \n",
       "5744   -646413772 -1883685935776333483  \n",
       "5745   -670141983 -1836875323323155183  \n",
       "5746   -623844709  6938213997979499964  \n",
       "5747    -79275016  1939100293359204699  \n",
       "5748  -1935827222  1202408018747504284  \n",
       "\n",
       "[5749 rows x 4 columns]"
      ]
     },
     "execution_count": 840,
     "metadata": {},
     "output_type": "execute_result"
    }
   ],
   "source": [
    "labeled_documents"
   ]
  },
  {
   "cell_type": "code",
   "execution_count": 841,
   "id": "6632439635dd361f",
   "metadata": {
    "ExecuteTime": {
     "end_time": "2024-05-01T15:55:06.329418Z",
     "start_time": "2024-05-01T15:55:06.008543Z"
    }
   },
   "outputs": [],
   "source": [
    "# Expand with label columns\n",
    "if Class == 'merged_labels':\n",
    "    Target_maps = {\n",
    "        _Class: {Label:i for i,Label in enumerate(target_df[Class].unique())}\n",
    "        for _Class in target_df.columns\n",
    "    }\n",
    "else:\n",
    "    Target_maps = {\n",
    "        Class: {Label: i for i,Label in enumerate(labeled_documents['label'].unique())} \n",
    "    }\n",
    "    \n",
    "if Class == 'merged_labels':\n",
    "    DF = labeled_documents[['text', '_input_hash']].join(target_df[Class])\n",
    "else:\n",
    "    DF = labeled_documents[['text', '_input_hash', 'label']]\n",
    "\n",
    "DF.columns = ['sentence', '_input_hash', 'labels']\n",
    "\n",
    "label2id = Target_maps[Class]\n",
    "id2label = {v:k for k,v in label2id.items()}\n",
    "num_labels = len(label2id)\n",
    "\n",
    "DF= DF.assign(label=DF['labels'].map(label2id))"
   ]
  },
  {
   "cell_type": "code",
   "execution_count": 842,
   "id": "5531a11d2aeecd5a",
   "metadata": {
    "ExecuteTime": {
     "end_time": "2024-05-01T15:55:06.654943Z",
     "start_time": "2024-05-01T15:55:06.331916Z"
    }
   },
   "outputs": [
    {
     "data": {
      "text/plain": [
       "array(['No label', 'Normal', 'Mild', 'Moderate', 'Severe'], dtype=object)"
      ]
     },
     "execution_count": 842,
     "metadata": {},
     "output_type": "execute_result"
    }
   ],
   "source": [
    "DF.labels.unique()"
   ]
  },
  {
   "cell_type": "markdown",
   "id": "134425514247d5e6",
   "metadata": {},
   "source": [
    "## Clean text"
   ]
  },
  {
   "cell_type": "code",
   "execution_count": 843,
   "id": "2cd611ac6ba3027e",
   "metadata": {
    "ExecuteTime": {
     "end_time": "2024-05-01T15:55:07.259426Z",
     "start_time": "2024-05-01T15:55:06.657412Z"
    }
   },
   "outputs": [],
   "source": [
    "DF = DF.assign(sentence=DF.sentence.str.replace(r'[\\r\\n]', '', regex=True)) "
   ]
  },
  {
   "cell_type": "code",
   "execution_count": 844,
   "id": "ef0e8d7af868e41f",
   "metadata": {
    "ExecuteTime": {
     "end_time": "2024-05-01T15:55:19.178830Z",
     "start_time": "2024-05-01T15:55:07.262427Z"
    }
   },
   "outputs": [],
   "source": [
    "if lemmatize:\n",
    "    docs = nlp.pipe(DF.sentence.values)\n",
    "    new_texts = [\" \".join([token.lemma_ for token in doc]) for doc in docs] \n",
    "    DF = DF.assign(sentence = new_texts)\n",
    "\n",
    "if lowercase:\n",
    "    DF = DF.assign(sentence = DF.sentence.str.lower())\n",
    "    \n",
    "if filter_reports:\n",
    "    DF = DF.assign(sentence = report_filter(DF.sentence)[0])"
   ]
  },
  {
   "metadata": {},
   "cell_type": "code",
   "outputs": [],
   "execution_count": null,
   "source": "",
   "id": "6df9ae9120844022"
  },
  {
   "cell_type": "markdown",
   "id": "a3c68f12e14c3d84",
   "metadata": {},
   "source": [
    "# Make folds"
   ]
  },
  {
   "cell_type": "code",
   "execution_count": 845,
   "id": "83203825517c00c8",
   "metadata": {
    "ExecuteTime": {
     "end_time": "2024-05-01T15:55:19.504311Z",
     "start_time": "2024-05-01T15:55:19.181186Z"
    }
   },
   "outputs": [],
   "source": [
    "# prepping\n",
    "TrainTestDict = defaultdict(dict)\n",
    "\n",
    "if Splitting == 'from_file':\n",
    "    TrainTestDict[0]['Xtrain'] = DF.loc[DF._input_hash.isin(train_ids)].sentence\n",
    "    TrainTestDict[0]['Xtest'] = DF.loc[DF._input_hash.isin(test_ids)].sentence\n",
    "    \n",
    "    TrainTestDict[0]['ytrain'] = DF.loc[DF._input_hash.isin(train_ids)].label\n",
    "    TrainTestDict[0]['ytest'] = DF.loc[DF._input_hash.isin(test_ids)].label\n",
    "    \n",
    "elif Splitting == 'CV':\n",
    "    for k,(train_index, test_index) in enumerate(fold_indices(targets=DF['label'], stratified=True)):\n",
    "        TrainTestDict[k]['Xtrain'] = DF.iloc[train_index].sentence\n",
    "        TrainTestDict[k]['Xtest'] = DF.iloc[test_index].sentence\n",
    "        \n",
    "        TrainTestDict[k]['ytrain'] = DF.iloc[train_index].label\n",
    "        TrainTestDict[k]['ytest'] = DF.iloc[test_index].label\n",
    "    "
   ]
  },
  {
   "cell_type": "markdown",
   "id": "87a4b47e71c1ca13",
   "metadata": {},
   "source": [
    "## Initiate models"
   ]
  },
  {
   "cell_type": "code",
   "execution_count": 846,
   "id": "a28bb238849448ea",
   "metadata": {
    "ExecuteTime": {
     "end_time": "2024-05-01T15:55:19.829706Z",
     "start_time": "2024-05-01T15:55:19.506692Z"
    }
   },
   "outputs": [],
   "source": [
    "if pre_trained_embeddings:\n",
    "    embedding_dim = nlp.vocab.vectors_length"
   ]
  },
  {
   "cell_type": "code",
   "execution_count": 847,
   "id": "664871e9df2dde6b",
   "metadata": {
    "ExecuteTime": {
     "end_time": "2024-05-01T15:55:20.372243Z",
     "start_time": "2024-05-01T15:55:19.832711Z"
    }
   },
   "outputs": [],
   "source": [
    "ModelDict = defaultdict(dict)\n",
    "for k,v in TrainTestDict.items():\n",
    "    if pre_trained_embeddings:\n",
    "        LSTM_Tokenizer = None\n",
    "        vocab_size = None\n",
    "    else:\n",
    "        LSTM_Tokenizer = KerasTokenizer(num_words=num_words_in_vocab)\n",
    "        LSTM_Tokenizer.fit_on_texts(v['Xtrain'])\n",
    "        vocab_size = len(LSTM_Tokenizer.word_index)+1\n",
    "\n",
    "    num_classes = np.unique(v['ytrain']).shape[0]\n",
    "    \n",
    "    ModelDict[k]['tokenizer'] = LSTM_Tokenizer\n",
    "    ModelDict[k]['model'] = CurrentModel(modelselection=ModelType, \n",
    "                                         embeddingdim=embedding_dim,\n",
    "                                         maxlen=max_len,\n",
    "                                         vocabsize=vocab_size,\n",
    "                                         numclasses=num_classes,\n",
    "                                         learningrate=LR,\n",
    "                                         dilation=dilation,\n",
    "                                         num_layers=num_layers,\n",
    "                                         pre_trained_vectors=pre_trained_embeddings\n",
    "                                         )"
   ]
  },
  {
   "cell_type": "markdown",
   "id": "26a30b4c2d9bfaf3",
   "metadata": {},
   "source": [
    "# Train"
   ]
  },
  {
   "cell_type": "code",
   "execution_count": 848,
   "id": "a15851917a011494",
   "metadata": {
    "ExecuteTime": {
     "end_time": "2024-05-01T15:59:44.481709Z",
     "start_time": "2024-05-01T15:55:20.377712Z"
    }
   },
   "outputs": [
    {
     "name": "stderr",
     "output_type": "stream",
     "text": [
      "D:\\VENVS\\Envs\\nlp_310\\lib\\site-packages\\sklearn\\metrics\\_classification.py:1344: UndefinedMetricWarning: Precision is ill-defined and being set to 0.0 in labels with no predicted samples. Use `zero_division` parameter to control this behavior.\n",
      "  _warn_prf(average, modifier, msg_start, len(result))\n",
      "D:\\VENVS\\Envs\\nlp_310\\lib\\site-packages\\sklearn\\metrics\\_classification.py:1344: UndefinedMetricWarning: Precision is ill-defined and being set to 0.0 in labels with no predicted samples. Use `zero_division` parameter to control this behavior.\n",
      "  _warn_prf(average, modifier, msg_start, len(result))\n"
     ]
    },
    {
     "name": "stdout",
     "output_type": "stream",
     "text": [
      "Epoch 1, F1 Macro=0.11069182389937107\n"
     ]
    },
    {
     "name": "stderr",
     "output_type": "stream",
     "text": [
      "D:\\VENVS\\Envs\\nlp_310\\lib\\site-packages\\sklearn\\metrics\\_classification.py:1344: UndefinedMetricWarning: Precision is ill-defined and being set to 0.0 in labels with no predicted samples. Use `zero_division` parameter to control this behavior.\n",
      "  _warn_prf(average, modifier, msg_start, len(result))\n",
      "D:\\VENVS\\Envs\\nlp_310\\lib\\site-packages\\sklearn\\metrics\\_classification.py:1344: UndefinedMetricWarning: Precision is ill-defined and being set to 0.0 in labels with no predicted samples. Use `zero_division` parameter to control this behavior.\n",
      "  _warn_prf(average, modifier, msg_start, len(result))\n"
     ]
    },
    {
     "name": "stdout",
     "output_type": "stream",
     "text": [
      "Epoch 2, F1 Macro=0.2849316179526952\n"
     ]
    },
    {
     "name": "stderr",
     "output_type": "stream",
     "text": [
      "D:\\VENVS\\Envs\\nlp_310\\lib\\site-packages\\sklearn\\metrics\\_classification.py:1344: UndefinedMetricWarning: Precision is ill-defined and being set to 0.0 in labels with no predicted samples. Use `zero_division` parameter to control this behavior.\n",
      "  _warn_prf(average, modifier, msg_start, len(result))\n",
      "D:\\VENVS\\Envs\\nlp_310\\lib\\site-packages\\sklearn\\metrics\\_classification.py:1344: UndefinedMetricWarning: Precision is ill-defined and being set to 0.0 in labels with no predicted samples. Use `zero_division` parameter to control this behavior.\n",
      "  _warn_prf(average, modifier, msg_start, len(result))\n"
     ]
    },
    {
     "name": "stdout",
     "output_type": "stream",
     "text": [
      "Epoch 3, F1 Macro=0.34035714285714286\n"
     ]
    },
    {
     "name": "stderr",
     "output_type": "stream",
     "text": [
      "D:\\VENVS\\Envs\\nlp_310\\lib\\site-packages\\sklearn\\metrics\\_classification.py:1344: UndefinedMetricWarning: Precision is ill-defined and being set to 0.0 in labels with no predicted samples. Use `zero_division` parameter to control this behavior.\n",
      "  _warn_prf(average, modifier, msg_start, len(result))\n",
      "D:\\VENVS\\Envs\\nlp_310\\lib\\site-packages\\sklearn\\metrics\\_classification.py:1344: UndefinedMetricWarning: Precision is ill-defined and being set to 0.0 in labels with no predicted samples. Use `zero_division` parameter to control this behavior.\n",
      "  _warn_prf(average, modifier, msg_start, len(result))\n"
     ]
    },
    {
     "name": "stdout",
     "output_type": "stream",
     "text": [
      "Epoch 4, F1 Macro=0.3548340349182251\n"
     ]
    },
    {
     "name": "stderr",
     "output_type": "stream",
     "text": [
      "D:\\VENVS\\Envs\\nlp_310\\lib\\site-packages\\sklearn\\metrics\\_classification.py:1344: UndefinedMetricWarning: Precision is ill-defined and being set to 0.0 in labels with no predicted samples. Use `zero_division` parameter to control this behavior.\n",
      "  _warn_prf(average, modifier, msg_start, len(result))\n",
      "D:\\VENVS\\Envs\\nlp_310\\lib\\site-packages\\sklearn\\metrics\\_classification.py:1344: UndefinedMetricWarning: Precision is ill-defined and being set to 0.0 in labels with no predicted samples. Use `zero_division` parameter to control this behavior.\n",
      "  _warn_prf(average, modifier, msg_start, len(result))\n"
     ]
    },
    {
     "name": "stdout",
     "output_type": "stream",
     "text": [
      "Epoch 5, F1 Macro=0.5386822055216284\n"
     ]
    },
    {
     "name": "stderr",
     "output_type": "stream",
     "text": [
      "D:\\VENVS\\Envs\\nlp_310\\lib\\site-packages\\sklearn\\metrics\\_classification.py:1344: UndefinedMetricWarning: Precision is ill-defined and being set to 0.0 in labels with no predicted samples. Use `zero_division` parameter to control this behavior.\n",
      "  _warn_prf(average, modifier, msg_start, len(result))\n",
      "D:\\VENVS\\Envs\\nlp_310\\lib\\site-packages\\sklearn\\metrics\\_classification.py:1344: UndefinedMetricWarning: Precision is ill-defined and being set to 0.0 in labels with no predicted samples. Use `zero_division` parameter to control this behavior.\n",
      "  _warn_prf(average, modifier, msg_start, len(result))\n"
     ]
    },
    {
     "name": "stdout",
     "output_type": "stream",
     "text": [
      "Epoch 6, F1 Macro=0.6990877628891269\n"
     ]
    },
    {
     "name": "stderr",
     "output_type": "stream",
     "text": [
      "D:\\VENVS\\Envs\\nlp_310\\lib\\site-packages\\sklearn\\metrics\\_classification.py:1344: UndefinedMetricWarning: Precision is ill-defined and being set to 0.0 in labels with no predicted samples. Use `zero_division` parameter to control this behavior.\n",
      "  _warn_prf(average, modifier, msg_start, len(result))\n",
      "D:\\VENVS\\Envs\\nlp_310\\lib\\site-packages\\sklearn\\metrics\\_classification.py:1344: UndefinedMetricWarning: Precision is ill-defined and being set to 0.0 in labels with no predicted samples. Use `zero_division` parameter to control this behavior.\n",
      "  _warn_prf(average, modifier, msg_start, len(result))\n"
     ]
    },
    {
     "name": "stdout",
     "output_type": "stream",
     "text": [
      "Epoch 7, F1 Macro=0.7025347462353597\n"
     ]
    },
    {
     "name": "stderr",
     "output_type": "stream",
     "text": [
      "D:\\VENVS\\Envs\\nlp_310\\lib\\site-packages\\sklearn\\metrics\\_classification.py:1344: UndefinedMetricWarning: Precision is ill-defined and being set to 0.0 in labels with no predicted samples. Use `zero_division` parameter to control this behavior.\n",
      "  _warn_prf(average, modifier, msg_start, len(result))\n",
      "D:\\VENVS\\Envs\\nlp_310\\lib\\site-packages\\sklearn\\metrics\\_classification.py:1344: UndefinedMetricWarning: Precision is ill-defined and being set to 0.0 in labels with no predicted samples. Use `zero_division` parameter to control this behavior.\n",
      "  _warn_prf(average, modifier, msg_start, len(result))\n"
     ]
    },
    {
     "name": "stdout",
     "output_type": "stream",
     "text": [
      "Epoch 8, F1 Macro=0.7298306014608262\n"
     ]
    },
    {
     "name": "stderr",
     "output_type": "stream",
     "text": [
      "D:\\VENVS\\Envs\\nlp_310\\lib\\site-packages\\sklearn\\metrics\\_classification.py:1344: UndefinedMetricWarning: Precision is ill-defined and being set to 0.0 in labels with no predicted samples. Use `zero_division` parameter to control this behavior.\n",
      "  _warn_prf(average, modifier, msg_start, len(result))\n",
      "D:\\VENVS\\Envs\\nlp_310\\lib\\site-packages\\sklearn\\metrics\\_classification.py:1344: UndefinedMetricWarning: Precision is ill-defined and being set to 0.0 in labels with no predicted samples. Use `zero_division` parameter to control this behavior.\n",
      "  _warn_prf(average, modifier, msg_start, len(result))\n"
     ]
    },
    {
     "name": "stdout",
     "output_type": "stream",
     "text": [
      "Epoch 9, F1 Macro=0.7280989171308185\n",
      "Epoch 10, F1 Macro=0.7792885406632747\n",
      "Epoch 11, F1 Macro=0.7777123869212095\n",
      "Epoch 12, F1 Macro=0.8165451326994345\n",
      "Epoch 13, F1 Macro=0.8177987227367736\n",
      "Epoch 14, F1 Macro=0.8229770284433384\n",
      "Epoch 15, F1 Macro=0.8220413378307218\n",
      "Epoch 16, F1 Macro=0.8277688882548233\n",
      "Epoch 17, F1 Macro=0.8561187432056713\n",
      "Epoch 18, F1 Macro=0.8804985507583106\n",
      "Epoch 19, F1 Macro=0.8779115213569572\n",
      "Epoch 20, F1 Macro=0.8801943608409442\n",
      "Epoch 21, F1 Macro=0.8799092097842349\n",
      "Epoch 22, F1 Macro=0.8839406236887882\n",
      "Epoch 23, F1 Macro=0.8837990598282965\n",
      "Epoch 24, F1 Macro=0.9005407439861799\n",
      "Epoch 25, F1 Macro=0.8839406236887882\n",
      "Epoch 26, F1 Macro=0.9044534442016087\n",
      "Epoch 27, F1 Macro=0.9045952160912856\n",
      "Epoch 28, F1 Macro=0.9044534442016087\n",
      "Epoch 29, F1 Macro=0.9044534442016087\n",
      "Epoch 30, F1 Macro=0.9033205130339601\n",
      "Epoch 31, F1 Macro=0.904311880341117\n",
      "Epoch 32, F1 Macro=0.9034620768944519\n",
      "Epoch 33, F1 Macro=0.9034620768944519\n",
      "Epoch 34, F1 Macro=0.9033205130339601\n",
      "Epoch 35, F1 Macro=0.9034620768944519\n",
      "Epoch 36, F1 Macro=0.9034620768944519\n",
      "Epoch 37, F1 Macro=0.9033205130339601\n",
      "Epoch 38, F1 Macro=0.9033205130339601\n",
      "Epoch 39, F1 Macro=0.9033205130339601\n",
      "Epoch 40, F1 Macro=0.9036038487841287\n",
      "Epoch 41, F1 Macro=0.9033205130339601\n",
      "Epoch 42, F1 Macro=0.9033205130339601\n",
      "Epoch 43, F1 Macro=0.9033205130339601\n",
      "Epoch 44, F1 Macro=0.9047171031241673\n",
      "Epoch 45, F1 Macro=0.9036038487841287\n",
      "Epoch 46, F1 Macro=0.9047171031241673\n",
      "Epoch 47, F1 Macro=0.9037583752276441\n",
      "Epoch 48, F1 Macro=0.9036038487841287\n",
      "Epoch 49, F1 Macro=0.9037583752276441\n",
      "Epoch 50, F1 Macro=0.9040417260012606\n"
     ]
    }
   ],
   "source": [
    "ResultDict = defaultdict(lambda: defaultdict(list))\n",
    "for k,v in ModelDict.items():\n",
    "    _model =  v['model']\n",
    "    _tokenizer = v['tokenizer']\n",
    "    \n",
    "    if pre_trained_embeddings:\n",
    "        X_train = text_to_vectors(TrainTestDict[k]['Xtrain'], max_len) \n",
    "        X_test = text_to_vectors(TrainTestDict[k]['Xtest'], max_len) \n",
    "    else:\n",
    "        X_train = _tokenizer.texts_to_sequences(TrainTestDict[k]['Xtrain'])\n",
    "        X_test = _tokenizer.texts_to_sequences(TrainTestDict[k]['Xtest'])\n",
    "    \n",
    "        X_train = pad_sequences(X_train, padding = 'post', maxlen=max_len)\n",
    "        X_test = pad_sequences(X_test, padding = 'post', maxlen=max_len)\n",
    "\n",
    "    _y = TrainTestDict[k]['ytrain']\n",
    "    y_train = utils.to_categorical(_y)\n",
    "\n",
    "    _y = TrainTestDict[k]['ytest']\n",
    "    y_test = utils.to_categorical(_y)\n",
    "\n",
    "    if UseClassWeights:\n",
    "        PosSum = 1/np.sum(y_train, axis=0)\n",
    "        ClassWeights = dict(enumerate(PosSum/np.min(PosSum)))\n",
    "    else:\n",
    "        ClassWeights = None\n",
    "    \n",
    "    result_list = []\n",
    "    history_list = []\n",
    "    confusion_list = []\n",
    "    for epoch_num in range(1, num_epochs+1):\n",
    "        _history = _model.fit(X_train,\n",
    "                             y_train,                         \n",
    "                             epochs = 1,\n",
    "                             verbose = False,\n",
    "                             validation_split = 0,\n",
    "                             class_weight=ClassWeights,\n",
    "                             batch_size = batch_size)\n",
    "    \n",
    "        y_pred = _model.predict(X_test, verbose=False)\n",
    "        _res = multi_label_metrics(labels=y_test, probs=y_pred)\n",
    "        \n",
    "        result_list.append(_res)\n",
    "        history_list.append({'loss': _history.history['loss'][0], \n",
    "                             'accuracy': _history.history['accuracy'][0]})\n",
    "        confusion_list.append(confusion_matrix(np.argmax(y_test, axis=1),\n",
    "                                               np.argmax(np.round(y_pred),axis=1),  normalize='true'))\n",
    "        \n",
    "        \n",
    "        print(f\"Epoch {epoch_num}, F1 Macro={_res['f1_macro']}\")\n",
    "        \n",
    "    ResultDict[k]['history'] = pd.DataFrame(history_list)\n",
    "    ResultDict[k]['result'] = pd.DataFrame(result_list)\n",
    "    ResultDict[k]['confusion'] = confusion_list\n",
    "    "
   ]
  },
  {
   "cell_type": "code",
   "execution_count": 849,
   "id": "caace1698b3b2400",
   "metadata": {
    "ExecuteTime": {
     "end_time": "2024-05-01T15:59:45.024246Z",
     "start_time": "2024-05-01T15:59:44.483706Z"
    }
   },
   "outputs": [
    {
     "data": {
      "text/plain": [
       "Text(0.5, 16.0, 'Predicted label')"
      ]
     },
     "execution_count": 849,
     "metadata": {},
     "output_type": "execute_result"
    },
    {
     "data": {
      "image/png": "[encoded data removed]",
      "text/plain": [
       "<Figure size 432x288 with 2 Axes>"
      ]
     },
     "metadata": {},
     "output_type": "display_data"
    }
   ],
   "source": [
    "heatmap_df = \\\n",
    "    pd.DataFrame(\n",
    "    confusion_matrix(np.argmax(y_test, axis=1), np.argmax(np.round(y_pred),axis=1), normalize='true'),\n",
    "        columns=label2id.keys(),\n",
    "        index=label2id.keys()\n",
    "    )\n",
    "sns.heatmap(heatmap_df.round(4), annot=True, cmap='Blues', fmt='g')\n",
    "    # df.style.background_gradient(cmap='Blues')\n",
    "plt.ylabel('True label')\n",
    "plt.xlabel('Predicted label')"
   ]
  },
  {
   "cell_type": "code",
   "execution_count": 850,
   "id": "2b7cad5ab1538d3",
   "metadata": {
    "ExecuteTime": {
     "end_time": "2024-05-01T15:59:45.427239Z",
     "start_time": "2024-05-01T15:59:45.026719Z"
    }
   },
   "outputs": [],
   "source": [
    "ResultDict[k]['result'].to_csv(f\"../../G_Output/2_Data/results_{Class}_{ModelType}_{Splitting}.csv\", sep=\";\")"
   ]
  },
  {
   "cell_type": "markdown",
   "id": "1e627eadb8f623ba",
   "metadata": {},
   "source": []
  },
  {
   "cell_type": "code",
   "execution_count": 851,
   "id": "1bfb9a2f9db3a0d4",
   "metadata": {
    "ExecuteTime": {
     "end_time": "2024-05-01T15:59:45.985234Z",
     "start_time": "2024-05-01T15:59:45.438734Z"
    }
   },
   "outputs": [
    {
     "data": {
      "image/png": "[encoded data removed]",
      "text/plain": [
       "<Figure size 432x288 with 1 Axes>"
      ]
     },
     "metadata": {},
     "output_type": "display_data"
    }
   ],
   "source": [
    "plt.plot(ResultDict[k]['result']['f1_macro'], label='F1 Macro')\n",
    "plt.plot(ResultDict[k]['result']['prec_macro'], label='Precision Macro')\n",
    "plt.plot(ResultDict[k]['result']['recall_macro'], label='Recall Macro')\n",
    "plt.legend(loc='best')\n",
    "plt.show()"
   ]
  },
  {
   "cell_type": "code",
   "execution_count": 852,
   "id": "ead311ab73fa4d25",
   "metadata": {
    "ExecuteTime": {
     "end_time": "2024-05-01T15:59:46.512276Z",
     "start_time": "2024-05-01T15:59:45.987234Z"
    }
   },
   "outputs": [
    {
     "data": {
      "text/plain": [
       "[<matplotlib.lines.Line2D at 0x16bbdb71ea0>,\n",
       " <matplotlib.lines.Line2D at 0x16bbdb72320>]"
      ]
     },
     "execution_count": 852,
     "metadata": {},
     "output_type": "execute_result"
    },
    {
     "data": {
      "image/png": "[encoded data removed]",
      "text/plain": [
       "<Figure size 432x288 with 1 Axes>"
      ]
     },
     "metadata": {},
     "output_type": "display_data"
    }
   ],
   "source": [
    "plt.plot(ResultDict[k]['history'])"
   ]
  },
  {
   "cell_type": "code",
   "execution_count": 853,
   "id": "c27d70a8f816b3d9",
   "metadata": {
    "ExecuteTime": {
     "end_time": "2024-05-01T15:59:46.930763Z",
     "start_time": "2024-05-01T15:59:46.514252Z"
    }
   },
   "outputs": [
    {
     "data": {
      "text/html": [
       "<div>\n",
       "<style scoped>\n",
       "    .dataframe tbody tr th:only-of-type {\n",
       "        vertical-align: middle;\n",
       "    }\n",
       "\n",
       "    .dataframe tbody tr th {\n",
       "        vertical-align: top;\n",
       "    }\n",
       "\n",
       "    .dataframe thead th {\n",
       "        text-align: right;\n",
       "    }\n",
       "</style>\n",
       "<table border=\"1\" class=\"dataframe\">\n",
       "  <thead>\n",
       "    <tr style=\"text-align: right;\">\n",
       "      <th></th>\n",
       "      <th>f1_macro</th>\n",
       "      <th>f1_weighted</th>\n",
       "      <th>f1_micro</th>\n",
       "      <th>prec_macro</th>\n",
       "      <th>prec_weighted</th>\n",
       "      <th>prec_micro</th>\n",
       "      <th>recall_macro</th>\n",
       "      <th>recall_weighted</th>\n",
       "      <th>recall_micro</th>\n",
       "      <th>roc_auc_macro</th>\n",
       "      <th>roc_auc_weighted</th>\n",
       "      <th>roc_auc_micro</th>\n",
       "      <th>accuracy</th>\n",
       "    </tr>\n",
       "  </thead>\n",
       "  <tbody>\n",
       "    <tr>\n",
       "      <th>0</th>\n",
       "      <td>0.110692</td>\n",
       "      <td>0.163610</td>\n",
       "      <td>0.206250</td>\n",
       "      <td>0.188571</td>\n",
       "      <td>0.278722</td>\n",
       "      <td>0.942857</td>\n",
       "      <td>0.078338</td>\n",
       "      <td>0.115789</td>\n",
       "      <td>0.115789</td>\n",
       "      <td>0.750441</td>\n",
       "      <td>0.778639</td>\n",
       "      <td>0.723728</td>\n",
       "      <td>0.115789</td>\n",
       "    </tr>\n",
       "    <tr>\n",
       "      <th>1</th>\n",
       "      <td>0.284932</td>\n",
       "      <td>0.287744</td>\n",
       "      <td>0.411264</td>\n",
       "      <td>0.334064</td>\n",
       "      <td>0.308765</td>\n",
       "      <td>0.811370</td>\n",
       "      <td>0.256923</td>\n",
       "      <td>0.275439</td>\n",
       "      <td>0.275439</td>\n",
       "      <td>0.805070</td>\n",
       "      <td>0.846468</td>\n",
       "      <td>0.815570</td>\n",
       "      <td>0.275439</td>\n",
       "    </tr>\n",
       "    <tr>\n",
       "      <th>2</th>\n",
       "      <td>0.340357</td>\n",
       "      <td>0.332545</td>\n",
       "      <td>0.477361</td>\n",
       "      <td>0.366811</td>\n",
       "      <td>0.344026</td>\n",
       "      <td>0.908867</td>\n",
       "      <td>0.320247</td>\n",
       "      <td>0.323684</td>\n",
       "      <td>0.323684</td>\n",
       "      <td>0.873400</td>\n",
       "      <td>0.956422</td>\n",
       "      <td>0.874124</td>\n",
       "      <td>0.323684</td>\n",
       "    </tr>\n",
       "    <tr>\n",
       "      <th>3</th>\n",
       "      <td>0.354834</td>\n",
       "      <td>0.338576</td>\n",
       "      <td>0.487460</td>\n",
       "      <td>0.372723</td>\n",
       "      <td>0.345951</td>\n",
       "      <td>0.913253</td>\n",
       "      <td>0.339990</td>\n",
       "      <td>0.332456</td>\n",
       "      <td>0.332456</td>\n",
       "      <td>0.937421</td>\n",
       "      <td>0.978722</td>\n",
       "      <td>0.972182</td>\n",
       "      <td>0.332456</td>\n",
       "    </tr>\n",
       "    <tr>\n",
       "      <th>4</th>\n",
       "      <td>0.538682</td>\n",
       "      <td>0.893428</td>\n",
       "      <td>0.909332</td>\n",
       "      <td>0.547276</td>\n",
       "      <td>0.886899</td>\n",
       "      <td>0.917038</td>\n",
       "      <td>0.531720</td>\n",
       "      <td>0.901754</td>\n",
       "      <td>0.901754</td>\n",
       "      <td>0.976465</td>\n",
       "      <td>0.984587</td>\n",
       "      <td>0.983201</td>\n",
       "      <td>0.901754</td>\n",
       "    </tr>\n",
       "    <tr>\n",
       "      <th>5</th>\n",
       "      <td>0.699088</td>\n",
       "      <td>0.930463</td>\n",
       "      <td>0.935157</td>\n",
       "      <td>0.743030</td>\n",
       "      <td>0.934204</td>\n",
       "      <td>0.940550</td>\n",
       "      <td>0.668899</td>\n",
       "      <td>0.929825</td>\n",
       "      <td>0.929825</td>\n",
       "      <td>0.985492</td>\n",
       "      <td>0.987351</td>\n",
       "      <td>0.989564</td>\n",
       "      <td>0.929825</td>\n",
       "    </tr>\n",
       "    <tr>\n",
       "      <th>6</th>\n",
       "      <td>0.702535</td>\n",
       "      <td>0.933278</td>\n",
       "      <td>0.937748</td>\n",
       "      <td>0.740649</td>\n",
       "      <td>0.937437</td>\n",
       "      <td>0.944000</td>\n",
       "      <td>0.673321</td>\n",
       "      <td>0.931579</td>\n",
       "      <td>0.931579</td>\n",
       "      <td>0.988457</td>\n",
       "      <td>0.990257</td>\n",
       "      <td>0.994169</td>\n",
       "      <td>0.931579</td>\n",
       "    </tr>\n",
       "    <tr>\n",
       "      <th>7</th>\n",
       "      <td>0.729831</td>\n",
       "      <td>0.939346</td>\n",
       "      <td>0.943147</td>\n",
       "      <td>0.750946</td>\n",
       "      <td>0.941543</td>\n",
       "      <td>0.947741</td>\n",
       "      <td>0.711118</td>\n",
       "      <td>0.938596</td>\n",
       "      <td>0.938596</td>\n",
       "      <td>0.991227</td>\n",
       "      <td>0.990288</td>\n",
       "      <td>0.995904</td>\n",
       "      <td>0.938596</td>\n",
       "    </tr>\n",
       "    <tr>\n",
       "      <th>8</th>\n",
       "      <td>0.728099</td>\n",
       "      <td>0.938905</td>\n",
       "      <td>0.942731</td>\n",
       "      <td>0.751674</td>\n",
       "      <td>0.940621</td>\n",
       "      <td>0.946903</td>\n",
       "      <td>0.708179</td>\n",
       "      <td>0.938596</td>\n",
       "      <td>0.938596</td>\n",
       "      <td>0.991815</td>\n",
       "      <td>0.990828</td>\n",
       "      <td>0.996171</td>\n",
       "      <td>0.938596</td>\n",
       "    </tr>\n",
       "    <tr>\n",
       "      <th>9</th>\n",
       "      <td>0.779289</td>\n",
       "      <td>0.943094</td>\n",
       "      <td>0.945791</td>\n",
       "      <td>0.957481</td>\n",
       "      <td>0.951244</td>\n",
       "      <td>0.950399</td>\n",
       "      <td>0.740077</td>\n",
       "      <td>0.941228</td>\n",
       "      <td>0.941228</td>\n",
       "      <td>0.993124</td>\n",
       "      <td>0.990230</td>\n",
       "      <td>0.995924</td>\n",
       "      <td>0.941228</td>\n",
       "    </tr>\n",
       "    <tr>\n",
       "      <th>10</th>\n",
       "      <td>0.777712</td>\n",
       "      <td>0.946185</td>\n",
       "      <td>0.948854</td>\n",
       "      <td>0.955335</td>\n",
       "      <td>0.954134</td>\n",
       "      <td>0.953901</td>\n",
       "      <td>0.739511</td>\n",
       "      <td>0.943860</td>\n",
       "      <td>0.943860</td>\n",
       "      <td>0.993590</td>\n",
       "      <td>0.990698</td>\n",
       "      <td>0.996201</td>\n",
       "      <td>0.943860</td>\n",
       "    </tr>\n",
       "    <tr>\n",
       "      <th>11</th>\n",
       "      <td>0.816545</td>\n",
       "      <td>0.947818</td>\n",
       "      <td>0.949780</td>\n",
       "      <td>0.964364</td>\n",
       "      <td>0.954788</td>\n",
       "      <td>0.953982</td>\n",
       "      <td>0.763921</td>\n",
       "      <td>0.945614</td>\n",
       "      <td>0.945614</td>\n",
       "      <td>0.993566</td>\n",
       "      <td>0.990595</td>\n",
       "      <td>0.996008</td>\n",
       "      <td>0.945614</td>\n",
       "    </tr>\n",
       "    <tr>\n",
       "      <th>12</th>\n",
       "      <td>0.817799</td>\n",
       "      <td>0.948813</td>\n",
       "      <td>0.950704</td>\n",
       "      <td>0.962870</td>\n",
       "      <td>0.954396</td>\n",
       "      <td>0.954064</td>\n",
       "      <td>0.767529</td>\n",
       "      <td>0.947368</td>\n",
       "      <td>0.947368</td>\n",
       "      <td>0.994243</td>\n",
       "      <td>0.990760</td>\n",
       "      <td>0.996159</td>\n",
       "      <td>0.947368</td>\n",
       "    </tr>\n",
       "    <tr>\n",
       "      <th>13</th>\n",
       "      <td>0.822977</td>\n",
       "      <td>0.951079</td>\n",
       "      <td>0.952884</td>\n",
       "      <td>0.963070</td>\n",
       "      <td>0.957056</td>\n",
       "      <td>0.956676</td>\n",
       "      <td>0.776258</td>\n",
       "      <td>0.949123</td>\n",
       "      <td>0.949123</td>\n",
       "      <td>0.994270</td>\n",
       "      <td>0.990723</td>\n",
       "      <td>0.996057</td>\n",
       "      <td>0.949123</td>\n",
       "    </tr>\n",
       "    <tr>\n",
       "      <th>14</th>\n",
       "      <td>0.822041</td>\n",
       "      <td>0.950952</td>\n",
       "      <td>0.952843</td>\n",
       "      <td>0.970168</td>\n",
       "      <td>0.958228</td>\n",
       "      <td>0.957484</td>\n",
       "      <td>0.770895</td>\n",
       "      <td>0.948246</td>\n",
       "      <td>0.948246</td>\n",
       "      <td>0.994226</td>\n",
       "      <td>0.990562</td>\n",
       "      <td>0.995848</td>\n",
       "      <td>0.948246</td>\n",
       "    </tr>\n",
       "    <tr>\n",
       "      <th>15</th>\n",
       "      <td>0.827769</td>\n",
       "      <td>0.952405</td>\n",
       "      <td>0.954225</td>\n",
       "      <td>0.973824</td>\n",
       "      <td>0.958374</td>\n",
       "      <td>0.957597</td>\n",
       "      <td>0.776853</td>\n",
       "      <td>0.950877</td>\n",
       "      <td>0.950877</td>\n",
       "      <td>0.994330</td>\n",
       "      <td>0.990502</td>\n",
       "      <td>0.995874</td>\n",
       "      <td>0.950877</td>\n",
       "    </tr>\n",
       "    <tr>\n",
       "      <th>16</th>\n",
       "      <td>0.856119</td>\n",
       "      <td>0.952140</td>\n",
       "      <td>0.953345</td>\n",
       "      <td>0.970622</td>\n",
       "      <td>0.957189</td>\n",
       "      <td>0.956714</td>\n",
       "      <td>0.803384</td>\n",
       "      <td>0.950000</td>\n",
       "      <td>0.950000</td>\n",
       "      <td>0.994686</td>\n",
       "      <td>0.990808</td>\n",
       "      <td>0.996009</td>\n",
       "      <td>0.950000</td>\n",
       "    </tr>\n",
       "    <tr>\n",
       "      <th>17</th>\n",
       "      <td>0.880499</td>\n",
       "      <td>0.952969</td>\n",
       "      <td>0.953846</td>\n",
       "      <td>0.973260</td>\n",
       "      <td>0.956737</td>\n",
       "      <td>0.955947</td>\n",
       "      <td>0.826260</td>\n",
       "      <td>0.951754</td>\n",
       "      <td>0.951754</td>\n",
       "      <td>0.994457</td>\n",
       "      <td>0.990559</td>\n",
       "      <td>0.995832</td>\n",
       "      <td>0.951754</td>\n",
       "    </tr>\n",
       "    <tr>\n",
       "      <th>18</th>\n",
       "      <td>0.877912</td>\n",
       "      <td>0.951238</td>\n",
       "      <td>0.952088</td>\n",
       "      <td>0.968583</td>\n",
       "      <td>0.954832</td>\n",
       "      <td>0.954185</td>\n",
       "      <td>0.825664</td>\n",
       "      <td>0.950000</td>\n",
       "      <td>0.950000</td>\n",
       "      <td>0.994525</td>\n",
       "      <td>0.990487</td>\n",
       "      <td>0.995792</td>\n",
       "      <td>0.950000</td>\n",
       "    </tr>\n",
       "    <tr>\n",
       "      <th>19</th>\n",
       "      <td>0.880194</td>\n",
       "      <td>0.952550</td>\n",
       "      <td>0.953386</td>\n",
       "      <td>0.970649</td>\n",
       "      <td>0.956432</td>\n",
       "      <td>0.955908</td>\n",
       "      <td>0.828088</td>\n",
       "      <td>0.950877</td>\n",
       "      <td>0.950877</td>\n",
       "      <td>0.994829</td>\n",
       "      <td>0.990624</td>\n",
       "      <td>0.995849</td>\n",
       "      <td>0.950877</td>\n",
       "    </tr>\n",
       "    <tr>\n",
       "      <th>20</th>\n",
       "      <td>0.879909</td>\n",
       "      <td>0.952128</td>\n",
       "      <td>0.952967</td>\n",
       "      <td>0.970055</td>\n",
       "      <td>0.955554</td>\n",
       "      <td>0.955066</td>\n",
       "      <td>0.828088</td>\n",
       "      <td>0.950877</td>\n",
       "      <td>0.950877</td>\n",
       "      <td>0.994885</td>\n",
       "      <td>0.990622</td>\n",
       "      <td>0.995811</td>\n",
       "      <td>0.950877</td>\n",
       "    </tr>\n",
       "    <tr>\n",
       "      <th>21</th>\n",
       "      <td>0.883941</td>\n",
       "      <td>0.952193</td>\n",
       "      <td>0.952967</td>\n",
       "      <td>0.970350</td>\n",
       "      <td>0.955583</td>\n",
       "      <td>0.955066</td>\n",
       "      <td>0.834391</td>\n",
       "      <td>0.950877</td>\n",
       "      <td>0.950877</td>\n",
       "      <td>0.994887</td>\n",
       "      <td>0.990619</td>\n",
       "      <td>0.995788</td>\n",
       "      <td>0.950877</td>\n",
       "    </tr>\n",
       "    <tr>\n",
       "      <th>22</th>\n",
       "      <td>0.883799</td>\n",
       "      <td>0.951776</td>\n",
       "      <td>0.952548</td>\n",
       "      <td>0.970074</td>\n",
       "      <td>0.954771</td>\n",
       "      <td>0.954225</td>\n",
       "      <td>0.834391</td>\n",
       "      <td>0.950877</td>\n",
       "      <td>0.950877</td>\n",
       "      <td>0.994836</td>\n",
       "      <td>0.990646</td>\n",
       "      <td>0.995833</td>\n",
       "      <td>0.950877</td>\n",
       "    </tr>\n",
       "    <tr>\n",
       "      <th>23</th>\n",
       "      <td>0.900541</td>\n",
       "      <td>0.952830</td>\n",
       "      <td>0.953427</td>\n",
       "      <td>0.970688</td>\n",
       "      <td>0.955700</td>\n",
       "      <td>0.955106</td>\n",
       "      <td>0.852792</td>\n",
       "      <td>0.951754</td>\n",
       "      <td>0.951754</td>\n",
       "      <td>0.994812</td>\n",
       "      <td>0.990584</td>\n",
       "      <td>0.995742</td>\n",
       "      <td>0.951754</td>\n",
       "    </tr>\n",
       "    <tr>\n",
       "      <th>24</th>\n",
       "      <td>0.883941</td>\n",
       "      <td>0.952193</td>\n",
       "      <td>0.952967</td>\n",
       "      <td>0.970350</td>\n",
       "      <td>0.955583</td>\n",
       "      <td>0.955066</td>\n",
       "      <td>0.834391</td>\n",
       "      <td>0.950877</td>\n",
       "      <td>0.950877</td>\n",
       "      <td>0.994904</td>\n",
       "      <td>0.990631</td>\n",
       "      <td>0.995787</td>\n",
       "      <td>0.950877</td>\n",
       "    </tr>\n",
       "    <tr>\n",
       "      <th>25</th>\n",
       "      <td>0.904453</td>\n",
       "      <td>0.952913</td>\n",
       "      <td>0.953427</td>\n",
       "      <td>0.970350</td>\n",
       "      <td>0.955583</td>\n",
       "      <td>0.955106</td>\n",
       "      <td>0.859391</td>\n",
       "      <td>0.951754</td>\n",
       "      <td>0.951754</td>\n",
       "      <td>0.994926</td>\n",
       "      <td>0.990630</td>\n",
       "      <td>0.995767</td>\n",
       "      <td>0.951754</td>\n",
       "    </tr>\n",
       "    <tr>\n",
       "      <th>26</th>\n",
       "      <td>0.904595</td>\n",
       "      <td>0.953331</td>\n",
       "      <td>0.953846</td>\n",
       "      <td>0.970626</td>\n",
       "      <td>0.956398</td>\n",
       "      <td>0.955947</td>\n",
       "      <td>0.859391</td>\n",
       "      <td>0.951754</td>\n",
       "      <td>0.951754</td>\n",
       "      <td>0.994978</td>\n",
       "      <td>0.990611</td>\n",
       "      <td>0.995735</td>\n",
       "      <td>0.951754</td>\n",
       "    </tr>\n",
       "    <tr>\n",
       "      <th>27</th>\n",
       "      <td>0.904453</td>\n",
       "      <td>0.952913</td>\n",
       "      <td>0.953427</td>\n",
       "      <td>0.970350</td>\n",
       "      <td>0.955583</td>\n",
       "      <td>0.955106</td>\n",
       "      <td>0.859391</td>\n",
       "      <td>0.951754</td>\n",
       "      <td>0.951754</td>\n",
       "      <td>0.994952</td>\n",
       "      <td>0.990606</td>\n",
       "      <td>0.995763</td>\n",
       "      <td>0.951754</td>\n",
       "    </tr>\n",
       "    <tr>\n",
       "      <th>28</th>\n",
       "      <td>0.904453</td>\n",
       "      <td>0.952913</td>\n",
       "      <td>0.953427</td>\n",
       "      <td>0.970350</td>\n",
       "      <td>0.955583</td>\n",
       "      <td>0.955106</td>\n",
       "      <td>0.859391</td>\n",
       "      <td>0.951754</td>\n",
       "      <td>0.951754</td>\n",
       "      <td>0.994987</td>\n",
       "      <td>0.990670</td>\n",
       "      <td>0.995770</td>\n",
       "      <td>0.951754</td>\n",
       "    </tr>\n",
       "    <tr>\n",
       "      <th>29</th>\n",
       "      <td>0.903321</td>\n",
       "      <td>0.952087</td>\n",
       "      <td>0.952590</td>\n",
       "      <td>0.968122</td>\n",
       "      <td>0.953966</td>\n",
       "      <td>0.953427</td>\n",
       "      <td>0.859391</td>\n",
       "      <td>0.951754</td>\n",
       "      <td>0.951754</td>\n",
       "      <td>0.994970</td>\n",
       "      <td>0.990645</td>\n",
       "      <td>0.995759</td>\n",
       "      <td>0.951754</td>\n",
       "    </tr>\n",
       "    <tr>\n",
       "      <th>30</th>\n",
       "      <td>0.904312</td>\n",
       "      <td>0.952495</td>\n",
       "      <td>0.953008</td>\n",
       "      <td>0.970074</td>\n",
       "      <td>0.954771</td>\n",
       "      <td>0.954266</td>\n",
       "      <td>0.859391</td>\n",
       "      <td>0.951754</td>\n",
       "      <td>0.951754</td>\n",
       "      <td>0.994968</td>\n",
       "      <td>0.990608</td>\n",
       "      <td>0.995756</td>\n",
       "      <td>0.951754</td>\n",
       "    </tr>\n",
       "    <tr>\n",
       "      <th>31</th>\n",
       "      <td>0.903462</td>\n",
       "      <td>0.952504</td>\n",
       "      <td>0.953008</td>\n",
       "      <td>0.968398</td>\n",
       "      <td>0.954779</td>\n",
       "      <td>0.954266</td>\n",
       "      <td>0.859391</td>\n",
       "      <td>0.951754</td>\n",
       "      <td>0.951754</td>\n",
       "      <td>0.994972</td>\n",
       "      <td>0.990612</td>\n",
       "      <td>0.995744</td>\n",
       "      <td>0.951754</td>\n",
       "    </tr>\n",
       "    <tr>\n",
       "      <th>32</th>\n",
       "      <td>0.903462</td>\n",
       "      <td>0.952504</td>\n",
       "      <td>0.953008</td>\n",
       "      <td>0.968398</td>\n",
       "      <td>0.954779</td>\n",
       "      <td>0.954266</td>\n",
       "      <td>0.859391</td>\n",
       "      <td>0.951754</td>\n",
       "      <td>0.951754</td>\n",
       "      <td>0.994979</td>\n",
       "      <td>0.990617</td>\n",
       "      <td>0.995724</td>\n",
       "      <td>0.951754</td>\n",
       "    </tr>\n",
       "    <tr>\n",
       "      <th>33</th>\n",
       "      <td>0.903321</td>\n",
       "      <td>0.952087</td>\n",
       "      <td>0.952590</td>\n",
       "      <td>0.968122</td>\n",
       "      <td>0.953966</td>\n",
       "      <td>0.953427</td>\n",
       "      <td>0.859391</td>\n",
       "      <td>0.951754</td>\n",
       "      <td>0.951754</td>\n",
       "      <td>0.994967</td>\n",
       "      <td>0.990624</td>\n",
       "      <td>0.995736</td>\n",
       "      <td>0.951754</td>\n",
       "    </tr>\n",
       "    <tr>\n",
       "      <th>34</th>\n",
       "      <td>0.903462</td>\n",
       "      <td>0.952504</td>\n",
       "      <td>0.953008</td>\n",
       "      <td>0.968398</td>\n",
       "      <td>0.954779</td>\n",
       "      <td>0.954266</td>\n",
       "      <td>0.859391</td>\n",
       "      <td>0.951754</td>\n",
       "      <td>0.951754</td>\n",
       "      <td>0.994962</td>\n",
       "      <td>0.990602</td>\n",
       "      <td>0.995722</td>\n",
       "      <td>0.951754</td>\n",
       "    </tr>\n",
       "    <tr>\n",
       "      <th>35</th>\n",
       "      <td>0.903462</td>\n",
       "      <td>0.952504</td>\n",
       "      <td>0.953008</td>\n",
       "      <td>0.968398</td>\n",
       "      <td>0.954779</td>\n",
       "      <td>0.954266</td>\n",
       "      <td>0.859391</td>\n",
       "      <td>0.951754</td>\n",
       "      <td>0.951754</td>\n",
       "      <td>0.994980</td>\n",
       "      <td>0.990607</td>\n",
       "      <td>0.995719</td>\n",
       "      <td>0.951754</td>\n",
       "    </tr>\n",
       "    <tr>\n",
       "      <th>36</th>\n",
       "      <td>0.903321</td>\n",
       "      <td>0.952087</td>\n",
       "      <td>0.952590</td>\n",
       "      <td>0.968122</td>\n",
       "      <td>0.953966</td>\n",
       "      <td>0.953427</td>\n",
       "      <td>0.859391</td>\n",
       "      <td>0.951754</td>\n",
       "      <td>0.951754</td>\n",
       "      <td>0.995004</td>\n",
       "      <td>0.990673</td>\n",
       "      <td>0.995739</td>\n",
       "      <td>0.951754</td>\n",
       "    </tr>\n",
       "    <tr>\n",
       "      <th>37</th>\n",
       "      <td>0.903321</td>\n",
       "      <td>0.952087</td>\n",
       "      <td>0.952590</td>\n",
       "      <td>0.968122</td>\n",
       "      <td>0.953966</td>\n",
       "      <td>0.953427</td>\n",
       "      <td>0.859391</td>\n",
       "      <td>0.951754</td>\n",
       "      <td>0.951754</td>\n",
       "      <td>0.994992</td>\n",
       "      <td>0.990637</td>\n",
       "      <td>0.995723</td>\n",
       "      <td>0.951754</td>\n",
       "    </tr>\n",
       "    <tr>\n",
       "      <th>38</th>\n",
       "      <td>0.903321</td>\n",
       "      <td>0.952087</td>\n",
       "      <td>0.952590</td>\n",
       "      <td>0.968122</td>\n",
       "      <td>0.953966</td>\n",
       "      <td>0.953427</td>\n",
       "      <td>0.859391</td>\n",
       "      <td>0.951754</td>\n",
       "      <td>0.951754</td>\n",
       "      <td>0.994993</td>\n",
       "      <td>0.990628</td>\n",
       "      <td>0.995718</td>\n",
       "      <td>0.951754</td>\n",
       "    </tr>\n",
       "    <tr>\n",
       "      <th>39</th>\n",
       "      <td>0.903604</td>\n",
       "      <td>0.952922</td>\n",
       "      <td>0.953427</td>\n",
       "      <td>0.968674</td>\n",
       "      <td>0.955593</td>\n",
       "      <td>0.955106</td>\n",
       "      <td>0.859391</td>\n",
       "      <td>0.951754</td>\n",
       "      <td>0.951754</td>\n",
       "      <td>0.994967</td>\n",
       "      <td>0.990579</td>\n",
       "      <td>0.995680</td>\n",
       "      <td>0.951754</td>\n",
       "    </tr>\n",
       "    <tr>\n",
       "      <th>40</th>\n",
       "      <td>0.903321</td>\n",
       "      <td>0.952087</td>\n",
       "      <td>0.952590</td>\n",
       "      <td>0.968122</td>\n",
       "      <td>0.953966</td>\n",
       "      <td>0.953427</td>\n",
       "      <td>0.859391</td>\n",
       "      <td>0.951754</td>\n",
       "      <td>0.951754</td>\n",
       "      <td>0.994966</td>\n",
       "      <td>0.990589</td>\n",
       "      <td>0.995707</td>\n",
       "      <td>0.951754</td>\n",
       "    </tr>\n",
       "    <tr>\n",
       "      <th>41</th>\n",
       "      <td>0.903321</td>\n",
       "      <td>0.952087</td>\n",
       "      <td>0.952590</td>\n",
       "      <td>0.968122</td>\n",
       "      <td>0.953966</td>\n",
       "      <td>0.953427</td>\n",
       "      <td>0.859391</td>\n",
       "      <td>0.951754</td>\n",
       "      <td>0.951754</td>\n",
       "      <td>0.994962</td>\n",
       "      <td>0.990584</td>\n",
       "      <td>0.995696</td>\n",
       "      <td>0.951754</td>\n",
       "    </tr>\n",
       "    <tr>\n",
       "      <th>42</th>\n",
       "      <td>0.903321</td>\n",
       "      <td>0.952087</td>\n",
       "      <td>0.952590</td>\n",
       "      <td>0.968122</td>\n",
       "      <td>0.953966</td>\n",
       "      <td>0.953427</td>\n",
       "      <td>0.859391</td>\n",
       "      <td>0.951754</td>\n",
       "      <td>0.951754</td>\n",
       "      <td>0.994976</td>\n",
       "      <td>0.990586</td>\n",
       "      <td>0.995683</td>\n",
       "      <td>0.951754</td>\n",
       "    </tr>\n",
       "    <tr>\n",
       "      <th>43</th>\n",
       "      <td>0.904717</td>\n",
       "      <td>0.953381</td>\n",
       "      <td>0.953887</td>\n",
       "      <td>0.968825</td>\n",
       "      <td>0.955655</td>\n",
       "      <td>0.955145</td>\n",
       "      <td>0.861519</td>\n",
       "      <td>0.952632</td>\n",
       "      <td>0.952632</td>\n",
       "      <td>0.994950</td>\n",
       "      <td>0.990577</td>\n",
       "      <td>0.995672</td>\n",
       "      <td>0.952632</td>\n",
       "    </tr>\n",
       "    <tr>\n",
       "      <th>44</th>\n",
       "      <td>0.903604</td>\n",
       "      <td>0.952922</td>\n",
       "      <td>0.953427</td>\n",
       "      <td>0.968674</td>\n",
       "      <td>0.955593</td>\n",
       "      <td>0.955106</td>\n",
       "      <td>0.859391</td>\n",
       "      <td>0.951754</td>\n",
       "      <td>0.951754</td>\n",
       "      <td>0.994944</td>\n",
       "      <td>0.990560</td>\n",
       "      <td>0.995665</td>\n",
       "      <td>0.951754</td>\n",
       "    </tr>\n",
       "    <tr>\n",
       "      <th>45</th>\n",
       "      <td>0.904717</td>\n",
       "      <td>0.953381</td>\n",
       "      <td>0.953887</td>\n",
       "      <td>0.968825</td>\n",
       "      <td>0.955655</td>\n",
       "      <td>0.955145</td>\n",
       "      <td>0.861519</td>\n",
       "      <td>0.952632</td>\n",
       "      <td>0.952632</td>\n",
       "      <td>0.994933</td>\n",
       "      <td>0.990558</td>\n",
       "      <td>0.995650</td>\n",
       "      <td>0.952632</td>\n",
       "    </tr>\n",
       "    <tr>\n",
       "      <th>46</th>\n",
       "      <td>0.903758</td>\n",
       "      <td>0.952957</td>\n",
       "      <td>0.953468</td>\n",
       "      <td>0.968736</td>\n",
       "      <td>0.954895</td>\n",
       "      <td>0.954306</td>\n",
       "      <td>0.859689</td>\n",
       "      <td>0.952632</td>\n",
       "      <td>0.952632</td>\n",
       "      <td>0.994945</td>\n",
       "      <td>0.990551</td>\n",
       "      <td>0.995667</td>\n",
       "      <td>0.952632</td>\n",
       "    </tr>\n",
       "    <tr>\n",
       "      <th>47</th>\n",
       "      <td>0.903604</td>\n",
       "      <td>0.952922</td>\n",
       "      <td>0.953427</td>\n",
       "      <td>0.968674</td>\n",
       "      <td>0.955593</td>\n",
       "      <td>0.955106</td>\n",
       "      <td>0.859391</td>\n",
       "      <td>0.951754</td>\n",
       "      <td>0.951754</td>\n",
       "      <td>0.994932</td>\n",
       "      <td>0.990543</td>\n",
       "      <td>0.995640</td>\n",
       "      <td>0.951754</td>\n",
       "    </tr>\n",
       "    <tr>\n",
       "      <th>48</th>\n",
       "      <td>0.903758</td>\n",
       "      <td>0.952957</td>\n",
       "      <td>0.953468</td>\n",
       "      <td>0.968736</td>\n",
       "      <td>0.954895</td>\n",
       "      <td>0.954306</td>\n",
       "      <td>0.859689</td>\n",
       "      <td>0.952632</td>\n",
       "      <td>0.952632</td>\n",
       "      <td>0.994938</td>\n",
       "      <td>0.990541</td>\n",
       "      <td>0.995643</td>\n",
       "      <td>0.952632</td>\n",
       "    </tr>\n",
       "    <tr>\n",
       "      <th>49</th>\n",
       "      <td>0.904042</td>\n",
       "      <td>0.953792</td>\n",
       "      <td>0.954306</td>\n",
       "      <td>0.969288</td>\n",
       "      <td>0.956520</td>\n",
       "      <td>0.955986</td>\n",
       "      <td>0.859689</td>\n",
       "      <td>0.952632</td>\n",
       "      <td>0.952632</td>\n",
       "      <td>0.994928</td>\n",
       "      <td>0.990538</td>\n",
       "      <td>0.995636</td>\n",
       "      <td>0.952632</td>\n",
       "    </tr>\n",
       "  </tbody>\n",
       "</table>\n",
       "</div>"
      ],
      "text/plain": [
       "    f1_macro  f1_weighted  f1_micro  prec_macro  prec_weighted  prec_micro  \\\n",
       "0   0.110692     0.163610  0.206250    0.188571       0.278722    0.942857   \n",
       "1   0.284932     0.287744  0.411264    0.334064       0.308765    0.811370   \n",
       "2   0.340357     0.332545  0.477361    0.366811       0.344026    0.908867   \n",
       "3   0.354834     0.338576  0.487460    0.372723       0.345951    0.913253   \n",
       "4   0.538682     0.893428  0.909332    0.547276       0.886899    0.917038   \n",
       "5   0.699088     0.930463  0.935157    0.743030       0.934204    0.940550   \n",
       "6   0.702535     0.933278  0.937748    0.740649       0.937437    0.944000   \n",
       "7   0.729831     0.939346  0.943147    0.750946       0.941543    0.947741   \n",
       "8   0.728099     0.938905  0.942731    0.751674       0.940621    0.946903   \n",
       "9   0.779289     0.943094  0.945791    0.957481       0.951244    0.950399   \n",
       "10  0.777712     0.946185  0.948854    0.955335       0.954134    0.953901   \n",
       "11  0.816545     0.947818  0.949780    0.964364       0.954788    0.953982   \n",
       "12  0.817799     0.948813  0.950704    0.962870       0.954396    0.954064   \n",
       "13  0.822977     0.951079  0.952884    0.963070       0.957056    0.956676   \n",
       "14  0.822041     0.950952  0.952843    0.970168       0.958228    0.957484   \n",
       "15  0.827769     0.952405  0.954225    0.973824       0.958374    0.957597   \n",
       "16  0.856119     0.952140  0.953345    0.970622       0.957189    0.956714   \n",
       "17  0.880499     0.952969  0.953846    0.973260       0.956737    0.955947   \n",
       "18  0.877912     0.951238  0.952088    0.968583       0.954832    0.954185   \n",
       "19  0.880194     0.952550  0.953386    0.970649       0.956432    0.955908   \n",
       "20  0.879909     0.952128  0.952967    0.970055       0.955554    0.955066   \n",
       "21  0.883941     0.952193  0.952967    0.970350       0.955583    0.955066   \n",
       "22  0.883799     0.951776  0.952548    0.970074       0.954771    0.954225   \n",
       "23  0.900541     0.952830  0.953427    0.970688       0.955700    0.955106   \n",
       "24  0.883941     0.952193  0.952967    0.970350       0.955583    0.955066   \n",
       "25  0.904453     0.952913  0.953427    0.970350       0.955583    0.955106   \n",
       "26  0.904595     0.953331  0.953846    0.970626       0.956398    0.955947   \n",
       "27  0.904453     0.952913  0.953427    0.970350       0.955583    0.955106   \n",
       "28  0.904453     0.952913  0.953427    0.970350       0.955583    0.955106   \n",
       "29  0.903321     0.952087  0.952590    0.968122       0.953966    0.953427   \n",
       "30  0.904312     0.952495  0.953008    0.970074       0.954771    0.954266   \n",
       "31  0.903462     0.952504  0.953008    0.968398       0.954779    0.954266   \n",
       "32  0.903462     0.952504  0.953008    0.968398       0.954779    0.954266   \n",
       "33  0.903321     0.952087  0.952590    0.968122       0.953966    0.953427   \n",
       "34  0.903462     0.952504  0.953008    0.968398       0.954779    0.954266   \n",
       "35  0.903462     0.952504  0.953008    0.968398       0.954779    0.954266   \n",
       "36  0.903321     0.952087  0.952590    0.968122       0.953966    0.953427   \n",
       "37  0.903321     0.952087  0.952590    0.968122       0.953966    0.953427   \n",
       "38  0.903321     0.952087  0.952590    0.968122       0.953966    0.953427   \n",
       "39  0.903604     0.952922  0.953427    0.968674       0.955593    0.955106   \n",
       "40  0.903321     0.952087  0.952590    0.968122       0.953966    0.953427   \n",
       "41  0.903321     0.952087  0.952590    0.968122       0.953966    0.953427   \n",
       "42  0.903321     0.952087  0.952590    0.968122       0.953966    0.953427   \n",
       "43  0.904717     0.953381  0.953887    0.968825       0.955655    0.955145   \n",
       "44  0.903604     0.952922  0.953427    0.968674       0.955593    0.955106   \n",
       "45  0.904717     0.953381  0.953887    0.968825       0.955655    0.955145   \n",
       "46  0.903758     0.952957  0.953468    0.968736       0.954895    0.954306   \n",
       "47  0.903604     0.952922  0.953427    0.968674       0.955593    0.955106   \n",
       "48  0.903758     0.952957  0.953468    0.968736       0.954895    0.954306   \n",
       "49  0.904042     0.953792  0.954306    0.969288       0.956520    0.955986   \n",
       "\n",
       "    recall_macro  recall_weighted  recall_micro  roc_auc_macro  \\\n",
       "0       0.078338         0.115789      0.115789       0.750441   \n",
       "1       0.256923         0.275439      0.275439       0.805070   \n",
       "2       0.320247         0.323684      0.323684       0.873400   \n",
       "3       0.339990         0.332456      0.332456       0.937421   \n",
       "4       0.531720         0.901754      0.901754       0.976465   \n",
       "5       0.668899         0.929825      0.929825       0.985492   \n",
       "6       0.673321         0.931579      0.931579       0.988457   \n",
       "7       0.711118         0.938596      0.938596       0.991227   \n",
       "8       0.708179         0.938596      0.938596       0.991815   \n",
       "9       0.740077         0.941228      0.941228       0.993124   \n",
       "10      0.739511         0.943860      0.943860       0.993590   \n",
       "11      0.763921         0.945614      0.945614       0.993566   \n",
       "12      0.767529         0.947368      0.947368       0.994243   \n",
       "13      0.776258         0.949123      0.949123       0.994270   \n",
       "14      0.770895         0.948246      0.948246       0.994226   \n",
       "15      0.776853         0.950877      0.950877       0.994330   \n",
       "16      0.803384         0.950000      0.950000       0.994686   \n",
       "17      0.826260         0.951754      0.951754       0.994457   \n",
       "18      0.825664         0.950000      0.950000       0.994525   \n",
       "19      0.828088         0.950877      0.950877       0.994829   \n",
       "20      0.828088         0.950877      0.950877       0.994885   \n",
       "21      0.834391         0.950877      0.950877       0.994887   \n",
       "22      0.834391         0.950877      0.950877       0.994836   \n",
       "23      0.852792         0.951754      0.951754       0.994812   \n",
       "24      0.834391         0.950877      0.950877       0.994904   \n",
       "25      0.859391         0.951754      0.951754       0.994926   \n",
       "26      0.859391         0.951754      0.951754       0.994978   \n",
       "27      0.859391         0.951754      0.951754       0.994952   \n",
       "28      0.859391         0.951754      0.951754       0.994987   \n",
       "29      0.859391         0.951754      0.951754       0.994970   \n",
       "30      0.859391         0.951754      0.951754       0.994968   \n",
       "31      0.859391         0.951754      0.951754       0.994972   \n",
       "32      0.859391         0.951754      0.951754       0.994979   \n",
       "33      0.859391         0.951754      0.951754       0.994967   \n",
       "34      0.859391         0.951754      0.951754       0.994962   \n",
       "35      0.859391         0.951754      0.951754       0.994980   \n",
       "36      0.859391         0.951754      0.951754       0.995004   \n",
       "37      0.859391         0.951754      0.951754       0.994992   \n",
       "38      0.859391         0.951754      0.951754       0.994993   \n",
       "39      0.859391         0.951754      0.951754       0.994967   \n",
       "40      0.859391         0.951754      0.951754       0.994966   \n",
       "41      0.859391         0.951754      0.951754       0.994962   \n",
       "42      0.859391         0.951754      0.951754       0.994976   \n",
       "43      0.861519         0.952632      0.952632       0.994950   \n",
       "44      0.859391         0.951754      0.951754       0.994944   \n",
       "45      0.861519         0.952632      0.952632       0.994933   \n",
       "46      0.859689         0.952632      0.952632       0.994945   \n",
       "47      0.859391         0.951754      0.951754       0.994932   \n",
       "48      0.859689         0.952632      0.952632       0.994938   \n",
       "49      0.859689         0.952632      0.952632       0.994928   \n",
       "\n",
       "    roc_auc_weighted  roc_auc_micro  accuracy  \n",
       "0           0.778639       0.723728  0.115789  \n",
       "1           0.846468       0.815570  0.275439  \n",
       "2           0.956422       0.874124  0.323684  \n",
       "3           0.978722       0.972182  0.332456  \n",
       "4           0.984587       0.983201  0.901754  \n",
       "5           0.987351       0.989564  0.929825  \n",
       "6           0.990257       0.994169  0.931579  \n",
       "7           0.990288       0.995904  0.938596  \n",
       "8           0.990828       0.996171  0.938596  \n",
       "9           0.990230       0.995924  0.941228  \n",
       "10          0.990698       0.996201  0.943860  \n",
       "11          0.990595       0.996008  0.945614  \n",
       "12          0.990760       0.996159  0.947368  \n",
       "13          0.990723       0.996057  0.949123  \n",
       "14          0.990562       0.995848  0.948246  \n",
       "15          0.990502       0.995874  0.950877  \n",
       "16          0.990808       0.996009  0.950000  \n",
       "17          0.990559       0.995832  0.951754  \n",
       "18          0.990487       0.995792  0.950000  \n",
       "19          0.990624       0.995849  0.950877  \n",
       "20          0.990622       0.995811  0.950877  \n",
       "21          0.990619       0.995788  0.950877  \n",
       "22          0.990646       0.995833  0.950877  \n",
       "23          0.990584       0.995742  0.951754  \n",
       "24          0.990631       0.995787  0.950877  \n",
       "25          0.990630       0.995767  0.951754  \n",
       "26          0.990611       0.995735  0.951754  \n",
       "27          0.990606       0.995763  0.951754  \n",
       "28          0.990670       0.995770  0.951754  \n",
       "29          0.990645       0.995759  0.951754  \n",
       "30          0.990608       0.995756  0.951754  \n",
       "31          0.990612       0.995744  0.951754  \n",
       "32          0.990617       0.995724  0.951754  \n",
       "33          0.990624       0.995736  0.951754  \n",
       "34          0.990602       0.995722  0.951754  \n",
       "35          0.990607       0.995719  0.951754  \n",
       "36          0.990673       0.995739  0.951754  \n",
       "37          0.990637       0.995723  0.951754  \n",
       "38          0.990628       0.995718  0.951754  \n",
       "39          0.990579       0.995680  0.951754  \n",
       "40          0.990589       0.995707  0.951754  \n",
       "41          0.990584       0.995696  0.951754  \n",
       "42          0.990586       0.995683  0.951754  \n",
       "43          0.990577       0.995672  0.952632  \n",
       "44          0.990560       0.995665  0.951754  \n",
       "45          0.990558       0.995650  0.952632  \n",
       "46          0.990551       0.995667  0.952632  \n",
       "47          0.990543       0.995640  0.951754  \n",
       "48          0.990541       0.995643  0.952632  \n",
       "49          0.990538       0.995636  0.952632  "
      ]
     },
     "execution_count": 853,
     "metadata": {},
     "output_type": "execute_result"
    }
   ],
   "source": [
    "ResultDict[k]['result']"
   ]
  },
  {
   "cell_type": "markdown",
   "id": "de0495325550a5c7",
   "metadata": {},
   "source": [
    "## Upload to huggingface hub"
   ]
  },
  {
   "cell_type": "code",
   "execution_count": 853,
   "id": "b2452b646be1643b",
   "metadata": {
    "ExecuteTime": {
     "end_time": "2024-05-01T15:59:46.946256Z",
     "start_time": "2024-05-01T15:59:46.933257Z"
    }
   },
   "outputs": [],
   "source": []
  }
 ],
 "metadata": {
  "kernelspec": {
   "display_name": "Python 3 (nlp_310)",
   "language": "python",
   "name": "python3_nlp"
  },
  "language_info": {
   "codemirror_mode": {
    "name": "ipython",
    "version": 3
   },
   "file_extension": ".py",
   "mimetype": "text/x-python",
   "name": "python",
   "nbconvert_exporter": "python",
   "pygments_lexer": "ipython3",
   "version": "3.10.0"
  }
 },
 "nbformat": 4,
 "nbformat_minor": 5
}
