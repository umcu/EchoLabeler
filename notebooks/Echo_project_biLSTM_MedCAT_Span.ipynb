{
 "cells": [
  {
   "cell_type": "code",
   "metadata": {
    "ExecuteTime": {
     "end_time": "2024-07-09T12:26:41.541939Z",
     "start_time": "2024-07-09T12:26:38.972901Z"
    }
   },
   "source": [
    "# add autoreload\n",
    "%load_ext autoreload\n",
    "%autoreload 2\n",
    "import os\n",
    "import sys\n",
    "import json\n",
    "\n",
    "import numpy as np\n",
    "import pandas as pd\n",
    "import scipy as sc\n",
    "\n",
    "from collections import defaultdict\n",
    "import re\n",
    "import deduce\n",
    "\n",
    "from tqdm import tqdm\n",
    "import seaborn as sns\n",
    "\n",
    "from gensim.models import phrases\n",
    "\n",
    "import matplotlib.pyplot as plt\n",
    "\n",
    "import dill"
   ],
   "outputs": [],
   "execution_count": 1
  },
  {
   "attachments": {},
   "cell_type": "markdown",
   "metadata": {},
   "source": [
    "# Context:\n",
    "* $100$ K echocardiographic reports available. \n",
    "* we want to extract diagnoses regarding the left-ventricle function\n",
    "* we have $5000$ reports with labeled spans.\n",
    "\n",
    "# Goal:\n",
    "Train a \"model\" that can\n",
    "1. identify the spans\n",
    "2. classify the spans\n",
    "\n",
    "# Approach: MedCAT - MetaCAT\n",
    "\n",
    "## Two-step approach\n",
    "\n",
    "* unsupervised training on the documents\n",
    "* add a single custom entity with a custom identifier\n",
    "* train a model to identify the custom entities\n",
    "* supervised training on the meta-annotations of the entities\n",
    "\n",
    "## One-step approach\n",
    "\n",
    "* unsupervised training on the documents\n",
    "* add custom entities based on the spans and their labels\n",
    "* train a model to identify the custom entities\n",
    "\n",
    "# Approach: biLSTM/transformer\n",
    "\n",
    "## Two-step approach\n",
    "\n",
    "* Train a model to identify the spans: self-supervision by random selecting non-span ranges as negative examples\n",
    "* Train a model to classify the spans: supervised based on the labeled spans \n",
    "* Combine the model in one pipeline\n",
    "\n",
    "## One-step approach\n",
    "* Assign a label to each span\n",
    "* Train a model to identify the spans"
   ]
  },
  {
   "cell_type": "code",
   "metadata": {
    "ExecuteTime": {
     "end_time": "2024-07-09T12:26:57.548682Z",
     "start_time": "2024-07-09T12:26:54.936143Z"
    }
   },
   "source": [
    "# TODO:..\n",
    "# 1. by adding a \"no_label\" class to each label, in memory\n",
    "# 2. re-train with reduced labels\n",
    "# 3. re-evaluate with whole pipeline!"
   ],
   "outputs": [],
   "execution_count": 2
  },
  {
   "cell_type": "code",
   "metadata": {
    "ExecuteTime": {
     "end_time": "2024-07-09T12:26:59.131210Z",
     "start_time": "2024-07-09T12:26:58.342196Z"
    }
   },
   "source": [
    "def create_dict_with_conf(ent):\n",
    "    result_dict = {}\n",
    "    for k, v in ent._.meta_anns.items():\n",
    "        result_dict[k] = v['value']\n",
    "        result_dict[f'conf_{k}'] = v['confidence']\n",
    "    return result_dict"
   ],
   "outputs": [],
   "execution_count": 3
  },
  {
   "attachments": {},
   "cell_type": "markdown",
   "metadata": {},
   "source": [
    "##  Load Medcat modelpack"
   ]
  },
  {
   "cell_type": "code",
   "metadata": {
    "ExecuteTime": {
     "end_time": "2024-07-09T12:27:02.183255Z",
     "start_time": "2024-07-09T12:27:01.785246Z"
    }
   },
   "source": [
    "# load dotenv\n",
    "from dotenv import load_dotenv\n",
    "load_dotenv('../.env')\n",
    "# extract the environment variable 'medcat_pack'\n"
   ],
   "outputs": [
    {
     "data": {
      "text/plain": [
       "True"
      ]
     },
     "execution_count": 4,
     "metadata": {},
     "output_type": "execute_result"
    }
   ],
   "execution_count": 4
  },
  {
   "cell_type": "code",
   "metadata": {
    "ExecuteTime": {
     "end_time": "2024-07-09T12:29:40.217683Z",
     "start_time": "2024-07-09T12:27:03.254268Z"
    }
   },
   "source": [
    "from medcat.cat import CAT\n",
    "from medcat.vocab import Vocab\n",
    "from medcat.cdb import CDB\n",
    "from medcat.config import Config\n",
    "from medcat.meta_cat import MetaCAT"
   ],
   "outputs": [
    {
     "name": "stderr",
     "output_type": "stream",
     "text": [
      "D:\\VENVS\\Envs\\nlp_310\\lib\\site-packages\\medcat\\cat.py:17: TqdmExperimentalWarning: Using `tqdm.autonotebook.tqdm` in notebook mode. Use `tqdm.tqdm` instead to force console mode (e.g. in jupyter console)\n",
      "  from tqdm.autonotebook import tqdm, trange\n"
     ]
    },
    {
     "name": "stdout",
     "output_type": "stream",
     "text": [
      "WARNING:tensorflow:From D:\\VENVS\\Envs\\nlp_310\\lib\\site-packages\\keras\\src\\losses.py:2976: The name tf.losses.sparse_softmax_cross_entropy is deprecated. Please use tf.compat.v1.losses.sparse_softmax_cross_entropy instead.\n",
      "\n"
     ]
    }
   ],
   "execution_count": 5
  },
  {
   "cell_type": "code",
   "metadata": {
    "ExecuteTime": {
     "end_time": "2024-07-09T12:29:40.651695Z",
     "start_time": "2024-07-09T12:29:40.220157Z"
    }
   },
   "source": [
    "base_medcat_path = os.getenv('medcat_pack')\n",
    "pack_location = 'umls-dutch-v1-10_echo'\n",
    "prep_medcat = False\n",
    "train_with_negatives = True\n",
    "REDUCED=True"
   ],
   "outputs": [],
   "execution_count": 6
  },
  {
   "attachments": {},
   "cell_type": "markdown",
   "metadata": {},
   "source": [
    "# Load texts"
   ]
  },
  {
   "cell_type": "code",
   "metadata": {
    "ExecuteTime": {
     "end_time": "2024-07-09T12:43:57.544101Z",
     "start_time": "2024-07-09T12:43:56.433538Z"
    }
   },
   "source": [
    "echo_path = 'T://lab_research/RES-Folder-UPOD/Echo_label/E_ResearchData/2_ResearchData'\n",
    "# load the jsonl in a dataframe\n",
    "texts = pd.read_json(os.path.join(echo_path, 'outdb_140423.jsonl'), lines=True)\n",
    "#texts_zipped = zip(texts['text'], texts['_input_hash'], texts['_task_hash'])"
   ],
   "outputs": [],
   "execution_count": 7
  },
  {
   "cell_type": "markdown",
   "metadata": {},
   "source": [
    "# Load train/test splits"
   ]
  },
  {
   "cell_type": "code",
   "metadata": {
    "ExecuteTime": {
     "end_time": "2024-07-09T12:44:36.914047Z",
     "start_time": "2024-07-09T12:44:34.849601Z"
    }
   },
   "source": [
    "train_indcs = pd.read_csv(os.path.join(echo_path, 'train_echoid.csv'), sep=',')\n",
    "test_indcs = pd.read_csv(os.path.join(echo_path, 'test_echoid.csv'), sep=',')\n",
    "\n",
    "train_indcs = train_indcs[train_indcs.input_hash.notna()]\n",
    "test_indcs = test_indcs[test_indcs.input_hash.notna()]"
   ],
   "outputs": [],
   "execution_count": 9
  },
  {
   "cell_type": "code",
   "metadata": {
    "ExecuteTime": {
     "end_time": "2024-07-09T12:44:39.564586Z",
     "start_time": "2024-07-09T12:44:39.042077Z"
    }
   },
   "source": [
    "TRAIN_INPUT_HASH = set(train_indcs['input_hash'].astype(int).to_list())\n",
    "TRAIN_TASK_HASH = set(train_indcs['task_hash'].astype(int).to_list())\n",
    "\n",
    "TEST_INPUT_HASH = set(test_indcs['input_hash'].astype(int).to_list())\n",
    "TEST_TASK_HASH = set(test_indcs['task_hash'].astype(int).to_list())"
   ],
   "outputs": [],
   "execution_count": 10
  },
  {
   "cell_type": "code",
   "metadata": {
    "ExecuteTime": {
     "end_time": "2024-07-09T12:44:40.287096Z",
     "start_time": "2024-07-09T12:44:39.568091Z"
    }
   },
   "source": [
    "texts_train = texts.loc[texts._input_hash.isin(TRAIN_INPUT_HASH)]\n",
    "texts_test = texts.loc[texts._input_hash.isin(TEST_INPUT_HASH)]"
   ],
   "outputs": [],
   "execution_count": 11
  },
  {
   "cell_type": "markdown",
   "metadata": {},
   "source": [
    "## Make splitted data\n",
    "\n",
    "* MedCAT train files\n",
    "* class-dictionary with dataframes"
   ]
  },
  {
   "cell_type": "code",
   "metadata": {
    "ExecuteTime": {
     "end_time": "2024-07-09T12:44:48.222421Z",
     "start_time": "2024-07-09T12:44:47.683413Z"
    }
   },
   "source": [
    "def get_medcat_json_per_class(filename: str=None, HashSet: set=False, ClassName: str=None):\n",
    "    # to add negatives: we need to know, per span, if it is not labeled per class\n",
    "    # if it is labeled for a class, and not for others, then it gets a 'nolabel' value\n",
    "    texts = pd.read_json(filename, lines=True)\n",
    "    output = {\"projects\": [{\n",
    "                \"name\": ClassName,\n",
    "                \"id\": 42,\n",
    "                \"cuis\": \"\",\n",
    "                \"tuis\": \"\",\n",
    "                \"documents\": None\n",
    "            }]}\n",
    "    \n",
    "    documents = []\n",
    "    for i, _row in enumerate(texts.iterrows()):\n",
    "        row = _row[1]\n",
    "        if (row[\"_input_hash\"] in HashSet) | (HashSet is False):\n",
    "            txt = row['text']\n",
    "            id = i\n",
    "            input_hash = row[\"_input_hash\"]\n",
    "            task_hash = row[\"_task_hash\"]\n",
    "            annotations = []\n",
    "            for j, ann in enumerate(row[\"spans\"]):\n",
    "                res = {}\n",
    "                res['user'] = 'BVE'\n",
    "                res['cui'] = 123\n",
    "                res['id'] = j\n",
    "                res['start'] = ann['start']\n",
    "                res['end'] = ann['end']\n",
    "                res['value'] = txt[ann['start']:ann['end']]\n",
    "                res['validated'] = True\n",
    "                res['correct'] = True\n",
    "                res['deleted'] = False\n",
    "                res['alternative'] = False\n",
    "                res['killed'] = False\n",
    "                res[\"meta_anns\"] = {\n",
    "                    ClassName: {\n",
    "                        \"name\": ClassName,\n",
    "                        \"validated\": True,\n",
    "                        \"accuracy\": 1.0,\n",
    "                        \"value\": ann['label']\n",
    "                    }\n",
    "                }                \n",
    "                annotations.append(res)\n",
    "            doc = {\n",
    "                'id': id,\n",
    "                'text': txt,\n",
    "                'input_hash': input_hash,\n",
    "                'task_hash': task_hash,\n",
    "                'annotations': annotations         \n",
    "            }\n",
    "            documents.append(doc)\n",
    "    output['projects'][0]['documents'] = documents\n",
    "    \n",
    "    return output\n"
   ],
   "outputs": [],
   "execution_count": 12
  },
  {
   "cell_type": "code",
   "metadata": {
    "ExecuteTime": {
     "end_time": "2024-07-09T12:52:02.873649Z",
     "start_time": "2024-07-09T12:52:01.879634Z"
    }
   },
   "source": [
    "if REDUCED==True:\n",
    "    file_dir = os.path.join(echo_path, 'echo_span_labels', 'reduced_labels')\n",
    "    class_names = os.listdir(file_dir)\n",
    "else:\n",
    "    file_dir = os.path.join(echo_path, 'echo_span_labels', 'full_labels')\n",
    "    class_names = os.listdir(file_dir)\n",
    "    "
   ],
   "outputs": [],
   "execution_count": 15
  },
  {
   "cell_type": "code",
   "metadata": {
    "ExecuteTime": {
     "end_time": "2024-07-09T12:52:03.543158Z",
     "start_time": "2024-07-09T12:52:02.878649Z"
    }
   },
   "source": [
    "merged_index = [i for i,t in enumerate(class_names) \n",
    "                    if ('merged' in t) | ('old' in t)]\n",
    "merged_index = sorted(merged_index, reverse=True)\n",
    "merged_name = class_names[merged_index[0]]\n",
    "\n",
    "for mind in merged_index:\n",
    "    class_names.pop(mind)"
   ],
   "outputs": [],
   "execution_count": 16
  },
  {
   "metadata": {
    "ExecuteTime": {
     "end_time": "2024-07-09T14:12:05.794515Z",
     "start_time": "2024-07-09T14:12:05.122019Z"
    }
   },
   "cell_type": "code",
   "source": [
    "def get_token_split(txt: str=None, split_by='\\W'):\n",
    "    splitter = re.compile(r''+split_by)\n",
    "    toks = splitter.split(txt)    \n",
    "    tbnds = []\n",
    "    lb = 0\n",
    "    for tok in toks:\n",
    "        tbnds.append((lb, len(tok)+lb-1))\n",
    "        lb += len(tok)+1\n",
    "    return toks, tbnds\n",
    "    "
   ],
   "outputs": [],
   "execution_count": 33
  },
  {
   "metadata": {
    "ExecuteTime": {
     "end_time": "2024-07-09T14:12:40.217457Z",
     "start_time": "2024-07-09T14:12:39.726957Z"
    }
   },
   "cell_type": "code",
   "source": "get_token_split(\"De vis springt in het gat, en gaat dan lekker zwemmen\")",
   "outputs": [
    {
     "data": {
      "text/plain": [
       "(['De',\n",
       "  'vis',\n",
       "  'springt',\n",
       "  'in',\n",
       "  'het',\n",
       "  'gat',\n",
       "  '',\n",
       "  'en',\n",
       "  'gaat',\n",
       "  'dan',\n",
       "  'lekker',\n",
       "  'zwemmen'],\n",
       " [(0, 1),\n",
       "  (3, 5),\n",
       "  (7, 13),\n",
       "  (15, 16),\n",
       "  (18, 20),\n",
       "  (22, 24),\n",
       "  (26, 25),\n",
       "  (27, 28),\n",
       "  (30, 33),\n",
       "  (35, 37),\n",
       "  (39, 44),\n",
       "  (46, 52)])"
      ]
     },
     "execution_count": 35,
     "metadata": {},
     "output_type": "execute_result"
    }
   ],
   "execution_count": 35
  },
  {
   "metadata": {},
   "cell_type": "code",
   "outputs": [],
   "execution_count": null,
   "source": [
    "# now we know per inputhash, per span, for which classes we do not have labels\n",
    "# -> hence we can directly assign a \"no_label\" for these spans for this inputhashes\n",
    "\n",
    "def update_medcat_json_per_class_with_negatives(MedCATJSON: dict=None,\n",
    "                                                ClassName: str=None,\n",
    "                                                MinTokens: int=5,\n",
    "                                                ):\n",
    "    # We assume that the MedCATJSON holds the information for one class\n",
    "    # Per document we collect the span that are labeled for this class\n",
    "    # Now each span NOT labeled is a potential negative class, we\n",
    "    # select for each labeled span an unlabeled span with a minimum of N tokens\n",
    "    # if a document contains NO labeled spans we assume that every span is a 'nolabel' span\n",
    "    \n",
    "    assert ClassName == MedCATJSON['projects'][0]['name'], f\"Class name mismatch? : {ClassName} / {MedCATJSON['projects'][0]['name']}\"\n",
    "\n",
    "    output = {\"projects\": [{\n",
    "                \"name\": ClassName,\n",
    "                \"id\": 42,\n",
    "                \"cuis\": \"\",\n",
    "                \"tuis\": \"\",\n",
    "                \"documents\": None\n",
    "            }]}\n",
    "    \n",
    "    Docs = MedCATJSON['projects'][0]['documents']\n",
    "    NewDocs = []\n",
    "    for i, doc in enumerate(Docs):\n",
    "            annotations = []     \n",
    "            text = doc['text']\n",
    "            toks = get_token_split(text)\n",
    "            # collect labeled spans\n",
    "            LabeledSpans = []\n",
    "            for j, ann in enumerate(doc[\"annotations\"]):\n",
    "                LabeledSpans.append((ann['start'], ann['end']))\n",
    "            if j>0:\n",
    "                LabeledSpans = list(set(LabeledSpans))\n",
    "            else:\n",
    "                # pick first MinTokens\n",
    "                toks =\n",
    "                \n",
    "            PotentialNegativeSpans = \n",
    "            \n",
    "            for j, ann in enumerate(doc[\"annotations\"]):\n",
    "                res = {}\n",
    "                res['user'] = 'BVE'\n",
    "                res['cui'] = 123\n",
    "                res['id'] = j\n",
    "                res['start'] = ann['start']\n",
    "                res['end'] = ann['end']\n",
    "                res['value'] = txt[ann['start']:ann['end']]\n",
    "                res['validated'] = True\n",
    "                res['correct'] = True\n",
    "                res['deleted'] = False\n",
    "                res['alternative'] = False\n",
    "                res['killed'] = False\n",
    "                res[\"meta_anns\"] = {\n",
    "                    ClassName: {\n",
    "                        \"name\": ClassName,\n",
    "                        \"validated\": True,\n",
    "                        \"accuracy\": 1.0,\n",
    "                        \"value\": ann['label']\n",
    "                    }\n",
    "                }                \n",
    "                annotations.append(res)\n",
    "            doc['annotations'] = annotations\n",
    "            NewDocs.append(doc)\n",
    "    output['projects'][0]['documents'] = NewDocs\n",
    "    return output\n",
    "\n"
   ]
  },
  {
   "cell_type": "code",
   "metadata": {
    "ExecuteTime": {
     "end_time": "2024-07-09T12:53:07.504036Z",
     "start_time": "2024-07-09T12:52:39.722110Z"
    }
   },
   "source": [
    "class_ds = defaultdict(dict)\n",
    "\n",
    "for file_name in class_names:   \n",
    "    _class = file_name.split(\".\")[0]\n",
    "    fn = os.path.join(file_dir, file_name)\n",
    "    class_ds[_class]['ds'] = pd.read_json(fn, lines=True)\n",
    "    \n",
    "    class_ds[_class]['train'] = {}\n",
    "    class_ds[_class]['test'] = {}    \n",
    "    \n",
    "    #TODO: has to be refactored\n",
    "    medcat_json = get_medcat_json_per_class(fn, TRAIN_INPUT_HASH, _class)\n",
    "    if train_with_negatives:\n",
    "        medcat_json = update_medcat_json_per_class_with_negatives(MedCATJSON=medcat_json, ClassName=_class)\n",
    "        \n",
    "    medcat_out = os.path.join(echo_path, 'medcat_labels', 'train', f'medcat_{_class}.json')\n",
    "    json.dump(medcat_json, open(medcat_out, 'w'))\n",
    "    class_ds[_class]['train']['location'] = medcat_out\n",
    "    class_ds[_class]['train']['json'] = medcat_json\n",
    "    \n",
    "    \n",
    "    \n",
    "    medcat_json = get_medcat_json_per_class(fn, TEST_INPUT_HASH, _class)\n",
    "    medcat_out = os.path.join(echo_path, 'medcat_labels', 'test', f'medcat_{_class}.json')\n",
    "    json.dump(medcat_json, open(medcat_out, 'w'))\n",
    "    class_ds[_class]['test']['location'] = medcat_out\n",
    "    class_ds[_class]['test']['json'] = medcat_json\n",
    "    \n",
    "    class_ds[_class]['labels'] = set([span_dict['label'] \n",
    "                                        for span_list in class_ds[_class]['ds']['spans'].tolist()\n",
    "                                        for span_dict in span_list])\n",
    "    \n",
    "    if train_with_negatives:\n",
    "        # we want to collect per inputhash per span\n",
    "        # if there is any label\n",
    "        # if there is a label for the current class\n",
    "        spans_per_doc = class_ds[_class]['ds'][['_input_hash', 'spans']]\\\n",
    "                            .set_index('_input_hash')\\\n",
    "                            .to_dict(orient='index')\n",
    "\n",
    "        span_tuples_per_doc = {k:[(_v['start'], _v['end']) \n",
    "                                  for _v in v['spans']] \n",
    "                                  for k,v in spans_per_doc.items()\n",
    "                                  }\n",
    "        class_ds[_class]['spans_with_labels'] = span_tuples_per_doc\n",
    "        "
   ],
   "outputs": [],
   "execution_count": 18
  },
  {
   "cell_type": "code",
   "metadata": {
    "ExecuteTime": {
     "end_time": "2024-07-09T12:54:32.529476Z",
     "start_time": "2024-07-09T12:54:31.930470Z"
    }
   },
   "source": [
    "SpansPresent = defaultdict(set)\n",
    "SpanClassPresent = defaultdict(lambda: defaultdict(set))\n",
    "for k,v in class_ds.items():\n",
    "    for inp_hash, sl in class_ds[k]['spans_with_labels'].items():\n",
    "        for _sl in sl:\n",
    "            SpansPresent[inp_hash].add(_sl)\n",
    "            SpanClassPresent[k][inp_hash].add(_sl)"
   ],
   "outputs": [],
   "execution_count": 20
  },
  {
   "cell_type": "code",
   "execution_count": null,
   "metadata": {},
   "outputs": [],
   "source": [
    "ClassMap = defaultdict(dict)\n",
    "for k, v in class_ds.items():\n",
    "    for lab in v['labels']:\n",
    "        ClassMap[lab] = k\n",
    "ClassMap['normal'] = 'normal'"
   ]
  },
  {
   "attachments": {},
   "cell_type": "markdown",
   "metadata": {},
   "source": [
    "## Unsupervised learning for NER+L"
   ]
  },
  {
   "cell_type": "code",
   "execution_count": null,
   "metadata": {},
   "outputs": [],
   "source": [
    "MCAT = CAT.load_model_pack(os.path.join(base_medcat_path, pack_location))\n",
    "\n",
    "MCAT.train(texts_train.text.values, \n",
    "            nepochs=3, \n",
    "            progress_print=10,  \n",
    "            is_resumed=True)\n",
    "MCAT.create_model_pack(base_medcat_path + \"/umls-dutch-v1-10_echo\")"
   ]
  },
  {
   "attachments": {},
   "cell_type": "markdown",
   "metadata": {},
   "source": [
    "### Add label spans from Prodigy annotations"
   ]
  },
  {
   "cell_type": "code",
   "execution_count": null,
   "metadata": {},
   "outputs": [],
   "source": [
    "span_sets = defaultdict(set)\n",
    "for _class, dsd in tqdm(class_ds.items()):\n",
    "        ds = dsd['ds']\n",
    "        span_set = set()\n",
    "        span_list = []\n",
    "        ds = ds[ds._input_hash.isin(TRAIN_INPUT_HASH)]\n",
    "        for k, (_spans, text) in enumerate(zip(ds[ds.spans.notna()].spans.values,\n",
    "                                            ds[ds.spans.notna()].text.values)):\n",
    "            for _span in _spans:\n",
    "                start, end = _span['start'], _span['end']\n",
    "                span_set.add(text[start:end])\n",
    "                span_list.append(text[start:end])\n",
    "        span_sets[_class] = span_set"
   ]
  },
  {
   "cell_type": "code",
   "execution_count": null,
   "metadata": {},
   "outputs": [],
   "source": [
    "# TODO: interesting to add variants without the abbreviations?\n",
    "# TODO: including paraphrasing?"
   ]
  },
  {
   "cell_type": "code",
   "execution_count": null,
   "metadata": {},
   "outputs": [],
   "source": [
    "for _class, span_set in tqdm(span_sets.items()):\n",
    "    for _span in span_set:\n",
    "        MCAT.add_and_train_concept(cui=_class,\n",
    "                                name=_span, \n",
    "                                do_add_concept=True,\n",
    "                                negative=False,\n",
    "                            )"
   ]
  },
  {
   "attachments": {},
   "cell_type": "markdown",
   "metadata": {},
   "source": [
    "## Supervised learning for NER+L"
   ]
  },
  {
   "cell_type": "code",
   "execution_count": null,
   "metadata": {},
   "outputs": [],
   "source": [
    "MCAT.train_supervised(data_path=os.path.join(base_medcat_path, \n",
    "                                 \"umls-dutch-v1-10_echo\",\n",
    "                                 \"input/ner_l_anno/trainer_export.json\"), \n",
    "                      nepochs=4,\n",
    "                      print_stats=0,\n",
    "                      use_filters=False)\n",
    "medcat_path = base_medcat_path + \"/umls-dutch-v1-10_echoV2\"\n",
    "MCAT.create_model_pack(medcat_path)"
   ]
  },
  {
   "attachments": {},
   "cell_type": "markdown",
   "metadata": {},
   "source": [
    "## Supervised learning of MetaCAT models"
   ]
  },
  {
   "cell_type": "code",
   "execution_count": null,
   "metadata": {},
   "outputs": [],
   "source": [
    "# load MCAT from file\n",
    "medcat_path = os.path.join(base_medcat_path, 'umls-dutch-v1-10_echoV2')"
   ]
  },
  {
   "cell_type": "code",
   "execution_count": null,
   "metadata": {},
   "outputs": [],
   "source": [
    "MCAT = CAT.load_model_pack(medcat_path)"
   ]
  },
  {
   "cell_type": "code",
   "execution_count": null,
   "metadata": {},
   "outputs": [],
   "source": [
    "from medcat.meta_cat import MetaCAT\n",
    "from medcat.config_meta_cat import ConfigMetaCAT\n",
    "from medcat.tokenizers.meta_cat_tokenizers import TokenizerWrapperBPE, ByteLevelBPETokenizer"
   ]
  },
  {
   "cell_type": "code",
   "execution_count": null,
   "metadata": {},
   "outputs": [],
   "source": [
    "# load tokenizer from negation_model\n",
    "# tokenizer folder \n",
    "tok_folder = 'T:/laupodteam/AIOS/Bram/language_modeling/Clinical_embeddings/bigrams/with_tokenizer/v2/tokenizer'\n",
    "emb_folder = 'T:/laupodteam/AIOS/Bram/language_modeling/Clinical_embeddings/bigrams/with_tokenizer/v2/SG'\n",
    "tokenizer = ByteLevelBPETokenizer.from_file(os.path.join(tok_folder, 'vocab.json'), \n",
    "                                            os.path.join(tok_folder, 'merges.txt'))\n",
    "wrapped_tokenizer = TokenizerWrapperBPE(hf_tokenizers=tokenizer)\n",
    "wrapped_tokenizer.save(medcat_path + \"/assets/tokenizer\")"
   ]
  },
  {
   "cell_type": "code",
   "execution_count": null,
   "metadata": {},
   "outputs": [],
   "source": [
    "from gensim.models import Word2Vec, KeyedVectors\n",
    "vec_path = os.path.join(emb_folder, 'sg')\n",
    "print(vec_path)\n",
    "w2v = KeyedVectors.load(vec_path)"
   ]
  },
  {
   "cell_type": "code",
   "execution_count": null,
   "metadata": {},
   "outputs": [],
   "source": [
    "# Create embedding matrix\n",
    "embeddings = []\n",
    "words_not_present = []\n",
    "\n",
    "for i in range(tokenizer.get_vocab_size()):\n",
    "    word = tokenizer.id_to_token(i)\n",
    "    if word in w2v:\n",
    "        embeddings.append(w2v[word])\n",
    "    else:\n",
    "        words_not_present.append(i)\n",
    "        embeddings.append(np.random.random(300))\n",
    "        \n",
    "mean_vector = np.mean(embeddings, axis=0)\n",
    "\n",
    "for i in words_not_present:\n",
    "    embeddings[i] = mean_vector\n",
    "\n",
    "# Save the embeddings\n",
    "embeddings_array = np.array(embeddings)\n",
    "np.save(open(medcat_path+\"/assets/embeddings/embedding.npy\", \n",
    "             'wb'), embeddings_array)\n",
    "\n",
    "print(f\"Words not present:{len(words_not_present)}\")"
   ]
  },
  {
   "cell_type": "code",
   "execution_count": null,
   "metadata": {},
   "outputs": [],
   "source": [
    "for _class, d in class_ds.items():\n",
    "    if _class != 'normal':\n",
    "        print(f\"Commencing training of biLSTM-span for {_class}...\")\n",
    "        config_metacat = ConfigMetaCAT()\n",
    "        config_metacat.general['category_name'] = _class\n",
    "        config_metacat.train['nepochs'] = 25\n",
    "        config_metacat.train['score_average'] = 'weighted'\n",
    "        config_metacat.model['hidden_size'] = 256\n",
    "        config_metacat.model['input_size'] = 300\n",
    "        config_metacat.model['dropout'] = 0.3\n",
    "        config_metacat.model['num_layers'] = 3\n",
    "        config_metacat.model['num_directions'] = 2\n",
    "        config_metacat.model['nclasses'] = len(d['labels'])\n",
    "        config_metacat.model['model_name'] = 'lstm'\n",
    "        \n",
    "        meta_cat = MetaCAT(tokenizer=wrapped_tokenizer,\n",
    "                    embeddings=embeddings_array, \n",
    "                    config=config_metacat)\n",
    "        \n",
    "        train_path = d['train']['location']\n",
    "        model_path = os.path.join(medcat_path, f\"meta_{_class}\")\n",
    "        os.makedirs(model_path, exist_ok=True)\n",
    "        \n",
    "        meta_cat.train(json_path=train_path, \n",
    "                        save_dir_path=model_path)\n",
    "        \n",
    "        meta_cat.save(save_dir_path=model_path)\n",
    "        # now manually add the model to the model_pack...\n",
    "        label_dict = config_metacat.general.category_value2id\n",
    "        \n",
    "        # add to config\n",
    "        medcat_config = json.load(open(os.path.join(medcat_path, 'model_card.json'), 'r'))\n",
    "        \n",
    "        # add to \"MetaCAT models\" list\n",
    "        medcat_config[\"MetaCAT models\"].append({\n",
    "                      \"Category Name\": _class,\n",
    "                      \"Description\": f\"Labels: {REDUCED}, Negatives: {train_with_negatives}\",\n",
    "                      \"Classes\": label_dict,\n",
    "                        \"Model\": \"lstm\"\n",
    "                    })\n",
    "        # write config to .json\n",
    "        json.dump(medcat_config, open(os.path.join(medcat_path, 'model_card.json'), 'w'))"
   ]
  },
  {
   "attachments": {},
   "cell_type": "markdown",
   "metadata": {},
   "source": [
    "## Load  new model pack"
   ]
  },
  {
   "cell_type": "code",
   "execution_count": null,
   "metadata": {},
   "outputs": [],
   "source": [
    "medcat_path"
   ]
  },
  {
   "cell_type": "code",
   "execution_count": null,
   "metadata": {},
   "outputs": [],
   "source": [
    "MCATnew = CAT.load_model_pack(os.path.join(medcat_path))"
   ]
  },
  {
   "attachments": {},
   "cell_type": "markdown",
   "metadata": {},
   "source": [
    "## Apply to texts"
   ]
  },
  {
   "cell_type": "code",
   "execution_count": null,
   "metadata": {},
   "outputs": [],
   "source": [
    "from spacy import displacy"
   ]
  },
  {
   "cell_type": "code",
   "execution_count": null,
   "metadata": {},
   "outputs": [],
   "source": [
    "i = 123\n",
    "doc = MCATnew(texts.text.values[i])\n",
    "displacy.render(doc, style='ent')"
   ]
  },
  {
   "cell_type": "code",
   "execution_count": null,
   "metadata": {},
   "outputs": [],
   "source": [
    "doc = MCATnew(texts.text.values[i])\n",
    "inds = []\n",
    "res = []\n",
    "for ent in doc.ents:\n",
    "    inds.append(ent.text)\n",
    "    res.append(create_dict_with_conf(ent))\n",
    "    \n",
    "res_df = pd.DataFrame(res, index=inds)"
   ]
  },
  {
   "cell_type": "code",
   "execution_count": null,
   "metadata": {},
   "outputs": [],
   "source": [
    "res_df.c"
   ]
  },
  {
   "cell_type": "code",
   "execution_count": null,
   "metadata": {},
   "outputs": [],
   "source": [
    "set([v for v in ClassMap.values()])"
   ]
  },
  {
   "cell_type": "code",
   "execution_count": null,
   "metadata": {},
   "outputs": [],
   "source": [
    "# lv_syst_func: \n",
    "# lv_syst_func_normal and lv_sys_func_normal?\n",
    "# lv_sys_func_unchanged,  lv_sys_func_unknown and lv_sys_func_improved?\n",
    "\n",
    "# rv_syst_func:\n",
    "# rv_syst_func_normal and rv_sys_func_normal\n",
    "\n",
    "# pe_not_present:\n",
    "# pe_not_present? \n",
    "# pe?\n",
    "\n"
   ]
  },
  {
   "cell_type": "markdown",
   "metadata": {},
   "source": [
    "## Evaluate"
   ]
  },
  {
   "cell_type": "code",
   "execution_count": null,
   "metadata": {},
   "outputs": [],
   "source": [
    "TEST_RESULTS = {}\n",
    "for k in class_ds.keys():\n",
    "    if k != 'normal':\n",
    "        CATmodel = MetaCAT.load(os.path.join(medcat_path, f'meta_{k}'))\n",
    "        CATmodel.config['train']['score_average'] = 'macro' # weighted, macro\n",
    "        test_location = class_ds[k]['test']['location']\n",
    "        test_labels = json.load(open(test_location, 'r'))\n",
    "        bulk_res = CATmodel.eval(test_location)\n",
    "        \n",
    "        res_count = defaultdict(int)\n",
    "        for doc in test_labels['projects'][0]['documents']:\n",
    "            anns = doc['annotations']\n",
    "            if len(anns)>0:\n",
    "                for ann in anns:            \n",
    "                    _ann = ann['meta_anns'][k]\n",
    "                    res_count[_ann['value']] += 1\n",
    "\n",
    "        TEST_RESULTS[k] = {\n",
    "            'f1':  bulk_res['f1'],\n",
    "            'precision': bulk_res['precision'],\n",
    "            'recall': bulk_res['recall'],\n",
    "            'confusion_df': bulk_res['confusion matrix'],\n",
    "            'real_presence': res_count\n",
    "        }"
   ]
  },
  {
   "cell_type": "code",
   "execution_count": null,
   "metadata": {},
   "outputs": [],
   "source": [
    "TEST_RESULTS.keys()"
   ]
  },
  {
   "cell_type": "code",
   "execution_count": null,
   "metadata": {},
   "outputs": [],
   "source": [
    "TEST_RESULTS['aortic_regurgitation']"
   ]
  },
  {
   "cell_type": "code",
   "execution_count": null,
   "metadata": {},
   "outputs": [],
   "source": [
    "dill.dump(TEST_RESULTS, file=open(\"../artifacts/MetaCAT_test_results_reduced.pkl\", \"wb\"))\n",
    "#TEST_RESULTS = dill.load(open(\"../artifacts/MetaCAT_test_results.pkl\", \"rb\"))"
   ]
  },
  {
   "cell_type": "markdown",
   "metadata": {},
   "source": [
    "## Assessment of performance in the wild"
   ]
  },
  {
   "cell_type": "code",
   "execution_count": null,
   "metadata": {},
   "outputs": [],
   "source": [
    "merged_labels_train = get_medcat_json(open(os.path.join(file_dir, 'merged_labels.jsonl'), 'r'), \n",
    "                                    TRAIN_INPUT_HASH, 'merged')['projects'][0]['documents']\n",
    "\n",
    "merged_labels_test = get_medcat_json(open(os.path.join(file_dir, 'merged_labels.jsonl'), 'r'), \n",
    "                                    TEST_INPUT_HASH, 'merged')['projects'][0]['documents']"
   ]
  },
  {
   "cell_type": "code",
   "execution_count": null,
   "metadata": {},
   "outputs": [],
   "source": [
    "comparison_list = []\n",
    "for medcat_doc in tqdm(merged_labels_test):\n",
    "    txt = medcat_doc['text']\n",
    "    parsed_doc = MCATnew(txt)\n",
    "\n",
    "    res = []\n",
    "    start_stop = []\n",
    "    for ent in parsed_doc.ents:\n",
    "        start_stop.append((ent.start_char, ent.end_char))\n",
    "        res.append(create_dict_with_conf(ent))\n",
    "    \n",
    "    medcat_doc['predicted'] = {k:v for k,v in zip(start_stop, res)}\n",
    "    comparison_list.append(medcat_doc)\n",
    "comparison_list_with_annotations_present = [d for d in comparison_list if len(d['annotations'])>0]"
   ]
  },
  {
   "cell_type": "code",
   "execution_count": null,
   "metadata": {},
   "outputs": [],
   "source": [
    "comparison_list_with_annotations_present[0]"
   ]
  },
  {
   "cell_type": "code",
   "execution_count": null,
   "metadata": {},
   "outputs": [],
   "source": [
    "def get_pred_list(pred_dict: dict=None):\n",
    "    return [v for k,v in pred_dict.items() if 'conf_' not in k]\n",
    "    \n",
    "span_suggester_comparison_list = []\n",
    "for d in tqdm(comparison_list_with_annotations_present):\n",
    "    anns = d['annotations']\n",
    "    span_cat_list = []\n",
    "    for ann in anns:\n",
    "        span = (ann['start'], ann['end'])\n",
    "        class_val = ann['meta_anns']['merged']['value']\n",
    "        span_cat_list.append((span, class_val))\n",
    "    \n",
    "    pred_list = []\n",
    "    for k, pred in d['predicted'].items():\n",
    "        pred_list.append((k, get_pred_list(pred)))\n",
    "    \n",
    "    span_suggester_comparison_list.append([span_cat_list, pred_list])"
   ]
  },
  {
   "cell_type": "code",
   "execution_count": null,
   "metadata": {},
   "outputs": [],
   "source": [
    "# We want to get the coverage of spans -> a count of all (partially) overlapping spans\n",
    "# We want to get the token overlap of covered spans (Jaccard?)\n",
    "# span overlap count\n",
    "\n",
    "def _tuple_overlap(tL, tR):\n",
    "    # tL: tuple(begin, end)\n",
    "    # tR: tuple(begin, end)\n",
    "    tLrange = set(range(*tL))\n",
    "    tRrange = set(range(*tR))\n",
    "               \n",
    "    InterSection = len(tLrange.intersection(tRrange))\n",
    "    Union = len(tLrange.union(tRrange))\n",
    "    \n",
    "    return InterSection/Union if Union>0 else np.nan\n",
    "\n",
    "def span_overlap_counter(labeled_spans, reversed=False):\n",
    "    # label_spans: list[[list[((begin,end), label)], list[((begin,end), [labels])]]]\n",
    "    OverlapList = []\n",
    "    for span_labs in labeled_spans:\n",
    "        span_set_medcat = set()\n",
    "        span_set_labeled = set()\n",
    "        for lab_span in span_labs[0]:\n",
    "            span_set_labeled.add(lab_span[0])\n",
    "        \n",
    "        for med_span in span_labs[1]:\n",
    "            span_set_medcat.add(med_span[0])\n",
    "        \n",
    "        # check overlap\n",
    "        jaccard_indices = []\n",
    "        if reversed:\n",
    "            left_spans = span_set_medcat\n",
    "            right_spans = span_set_labeled          \n",
    "        else:\n",
    "            left_spans = span_set_labeled\n",
    "            right_spans = span_set_medcat\n",
    "        \n",
    "        for spanL in left_spans:\n",
    "            _jaccard_indices = []            \n",
    "            for spanR in right_spans:\n",
    "                _jaccard_indices.append(_tuple_overlap(spanL, spanR))\n",
    "            try:\n",
    "                max_ = max(_jaccard_indices)\n",
    "            except:\n",
    "                max_ = np.nan\n",
    "            jaccard_indices.append(max_)\n",
    "        OverlapList.append(jaccard_indices)\n",
    "    return OverlapList\n",
    "\n",
    "def span_overlap_counter_with_assignment(labeled_spans):\n",
    "    # label_spans: list[[list[((begin,end), label)], list[((begin,end), [labels])]]]\n",
    "    OverlapList = []\n",
    "    for span_labs in labeled_spans:\n",
    "        span_set_medcat = set()\n",
    "        span_dict_labeled = defaultdict(set)\n",
    "        for lab_span in span_labs[0]:\n",
    "            span_dict_labeled[lab_span[1]].add(lab_span[0])\n",
    "        \n",
    "        for med_span in span_labs[1]:\n",
    "            span_set_medcat.add(med_span[0])\n",
    "        \n",
    "        # check overlap\n",
    "        jaccard_indices = defaultdict(list)\n",
    "        for spanClass, spanLabs in span_dict_labeled.items():\n",
    "            for spanLab in spanLabs:                         \n",
    "                _jaccard_indices = []   \n",
    "                for spanMedcat in span_set_medcat:\n",
    "                    _jaccard_indices.append(_tuple_overlap(spanLab, spanMedcat))\n",
    "                try:\n",
    "                    max_ = max(_jaccard_indices)\n",
    "                except:\n",
    "                    max_ = np.nan\n",
    "                jaccard_indices[spanClass].append(max_)\n",
    "        OverlapList.append(jaccard_indices)\n",
    "    return OverlapList\n",
    "    "
   ]
  },
  {
   "cell_type": "code",
   "execution_count": null,
   "metadata": {},
   "outputs": [],
   "source": [
    "span_suggester_comparison_list[0][0][0]"
   ]
  },
  {
   "cell_type": "code",
   "execution_count": null,
   "metadata": {},
   "outputs": [],
   "source": [
    "# end-to-end performance, requires an implicit \"no label\" label for consistency\n",
    "# assuming one-versus-all for scoring\n",
    "# tp: present and pos pred & pos lab\n",
    "# tn: present and neg pred & neg lab (i.e. not a particular class value)\n",
    "# fp: present and pos pred & neg lab (i.e. not a particular class value)\n",
    "# fn: present and neg pred & neg lab \n",
    "# The only difference with the exact matching is that we add a negative label called \"no label\"\n",
    "\n",
    "'''\n",
    "ConfusionDict = {'Class': {\n",
    "    'ClassValue1': {\n",
    "        'fp': \n",
    "        'fn': \n",
    "        'tp': \n",
    "        'tn': \n",
    "    } \n",
    "}}\n",
    "'''\n",
    "# from true -> predicted \n",
    "##########################\n",
    "min_jacc = 0.5 # This is somewhat arbitrary: caveat it is :)\n",
    "totList = []\n",
    "for comp in span_suggester_comparison_list:\n",
    "    docDict = defaultdict(lambda: defaultdict(lambda : defaultdict(int)))\n",
    "    conc_true_list = defaultdict(list)\n",
    "    for (tTrue_l, tTrue_r), True_class_value in comp[0]:\n",
    "        conc_true_list[(tTrue_l, tTrue_r)].append(True_class_value)\n",
    "        \n",
    "    for tTrue, True_labs in conc_true_list.items():\n",
    "        # check if there is an overlapping span (with some minimum Jaccard)\n",
    "        _classes = [ClassMap.get(True_lab) for True_lab in True_labs] \n",
    "        for i, _c in enumerate(_classes):\n",
    "            found = False\n",
    "            if (_c is not None) & (isinstance(_c, str)):        \n",
    "                for tPred, Pred_labs in comp[1]:\n",
    "                    if _tuple_overlap(tTrue, tPred)>min_jacc:                        \n",
    "                        if True_labs[i] in Pred_labs:\n",
    "                            docDict[_c][True_labs[i]]['tp'] += 1\n",
    "                            # fp for all other class values in Pred_labs?\n",
    "                            for pred_lab in Pred_labs:\n",
    "                               if pred_lab not in True_labs:\n",
    "                                   __c = ClassMap.get(pred_lab)\n",
    "                                   if (__c is not None) & (isinstance(__c, str)):\n",
    "                                       docDict[__c][pred_lab]['fp'] += 1 \n",
    "                            found = True\n",
    "                        else:\n",
    "                            docDict[_c][True_class_value]['fn'] += 1\n",
    "                if not found:\n",
    "                    docDict[_c][True_class_value]['fn'] += 1\n",
    "\n",
    "    totList.append(docDict)\n",
    "    \n",
    "# collect per class per class value the amount of tp, fp, fn\n",
    "finalDict = defaultdict(lambda: defaultdict(lambda : defaultdict(int)))\n",
    "for d in totList:\n",
    "    for k,v in d.items():\n",
    "        for _k, _v in v.items():\n",
    "            for __k, __v in _v.items():\n",
    "                finalDict[k][_k][__k] += __v"
   ]
  },
  {
   "cell_type": "code",
   "execution_count": null,
   "metadata": {},
   "outputs": [],
   "source": [
    "# given the tp, fp, fn the precision, recall, f1 can be calculated\n",
    "eps = 1e-7\n",
    "precision = lambda tp,fp: tp/(tp+fp+eps)\n",
    "recall = lambda tp,fn: tp/(tp+fn+eps)\n",
    "f1 = lambda p,r: 2*p*r/(p+r+eps)"
   ]
  },
  {
   "cell_type": "code",
   "execution_count": null,
   "metadata": {},
   "outputs": [],
   "source": [
    "scoreDict = defaultdict(lambda: defaultdict(lambda : defaultdict(int)))\n",
    "for k,v in finalDict.items():\n",
    "    for _k, _v in v.items():\n",
    "        fp = _v['fp'] if not isinstance(_v['fp'], dict) else 0\n",
    "        fn = _v['fn'] if not isinstance(_v['fn'], dict) else 0\n",
    "        tp = _v['tp'] if not isinstance(_v['tp'], dict) else 0\n",
    "        totCount = fp + fn + tp        \n",
    "        prec = precision(tp,fp)\n",
    "        rec = recall(tp,fn)\n",
    "        scoreDict[k][_k]['count'] = totCount\n",
    "        scoreDict[k][_k]['precision'] = prec\n",
    "        scoreDict[k][_k]['recall'] = rec\n",
    "        scoreDict[k][_k]['f1'] = f1(prec,rec)"
   ]
  },
  {
   "cell_type": "code",
   "execution_count": null,
   "metadata": {},
   "outputs": [],
   "source": [
    "classScores = defaultdict(lambda: defaultdict(float))\n",
    "for k,v in scoreDict.items():\n",
    "    totCount = 0\n",
    "    precF = 0\n",
    "    recF = 0\n",
    "    f1F = 0\n",
    "    for _k, _v in v.items():\n",
    "        totCount += _v['count']\n",
    "        precF += _v['precision']*_v['count']\n",
    "        recF += _v['recall']*_v['count']\n",
    "        f1F += _v['f1']*_v['count']\n",
    "    classScores[k]['precision'] = precF/totCount\n",
    "    classScores[k]['recall'] = recF/totCount\n",
    "    classScores[k]['f1'] = f1F/totCount"
   ]
  },
  {
   "cell_type": "code",
   "execution_count": null,
   "metadata": {},
   "outputs": [],
   "source": [
    "classScores"
   ]
  },
  {
   "cell_type": "code",
   "execution_count": null,
   "metadata": {},
   "outputs": [],
   "source": [
    "OverlapJaccardIndices = span_overlap_counter(span_suggester_comparison_list, reversed=False)\n",
    "OverlapJaccardIndicesReversed = span_overlap_counter(span_suggester_comparison_list, reversed=True)\n",
    "OverlapJaccardClassIndices = span_overlap_counter_with_assignment(span_suggester_comparison_list)"
   ]
  },
  {
   "cell_type": "code",
   "execution_count": null,
   "metadata": {},
   "outputs": [],
   "source": [
    "PerClassValueJaccard = defaultdict(list)\n",
    "for d in OverlapJaccardClassIndices:\n",
    "    for k,v in d.items():\n",
    "        PerClassValueJaccard[k].extend(v)"
   ]
  },
  {
   "cell_type": "code",
   "execution_count": null,
   "metadata": {},
   "outputs": [],
   "source": [
    "PerClassJaccard = defaultdict(list)\n",
    "failed_cvs = set()\n",
    "for cv, v in PerClassValueJaccard.items():\n",
    "    try:\n",
    "        PerClassJaccard[ClassMap[cv]].extend(v)\n",
    "    except:\n",
    "        failed_cvs.add(cv)"
   ]
  },
  {
   "cell_type": "code",
   "execution_count": null,
   "metadata": {},
   "outputs": [],
   "source": [
    "MeanPerDocument = [np.nanmean(v) for v in OverlapJaccardIndices]\n",
    "MeanOverall = np.nanmean([_v for v in OverlapJaccardIndices for _v in v])\n",
    "\n",
    "MeanPerDocumentRev = [np.nanmean(v) for v in OverlapJaccardIndicesReversed]\n",
    "MeanOverallRev = np.nanmean([_v for v in OverlapJaccardIndicesReversed for _v in v])\n",
    "\n",
    "\n",
    "print(f\"Mean document coverage: {np.mean(MeanPerDocument)}, with {MeanOverall} over all tokens\")\n",
    "\n",
    "plt.hist(MeanPerDocument, bins=50, color='green', histtype='step', lw=2);\n",
    "plt.hist(MeanPerDocumentRev, bins=50, color='red', histtype='step', lw=2);\n",
    "\n",
    "plt.title(\"Span overlap per document\")"
   ]
  },
  {
   "cell_type": "code",
   "execution_count": null,
   "metadata": {},
   "outputs": [],
   "source": [
    "[{'class': k, 'mean': np.nanmean(v)} for k,v in PerClassJaccard.items()]"
   ]
  },
  {
   "cell_type": "code",
   "execution_count": null,
   "metadata": {},
   "outputs": [],
   "source": [
    "MinMean = 0.25\n",
    "CheckRes = [{'Jaccard': v, \n",
    "             'res': comparison_list_with_annotations_present[i]} \n",
    "            for i,v in enumerate(OverlapJaccardIndices)\n",
    "            if (np.mean(v)<MinMean) | (np.isnan(np.mean(v)))]"
   ]
  },
  {
   "cell_type": "code",
   "execution_count": null,
   "metadata": {},
   "outputs": [],
   "source": [
    "print(f\"We have {len(CheckRes)} documents to check\")"
   ]
  },
  {
   "cell_type": "code",
   "execution_count": null,
   "metadata": {},
   "outputs": [],
   "source": [
    "CheckRes[0]['res']['predicted']"
   ]
  },
  {
   "cell_type": "code",
   "execution_count": null,
   "metadata": {},
   "outputs": [],
   "source": [
    "# TODO: check maximum length of the spans detected with MedCAT."
   ]
  }
 ],
 "metadata": {
  "kernelspec": {
   "display_name": "Python 3 (nlp_310)",
   "language": "python",
   "name": "python3_nlp"
  },
  "language_info": {
   "codemirror_mode": {
    "name": "ipython",
    "version": 3
   },
   "file_extension": ".py",
   "mimetype": "text/x-python",
   "name": "python",
   "nbconvert_exporter": "python",
   "pygments_lexer": "ipython3",
   "version": "3.10.5"
  },
  "vscode": {
   "interpreter": {
    "hash": "01a14be5a308536305ca6f1be76534a0246168409855a6497a1510fcfd428ed6"
   }
  }
 },
 "nbformat": 4,
 "nbformat_minor": 4
}
