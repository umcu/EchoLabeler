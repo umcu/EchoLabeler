{
 "cells": [
  {
   "cell_type": "code",
   "execution_count": 3,
   "metadata": {},
   "outputs": [],
   "source": [
    "# add autoreload\n",
    "%load_ext autoreload\n",
    "%autoreload 2\n",
    "import os\n",
    "import sys\n",
    "import json\n",
    "\n",
    "import numpy as np\n",
    "import pandas as pd\n",
    "import scipy as sc\n",
    "\n",
    "from collections import defaultdict\n",
    "import re\n",
    "import deduce\n",
    "\n",
    "from tqdm import tqdm\n",
    "import seaborn as sns\n",
    "\n",
    "from gensim.models import phrases\n",
    "\n",
    "import matplotlib.pyplot as plt\n",
    "\n",
    "import dill"
   ]
  },
  {
   "attachments": {},
   "cell_type": "markdown",
   "metadata": {},
   "source": [
    "# Context:\n",
    "* $100$ K echocardiographic reports available. \n",
    "* we want to extract diagnoses regarding the left-ventricle function\n",
    "* we have $5000$ reports with labeled spans.\n",
    "\n",
    "# Goal:\n",
    "Train a \"model\" that can\n",
    "1. identify the spans\n",
    "2. classify the spans\n",
    "\n",
    "# Approach: MedCAT - MetaCAT\n",
    "\n",
    "## Two-step approach\n",
    "\n",
    "* unsupervised training on the documents\n",
    "* add a single custom entity with a custom identifier\n",
    "* train a model to identify the custom entities\n",
    "* supervised training on the meta-annotations of the entities\n",
    "\n",
    "## One-step approach\n",
    "\n",
    "* unsupervised training on the documents\n",
    "* add custom entities based on the spans and their labels\n",
    "* train a model to identify the custom entities\n",
    "\n",
    "# Approach: biLSTM/transformer\n",
    "\n",
    "## Two-step approach\n",
    "\n",
    "* Train a model to identify the spans: self-supervision by random selecting non-span ranges as negative examples\n",
    "* Train a model to classify the spans: supervised based on the labeled spans \n",
    "* Combine the model in one pipeline\n",
    "\n",
    "## One-step approach\n",
    "* Assign a label to each span\n",
    "* Train a model to identify the spans"
   ]
  },
  {
   "cell_type": "code",
   "execution_count": 4,
   "metadata": {},
   "outputs": [],
   "source": [
    "# TODO:..\n",
    "# 1. add negatives:\n",
    "#    * either by directly injecting in the training set\n",
    "#    * or by altering the MetaCAT training routine\n",
    "#    * (preferred) or by adding a \"no_label\" class to each label\n",
    "# 2. re-train with reduced labels\n",
    "# 3. re-evaluate with whole pipeline!"
   ]
  },
  {
   "attachments": {},
   "cell_type": "markdown",
   "metadata": {},
   "source": [
    "##  Load Medcat modelpack"
   ]
  },
  {
   "cell_type": "code",
   "execution_count": 5,
   "metadata": {},
   "outputs": [
    {
     "data": {
      "text/plain": [
       "True"
      ]
     },
     "execution_count": 5,
     "metadata": {},
     "output_type": "execute_result"
    }
   ],
   "source": [
    "# load dotenv\n",
    "from dotenv import load_dotenv\n",
    "load_dotenv('../.env')\n",
    "# extract the environment variable 'medcat_pack'\n"
   ]
  },
  {
   "cell_type": "code",
   "execution_count": 6,
   "metadata": {},
   "outputs": [
    {
     "name": "stderr",
     "output_type": "stream",
     "text": [
      "d:\\VENVS\\Envs\\nlp_310\\lib\\site-packages\\medcat\\cat.py:17: TqdmExperimentalWarning: Using `tqdm.autonotebook.tqdm` in notebook mode. Use `tqdm.tqdm` instead to force console mode (e.g. in jupyter console)\n",
      "  from tqdm.autonotebook import tqdm, trange\n"
     ]
    },
    {
     "name": "stdout",
     "output_type": "stream",
     "text": [
      "WARNING:tensorflow:From d:\\VENVS\\Envs\\nlp_310\\lib\\site-packages\\keras\\src\\losses.py:2976: The name tf.losses.sparse_softmax_cross_entropy is deprecated. Please use tf.compat.v1.losses.sparse_softmax_cross_entropy instead.\n",
      "\n"
     ]
    }
   ],
   "source": [
    "from medcat.cat import CAT\n",
    "from medcat.vocab import Vocab\n",
    "from medcat.cdb import CDB\n",
    "from medcat.config import Config\n",
    "from medcat.meta_cat import MetaCAT"
   ]
  },
  {
   "cell_type": "code",
   "execution_count": 7,
   "metadata": {},
   "outputs": [],
   "source": [
    "base_medcat_path = os.getenv('medcat_pack')\n",
    "pack_location = 'umls-dutch-v1-10_echo'\n",
    "prep_medcat = False\n",
    "train_with_negatives = True\n",
    "REDUCED=True"
   ]
  },
  {
   "attachments": {},
   "cell_type": "markdown",
   "metadata": {},
   "source": [
    "# Load texts"
   ]
  },
  {
   "cell_type": "code",
   "execution_count": 8,
   "metadata": {},
   "outputs": [],
   "source": [
    "echo_path = 'T://lab_research/RES-Folder-UPOD/Echo_label/E_ResearchData/2_ResearchData'\n",
    "# load the jsonl in a dataframe\n",
    "texts = pd.read_json(os.path.join(echo_path, 'outdb_140423.jsonl'), lines=True)\n",
    "#texts_zipped = zip(texts['text'], texts['_input_hash'], texts['_task_hash'])"
   ]
  },
  {
   "cell_type": "markdown",
   "metadata": {},
   "source": [
    "# Load train/test splits"
   ]
  },
  {
   "cell_type": "code",
   "execution_count": 9,
   "metadata": {},
   "outputs": [],
   "source": [
    "train_indcs = pd.read_csv(os.path.join(echo_path, 'train_echoid.csv'), sep=',')\n",
    "test_indcs = pd.read_csv(os.path.join(echo_path, 'test_echoid.csv'), sep=',')\n",
    "\n",
    "train_indcs = train_indcs[train_indcs.input_hash.notna()]\n",
    "test_indcs = test_indcs[test_indcs.input_hash.notna()]"
   ]
  },
  {
   "cell_type": "code",
   "execution_count": 10,
   "metadata": {},
   "outputs": [],
   "source": [
    "TRAIN_INPUT_HASH = set(train_indcs['input_hash'].astype(int).to_list())\n",
    "TRAIN_TASK_HASH = set(train_indcs['task_hash'].astype(int).to_list())\n",
    "\n",
    "TEST_INPUT_HASH = set(test_indcs['input_hash'].astype(int).to_list())\n",
    "TEST_TASK_HASH = set(test_indcs['task_hash'].astype(int).to_list())"
   ]
  },
  {
   "cell_type": "code",
   "execution_count": 11,
   "metadata": {},
   "outputs": [],
   "source": [
    "texts_train = texts.loc[texts._input_hash.isin(TRAIN_INPUT_HASH)]\n",
    "texts_test = texts.loc[texts._input_hash.isin(TEST_INPUT_HASH)]"
   ]
  },
  {
   "cell_type": "markdown",
   "metadata": {},
   "source": [
    "## Make splitted data\n",
    "\n",
    "* MedCAT train files\n",
    "* class-dictionary with dataframes"
   ]
  },
  {
   "cell_type": "code",
   "execution_count": 12,
   "metadata": {},
   "outputs": [],
   "source": [
    "def get_medcat_json(filename: str=None, HashSet: set=False, ClassName: str=None):\n",
    "    # to add negatives: we need to know, per span, if it is not labeled per class\n",
    "    # if it is labeled for a class, and not for others, then it gets a 'nolabel' value\n",
    "    texts = pd.read_json(filename, lines=True)\n",
    "    output = {\"projects\": [{\n",
    "                \"name\": ClassName,\n",
    "                \"id\": 42,\n",
    "                \"cuis\": \"\",\n",
    "                \"tuis\": \"\",\n",
    "                \"documents\": None\n",
    "            }]}\n",
    "    \n",
    "    documents = []\n",
    "    for i, _row in enumerate(texts.iterrows()):\n",
    "        row = _row[1]\n",
    "        if (row[\"_input_hash\"] in HashSet) | (HashSet is False):\n",
    "            txt = row['text']\n",
    "            id = i\n",
    "            input_hash = row[\"_input_hash\"]\n",
    "            task_hash = row[\"_task_hash\"]\n",
    "            annotations = []\n",
    "            for j, ann in enumerate(row[\"spans\"]):\n",
    "                res = {}\n",
    "                res['user'] = 'BVE'\n",
    "                res['cui'] = 123\n",
    "                res['id'] = j\n",
    "                res['start'] = ann['start']\n",
    "                res['end'] = ann['end']\n",
    "                res['value'] = txt[ann['start']:ann['end']]\n",
    "                res['validated'] = True\n",
    "                res['correct'] = True\n",
    "                res['deleted'] = False\n",
    "                res['alternative'] = False\n",
    "                res['killed'] = False\n",
    "                res[\"meta_anns\"] = {\n",
    "                    ClassName: {\n",
    "                        \"name\": ClassName,\n",
    "                        \"validated\": True,\n",
    "                        \"accuracy\": 1.0,\n",
    "                        \"value\": ann['label']\n",
    "                    }\n",
    "                }                \n",
    "                annotations.append(res)\n",
    "            doc = {\n",
    "                'id': id,\n",
    "                'text': txt,\n",
    "                'input_hash': input_hash,\n",
    "                'task_hash': task_hash,\n",
    "                'annotations': annotations         \n",
    "            }\n",
    "            documents.append(doc)\n",
    "    output['projects'][0]['documents'] = documents\n",
    "    \n",
    "    return output\n"
   ]
  },
  {
   "cell_type": "code",
   "execution_count": 13,
   "metadata": {},
   "outputs": [],
   "source": [
    "if REDUCED==True:\n",
    "    file_dir = os.path.join(echo_path, 'echo_span_labels', 'reduced_labels')\n",
    "    class_names = os.listdir(file_dir)\n",
    "else:\n",
    "    file_dir = os.path.join(echo_path, 'echo_span_labels', 'full_labels')\n",
    "    class_names = os.listdir(file_dir)\n",
    "    \n",
    "    \n",
    "merged_index = [i for i,t in enumerate(class_names) \n",
    "                    if ('merged' in t) | ('old' in t)]\n",
    "merged_index = sorted(merged_index, reverse=True)\n",
    "\n",
    "for mind in merged_index:\n",
    "    class_names.pop(mind)\n",
    "class_ds = defaultdict(dict)\n",
    "\n",
    "for file_name in class_names:   \n",
    "    _class = file_name.split(\".\")[0]\n",
    "    fn = os.path.join(file_dir, file_name)\n",
    "    class_ds[_class]['ds'] = pd.read_json(fn, lines=True)\n",
    "    \n",
    "    class_ds[_class]['train'] = {}\n",
    "    class_ds[_class]['test'] = {}    \n",
    "    \n",
    "    #TODO: has to be refactored\n",
    "    medcat_json = get_medcat_json(fn, TRAIN_INPUT_HASH, _class)\n",
    "    medcat_out = os.path.join(echo_path, 'medcat_labels', 'train', f'medcat_{_class}.json')\n",
    "    json.dump(medcat_json, open(medcat_out, 'w'))\n",
    "    class_ds[_class]['train']['location'] = medcat_out\n",
    "    class_ds[_class]['train']['json'] = medcat_json\n",
    "    \n",
    "    medcat_json = get_medcat_json(fn, TEST_INPUT_HASH, _class)\n",
    "    medcat_out = os.path.join(echo_path, 'medcat_labels', 'test', f'medcat_{_class}.json')\n",
    "    json.dump(medcat_json, open(medcat_out, 'w'))\n",
    "    class_ds[_class]['test']['location'] = medcat_out\n",
    "    class_ds[_class]['test']['json'] = medcat_json\n",
    "    \n",
    "    class_ds[_class]['labels'] = set([span_dict['label'] \n",
    "                                        for span_list in class_ds[_class]['ds']['spans'].tolist()\n",
    "                                        for span_dict in span_list])\n",
    "    \n",
    "ClassMap = defaultdict(dict)\n",
    "for k, v in class_ds.items():\n",
    "    for lab in v['labels']:\n",
    "        ClassMap[lab] = k\n",
    "ClassMap['normal'] = 'normal'"
   ]
  },
  {
   "attachments": {},
   "cell_type": "markdown",
   "metadata": {},
   "source": [
    "## Unsupervised learning for NER+L"
   ]
  },
  {
   "cell_type": "code",
   "execution_count": null,
   "metadata": {},
   "outputs": [],
   "source": [
    "MCAT = CAT.load_model_pack(os.path.join(base_medcat_path, pack_location))\n",
    "\n",
    "MCAT.train(texts_train.text.values, \n",
    "            nepochs=3, \n",
    "            progress_print=10,  \n",
    "            is_resumed=True)\n",
    "MCAT.create_model_pack(base_medcat_path + \"/umls-dutch-v1-10_echo\")"
   ]
  },
  {
   "attachments": {},
   "cell_type": "markdown",
   "metadata": {},
   "source": [
    "### Add label spans from Prodigy annotations"
   ]
  },
  {
   "cell_type": "code",
   "execution_count": null,
   "metadata": {},
   "outputs": [],
   "source": [
    "span_sets = defaultdict(set)\n",
    "for _class, dsd in tqdm(class_ds.items()):\n",
    "        ds = dsd['ds']\n",
    "        span_set = set()\n",
    "        span_list = []\n",
    "        ds = ds[ds._input_hash.isin(TRAIN_INPUT_HASH)]\n",
    "        for k, (_spans, text) in enumerate(zip(ds[ds.spans.notna()].spans.values,\n",
    "                                            ds[ds.spans.notna()].text.values)):\n",
    "            for _span in _spans:\n",
    "                start, end = _span['start'], _span['end']\n",
    "                span_set.add(text[start:end])\n",
    "                span_list.append(text[start:end])\n",
    "        span_sets[_class] = span_set"
   ]
  },
  {
   "cell_type": "code",
   "execution_count": null,
   "metadata": {},
   "outputs": [],
   "source": [
    "# TODO: interesting to add variants without the abbreviations?\n",
    "# TODO: including paraphrasing?"
   ]
  },
  {
   "cell_type": "code",
   "execution_count": null,
   "metadata": {},
   "outputs": [],
   "source": [
    "for _class, span_set in tqdm(span_sets.items()):\n",
    "    for _span in span_set:\n",
    "        MCAT.add_and_train_concept(cui=_class,\n",
    "                                name=_span, \n",
    "                                do_add_concept=True,\n",
    "                                negative=False,\n",
    "                            )"
   ]
  },
  {
   "attachments": {},
   "cell_type": "markdown",
   "metadata": {},
   "source": [
    "## Supervised learning for NER+L"
   ]
  },
  {
   "cell_type": "code",
   "execution_count": null,
   "metadata": {},
   "outputs": [],
   "source": [
    "MCAT.train_supervised(data_path=os.path.join(base_medcat_path, \n",
    "                                 \"umls-dutch-v1-10_echo\",\n",
    "                                 \"input/ner_l_anno/trainer_export.json\"), \n",
    "                      nepochs=4,\n",
    "                      print_stats=0,\n",
    "                      use_filters=False)\n",
    "medcat_path = base_medcat_path + \"/umls-dutch-v1-10_echoV2\"\n",
    "MCAT.create_model_pack(medcat_path)"
   ]
  },
  {
   "attachments": {},
   "cell_type": "markdown",
   "metadata": {},
   "source": [
    "## Supervised learning of MetaCAT models"
   ]
  },
  {
   "cell_type": "code",
   "execution_count": 15,
   "metadata": {},
   "outputs": [],
   "source": [
    "# load MCAT from file\n",
    "medcat_path = os.path.join(base_medcat_path, 'umls-dutch-v1-10_echoV2')"
   ]
  },
  {
   "cell_type": "code",
   "execution_count": null,
   "metadata": {},
   "outputs": [],
   "source": [
    "MCAT = CAT.load_model_pack(medcat_path)"
   ]
  },
  {
   "cell_type": "code",
   "execution_count": null,
   "metadata": {},
   "outputs": [],
   "source": [
    "from medcat.meta_cat import MetaCAT\n",
    "from medcat.config_meta_cat import ConfigMetaCAT\n",
    "from medcat.tokenizers.meta_cat_tokenizers import TokenizerWrapperBPE, ByteLevelBPETokenizer"
   ]
  },
  {
   "cell_type": "code",
   "execution_count": null,
   "metadata": {},
   "outputs": [],
   "source": [
    "# load tokenizer from negation_model\n",
    "# tokenizer folder \n",
    "tok_folder = 'T:/laupodteam/AIOS/Bram/language_modeling/Clinical_embeddings/bigrams/with_tokenizer/v2/tokenizer'\n",
    "emb_folder = 'T:/laupodteam/AIOS/Bram/language_modeling/Clinical_embeddings/bigrams/with_tokenizer/v2/SG'\n",
    "tokenizer = ByteLevelBPETokenizer.from_file(os.path.join(tok_folder, 'vocab.json'), \n",
    "                                            os.path.join(tok_folder, 'merges.txt'))\n",
    "wrapped_tokenizer = TokenizerWrapperBPE(hf_tokenizers=tokenizer)\n",
    "wrapped_tokenizer.save(medcat_path + \"/assets/tokenizer\")"
   ]
  },
  {
   "cell_type": "code",
   "execution_count": null,
   "metadata": {},
   "outputs": [],
   "source": [
    "from gensim.models import Word2Vec, KeyedVectors\n",
    "vec_path = os.path.join(emb_folder, 'sg')\n",
    "print(vec_path)\n",
    "w2v = KeyedVectors.load(vec_path)"
   ]
  },
  {
   "cell_type": "code",
   "execution_count": null,
   "metadata": {},
   "outputs": [],
   "source": [
    "# Create embedding matrix\n",
    "embeddings = []\n",
    "words_not_present = []\n",
    "\n",
    "for i in range(tokenizer.get_vocab_size()):\n",
    "    word = tokenizer.id_to_token(i)\n",
    "    if word in w2v:\n",
    "        embeddings.append(w2v[word])\n",
    "    else:\n",
    "        words_not_present.append(i)\n",
    "        embeddings.append(np.random.random(300))\n",
    "        \n",
    "mean_vector = np.mean(embeddings, axis=0)\n",
    "\n",
    "for i in words_not_present:\n",
    "    embeddings[i] = mean_vector\n",
    "\n",
    "# Save the embeddings\n",
    "embeddings_array = np.array(embeddings)\n",
    "np.save(open(medcat_path+\"/assets/embeddings/embedding.npy\", \n",
    "             'wb'), embeddings_array)\n",
    "\n",
    "print(f\"Words not present:{len(words_not_present)}\")"
   ]
  },
  {
   "cell_type": "code",
   "execution_count": null,
   "metadata": {},
   "outputs": [],
   "source": [
    "for _class, d in class_ds.items():\n",
    "    if _class != 'normal':\n",
    "        print(f\"Commencing training of biLSTM-span for {_class}...\")\n",
    "        config_metacat = ConfigMetaCAT()\n",
    "        config_metacat.general['category_name'] = _class\n",
    "        config_metacat.train['nepochs'] = 25\n",
    "        config_metacat.train['score_average'] = 'weighted'\n",
    "        config_metacat.model['hidden_size'] = 256\n",
    "        config_metacat.model['input_size'] = 300\n",
    "        config_metacat.model['dropout'] = 0.3\n",
    "        config_metacat.model['num_layers'] = 3\n",
    "        config_metacat.model['num_directions'] = 2\n",
    "        config_metacat.model['nclasses'] = len(d['labels'])\n",
    "        config_metacat.model['model_name'] = 'lstm'\n",
    "        \n",
    "        meta_cat = MetaCAT(tokenizer=wrapped_tokenizer,\n",
    "                    embeddings=embeddings_array, \n",
    "                    config=config_metacat)\n",
    "        \n",
    "        train_path = d['train']['location']\n",
    "        model_path = os.path.join(medcat_path, f\"meta_{_class}\")\n",
    "        os.makedirs(model_path, exist_ok=True)\n",
    "        \n",
    "        meta_cat.train(json_path=train_path, \n",
    "                        save_dir_path=model_path)\n",
    "        \n",
    "        meta_cat.save(save_dir_path=model_path)\n",
    "        # now manually add the model to the model_pack...\n",
    "        label_dict = config_metacat.general.category_value2id\n",
    "        \n",
    "        # add to config\n",
    "        medcat_config = json.load(open(os.path.join(medcat_path, 'model_card.json'), 'r'))\n",
    "        \n",
    "        # add to \"MetaCAT models\" list\n",
    "        medcat_config[\"MetaCAT models\"].append({\n",
    "                      \"Category Name\": _class,\n",
    "                      \"Description\": f\"Labels: {REDUCED}, Negatives: {train_with_negatives}\",\n",
    "                      \"Classes\": label_dict,\n",
    "                        \"Model\": \"lstm\"\n",
    "                    })\n",
    "        # write config to .json\n",
    "        json.dump(medcat_config, open(os.path.join(medcat_path, 'model_card.json'), 'w'))"
   ]
  },
  {
   "attachments": {},
   "cell_type": "markdown",
   "metadata": {},
   "source": [
    "## Load  new model pack"
   ]
  },
  {
   "cell_type": "code",
   "execution_count": 16,
   "metadata": {},
   "outputs": [
    {
     "data": {
      "text/plain": [
       "'D://LanguageModels/MEDCAT/ModelPacks/UMCU_v1\\\\umls-dutch-v1-10_echoV2'"
      ]
     },
     "execution_count": 16,
     "metadata": {},
     "output_type": "execute_result"
    }
   ],
   "source": [
    "medcat_path"
   ]
  },
  {
   "cell_type": "code",
   "execution_count": 19,
   "metadata": {},
   "outputs": [
    {
     "name": "stderr",
     "output_type": "stream",
     "text": [
      "d:\\VENVS\\Envs\\nlp_310\\lib\\site-packages\\spacy\\util.py:910: UserWarning: [W095] Model 'nl_core_news_lg' (3.1.0) was trained with spaCy v3.1.0 and may not be 100% compatible with the current version (3.6.1). If you see errors or degraded performance, download a newer compatible model or retrain your custom model with the current spaCy version. For more details and available updates, run: python -m spacy validate\n",
      "  warnings.warn(warn_msg)\n"
     ]
    }
   ],
   "source": [
    "MCATnew = CAT.load_model_pack(os.path.join(medcat_path))"
   ]
  },
  {
   "attachments": {},
   "cell_type": "markdown",
   "metadata": {},
   "source": [
    "## Apply to texts"
   ]
  },
  {
   "cell_type": "code",
   "execution_count": 20,
   "metadata": {},
   "outputs": [],
   "source": [
    "from spacy import displacy"
   ]
  },
  {
   "cell_type": "code",
   "execution_count": 21,
   "metadata": {},
   "outputs": [
    {
     "data": {
      "text/html": [
       "<span class=\"tex2jax_ignore\"><div class=\"entities\" style=\"line-height: 2.5; direction: ltr\">\n",
       "<mark class=\"entity\" style=\"background: #ddd; padding: 0.45em 0.6em; margin: 0 0.25em; line-height: 1; border-radius: 0.35em;\">\n",
       "    L.V. is niet vergroot\n",
       "    <span style=\"font-size: 0.8em; font-weight: bold; line-height: 1; border-radius: 0.35em; vertical-align: middle; margin-left: 0.5rem\">concept</span>\n",
       "</mark>\n",
       " , licht verdikte L.V mass 116gr/m2 licht verhoogd.. \n",
       "<mark class=\"entity\" style=\"background: #ddd; padding: 0.45em 0.6em; margin: 0 0.25em; line-height: 1; border-radius: 0.35em;\">\n",
       "    LVH\n",
       "    <span style=\"font-size: 0.8em; font-weight: bold; line-height: 1; border-radius: 0.35em; vertical-align: middle; margin-left: 0.5rem\">concept</span>\n",
       "</mark>\n",
       " met asymaetrische verdikking. maximale septumdikte van 14mm .Mid anterieure septum geringe hypokinesie,  ook strain daar lage piek strain . Strainpatroon zeer suggestief voor een HCM. Licht verminderde EF van ong. 49%,  GLS-18%. is ook wat laag. \r<br>Geen klepafwijkingen.\r<br>\n",
       "<mark class=\"entity\" style=\"background: #ddd; padding: 0.45em 0.6em; margin: 0 0.25em; line-height: 1; border-radius: 0.35em;\">\n",
       "    Goede R.V. functie.\n",
       "    <span style=\"font-size: 0.8em; font-weight: bold; line-height: 1; border-radius: 0.35em; vertical-align: middle; margin-left: 0.5rem\">concept</span>\n",
       "</mark>\n",
       "</div></span>"
      ],
      "text/plain": [
       "<IPython.core.display.HTML object>"
      ]
     },
     "metadata": {},
     "output_type": "display_data"
    }
   ],
   "source": [
    "i = 123\n",
    "doc = MCATnew(texts.text.values[i])\n",
    "displacy.render(doc, style='ent')"
   ]
  },
  {
   "cell_type": "code",
   "execution_count": 22,
   "metadata": {},
   "outputs": [],
   "source": [
    "def create_dict_with_conf(ent):\n",
    "    result_dict = {}\n",
    "    for k, v in ent._.meta_anns.items():\n",
    "        result_dict[k] = v['value']\n",
    "        result_dict[f'conf_{k}'] = v['confidence']\n",
    "    return result_dict"
   ]
  },
  {
   "cell_type": "code",
   "execution_count": null,
   "metadata": {},
   "outputs": [],
   "source": [
    "doc = MCATnew(texts.text.values[i])\n",
    "inds = []\n",
    "res = []\n",
    "for ent in doc.ents:\n",
    "    inds.append(ent.text)\n",
    "    res.append(create_dict_with_conf(ent))\n",
    "    \n",
    "res_df = pd.DataFrame(res, index=inds)"
   ]
  },
  {
   "cell_type": "code",
   "execution_count": null,
   "metadata": {},
   "outputs": [],
   "source": [
    "res_df.c"
   ]
  },
  {
   "cell_type": "code",
   "execution_count": 33,
   "metadata": {},
   "outputs": [
    {
     "data": {
      "text/plain": [
       "{'aortic_regurgitation',\n",
       " 'aortic_stenosis',\n",
       " 'diastolic_dysfunction',\n",
       " 'lv_dil',\n",
       " 'lv_syst_func',\n",
       " 'mitral_regurgitation',\n",
       " 'normal',\n",
       " 'pe',\n",
       " 'rv_dil',\n",
       " 'rv_syst_func'}"
      ]
     },
     "execution_count": 33,
     "metadata": {},
     "output_type": "execute_result"
    }
   ],
   "source": [
    "set([v for v in ClassMap.values()])"
   ]
  },
  {
   "cell_type": "code",
   "execution_count": 45,
   "metadata": {},
   "outputs": [
    {
     "data": {
      "text/plain": [
       "['pe_severe', 'pe_moderate', 'pe_mild', 'pe_not_present', 'pe']"
      ]
     },
     "execution_count": 45,
     "metadata": {},
     "output_type": "execute_result"
    }
   ],
   "source": [
    "# lv_syst_func: \n",
    "# lv_syst_func_normal and lv_sys_func_normal?\n",
    "# lv_sys_func_unchanged,  lv_sys_func_unknown and lv_sys_func_improved?\n",
    "\n",
    "# rv_syst_func:\n",
    "# rv_syst_func_normal and rv_sys_func_normal\n",
    "\n",
    "# pe_not_present:\n",
    "# pe_not_present? \n",
    "# pe?\n",
    "\n"
   ]
  },
  {
   "cell_type": "markdown",
   "metadata": {},
   "source": [
    "## Evaluate"
   ]
  },
  {
   "cell_type": "code",
   "execution_count": 52,
   "metadata": {},
   "outputs": [],
   "source": [
    "TEST_RESULTS = {}\n",
    "for k in class_ds.keys():\n",
    "    if k != 'normal':\n",
    "        CATmodel = MetaCAT.load(os.path.join(medcat_path, f'meta_{k}'))\n",
    "        CATmodel.config['train']['score_average'] = 'macro' # weighted, macro\n",
    "        test_location = class_ds[k]['test']['location']\n",
    "        test_labels = json.load(open(test_location, 'r'))\n",
    "        bulk_res = CATmodel.eval(test_location)\n",
    "        \n",
    "        res_count = defaultdict(int)\n",
    "        for doc in test_labels['projects'][0]['documents']:\n",
    "            anns = doc['annotations']\n",
    "            if len(anns)>0:\n",
    "                for ann in anns:            \n",
    "                    _ann = ann['meta_anns'][k]\n",
    "                    res_count[_ann['value']] += 1\n",
    "\n",
    "        TEST_RESULTS[k] = {\n",
    "            'f1':  bulk_res['f1'],\n",
    "            'precision': bulk_res['precision'],\n",
    "            'recall': bulk_res['recall'],\n",
    "            'confusion_df': bulk_res['confusion matrix'],\n",
    "            'real_presence': res_count\n",
    "        }"
   ]
  },
  {
   "cell_type": "code",
   "execution_count": 46,
   "metadata": {},
   "outputs": [
    {
     "name": "stdout",
     "output_type": "stream",
     "text": [
      "dict_keys(['aortic_regurgitation', 'aortic_stenosis', 'diastolic_dysfunction', 'lv_dil', 'lv_syst_func', 'mitral_regurgitation', 'pe', 'rv_dil', 'rv_syst_func'])\n"
     ]
    }
   ],
   "source": [
    "print(TEST_RESULTS.keys())"
   ]
  },
  {
   "cell_type": "code",
   "execution_count": null,
   "metadata": {},
   "outputs": [],
   "source": [
    "dill.dump(TEST_RESULTS, file=open(\"../artifacts/MetaCAT_test_results_reduced.pkl\", \"wb\"))\n",
    "#TEST_RESULTS = dill.load(open(\"../artifacts/MetaCAT_test_results.pkl\", \"rb\"))"
   ]
  },
  {
   "cell_type": "markdown",
   "metadata": {},
   "source": [
    "## Assessment of performance in the wild"
   ]
  },
  {
   "cell_type": "code",
   "execution_count": 23,
   "metadata": {},
   "outputs": [],
   "source": [
    "merged_labels_train = get_medcat_json(open(os.path.join(file_dir, 'merged_labels.jsonl'), 'r'), \n",
    "                                    TRAIN_INPUT_HASH, 'merged')['projects'][0]['documents']\n",
    "\n",
    "merged_labels_test = get_medcat_json(open(os.path.join(file_dir, 'merged_labels.jsonl'), 'r'), \n",
    "                                    TEST_INPUT_HASH, 'merged')['projects'][0]['documents']"
   ]
  },
  {
   "cell_type": "code",
   "execution_count": 24,
   "metadata": {},
   "outputs": [
    {
     "name": "stderr",
     "output_type": "stream",
     "text": [
      "100%|██████████| 991/991 [03:33<00:00,  4.63it/s]\n"
     ]
    }
   ],
   "source": [
    "comparison_list = []\n",
    "for medcat_doc in tqdm(merged_labels_test):\n",
    "    txt = medcat_doc['text']\n",
    "    parsed_doc = MCATnew(txt)\n",
    "\n",
    "    res = []\n",
    "    start_stop = []\n",
    "    for ent in parsed_doc.ents:\n",
    "        start_stop.append((ent.start_char, ent.end_char))\n",
    "        res.append(create_dict_with_conf(ent))\n",
    "    \n",
    "    medcat_doc['predicted'] = {k:v for k,v in zip(start_stop, res)}\n",
    "    comparison_list.append(medcat_doc)\n",
    "comparison_list_with_annotations_present = [d for d in comparison_list if len(d['annotations'])>0]"
   ]
  },
  {
   "cell_type": "code",
   "execution_count": 25,
   "metadata": {},
   "outputs": [
    {
     "data": {
      "text/plain": [
       "{'id': 5,\n",
       " 'text': 'Forse LVEDd. Goede LV en RV functie. Geen belangrijke klepafwijkingen.',\n",
       " 'input_hash': -1055899436,\n",
       " 'task_hash': -1034767905,\n",
       " 'annotations': [{'user': 'BVE',\n",
       "   'cui': 123,\n",
       "   'id': 0,\n",
       "   'start': 37,\n",
       "   'end': 69,\n",
       "   'value': 'Geen belangrijke klepafwijkingen',\n",
       "   'validated': True,\n",
       "   'correct': True,\n",
       "   'deleted': False,\n",
       "   'alternative': False,\n",
       "   'killed': False,\n",
       "   'meta_anns': {'merged': {'name': 'merged',\n",
       "     'validated': True,\n",
       "     'accuracy': 1.0,\n",
       "     'value': 'tricuspid_valve_native_regurgitation_not_present'}}},\n",
       "  {'user': 'BVE',\n",
       "   'cui': 123,\n",
       "   'id': 1,\n",
       "   'start': 13,\n",
       "   'end': 35,\n",
       "   'value': 'Goede LV en RV functie',\n",
       "   'validated': True,\n",
       "   'correct': True,\n",
       "   'deleted': False,\n",
       "   'alternative': False,\n",
       "   'killed': False,\n",
       "   'meta_anns': {'merged': {'name': 'merged',\n",
       "     'validated': True,\n",
       "     'accuracy': 1.0,\n",
       "     'value': 'rv_sys_func_normal'}}},\n",
       "  {'user': 'BVE',\n",
       "   'cui': 123,\n",
       "   'id': 2,\n",
       "   'start': 13,\n",
       "   'end': 35,\n",
       "   'value': 'Goede LV en RV functie',\n",
       "   'validated': True,\n",
       "   'correct': True,\n",
       "   'deleted': False,\n",
       "   'alternative': False,\n",
       "   'killed': False,\n",
       "   'meta_anns': {'merged': {'name': 'merged',\n",
       "     'validated': True,\n",
       "     'accuracy': 1.0,\n",
       "     'value': 'lv_sys_func_normal'}}},\n",
       "  {'user': 'BVE',\n",
       "   'cui': 123,\n",
       "   'id': 3,\n",
       "   'start': 37,\n",
       "   'end': 69,\n",
       "   'value': 'Geen belangrijke klepafwijkingen',\n",
       "   'validated': True,\n",
       "   'correct': True,\n",
       "   'deleted': False,\n",
       "   'alternative': False,\n",
       "   'killed': False,\n",
       "   'meta_anns': {'merged': {'name': 'merged',\n",
       "     'validated': True,\n",
       "     'accuracy': 1.0,\n",
       "     'value': 'aortic_valve_native_regurgitation_not_present'}}},\n",
       "  {'user': 'BVE',\n",
       "   'cui': 123,\n",
       "   'id': 4,\n",
       "   'start': 37,\n",
       "   'end': 69,\n",
       "   'value': 'Geen belangrijke klepafwijkingen',\n",
       "   'validated': True,\n",
       "   'correct': True,\n",
       "   'deleted': False,\n",
       "   'alternative': False,\n",
       "   'killed': False,\n",
       "   'meta_anns': {'merged': {'name': 'merged',\n",
       "     'validated': True,\n",
       "     'accuracy': 1.0,\n",
       "     'value': 'aortic_valve_native_regurgitation_not_present'}}},\n",
       "  {'user': 'BVE',\n",
       "   'cui': 123,\n",
       "   'id': 5,\n",
       "   'start': 37,\n",
       "   'end': 69,\n",
       "   'value': 'Geen belangrijke klepafwijkingen',\n",
       "   'validated': True,\n",
       "   'correct': True,\n",
       "   'deleted': False,\n",
       "   'alternative': False,\n",
       "   'killed': False,\n",
       "   'meta_anns': {'merged': {'name': 'merged',\n",
       "     'validated': True,\n",
       "     'accuracy': 1.0,\n",
       "     'value': 'mitral_valve_native_regurgitation_not_present'}}},\n",
       "  {'user': 'BVE',\n",
       "   'cui': 123,\n",
       "   'id': 6,\n",
       "   'start': 37,\n",
       "   'end': 70,\n",
       "   'value': 'Geen belangrijke klepafwijkingen.',\n",
       "   'validated': True,\n",
       "   'correct': True,\n",
       "   'deleted': False,\n",
       "   'alternative': False,\n",
       "   'killed': False,\n",
       "   'meta_anns': {'merged': {'name': 'merged',\n",
       "     'validated': True,\n",
       "     'accuracy': 1.0,\n",
       "     'value': 'aortic_valve_native_stenosis_not_present'}}}],\n",
       " 'predicted': {(13,\n",
       "   36): {'aortic_regurgitation': 'aortic_valve_native_regurgitation_not_present', 'conf_aortic_regurgitation': 0.9956185221672058, 'aortic_stenosis': 'aortic_valve_native_stenosis_not_present', 'conf_aortic_stenosis': 0.9998868703842163, 'diastolic_dysfunction': 'lv_dias_func_normal', 'conf_diastolic_dysfunction': 0.9981829524040222, 'lv_dil': 'lv_dil_normal', 'conf_lv_dil': 0.9999724626541138, 'lv_syst_func': 'lv_sys_func_normal', 'conf_lv_syst_func': 0.9999078512191772, 'mitral_regurgitation': 'mitral_valve_native_regurgitation_not_present', 'conf_mitral_regurgitation': 0.9996254444122314, 'Negation': 'not negated', 'conf_Negation': 0.9994731545448303, 'pe': 'pe', 'conf_pe': 0.5123183727264404, 'rv_dil': 'rv_dil_normal', 'conf_rv_dil': 0.9968216419219971, 'rv_syst_func': 'rv_sys_func_normal', 'conf_rv_syst_func': 0.9999475479125977, 'tricuspid_regurgitation': 'tricuspid_valve_native_regurgitation_not_present', 'conf_tricuspid_regurgitation': 0.9995418787002563, 'wma': 'wma_not_present', 'conf_wma': 0.9999594688415527},\n",
       "  (37,\n",
       "   70): {'aortic_regurgitation': 'aortic_valve_native_regurgitation_not_present', 'conf_aortic_regurgitation': 0.9996758699417114, 'aortic_stenosis': 'aortic_valve_native_stenosis_not_present', 'conf_aortic_stenosis': 0.9998867511749268, 'diastolic_dysfunction': 'lv_dias_func_normal', 'conf_diastolic_dysfunction': 0.9998898506164551, 'lv_dil': 'lv_dil_normal', 'conf_lv_dil': 0.9999793767929077, 'lv_syst_func': 'lv_sys_func_moderate', 'conf_lv_syst_func': 0.6011859774589539, 'mitral_regurgitation': 'mitral_valve_native_regurgitation_not_present', 'conf_mitral_regurgitation': 0.9994988441467285, 'Negation': 'negated', 'conf_Negation': 0.980500340461731, 'pe': 'pe_not_present', 'conf_pe': 0.9996566772460938, 'rv_dil': 'rv_dil_normal', 'conf_rv_dil': 0.9999605417251587, 'rv_syst_func': 'rv_sys_func_normal', 'conf_rv_syst_func': 0.9968955516815186, 'tricuspid_regurgitation': 'tricuspid_valve_native_regurgitation_not_present', 'conf_tricuspid_regurgitation': 0.9993791580200195, 'wma': 'wma_not_present', 'conf_wma': 0.9999908208847046}}}"
      ]
     },
     "execution_count": 25,
     "metadata": {},
     "output_type": "execute_result"
    }
   ],
   "source": [
    "comparison_list_with_annotations_present[0]"
   ]
  },
  {
   "cell_type": "code",
   "execution_count": 26,
   "metadata": {},
   "outputs": [
    {
     "name": "stderr",
     "output_type": "stream",
     "text": [
      "100%|██████████| 952/952 [00:00<00:00, 47603.45it/s]\n"
     ]
    }
   ],
   "source": [
    "def get_pred_list(pred_dict: dict=None):\n",
    "    return [v for k,v in pred_dict.items() if 'conf_' not in k]\n",
    "    \n",
    "span_suggester_comparison_list = []\n",
    "for d in tqdm(comparison_list_with_annotations_present):\n",
    "    anns = d['annotations']\n",
    "    span_cat_list = []\n",
    "    for ann in anns:\n",
    "        span = (ann['start'], ann['end'])\n",
    "        class_val = ann['meta_anns']['merged']['value']\n",
    "        span_cat_list.append((span, class_val))\n",
    "    \n",
    "    pred_list = []\n",
    "    for k, pred in d['predicted'].items():\n",
    "        pred_list.append((k, get_pred_list(pred)))\n",
    "    \n",
    "    span_suggester_comparison_list.append([span_cat_list, pred_list])"
   ]
  },
  {
   "cell_type": "code",
   "execution_count": 27,
   "metadata": {},
   "outputs": [],
   "source": [
    "# We want to get the coverage of spans -> a count of all (partially) overlapping spans\n",
    "# We want to get the token overlap of covered spans (Jaccard?)\n",
    "# span overlap count\n",
    "\n",
    "def _tuple_overlap(tL, tR):\n",
    "    # tL: tuple(begin, end)\n",
    "    # tR: tuple(begin, end)\n",
    "    tLrange = set(range(*tL))\n",
    "    tRrange = set(range(*tR))\n",
    "               \n",
    "    InterSection = len(tLrange.intersection(tRrange))\n",
    "    Union = len(tLrange.union(tRrange))\n",
    "    \n",
    "    return InterSection/Union if Union>0 else np.nan\n",
    "\n",
    "def span_overlap_counter(labeled_spans, reversed=False):\n",
    "    # label_spans: list[[list[((begin,end), label)], list[((begin,end), [labels])]]]\n",
    "    OverlapList = []\n",
    "    for span_labs in labeled_spans:\n",
    "        span_set_medcat = set()\n",
    "        span_set_labeled = set()\n",
    "        for lab_span in span_labs[0]:\n",
    "            span_set_labeled.add(lab_span[0])\n",
    "        \n",
    "        for med_span in span_labs[1]:\n",
    "            span_set_medcat.add(med_span[0])\n",
    "        \n",
    "        # check overlap\n",
    "        jaccard_indices = []\n",
    "        if reversed:\n",
    "            left_spans = span_set_medcat\n",
    "            right_spans = span_set_labeled          \n",
    "        else:\n",
    "            left_spans = span_set_labeled\n",
    "            right_spans = span_set_medcat\n",
    "        \n",
    "        for spanL in left_spans:\n",
    "            _jaccard_indices = []            \n",
    "            for spanR in right_spans:\n",
    "                _jaccard_indices.append(_tuple_overlap(spanL, spanR))\n",
    "            try:\n",
    "                max_ = max(_jaccard_indices)\n",
    "            except:\n",
    "                max_ = np.nan\n",
    "            jaccard_indices.append(max_)\n",
    "        OverlapList.append(jaccard_indices)\n",
    "    return OverlapList\n",
    "\n",
    "def span_overlap_counter_with_assignment(labeled_spans):\n",
    "    # label_spans: list[[list[((begin,end), label)], list[((begin,end), [labels])]]]\n",
    "    OverlapList = []\n",
    "    for span_labs in labeled_spans:\n",
    "        span_set_medcat = set()\n",
    "        span_dict_labeled = defaultdict(set)\n",
    "        for lab_span in span_labs[0]:\n",
    "            span_dict_labeled[lab_span[1]].add(lab_span[0])\n",
    "        \n",
    "        for med_span in span_labs[1]:\n",
    "            span_set_medcat.add(med_span[0])\n",
    "        \n",
    "        # check overlap\n",
    "        jaccard_indices = defaultdict(list)\n",
    "        for spanClass, spanLabs in span_dict_labeled.items():\n",
    "            for spanLab in spanLabs:                         \n",
    "                _jaccard_indices = []   \n",
    "                for spanMedcat in span_set_medcat:\n",
    "                    _jaccard_indices.append(_tuple_overlap(spanLab, spanMedcat))\n",
    "                try:\n",
    "                    max_ = max(_jaccard_indices)\n",
    "                except:\n",
    "                    max_ = np.nan\n",
    "                jaccard_indices[spanClass].append(max_)\n",
    "        OverlapList.append(jaccard_indices)\n",
    "    return OverlapList\n",
    "    "
   ]
  },
  {
   "cell_type": "code",
   "execution_count": 44,
   "metadata": {},
   "outputs": [
    {
     "data": {
      "text/plain": [
       "defaultdict(<function __main__.<lambda>()>,\n",
       "            {'rv_syst_func': defaultdict(int, {'rv_sys_func_normal': 0})})"
      ]
     },
     "execution_count": 44,
     "metadata": {},
     "output_type": "execute_result"
    }
   ],
   "source": [
    "docDict"
   ]
  },
  {
   "cell_type": "code",
   "execution_count": 64,
   "metadata": {},
   "outputs": [
    {
     "data": {
      "text/plain": [
       "((37, 69), 'tricuspid_valve_native_regurgitation_not_present')"
      ]
     },
     "execution_count": 64,
     "metadata": {},
     "output_type": "execute_result"
    }
   ],
   "source": [
    "span_suggester_comparison_list[0][0][0]"
   ]
  },
  {
   "cell_type": "code",
   "execution_count": 75,
   "metadata": {},
   "outputs": [],
   "source": [
    "# end-to-end performance, requires an implicit \"no label\" label for consistency\n",
    "# assuming one-versus-all for scoring\n",
    "# tp: present and pos pred & pos lab\n",
    "# tn: present and neg pred & neg lab (i.e. not a particular class value)\n",
    "# fp: present and pos pred & neg lab (i.e. not a particular class value)\n",
    "# fn: present and neg pred & neg lab \n",
    "# The only difference with the exact matching is that we add a negative label called \"no label\"\n",
    "\n",
    "'''\n",
    "ConfusionDict = {'Class': {\n",
    "    'ClassValue1': {\n",
    "        'fp': \n",
    "        'fn': \n",
    "        'tp': \n",
    "        'tn': \n",
    "    } \n",
    "}}\n",
    "'''\n",
    "# from true -> predicted \n",
    "##########################\n",
    "min_jacc = 0.5 # This is somewhat arbitrary: caveat it is :)\n",
    "totList = []\n",
    "for comp in span_suggester_comparison_list:\n",
    "    docDict = defaultdict(lambda: defaultdict(lambda : defaultdict(int)))\n",
    "    conc_true_list = defaultdict(list)\n",
    "    for (tTrue_l, tTrue_r), True_class_value in comp[0]:\n",
    "        conc_true_list[(tTrue_l, tTrue_r)].append(True_class_value)\n",
    "        \n",
    "    for tTrue, True_labs in conc_true_list.items():\n",
    "        # check if there is an overlapping span (with some minimum Jaccard)\n",
    "        _classes = [ClassMap.get(True_lab) for True_lab in True_labs] \n",
    "        for i, _c in enumerate(_classes):\n",
    "            found = False\n",
    "            if (_c is not None) & (isinstance(_c, str)):        \n",
    "                for tPred, Pred_labs in comp[1]:\n",
    "                    if _tuple_overlap(tTrue, tPred)>min_jacc:                        \n",
    "                        if True_labs[i] in Pred_labs:\n",
    "                            docDict[_c][True_labs[i]]['tp'] += 1\n",
    "                            # fp for all other class values in Pred_labs?\n",
    "                            for pred_lab in Pred_labs:\n",
    "                               if pred_lab not in True_labs:\n",
    "                                   __c = ClassMap.get(pred_lab)\n",
    "                                   if (__c is not None) & (isinstance(__c, str)):\n",
    "                                       docDict[__c][pred_lab]['fp'] += 1 \n",
    "                            found = True\n",
    "                        else:\n",
    "                            docDict[_c][True_class_value]['fn'] += 1\n",
    "                if not found:\n",
    "                    docDict[_c][True_class_value]['fn'] += 1\n",
    "\n",
    "    totList.append(docDict)\n",
    "    \n",
    "# collect per class per class value the amount of tp, fp, fn\n",
    "finalDict = defaultdict(lambda: defaultdict(lambda : defaultdict(int)))\n",
    "for d in totList:\n",
    "    for k,v in d.items():\n",
    "        for _k, _v in v.items():\n",
    "            for __k, __v in _v.items():\n",
    "                finalDict[k][_k][__k] += __v"
   ]
  },
  {
   "cell_type": "code",
   "execution_count": 88,
   "metadata": {},
   "outputs": [],
   "source": [
    "# given the tp, fp, fn the precision, recall, f1 can be calculated\n",
    "eps = 1e-7\n",
    "precision = lambda tp,fp: tp/(tp+fp+eps)\n",
    "recall = lambda tp,fn: tp/(tp+fn+eps)\n",
    "f1 = lambda p,r: 2*p*r/(p+r+eps)"
   ]
  },
  {
   "cell_type": "code",
   "execution_count": 91,
   "metadata": {},
   "outputs": [],
   "source": [
    "scoreDict = defaultdict(lambda: defaultdict(lambda : defaultdict(int)))\n",
    "for k,v in finalDict.items():\n",
    "    for _k, _v in v.items():\n",
    "        fp = _v['fp'] if not isinstance(_v['fp'], dict) else 0\n",
    "        fn = _v['fn'] if not isinstance(_v['fn'], dict) else 0\n",
    "        tp = _v['tp'] if not isinstance(_v['tp'], dict) else 0\n",
    "        totCount = fp + fn + tp        \n",
    "        prec = precision(tp,fp)\n",
    "        rec = recall(tp,fn)\n",
    "        scoreDict[k][_k]['count'] = totCount\n",
    "        scoreDict[k][_k]['precision'] = prec\n",
    "        scoreDict[k][_k]['recall'] = rec\n",
    "        scoreDict[k][_k]['f1'] = f1(prec,rec)"
   ]
  },
  {
   "cell_type": "code",
   "execution_count": 96,
   "metadata": {},
   "outputs": [],
   "source": [
    "classScores = defaultdict(lambda: defaultdict(float))\n",
    "for k,v in scoreDict.items():\n",
    "    totCount = 0\n",
    "    precF = 0\n",
    "    recF = 0\n",
    "    f1F = 0\n",
    "    for _k, _v in v.items():\n",
    "        totCount += _v['count']\n",
    "        precF += _v['precision']*_v['count']\n",
    "        recF += _v['recall']*_v['count']\n",
    "        f1F += _v['f1']*_v['count']\n",
    "    classScores[k]['precision'] = precF/totCount\n",
    "    classScores[k]['recall'] = recF/totCount\n",
    "    classScores[k]['f1'] = f1F/totCount"
   ]
  },
  {
   "cell_type": "code",
   "execution_count": 97,
   "metadata": {},
   "outputs": [
    {
     "data": {
      "text/plain": [
       "defaultdict(<function __main__.<lambda>()>,\n",
       "            {'aortic_regurgitation': defaultdict(float,\n",
       "                         {'precision': 0.1010059750466348,\n",
       "                          'recall': 0.8430611588916136,\n",
       "                          'f1': 0.17743579602299414}),\n",
       "             'aortic_stenosis': defaultdict(float,\n",
       "                         {'precision': 0.07198789396666393,\n",
       "                          'recall': 0.4592650659665236,\n",
       "                          'f1': 0.12438773964699062}),\n",
       "             'diastolic_dysfunction': defaultdict(float,\n",
       "                         {'precision': 0.08899676371946863,\n",
       "                          'recall': 0.9607605159354639,\n",
       "                          'f1': 0.15192714775391253}),\n",
       "             'lv_dil': defaultdict(float,\n",
       "                         {'precision': 0.0833650551343154,\n",
       "                          'recall': 0.9044537480867266,\n",
       "                          'f1': 0.14966438021288783}),\n",
       "             'lv_syst_func': defaultdict(float,\n",
       "                         {'precision': 0.28630396652041884,\n",
       "                          'recall': 0.7786481628259123,\n",
       "                          'f1': 0.3948567554432873}),\n",
       "             'pe': defaultdict(float,\n",
       "                         {'precision': 0.04049837841556043,\n",
       "                          'recall': 0.74921960808286,\n",
       "                          'f1': 0.07661840417698106}),\n",
       "             'rv_dil': defaultdict(float,\n",
       "                         {'precision': 0.03970851488595698,\n",
       "                          'recall': 0.5689077150969346,\n",
       "                          'f1': 0.07226562240423046}),\n",
       "             'rv_syst_func': defaultdict(float,\n",
       "                         {'precision': 0.14961893297241807,\n",
       "                          'recall': 0.9370236646620911,\n",
       "                          'f1': 0.25684024770935215}),\n",
       "             'mitral_regurgitation': defaultdict(float,\n",
       "                         {'precision': 0.142756909125241,\n",
       "                          'recall': 0.7955503921138766,\n",
       "                          'f1': 0.23447827325472625})})"
      ]
     },
     "execution_count": 97,
     "metadata": {},
     "output_type": "execute_result"
    }
   ],
   "source": [
    "classScores"
   ]
  },
  {
   "cell_type": "code",
   "execution_count": 85,
   "metadata": {},
   "outputs": [],
   "source": [
    "OverlapJaccardIndices = span_overlap_counter(span_suggester_comparison_list, reversed=False)\n",
    "OverlapJaccardIndicesReversed = span_overlap_counter(span_suggester_comparison_list, reversed=True)\n",
    "OverlapJaccardClassIndices = span_overlap_counter_with_assignment(span_suggester_comparison_list)"
   ]
  },
  {
   "cell_type": "code",
   "execution_count": 73,
   "metadata": {},
   "outputs": [],
   "source": [
    "PerClassValueJaccard = defaultdict(list)\n",
    "for d in OverlapJaccardClassIndices:\n",
    "    for k,v in d.items():\n",
    "        PerClassValueJaccard[k].extend(v)"
   ]
  },
  {
   "cell_type": "code",
   "execution_count": 81,
   "metadata": {},
   "outputs": [],
   "source": [
    "PerClassJaccard = defaultdict(list)\n",
    "failed_cvs = set()\n",
    "for cv, v in PerClassValueJaccard.items():\n",
    "    try:\n",
    "        PerClassJaccard[ClassMap[cv]].extend(v)\n",
    "    except:\n",
    "        failed_cvs.add(cv)"
   ]
  },
  {
   "cell_type": "code",
   "execution_count": 88,
   "metadata": {},
   "outputs": [
    {
     "name": "stdout",
     "output_type": "stream",
     "text": [
      "Mean document coverage: nan, with 0.6787009164851803 over all tokens\n"
     ]
    },
    {
     "name": "stderr",
     "output_type": "stream",
     "text": [
      "C:\\Users\\bes3\\AppData\\Local\\Temp\\ipykernel_25464\\3323372547.py:1: RuntimeWarning: Mean of empty slice\n",
      "  MeanPerDocument = [np.nanmean(v) for v in OverlapJaccardIndices]\n",
      "C:\\Users\\bes3\\AppData\\Local\\Temp\\ipykernel_25464\\3323372547.py:4: RuntimeWarning: Mean of empty slice\n",
      "  MeanPerDocumentRev = [np.nanmean(v) for v in OverlapJaccardIndicesReversed]\n"
     ]
    },
    {
     "data": {
      "text/plain": [
       "Text(0.5, 1.0, 'Span overlap per document')"
      ]
     },
     "execution_count": 88,
     "metadata": {},
     "output_type": "execute_result"
    },
    {
     "data": {
      "image/png": "[encoded data removed]",
      "text/plain": [
       "<Figure size 432x288 with 1 Axes>"
      ]
     },
     "metadata": {
      "needs_background": "light"
     },
     "output_type": "display_data"
    }
   ],
   "source": [
    "MeanPerDocument = [np.nanmean(v) for v in OverlapJaccardIndices]\n",
    "MeanOverall = np.nanmean([_v for v in OverlapJaccardIndices for _v in v])\n",
    "\n",
    "MeanPerDocumentRev = [np.nanmean(v) for v in OverlapJaccardIndicesReversed]\n",
    "MeanOverallRev = np.nanmean([_v for v in OverlapJaccardIndicesReversed for _v in v])\n",
    "\n",
    "\n",
    "print(f\"Mean document coverage: {np.mean(MeanPerDocument)}, with {MeanOverall} over all tokens\")\n",
    "\n",
    "plt.hist(MeanPerDocument, bins=50, color='green', histtype='step', lw=2);\n",
    "plt.hist(MeanPerDocumentRev, bins=50, color='red', histtype='step', lw=2);\n",
    "\n",
    "plt.title(\"Span overlap per document\")"
   ]
  },
  {
   "cell_type": "code",
   "execution_count": 89,
   "metadata": {},
   "outputs": [
    {
     "data": {
      "text/plain": [
       "[{'class': 'rv_syst_func', 'mean': 0.7545531942049616},\n",
       " {'class': 'lv_syst_func', 'mean': 0.7214597347756085},\n",
       " {'class': 'aortic_regurgitation', 'mean': 0.5634756585386702},\n",
       " {'class': 'mitral_regurgitation', 'mean': 0.6458413279230175},\n",
       " {'class': 'aortic_stenosis', 'mean': 0.4833450543268532},\n",
       " {'class': 'lv_dil', 'mean': 0.46552535384586846},\n",
       " {'class': 'rv_dil', 'mean': 0.320169994753083},\n",
       " {'class': 'diastolic_dysfunction', 'mean': 0.7830192157449651},\n",
       " {'class': 'pe', 'mean': 0.7546764486132639}]"
      ]
     },
     "execution_count": 89,
     "metadata": {},
     "output_type": "execute_result"
    }
   ],
   "source": [
    "[{'class': k, 'mean': np.nanmean(v)} for k,v in PerClassJaccard.items()]"
   ]
  },
  {
   "cell_type": "code",
   "execution_count": null,
   "metadata": {},
   "outputs": [],
   "source": [
    "MinMean = 0.25\n",
    "CheckRes = [{'Jaccard': v, \n",
    "             'res': comparison_list_with_annotations_present[i]} \n",
    "            for i,v in enumerate(OverlapJaccardIndices)\n",
    "            if (np.mean(v)<MinMean) | (np.isnan(np.mean(v)))]"
   ]
  },
  {
   "cell_type": "code",
   "execution_count": null,
   "metadata": {},
   "outputs": [],
   "source": [
    "print(f\"We have {len(CheckRes)} documents to check\")"
   ]
  },
  {
   "cell_type": "code",
   "execution_count": null,
   "metadata": {},
   "outputs": [],
   "source": [
    "CheckRes[0]['res']['predicted']"
   ]
  },
  {
   "cell_type": "code",
   "execution_count": null,
   "metadata": {},
   "outputs": [],
   "source": [
    "# TODO: check maximum length of the spans detected with MedCAT."
   ]
  }
 ],
 "metadata": {
  "kernelspec": {
   "display_name": "Python 3 (nlp_310)",
   "language": "python",
   "name": "python3_nlp"
  },
  "language_info": {
   "codemirror_mode": {
    "name": "ipython",
    "version": 3
   },
   "file_extension": ".py",
   "mimetype": "text/x-python",
   "name": "python",
   "nbconvert_exporter": "python",
   "pygments_lexer": "ipython3",
   "version": "3.10.5"
  },
  "vscode": {
   "interpreter": {
    "hash": "01a14be5a308536305ca6f1be76534a0246168409855a6497a1510fcfd428ed6"
   }
  }
 },
 "nbformat": 4,
 "nbformat_minor": 4
}
