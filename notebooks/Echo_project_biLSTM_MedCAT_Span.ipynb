{
 "cells": [
  {
   "cell_type": "code",
   "execution_count": 1,
   "metadata": {},
   "outputs": [],
   "source": [
    "# add autoreload\n",
    "%load_ext autoreload\n",
    "%autoreload 2\n",
    "import os\n",
    "import sys\n",
    "\n",
    "import numpy as np\n",
    "import pandas as pd\n",
    "import scipy as sc\n",
    "\n",
    "from collections import defaultdict\n",
    "import re\n",
    "import deduce\n",
    "\n",
    "from tqdm import tqdm\n",
    "import seaborn as sns\n",
    "\n",
    "from gensim.models import phrases"
   ]
  },
  {
   "attachments": {},
   "cell_type": "markdown",
   "metadata": {},
   "source": [
    "# Context:\n",
    "* $100$ K echocardiographic reports available. \n",
    "* we want to extract diagnoses regarding the left-ventricle function\n",
    "* we have $5000$ reports with labeled spans.\n",
    "\n",
    "# Goal:\n",
    "Train a \"model\" that can\n",
    "1. identify the spans\n",
    "2. classify the spans\n",
    "\n",
    "# Approach: MedCAT - MetaCAT\n",
    "\n",
    "## Two-step approach\n",
    "\n",
    "* unsupervised training on the documents\n",
    "* add a single custom entity with a custom identifier\n",
    "* train a model to identify the custom entities\n",
    "* supervised training on the meta-annotations of the entities\n",
    "\n",
    "## One-step approach\n",
    "\n",
    "* unsupervised training on the documents\n",
    "* add custom entities based on the spans and their labels\n",
    "* train a model to identify the custom entities\n",
    "\n",
    "# Approach: biLSTM/transformer\n",
    "\n",
    "## Two-step approach\n",
    "\n",
    "* Train a model to identify the spans: self-supervision by random selecting non-span ranges as negative examples\n",
    "* Train a model to classify the spans: supervised based on the labeled spans \n",
    "* Combine the model in one pipeline\n",
    "\n",
    "## One-step approach\n",
    "* Assign a label to each span\n",
    "* Train a model to identify the spans"
   ]
  },
  {
   "attachments": {},
   "cell_type": "markdown",
   "metadata": {},
   "source": [
    "##  Load Medcat modelpack"
   ]
  },
  {
   "cell_type": "code",
   "execution_count": 36,
   "metadata": {},
   "outputs": [],
   "source": [
    "from medcat.cat import CAT\n",
    "from medcat.vocab import Vocab\n",
    "from medcat.cdb import CDB\n",
    "from medcat.config import Config\n",
    "from medcat.meta_cat import MetaCAT\n",
    "\n",
    "medcat_dir = os.getenv('medcat_pack')\n",
    "pack_location = 'umls-dutch-v1-10_echo'\n"
   ]
  },
  {
   "attachments": {},
   "cell_type": "markdown",
   "metadata": {},
   "source": [
    "# Load texts"
   ]
  },
  {
   "cell_type": "code",
   "execution_count": 38,
   "metadata": {},
   "outputs": [],
   "source": [
    "echo_path = 'T://lab_research/RES-Folder-UPOD/Echo_label/E_ResearchData/2_ResearchData'\n",
    "# load the jsonl in a dataframe\n",
    "texts = pd.read_json(os.path.join(echo_path, 'outdb_140423.jsonl'), lines=True)"
   ]
  },
  {
   "attachments": {},
   "cell_type": "markdown",
   "metadata": {},
   "source": [
    "## Unsupervised learning for NER+L"
   ]
  },
  {
   "cell_type": "code",
   "execution_count": 39,
   "metadata": {},
   "outputs": [
    {
     "name": "stderr",
     "output_type": "stream",
     "text": [
      "d:\\VENVS\\Envs\\nlp_310\\lib\\site-packages\\spacy\\util.py:887: UserWarning: [W095] Model 'nl_core_news_lg' (3.1.0) was trained with spaCy v3.1 and may not be 100% compatible with the current version (3.5.2). If you see errors or degraded performance, download a newer compatible model or retrain your custom model with the current spaCy version. For more details and available updates, run: python -m spacy validate\n",
      "  warnings.warn(warn_msg)\n"
     ]
    },
    {
     "data": {
      "text/plain": [
       "'medcat_model_pack_0ac8cc93d015ac50'"
      ]
     },
     "execution_count": 39,
     "metadata": {},
     "output_type": "execute_result"
    }
   ],
   "source": [
    "MCAT = CAT.load_model_pack(os.path.join(medcat_dir, pack_location))\n",
    "\n",
    "MCAT.train(texts.text.values, \n",
    "            nepochs=3, \n",
    "            progress_print=10,  \n",
    "            is_resumed=True)\n",
    "MCAT.create_model_pack(medcat_dir + \"/umls-dutch-v1-10_echo\")"
   ]
  },
  {
   "attachments": {},
   "cell_type": "markdown",
   "metadata": {},
   "source": [
    "### Add LVEF diagnosis spans from Prodigy annotations"
   ]
  },
  {
   "cell_type": "code",
   "execution_count": 49,
   "metadata": {},
   "outputs": [],
   "source": [
    "span_set = set()\n",
    "span_list = []\n",
    "for k, (_spans, text) in enumerate(zip(texts[texts.spans.notna()].spans.values,\n",
    "                                       texts[texts.spans.notna()].text.values)):\n",
    "    for _span in _spans:\n",
    "        start, end = _span['start'], _span['end']\n",
    "        span_set.add(text[start:end])\n",
    "        span_list.append(text[start:end])"
   ]
  },
  {
   "cell_type": "code",
   "execution_count": 57,
   "metadata": {},
   "outputs": [
    {
     "name": "stderr",
     "output_type": "stream",
     "text": [
      "100%|██████████| 2432/2432 [00:30<00:00, 78.72it/s]\n"
     ]
    }
   ],
   "source": [
    "for _span in tqdm(span_set):\n",
    "    MCAT.add_and_train_concept(cui='LVEF_SPAN',\n",
    "                            name=_span, \n",
    "                            do_add_concept=True,\n",
    "                            negative=False,\n",
    "                           )"
   ]
  },
  {
   "attachments": {},
   "cell_type": "markdown",
   "metadata": {},
   "source": [
    "## Supervised learning for NER+L"
   ]
  },
  {
   "cell_type": "code",
   "execution_count": 59,
   "metadata": {},
   "outputs": [
    {
     "data": {
      "application/json": {
       "ascii": false,
       "bar_format": null,
       "colour": null,
       "elapsed": 0.026499032974243164,
       "initial": 0,
       "n": 0,
       "ncols": null,
       "nrows": null,
       "postfix": null,
       "prefix": "Stats project",
       "rate": null,
       "total": 1,
       "unit": "it",
       "unit_divisor": 1000,
       "unit_scale": false
      },
      "application/vnd.jupyter.widget-view+json": {
       "model_id": "f64439929b9a432f825a8412b0dfb79a",
       "version_major": 2,
       "version_minor": 0
      },
      "text/plain": [
       "Stats project:   0%|          | 0/1 [00:00<?, ?it/s]"
      ]
     },
     "metadata": {},
     "output_type": "display_data"
    },
    {
     "data": {
      "application/json": {
       "ascii": false,
       "bar_format": null,
       "colour": null,
       "elapsed": 0.036498308181762695,
       "initial": 0,
       "n": 0,
       "ncols": null,
       "nrows": null,
       "postfix": null,
       "prefix": "Stats document",
       "rate": null,
       "total": 31,
       "unit": "it",
       "unit_divisor": 1000,
       "unit_scale": false
      },
      "application/vnd.jupyter.widget-view+json": {
       "model_id": "e55e6dceeef84d2a9b457e346a1cf6b0",
       "version_major": 2,
       "version_minor": 0
      },
      "text/plain": [
       "Stats document:   0%|          | 0/31 [00:00<?, ?it/s]"
      ]
     },
     "metadata": {},
     "output_type": "display_data"
    },
    {
     "name": "stdout",
     "output_type": "stream",
     "text": [
      "Epoch: 0, Prec: 0.6561085972850679, Rec: 0.7512953367875648, F1: 0.7004830917874396\n",
      "\n",
      "Docs with false positives: 2; 6; 25; 24; 5; 9; 19; 14; 4; 1\n",
      "\n",
      "Docs with false negatives: 2; 6; 25; 24; 5; 28; 9; 19; 14; 11\n",
      "\n",
      "\n",
      "\n",
      "False Positives\n",
      "\n",
      "ef~4ch~23~bij~matig~beeldkwaliteit                                     - LVEF_SPAN            -         54\n",
      "collaps                                                                - C0332521             -          7\n",
      "tricuspidalisinsufficiëntie                                            - C0040961             -          2\n",
      "insufficiëntie van mitralisklep                                        - C0026266             -          2\n",
      "lv~met~zeer~slechte~funcdtie                                           - C0080310             -          1\n",
      "ademetionine                                                           - C0036002             -          1\n",
      "diastolische disfunctie                                                - C0520863             -          1\n",
      "normaal~rv~functie                                                     - C0080311             -          1\n",
      "prolaps van mitralisklep                                               - C0026267             -          1\n",
      "prolaps van tricuspidalisklep                                          - C0040962             -          1\n",
      "\n",
      "\n",
      "False Negatives\n",
      "\n",
      "lv~met~zeer~slechte~funcdtie                                           - C0080310             -         13\n",
      "tapse                                                                  - C3888927             -          4\n",
      "structuur van ventriculus cordis sinister                              - C0225897             -          4\n",
      "tricuspidalisinsufficiëntie                                            - C0040961             -          4\n",
      "syncope                                                                - C0039070             -          4\n",
      "collaps                                                                - C0344329             -          3\n",
      "normaal~rv~functie                                                     - C0080311             -          2\n",
      "ejectiefractie                                                         - C0489482             -          2\n",
      "insufficiëntie van mitralisklep                                        - C0026266             -          2\n",
      "linker~ventriculair~ejectiefractie                                     - C0428772             -          2\n",
      "\n",
      "\n",
      "True Positives\n",
      "\n",
      "structuur van vena cava inferior                                       - C0042458             -         17\n",
      "normaal~rv~functie                                                     - C0080311             -         13\n",
      "insufficiëntie van mitralisklep                                        - C0026266             -         10\n",
      "linker~ventriculair~ejectiefractie                                     - C0428772             -          7\n",
      "tricuspidalisinsufficiëntie                                            - C0040961             -          6\n",
      "lv~met~zeer~slechte~funcdtie                                           - C0080310             -          6\n",
      "atria~:~normaal~dimensie                                               - C0078994             -          6\n",
      "diastolische~functie                                                   - EX00001              -          5\n",
      "structuur van valva aortae                                             - C0003501             -          5\n",
      "klepinsufficiëntie                                                     - C0042300             -          4\n",
      "**************************************************************************************************************\n",
      "\n"
     ]
    },
    {
     "data": {
      "application/json": {
       "ascii": false,
       "bar_format": null,
       "colour": null,
       "elapsed": 0.035498619079589844,
       "initial": 0,
       "n": 0,
       "ncols": null,
       "nrows": null,
       "postfix": null,
       "prefix": "Epoch",
       "rate": null,
       "total": 7,
       "unit": "it",
       "unit_divisor": 1000,
       "unit_scale": false
      },
      "application/vnd.jupyter.widget-view+json": {
       "model_id": "d48b7675f6884d25a61fcee0f42962f1",
       "version_major": 2,
       "version_minor": 0
      },
      "text/plain": [
       "Epoch:   0%|          | 0/7 [00:00<?, ?it/s]"
      ]
     },
     "metadata": {},
     "output_type": "display_data"
    },
    {
     "data": {
      "application/json": {
       "ascii": false,
       "bar_format": null,
       "colour": null,
       "elapsed": 0.04049944877624512,
       "initial": 0,
       "n": 0,
       "ncols": null,
       "nrows": null,
       "postfix": null,
       "prefix": "Project",
       "rate": null,
       "total": 1,
       "unit": "it",
       "unit_divisor": 1000,
       "unit_scale": false
      },
      "application/vnd.jupyter.widget-view+json": {
       "model_id": "143104ffe55d4293bb8dc37d89e865f8",
       "version_major": 2,
       "version_minor": 0
      },
      "text/plain": [
       "Project:   0%|          | 0/1 [00:00<?, ?it/s]"
      ]
     },
     "metadata": {},
     "output_type": "display_data"
    },
    {
     "data": {
      "application/json": {
       "ascii": false,
       "bar_format": null,
       "colour": null,
       "elapsed": 0.04600214958190918,
       "initial": 0,
       "n": 0,
       "ncols": null,
       "nrows": null,
       "postfix": null,
       "prefix": "Document",
       "rate": null,
       "total": 31,
       "unit": "it",
       "unit_divisor": 1000,
       "unit_scale": false
      },
      "application/vnd.jupyter.widget-view+json": {
       "model_id": "8b77ec312a024aae9c07c3cdf308e43e",
       "version_major": 2,
       "version_minor": 0
      },
      "text/plain": [
       "Document:   0%|          | 0/31 [00:00<?, ?it/s]"
      ]
     },
     "metadata": {},
     "output_type": "display_data"
    },
    {
     "data": {
      "application/json": {
       "ascii": false,
       "bar_format": null,
       "colour": null,
       "elapsed": 0.037494659423828125,
       "initial": 0,
       "n": 0,
       "ncols": null,
       "nrows": null,
       "postfix": null,
       "prefix": "Stats project",
       "rate": null,
       "total": 1,
       "unit": "it",
       "unit_divisor": 1000,
       "unit_scale": false
      },
      "application/vnd.jupyter.widget-view+json": {
       "model_id": "70cd0d210bc4481e98d2bff84803dc8f",
       "version_major": 2,
       "version_minor": 0
      },
      "text/plain": [
       "Stats project:   0%|          | 0/1 [00:00<?, ?it/s]"
      ]
     },
     "metadata": {},
     "output_type": "display_data"
    },
    {
     "data": {
      "application/json": {
       "ascii": false,
       "bar_format": null,
       "colour": null,
       "elapsed": 0.04050254821777344,
       "initial": 0,
       "n": 0,
       "ncols": null,
       "nrows": null,
       "postfix": null,
       "prefix": "Stats document",
       "rate": null,
       "total": 31,
       "unit": "it",
       "unit_divisor": 1000,
       "unit_scale": false
      },
      "application/vnd.jupyter.widget-view+json": {
       "model_id": "37876bfdd58843e2807dbb385b98ec03",
       "version_major": 2,
       "version_minor": 0
      },
      "text/plain": [
       "Stats document:   0%|          | 0/31 [00:00<?, ?it/s]"
      ]
     },
     "metadata": {},
     "output_type": "display_data"
    },
    {
     "name": "stdout",
     "output_type": "stream",
     "text": [
      "Epoch: 1, Prec: 0.6535087719298246, Rec: 0.772020725388601, F1: 0.7078384798099762\n",
      "\n",
      "Docs with false positives: 2; 6; 25; 24; 5; 27; 9; 19; 14; 4\n",
      "\n",
      "Docs with false negatives: 2; 6; 25; 24; 5; 28; 9; 19; 14; 11\n",
      "\n",
      "\n",
      "\n",
      "False Positives\n",
      "\n",
      "ef~4ch~23~bij~matig~beeldkwaliteit                                     - LVEF_SPAN            -         54\n",
      "collaps                                                                - C0332521             -          7\n",
      "tapse                                                                  - C3888927             -          3\n",
      "tricuspidalisinsufficiëntie                                            - C0040961             -          2\n",
      "insufficiëntie van mitralisklep                                        - C0026266             -          2\n",
      "lv~met~zeer~slechte~funcdtie                                           - C0080310             -          1\n",
      "ademetionine                                                           - C0036002             -          1\n",
      "diastolische disfunctie                                                - C0520863             -          1\n",
      "normaal~rv~functie                                                     - C0080311             -          1\n",
      "prolaps van mitralisklep                                               - C0026267             -          1\n",
      "\n",
      "\n",
      "False Negatives\n",
      "\n",
      "lv~met~zeer~slechte~funcdtie                                           - C0080310             -         13\n",
      "structuur van ventriculus cordis sinister                              - C0225897             -          4\n",
      "tricuspidalisinsufficiëntie                                            - C0040961             -          4\n",
      "syncope                                                                - C0039070             -          4\n",
      "collaps                                                                - C0344329             -          3\n",
      "normaal~rv~functie                                                     - C0080311             -          2\n",
      "ejectiefractie                                                         - C0489482             -          2\n",
      "insufficiëntie van mitralisklep                                        - C0026266             -          2\n",
      "linker~ventriculair~ejectiefractie                                     - C0428772             -          2\n",
      "diastolische disfunctie                                                - C0520863             -          1\n",
      "\n",
      "\n",
      "True Positives\n",
      "\n",
      "structuur van vena cava inferior                                       - C0042458             -         17\n",
      "normaal~rv~functie                                                     - C0080311             -         13\n",
      "insufficiëntie van mitralisklep                                        - C0026266             -         10\n",
      "linker~ventriculair~ejectiefractie                                     - C0428772             -          7\n",
      "tricuspidalisinsufficiëntie                                            - C0040961             -          6\n",
      "lv~met~zeer~slechte~funcdtie                                           - C0080310             -          6\n",
      "atria~:~normaal~dimensie                                               - C0078994             -          6\n",
      "diastolische~functie                                                   - EX00001              -          5\n",
      "structuur van valva aortae                                             - C0003501             -          5\n",
      "klepinsufficiëntie                                                     - C0042300             -          4\n",
      "**************************************************************************************************************\n",
      "\n"
     ]
    },
    {
     "data": {
      "application/json": {
       "ascii": false,
       "bar_format": null,
       "colour": null,
       "elapsed": 0.07399940490722656,
       "initial": 0,
       "n": 0,
       "ncols": null,
       "nrows": null,
       "postfix": null,
       "prefix": "Project",
       "rate": null,
       "total": 1,
       "unit": "it",
       "unit_divisor": 1000,
       "unit_scale": false
      },
      "application/vnd.jupyter.widget-view+json": {
       "model_id": "d8e1ad9dc6524484a2b51da8a4b570a9",
       "version_major": 2,
       "version_minor": 0
      },
      "text/plain": [
       "Project:   0%|          | 0/1 [00:00<?, ?it/s]"
      ]
     },
     "metadata": {},
     "output_type": "display_data"
    },
    {
     "data": {
      "application/json": {
       "ascii": false,
       "bar_format": null,
       "colour": null,
       "elapsed": 0.0839993953704834,
       "initial": 0,
       "n": 0,
       "ncols": null,
       "nrows": null,
       "postfix": null,
       "prefix": "Document",
       "rate": null,
       "total": 31,
       "unit": "it",
       "unit_divisor": 1000,
       "unit_scale": false
      },
      "application/vnd.jupyter.widget-view+json": {
       "model_id": "f685a3cd577a46d59ec1efa39eb1f0cb",
       "version_major": 2,
       "version_minor": 0
      },
      "text/plain": [
       "Document:   0%|          | 0/31 [00:00<?, ?it/s]"
      ]
     },
     "metadata": {},
     "output_type": "display_data"
    },
    {
     "data": {
      "application/json": {
       "ascii": false,
       "bar_format": null,
       "colour": null,
       "elapsed": 0.07349872589111328,
       "initial": 0,
       "n": 0,
       "ncols": null,
       "nrows": null,
       "postfix": null,
       "prefix": "Stats project",
       "rate": null,
       "total": 1,
       "unit": "it",
       "unit_divisor": 1000,
       "unit_scale": false
      },
      "application/vnd.jupyter.widget-view+json": {
       "model_id": "9d110454edd6419fa1f02631b8b07c39",
       "version_major": 2,
       "version_minor": 0
      },
      "text/plain": [
       "Stats project:   0%|          | 0/1 [00:00<?, ?it/s]"
      ]
     },
     "metadata": {},
     "output_type": "display_data"
    },
    {
     "data": {
      "application/json": {
       "ascii": false,
       "bar_format": null,
       "colour": null,
       "elapsed": 0.06800317764282227,
       "initial": 0,
       "n": 0,
       "ncols": null,
       "nrows": null,
       "postfix": null,
       "prefix": "Stats document",
       "rate": null,
       "total": 31,
       "unit": "it",
       "unit_divisor": 1000,
       "unit_scale": false
      },
      "application/vnd.jupyter.widget-view+json": {
       "model_id": "e61e98eb2aca41848100037601fa46ba",
       "version_major": 2,
       "version_minor": 0
      },
      "text/plain": [
       "Stats document:   0%|          | 0/31 [00:00<?, ?it/s]"
      ]
     },
     "metadata": {},
     "output_type": "display_data"
    },
    {
     "name": "stdout",
     "output_type": "stream",
     "text": [
      "Epoch: 2, Prec: 0.6535087719298246, Rec: 0.772020725388601, F1: 0.7078384798099762\n",
      "\n",
      "Docs with false positives: 2; 6; 25; 24; 5; 27; 9; 19; 14; 4\n",
      "\n",
      "Docs with false negatives: 2; 6; 25; 24; 5; 28; 9; 19; 14; 11\n",
      "\n",
      "\n",
      "\n",
      "False Positives\n",
      "\n",
      "ef~4ch~23~bij~matig~beeldkwaliteit                                     - LVEF_SPAN            -         54\n",
      "collaps                                                                - C0332521             -          7\n",
      "tapse                                                                  - C3888927             -          3\n",
      "tricuspidalisinsufficiëntie                                            - C0040961             -          2\n",
      "insufficiëntie van mitralisklep                                        - C0026266             -          2\n",
      "lv~met~zeer~slechte~funcdtie                                           - C0080310             -          1\n",
      "ademetionine                                                           - C0036002             -          1\n",
      "diastolische disfunctie                                                - C0520863             -          1\n",
      "normaal~rv~functie                                                     - C0080311             -          1\n",
      "prolaps van mitralisklep                                               - C0026267             -          1\n",
      "\n",
      "\n",
      "False Negatives\n",
      "\n",
      "lv~met~zeer~slechte~funcdtie                                           - C0080310             -         13\n",
      "structuur van ventriculus cordis sinister                              - C0225897             -          4\n",
      "tricuspidalisinsufficiëntie                                            - C0040961             -          4\n",
      "syncope                                                                - C0039070             -          4\n",
      "collaps                                                                - C0344329             -          3\n",
      "normaal~rv~functie                                                     - C0080311             -          2\n",
      "ejectiefractie                                                         - C0489482             -          2\n",
      "insufficiëntie van mitralisklep                                        - C0026266             -          2\n",
      "linker~ventriculair~ejectiefractie                                     - C0428772             -          2\n",
      "diastolische disfunctie                                                - C0520863             -          1\n",
      "\n",
      "\n",
      "True Positives\n",
      "\n",
      "structuur van vena cava inferior                                       - C0042458             -         17\n",
      "normaal~rv~functie                                                     - C0080311             -         13\n",
      "insufficiëntie van mitralisklep                                        - C0026266             -         10\n",
      "linker~ventriculair~ejectiefractie                                     - C0428772             -          7\n",
      "tricuspidalisinsufficiëntie                                            - C0040961             -          6\n",
      "lv~met~zeer~slechte~funcdtie                                           - C0080310             -          6\n",
      "atria~:~normaal~dimensie                                               - C0078994             -          6\n",
      "diastolische~functie                                                   - EX00001              -          5\n",
      "structuur van valva aortae                                             - C0003501             -          5\n",
      "klepinsufficiëntie                                                     - C0042300             -          4\n",
      "**************************************************************************************************************\n",
      "\n"
     ]
    },
    {
     "data": {
      "application/json": {
       "ascii": false,
       "bar_format": null,
       "colour": null,
       "elapsed": 0.06299877166748047,
       "initial": 0,
       "n": 0,
       "ncols": null,
       "nrows": null,
       "postfix": null,
       "prefix": "Project",
       "rate": null,
       "total": 1,
       "unit": "it",
       "unit_divisor": 1000,
       "unit_scale": false
      },
      "application/vnd.jupyter.widget-view+json": {
       "model_id": "34cada3034f24957bb26b4443ca1e7c9",
       "version_major": 2,
       "version_minor": 0
      },
      "text/plain": [
       "Project:   0%|          | 0/1 [00:00<?, ?it/s]"
      ]
     },
     "metadata": {},
     "output_type": "display_data"
    },
    {
     "data": {
      "application/json": {
       "ascii": false,
       "bar_format": null,
       "colour": null,
       "elapsed": 0.07400059700012207,
       "initial": 0,
       "n": 0,
       "ncols": null,
       "nrows": null,
       "postfix": null,
       "prefix": "Document",
       "rate": null,
       "total": 31,
       "unit": "it",
       "unit_divisor": 1000,
       "unit_scale": false
      },
      "application/vnd.jupyter.widget-view+json": {
       "model_id": "07af8e04465145d89e0d341c8cd7b30d",
       "version_major": 2,
       "version_minor": 0
      },
      "text/plain": [
       "Document:   0%|          | 0/31 [00:00<?, ?it/s]"
      ]
     },
     "metadata": {},
     "output_type": "display_data"
    },
    {
     "data": {
      "application/json": {
       "ascii": false,
       "bar_format": null,
       "colour": null,
       "elapsed": 0.06250429153442383,
       "initial": 0,
       "n": 0,
       "ncols": null,
       "nrows": null,
       "postfix": null,
       "prefix": "Stats project",
       "rate": null,
       "total": 1,
       "unit": "it",
       "unit_divisor": 1000,
       "unit_scale": false
      },
      "application/vnd.jupyter.widget-view+json": {
       "model_id": "4249628cd6d94d23b6a70c119b936c9f",
       "version_major": 2,
       "version_minor": 0
      },
      "text/plain": [
       "Stats project:   0%|          | 0/1 [00:00<?, ?it/s]"
      ]
     },
     "metadata": {},
     "output_type": "display_data"
    },
    {
     "data": {
      "application/json": {
       "ascii": false,
       "bar_format": null,
       "colour": null,
       "elapsed": 0.07399749755859375,
       "initial": 0,
       "n": 0,
       "ncols": null,
       "nrows": null,
       "postfix": null,
       "prefix": "Stats document",
       "rate": null,
       "total": 31,
       "unit": "it",
       "unit_divisor": 1000,
       "unit_scale": false
      },
      "application/vnd.jupyter.widget-view+json": {
       "model_id": "dbcc76218ee34e7f9a23ff55f1160834",
       "version_major": 2,
       "version_minor": 0
      },
      "text/plain": [
       "Stats document:   0%|          | 0/31 [00:00<?, ?it/s]"
      ]
     },
     "metadata": {},
     "output_type": "display_data"
    },
    {
     "name": "stdout",
     "output_type": "stream",
     "text": [
      "Epoch: 3, Prec: 0.6563876651982379, Rec: 0.772020725388601, F1: 0.7095238095238094\n",
      "\n",
      "Docs with false positives: 2; 6; 25; 24; 5; 27; 9; 19; 14; 4\n",
      "\n",
      "Docs with false negatives: 2; 6; 25; 24; 5; 28; 9; 19; 14; 11\n",
      "\n",
      "\n",
      "\n",
      "False Positives\n",
      "\n",
      "ef~4ch~23~bij~matig~beeldkwaliteit                                     - LVEF_SPAN            -         54\n",
      "collaps                                                                - C0332521             -          7\n",
      "tapse                                                                  - C3888927             -          3\n",
      "tricuspidalisinsufficiëntie                                            - C0040961             -          2\n",
      "insufficiëntie van mitralisklep                                        - C0026266             -          2\n",
      "lv~met~zeer~slechte~funcdtie                                           - C0080310             -          1\n",
      "diastolische disfunctie                                                - C0520863             -          1\n",
      "normaal~rv~functie                                                     - C0080311             -          1\n",
      "prolaps van mitralisklep                                               - C0026267             -          1\n",
      "prolaps van tricuspidalisklep                                          - C0040962             -          1\n",
      "\n",
      "\n",
      "False Negatives\n",
      "\n",
      "lv~met~zeer~slechte~funcdtie                                           - C0080310             -         13\n",
      "structuur van ventriculus cordis sinister                              - C0225897             -          4\n",
      "tricuspidalisinsufficiëntie                                            - C0040961             -          4\n",
      "syncope                                                                - C0039070             -          4\n",
      "collaps                                                                - C0344329             -          3\n",
      "normaal~rv~functie                                                     - C0080311             -          2\n",
      "ejectiefractie                                                         - C0489482             -          2\n",
      "insufficiëntie van mitralisklep                                        - C0026266             -          2\n",
      "linker~ventriculair~ejectiefractie                                     - C0428772             -          2\n",
      "diastolische disfunctie                                                - C0520863             -          1\n",
      "\n",
      "\n",
      "True Positives\n",
      "\n",
      "structuur van vena cava inferior                                       - C0042458             -         17\n",
      "normaal~rv~functie                                                     - C0080311             -         13\n",
      "insufficiëntie van mitralisklep                                        - C0026266             -         10\n",
      "linker~ventriculair~ejectiefractie                                     - C0428772             -          7\n",
      "tricuspidalisinsufficiëntie                                            - C0040961             -          6\n",
      "lv~met~zeer~slechte~funcdtie                                           - C0080310             -          6\n",
      "atria~:~normaal~dimensie                                               - C0078994             -          6\n",
      "diastolische~functie                                                   - EX00001              -          5\n",
      "structuur van valva aortae                                             - C0003501             -          5\n",
      "klepinsufficiëntie                                                     - C0042300             -          4\n",
      "**************************************************************************************************************\n",
      "\n"
     ]
    },
    {
     "data": {
      "application/json": {
       "ascii": false,
       "bar_format": null,
       "colour": null,
       "elapsed": 0.06599569320678711,
       "initial": 0,
       "n": 0,
       "ncols": null,
       "nrows": null,
       "postfix": null,
       "prefix": "Project",
       "rate": null,
       "total": 1,
       "unit": "it",
       "unit_divisor": 1000,
       "unit_scale": false
      },
      "application/vnd.jupyter.widget-view+json": {
       "model_id": "8b019da27abd4f49a6d5ec8501fb7e70",
       "version_major": 2,
       "version_minor": 0
      },
      "text/plain": [
       "Project:   0%|          | 0/1 [00:00<?, ?it/s]"
      ]
     },
     "metadata": {},
     "output_type": "display_data"
    },
    {
     "data": {
      "application/json": {
       "ascii": false,
       "bar_format": null,
       "colour": null,
       "elapsed": 0.0794985294342041,
       "initial": 0,
       "n": 0,
       "ncols": null,
       "nrows": null,
       "postfix": null,
       "prefix": "Document",
       "rate": null,
       "total": 31,
       "unit": "it",
       "unit_divisor": 1000,
       "unit_scale": false
      },
      "application/vnd.jupyter.widget-view+json": {
       "model_id": "a777bce2c0024aeb9beeae27474403b0",
       "version_major": 2,
       "version_minor": 0
      },
      "text/plain": [
       "Document:   0%|          | 0/31 [00:00<?, ?it/s]"
      ]
     },
     "metadata": {},
     "output_type": "display_data"
    },
    {
     "data": {
      "application/json": {
       "ascii": false,
       "bar_format": null,
       "colour": null,
       "elapsed": 0.06899809837341309,
       "initial": 0,
       "n": 0,
       "ncols": null,
       "nrows": null,
       "postfix": null,
       "prefix": "Stats project",
       "rate": null,
       "total": 1,
       "unit": "it",
       "unit_divisor": 1000,
       "unit_scale": false
      },
      "application/vnd.jupyter.widget-view+json": {
       "model_id": "14670b6068d14611bbc1dea42c13c70e",
       "version_major": 2,
       "version_minor": 0
      },
      "text/plain": [
       "Stats project:   0%|          | 0/1 [00:00<?, ?it/s]"
      ]
     },
     "metadata": {},
     "output_type": "display_data"
    },
    {
     "data": {
      "application/json": {
       "ascii": false,
       "bar_format": null,
       "colour": null,
       "elapsed": 0.07199978828430176,
       "initial": 0,
       "n": 0,
       "ncols": null,
       "nrows": null,
       "postfix": null,
       "prefix": "Stats document",
       "rate": null,
       "total": 31,
       "unit": "it",
       "unit_divisor": 1000,
       "unit_scale": false
      },
      "application/vnd.jupyter.widget-view+json": {
       "model_id": "3315e14b398341ecaba734f70e212309",
       "version_major": 2,
       "version_minor": 0
      },
      "text/plain": [
       "Stats document:   0%|          | 0/31 [00:00<?, ?it/s]"
      ]
     },
     "metadata": {},
     "output_type": "display_data"
    },
    {
     "name": "stdout",
     "output_type": "stream",
     "text": [
      "Epoch: 4, Prec: 0.6563876651982379, Rec: 0.772020725388601, F1: 0.7095238095238094\n",
      "\n",
      "Docs with false positives: 2; 6; 25; 24; 5; 27; 9; 19; 14; 4\n",
      "\n",
      "Docs with false negatives: 2; 6; 25; 24; 5; 28; 9; 19; 14; 11\n",
      "\n",
      "\n",
      "\n",
      "False Positives\n",
      "\n",
      "ef~4ch~23~bij~matig~beeldkwaliteit                                     - LVEF_SPAN            -         54\n",
      "collaps                                                                - C0332521             -          7\n",
      "tapse                                                                  - C3888927             -          3\n",
      "tricuspidalisinsufficiëntie                                            - C0040961             -          2\n",
      "insufficiëntie van mitralisklep                                        - C0026266             -          2\n",
      "lv~met~zeer~slechte~funcdtie                                           - C0080310             -          1\n",
      "diastolische disfunctie                                                - C0520863             -          1\n",
      "normaal~rv~functie                                                     - C0080311             -          1\n",
      "prolaps van mitralisklep                                               - C0026267             -          1\n",
      "prolaps van tricuspidalisklep                                          - C0040962             -          1\n",
      "\n",
      "\n",
      "False Negatives\n",
      "\n",
      "lv~met~zeer~slechte~funcdtie                                           - C0080310             -         13\n",
      "structuur van ventriculus cordis sinister                              - C0225897             -          4\n",
      "tricuspidalisinsufficiëntie                                            - C0040961             -          4\n",
      "syncope                                                                - C0039070             -          4\n",
      "collaps                                                                - C0344329             -          3\n",
      "normaal~rv~functie                                                     - C0080311             -          2\n",
      "ejectiefractie                                                         - C0489482             -          2\n",
      "insufficiëntie van mitralisklep                                        - C0026266             -          2\n",
      "linker~ventriculair~ejectiefractie                                     - C0428772             -          2\n",
      "diastolische disfunctie                                                - C0520863             -          1\n",
      "\n",
      "\n",
      "True Positives\n",
      "\n",
      "structuur van vena cava inferior                                       - C0042458             -         17\n",
      "normaal~rv~functie                                                     - C0080311             -         13\n",
      "insufficiëntie van mitralisklep                                        - C0026266             -         10\n",
      "linker~ventriculair~ejectiefractie                                     - C0428772             -          7\n",
      "tricuspidalisinsufficiëntie                                            - C0040961             -          6\n",
      "lv~met~zeer~slechte~funcdtie                                           - C0080310             -          6\n",
      "atria~:~normaal~dimensie                                               - C0078994             -          6\n",
      "diastolische~functie                                                   - EX00001              -          5\n",
      "structuur van valva aortae                                             - C0003501             -          5\n",
      "klepinsufficiëntie                                                     - C0042300             -          4\n",
      "**************************************************************************************************************\n",
      "\n"
     ]
    },
    {
     "data": {
      "application/json": {
       "ascii": false,
       "bar_format": null,
       "colour": null,
       "elapsed": 0.06450009346008301,
       "initial": 0,
       "n": 0,
       "ncols": null,
       "nrows": null,
       "postfix": null,
       "prefix": "Project",
       "rate": null,
       "total": 1,
       "unit": "it",
       "unit_divisor": 1000,
       "unit_scale": false
      },
      "application/vnd.jupyter.widget-view+json": {
       "model_id": "4424a10f521b4564a6951d19bb90e776",
       "version_major": 2,
       "version_minor": 0
      },
      "text/plain": [
       "Project:   0%|          | 0/1 [00:00<?, ?it/s]"
      ]
     },
     "metadata": {},
     "output_type": "display_data"
    },
    {
     "data": {
      "application/json": {
       "ascii": false,
       "bar_format": null,
       "colour": null,
       "elapsed": 0.07400202751159668,
       "initial": 0,
       "n": 0,
       "ncols": null,
       "nrows": null,
       "postfix": null,
       "prefix": "Document",
       "rate": null,
       "total": 31,
       "unit": "it",
       "unit_divisor": 1000,
       "unit_scale": false
      },
      "application/vnd.jupyter.widget-view+json": {
       "model_id": "ade52d790b9542f9a56abf846d0bac49",
       "version_major": 2,
       "version_minor": 0
      },
      "text/plain": [
       "Document:   0%|          | 0/31 [00:00<?, ?it/s]"
      ]
     },
     "metadata": {},
     "output_type": "display_data"
    },
    {
     "data": {
      "application/json": {
       "ascii": false,
       "bar_format": null,
       "colour": null,
       "elapsed": 0.06650328636169434,
       "initial": 0,
       "n": 0,
       "ncols": null,
       "nrows": null,
       "postfix": null,
       "prefix": "Stats project",
       "rate": null,
       "total": 1,
       "unit": "it",
       "unit_divisor": 1000,
       "unit_scale": false
      },
      "application/vnd.jupyter.widget-view+json": {
       "model_id": "0bab529405fa44d4867d392d2ed1ea72",
       "version_major": 2,
       "version_minor": 0
      },
      "text/plain": [
       "Stats project:   0%|          | 0/1 [00:00<?, ?it/s]"
      ]
     },
     "metadata": {},
     "output_type": "display_data"
    },
    {
     "data": {
      "application/json": {
       "ascii": false,
       "bar_format": null,
       "colour": null,
       "elapsed": 0.07350039482116699,
       "initial": 0,
       "n": 0,
       "ncols": null,
       "nrows": null,
       "postfix": null,
       "prefix": "Stats document",
       "rate": null,
       "total": 31,
       "unit": "it",
       "unit_divisor": 1000,
       "unit_scale": false
      },
      "application/vnd.jupyter.widget-view+json": {
       "model_id": "f39cfed7a78f49dbb3232cb6584b8513",
       "version_major": 2,
       "version_minor": 0
      },
      "text/plain": [
       "Stats document:   0%|          | 0/31 [00:00<?, ?it/s]"
      ]
     },
     "metadata": {},
     "output_type": "display_data"
    },
    {
     "name": "stdout",
     "output_type": "stream",
     "text": [
      "Epoch: 5, Prec: 0.6563876651982379, Rec: 0.772020725388601, F1: 0.7095238095238094\n",
      "\n",
      "Docs with false positives: 2; 6; 25; 24; 5; 27; 9; 19; 14; 4\n",
      "\n",
      "Docs with false negatives: 2; 6; 25; 24; 5; 28; 9; 19; 14; 11\n",
      "\n",
      "\n",
      "\n",
      "False Positives\n",
      "\n",
      "ef~4ch~23~bij~matig~beeldkwaliteit                                     - LVEF_SPAN            -         54\n",
      "collaps                                                                - C0332521             -          7\n",
      "tapse                                                                  - C3888927             -          3\n",
      "tricuspidalisinsufficiëntie                                            - C0040961             -          2\n",
      "insufficiëntie van mitralisklep                                        - C0026266             -          2\n",
      "lv~met~zeer~slechte~funcdtie                                           - C0080310             -          1\n",
      "diastolische disfunctie                                                - C0520863             -          1\n",
      "normaal~rv~functie                                                     - C0080311             -          1\n",
      "prolaps van mitralisklep                                               - C0026267             -          1\n",
      "prolaps van tricuspidalisklep                                          - C0040962             -          1\n",
      "\n",
      "\n",
      "False Negatives\n",
      "\n",
      "lv~met~zeer~slechte~funcdtie                                           - C0080310             -         13\n",
      "structuur van ventriculus cordis sinister                              - C0225897             -          4\n",
      "tricuspidalisinsufficiëntie                                            - C0040961             -          4\n",
      "syncope                                                                - C0039070             -          4\n",
      "collaps                                                                - C0344329             -          3\n",
      "normaal~rv~functie                                                     - C0080311             -          2\n",
      "ejectiefractie                                                         - C0489482             -          2\n",
      "insufficiëntie van mitralisklep                                        - C0026266             -          2\n",
      "linker~ventriculair~ejectiefractie                                     - C0428772             -          2\n",
      "diastolische disfunctie                                                - C0520863             -          1\n",
      "\n",
      "\n",
      "True Positives\n",
      "\n",
      "structuur van vena cava inferior                                       - C0042458             -         17\n",
      "normaal~rv~functie                                                     - C0080311             -         13\n",
      "insufficiëntie van mitralisklep                                        - C0026266             -         10\n",
      "linker~ventriculair~ejectiefractie                                     - C0428772             -          7\n",
      "tricuspidalisinsufficiëntie                                            - C0040961             -          6\n",
      "lv~met~zeer~slechte~funcdtie                                           - C0080310             -          6\n",
      "atria~:~normaal~dimensie                                               - C0078994             -          6\n",
      "diastolische~functie                                                   - EX00001              -          5\n",
      "structuur van valva aortae                                             - C0003501             -          5\n",
      "klepinsufficiëntie                                                     - C0042300             -          4\n",
      "**************************************************************************************************************\n",
      "\n"
     ]
    },
    {
     "data": {
      "application/json": {
       "ascii": false,
       "bar_format": null,
       "colour": null,
       "elapsed": 0.0670018196105957,
       "initial": 0,
       "n": 0,
       "ncols": null,
       "nrows": null,
       "postfix": null,
       "prefix": "Project",
       "rate": null,
       "total": 1,
       "unit": "it",
       "unit_divisor": 1000,
       "unit_scale": false
      },
      "application/vnd.jupyter.widget-view+json": {
       "model_id": "46cd21f21079494e9b14da0e7977d108",
       "version_major": 2,
       "version_minor": 0
      },
      "text/plain": [
       "Project:   0%|          | 0/1 [00:00<?, ?it/s]"
      ]
     },
     "metadata": {},
     "output_type": "display_data"
    },
    {
     "data": {
      "application/json": {
       "ascii": false,
       "bar_format": null,
       "colour": null,
       "elapsed": 0.079498291015625,
       "initial": 0,
       "n": 0,
       "ncols": null,
       "nrows": null,
       "postfix": null,
       "prefix": "Document",
       "rate": null,
       "total": 31,
       "unit": "it",
       "unit_divisor": 1000,
       "unit_scale": false
      },
      "application/vnd.jupyter.widget-view+json": {
       "model_id": "2fe4f0ddfaed441ab905ff3c0d393d8b",
       "version_major": 2,
       "version_minor": 0
      },
      "text/plain": [
       "Document:   0%|          | 0/31 [00:00<?, ?it/s]"
      ]
     },
     "metadata": {},
     "output_type": "display_data"
    },
    {
     "data": {
      "application/json": {
       "ascii": false,
       "bar_format": null,
       "colour": null,
       "elapsed": 0.06150341033935547,
       "initial": 0,
       "n": 0,
       "ncols": null,
       "nrows": null,
       "postfix": null,
       "prefix": "Stats project",
       "rate": null,
       "total": 1,
       "unit": "it",
       "unit_divisor": 1000,
       "unit_scale": false
      },
      "application/vnd.jupyter.widget-view+json": {
       "model_id": "a633ba38d7184dcdacbc63f23d7dd389",
       "version_major": 2,
       "version_minor": 0
      },
      "text/plain": [
       "Stats project:   0%|          | 0/1 [00:00<?, ?it/s]"
      ]
     },
     "metadata": {},
     "output_type": "display_data"
    },
    {
     "data": {
      "application/json": {
       "ascii": false,
       "bar_format": null,
       "colour": null,
       "elapsed": 0.07100057601928711,
       "initial": 0,
       "n": 0,
       "ncols": null,
       "nrows": null,
       "postfix": null,
       "prefix": "Stats document",
       "rate": null,
       "total": 31,
       "unit": "it",
       "unit_divisor": 1000,
       "unit_scale": false
      },
      "application/vnd.jupyter.widget-view+json": {
       "model_id": "4ba3603a18e043c894dbcfc063d03c4a",
       "version_major": 2,
       "version_minor": 0
      },
      "text/plain": [
       "Stats document:   0%|          | 0/31 [00:00<?, ?it/s]"
      ]
     },
     "metadata": {},
     "output_type": "display_data"
    },
    {
     "name": "stdout",
     "output_type": "stream",
     "text": [
      "Epoch: 6, Prec: 0.6563876651982379, Rec: 0.772020725388601, F1: 0.7095238095238094\n",
      "\n",
      "Docs with false positives: 2; 6; 25; 24; 5; 27; 9; 19; 14; 4\n",
      "\n",
      "Docs with false negatives: 2; 6; 25; 24; 5; 28; 9; 19; 14; 11\n",
      "\n",
      "\n",
      "\n",
      "False Positives\n",
      "\n",
      "ef~4ch~23~bij~matig~beeldkwaliteit                                     - LVEF_SPAN            -         54\n",
      "collaps                                                                - C0332521             -          7\n",
      "tapse                                                                  - C3888927             -          3\n",
      "tricuspidalisinsufficiëntie                                            - C0040961             -          2\n",
      "insufficiëntie van mitralisklep                                        - C0026266             -          2\n",
      "lv~met~zeer~slechte~funcdtie                                           - C0080310             -          1\n",
      "diastolische disfunctie                                                - C0520863             -          1\n",
      "normaal~rv~functie                                                     - C0080311             -          1\n",
      "prolaps van mitralisklep                                               - C0026267             -          1\n",
      "prolaps van tricuspidalisklep                                          - C0040962             -          1\n",
      "\n",
      "\n",
      "False Negatives\n",
      "\n",
      "lv~met~zeer~slechte~funcdtie                                           - C0080310             -         13\n",
      "structuur van ventriculus cordis sinister                              - C0225897             -          4\n",
      "tricuspidalisinsufficiëntie                                            - C0040961             -          4\n",
      "syncope                                                                - C0039070             -          4\n",
      "collaps                                                                - C0344329             -          3\n",
      "normaal~rv~functie                                                     - C0080311             -          2\n",
      "ejectiefractie                                                         - C0489482             -          2\n",
      "insufficiëntie van mitralisklep                                        - C0026266             -          2\n",
      "linker~ventriculair~ejectiefractie                                     - C0428772             -          2\n",
      "diastolische disfunctie                                                - C0520863             -          1\n",
      "\n",
      "\n",
      "True Positives\n",
      "\n",
      "structuur van vena cava inferior                                       - C0042458             -         17\n",
      "normaal~rv~functie                                                     - C0080311             -         13\n",
      "insufficiëntie van mitralisklep                                        - C0026266             -         10\n",
      "linker~ventriculair~ejectiefractie                                     - C0428772             -          7\n",
      "tricuspidalisinsufficiëntie                                            - C0040961             -          6\n",
      "lv~met~zeer~slechte~funcdtie                                           - C0080310             -          6\n",
      "atria~:~normaal~dimensie                                               - C0078994             -          6\n",
      "diastolische~functie                                                   - EX00001              -          5\n",
      "structuur van valva aortae                                             - C0003501             -          5\n",
      "klepinsufficiëntie                                                     - C0042300             -          4\n",
      "**************************************************************************************************************\n",
      "\n"
     ]
    },
    {
     "data": {
      "application/json": {
       "ascii": false,
       "bar_format": null,
       "colour": null,
       "elapsed": 0.0735008716583252,
       "initial": 0,
       "n": 0,
       "ncols": null,
       "nrows": null,
       "postfix": null,
       "prefix": "Project",
       "rate": null,
       "total": 1,
       "unit": "it",
       "unit_divisor": 1000,
       "unit_scale": false
      },
      "application/vnd.jupyter.widget-view+json": {
       "model_id": "782800a801ac4e6a94b95992cc8abbc1",
       "version_major": 2,
       "version_minor": 0
      },
      "text/plain": [
       "Project:   0%|          | 0/1 [00:00<?, ?it/s]"
      ]
     },
     "metadata": {},
     "output_type": "display_data"
    },
    {
     "data": {
      "application/json": {
       "ascii": false,
       "bar_format": null,
       "colour": null,
       "elapsed": 0.10400009155273438,
       "initial": 0,
       "n": 0,
       "ncols": null,
       "nrows": null,
       "postfix": null,
       "prefix": "Document",
       "rate": null,
       "total": 31,
       "unit": "it",
       "unit_divisor": 1000,
       "unit_scale": false
      },
      "application/vnd.jupyter.widget-view+json": {
       "model_id": "7751deb574994e399809abe2d65c5117",
       "version_major": 2,
       "version_minor": 0
      },
      "text/plain": [
       "Document:   0%|          | 0/31 [00:00<?, ?it/s]"
      ]
     },
     "metadata": {},
     "output_type": "display_data"
    },
    {
     "data": {
      "application/json": {
       "ascii": false,
       "bar_format": null,
       "colour": null,
       "elapsed": 0.06699705123901367,
       "initial": 0,
       "n": 0,
       "ncols": null,
       "nrows": null,
       "postfix": null,
       "prefix": "Stats project",
       "rate": null,
       "total": 1,
       "unit": "it",
       "unit_divisor": 1000,
       "unit_scale": false
      },
      "application/vnd.jupyter.widget-view+json": {
       "model_id": "b5f096604b6d4ecb8e78859473a37d3c",
       "version_major": 2,
       "version_minor": 0
      },
      "text/plain": [
       "Stats project:   0%|          | 0/1 [00:00<?, ?it/s]"
      ]
     },
     "metadata": {},
     "output_type": "display_data"
    },
    {
     "data": {
      "application/json": {
       "ascii": false,
       "bar_format": null,
       "colour": null,
       "elapsed": 0.07200050354003906,
       "initial": 0,
       "n": 0,
       "ncols": null,
       "nrows": null,
       "postfix": null,
       "prefix": "Stats document",
       "rate": null,
       "total": 31,
       "unit": "it",
       "unit_divisor": 1000,
       "unit_scale": false
      },
      "application/vnd.jupyter.widget-view+json": {
       "model_id": "03ecfb75a79748d2abd36e1730cd1340",
       "version_major": 2,
       "version_minor": 0
      },
      "text/plain": [
       "Stats document:   0%|          | 0/31 [00:00<?, ?it/s]"
      ]
     },
     "metadata": {},
     "output_type": "display_data"
    },
    {
     "name": "stdout",
     "output_type": "stream",
     "text": [
      "Epoch: 7, Prec: 0.6563876651982379, Rec: 0.772020725388601, F1: 0.7095238095238094\n",
      "\n",
      "Docs with false positives: 2; 6; 25; 24; 5; 27; 9; 19; 14; 4\n",
      "\n",
      "Docs with false negatives: 2; 6; 25; 24; 5; 28; 9; 19; 14; 11\n",
      "\n",
      "\n",
      "\n",
      "False Positives\n",
      "\n",
      "ef~4ch~23~bij~matig~beeldkwaliteit                                     - LVEF_SPAN            -         54\n",
      "collaps                                                                - C0332521             -          7\n",
      "tapse                                                                  - C3888927             -          3\n",
      "tricuspidalisinsufficiëntie                                            - C0040961             -          2\n",
      "insufficiëntie van mitralisklep                                        - C0026266             -          2\n",
      "lv~met~zeer~slechte~funcdtie                                           - C0080310             -          1\n",
      "diastolische disfunctie                                                - C0520863             -          1\n",
      "normaal~rv~functie                                                     - C0080311             -          1\n",
      "prolaps van mitralisklep                                               - C0026267             -          1\n",
      "prolaps van tricuspidalisklep                                          - C0040962             -          1\n",
      "\n",
      "\n",
      "False Negatives\n",
      "\n",
      "lv~met~zeer~slechte~funcdtie                                           - C0080310             -         13\n",
      "structuur van ventriculus cordis sinister                              - C0225897             -          4\n",
      "tricuspidalisinsufficiëntie                                            - C0040961             -          4\n",
      "syncope                                                                - C0039070             -          4\n",
      "collaps                                                                - C0344329             -          3\n",
      "normaal~rv~functie                                                     - C0080311             -          2\n",
      "ejectiefractie                                                         - C0489482             -          2\n",
      "insufficiëntie van mitralisklep                                        - C0026266             -          2\n",
      "linker~ventriculair~ejectiefractie                                     - C0428772             -          2\n",
      "diastolische disfunctie                                                - C0520863             -          1\n",
      "\n",
      "\n",
      "True Positives\n",
      "\n",
      "structuur van vena cava inferior                                       - C0042458             -         17\n",
      "normaal~rv~functie                                                     - C0080311             -         13\n",
      "insufficiëntie van mitralisklep                                        - C0026266             -         10\n",
      "linker~ventriculair~ejectiefractie                                     - C0428772             -          7\n",
      "tricuspidalisinsufficiëntie                                            - C0040961             -          6\n",
      "lv~met~zeer~slechte~funcdtie                                           - C0080310             -          6\n",
      "atria~:~normaal~dimensie                                               - C0078994             -          6\n",
      "diastolische~functie                                                   - EX00001              -          5\n",
      "structuur van valva aortae                                             - C0003501             -          5\n",
      "klepinsufficiëntie                                                     - C0042300             -          4\n",
      "**************************************************************************************************************\n",
      "\n"
     ]
    },
    {
     "data": {
      "text/plain": [
       "'medcat_model_pack_7ede882a26d86dae'"
      ]
     },
     "execution_count": 59,
     "metadata": {},
     "output_type": "execute_result"
    }
   ],
   "source": [
    "MCAT.train_supervised(data_path=os.path.join(medcat_dir, \n",
    "                                 \"umls-dutch-v1-10_echo\",\n",
    "                                 \"input/ner_l_anno/trainer_export.json\"), \n",
    "                      nepochs=7,\n",
    "                      print_stats=0,\n",
    "                      use_filters=False)\n",
    "MCAT.create_model_pack(medcat_dir + \"/umls-dutch-v1-10_echoV2\")"
   ]
  },
  {
   "attachments": {},
   "cell_type": "markdown",
   "metadata": {},
   "source": [
    "## Supervised learning of MetaCAT model for \"Left-ventricle function\""
   ]
  },
  {
   "cell_type": "code",
   "execution_count": 60,
   "metadata": {},
   "outputs": [],
   "source": [
    "from medcat.meta_cat import MetaCAT\n",
    "from medcat.config_meta_cat import ConfigMetaCAT\n",
    "from medcat.tokenizers.meta_cat_tokenizers import TokenizerWrapperBPE, ByteLevelBPETokenizer"
   ]
  },
  {
   "cell_type": "code",
   "execution_count": 61,
   "metadata": {},
   "outputs": [],
   "source": [
    "# load tokenizer from negation_model\n",
    "# tokenizer folder \n",
    "tok_folder = 'T:/laupodteam/AIOS/Bram/language_modeling/Clinical_embeddings/unigrams/with_tokenizer/v2/tokenizer'\n",
    "emb_folder = 'T:/laupodteam/AIOS/Bram/language_modeling/Clinical_embeddings/unigrams/with_tokenizer/v2/SG'\n",
    "tokenizer = ByteLevelBPETokenizer.from_file(os.path.join(tok_folder, 'vocab.json'), \n",
    "                                            os.path.join(tok_folder, 'merges.txt'))\n",
    "wrapped_tokenizer = TokenizerWrapperBPE(hf_tokenizers=tokenizer)\n",
    "wrapped_tokenizer.save(medcat_dir + \"/umls-dutch-v1-10_echo/assets/tokenizer\")"
   ]
  },
  {
   "cell_type": "code",
   "execution_count": 62,
   "metadata": {},
   "outputs": [
    {
     "name": "stdout",
     "output_type": "stream",
     "text": [
      "T:/laupodteam/AIOS/Bram/language_modeling/Clinical_embeddings/unigrams/with_tokenizer/v2/SG\\sg\n"
     ]
    }
   ],
   "source": [
    "from gensim.models import Word2Vec, KeyedVectors\n",
    "vec_path = os.path.join(emb_folder, 'sg')\n",
    "print(vec_path)\n",
    "w2v = KeyedVectors.load(vec_path)"
   ]
  },
  {
   "cell_type": "code",
   "execution_count": 64,
   "metadata": {},
   "outputs": [],
   "source": [
    "# Create embedding matrix\n",
    "embeddings = []\n",
    "words_not_present = []\n",
    "\n",
    "for i in range(tokenizer.get_vocab_size()):\n",
    "    word = tokenizer.id_to_token(i)\n",
    "    if word in w2v:\n",
    "        embeddings.append(w2v[word])\n",
    "    else:\n",
    "        words_not_present.append(i)\n",
    "        embeddings.append(np.random.random(300))\n",
    "        \n",
    "mean_vector = np.mean(embeddings, axis=0)\n",
    "\n",
    "for i in words_not_present:\n",
    "    embeddings[i] = mean_vector\n",
    "\n",
    "# Save the embeddings\n",
    "embeddings_array = np.array(embeddings)\n",
    "np.save(open(medcat_dir + \"/umls-dutch-v1-10_echoV2/assets/embeddings/embedding.npy\", \n",
    "             'wb'), embeddings_array)"
   ]
  },
  {
   "cell_type": "code",
   "execution_count": 68,
   "metadata": {},
   "outputs": [],
   "source": [
    "config_metacat = ConfigMetaCAT()\n",
    "config_metacat.general['category_name'] = 'LeftVentricleFunction'\n",
    "config_metacat.train['nepochs'] = 25\n",
    "config_metacat.train['score_average'] = 'binary'\n",
    "config_metacat.model['hidden_size'] = 300\n",
    "config_metacat.model['input_size'] = 300\n",
    "config_metacat.model['dropout'] = 0.25\n",
    "config_metacat.model['num_layers'] = 3\n",
    "config_metacat.model['num_directions'] = 2\n",
    "config_metacat.model['nclasses'] = 8\n",
    "config_metacat.model['model_name'] = 'lstm'"
   ]
  },
  {
   "cell_type": "code",
   "execution_count": 69,
   "metadata": {},
   "outputs": [],
   "source": [
    "meta_cat = MetaCAT(tokenizer=wrapped_tokenizer,\n",
    "                   embeddings=embeddings_array, \n",
    "                   config=config_metacat)"
   ]
  },
  {
   "cell_type": "code",
   "execution_count": 70,
   "metadata": {},
   "outputs": [
    {
     "name": "stdout",
     "output_type": "stream",
     "text": [
      "Commencing training...\n"
     ]
    },
    {
     "name": "stderr",
     "output_type": "stream",
     "text": [
      "d:\\VENVS\\Envs\\nlp_310\\lib\\site-packages\\sklearn\\metrics\\_classification.py:1344: UndefinedMetricWarning: Precision and F-score are ill-defined and being set to 0.0 in labels with no predicted samples. Use `zero_division` parameter to control this behavior.\n",
      "  _warn_prf(average, modifier, msg_start, len(result))\n",
      "d:\\VENVS\\Envs\\nlp_310\\lib\\site-packages\\sklearn\\metrics\\_classification.py:1344: UndefinedMetricWarning: Precision and F-score are ill-defined and being set to 0.0 in labels with no predicted samples. Use `zero_division` parameter to control this behavior.\n",
      "  _warn_prf(average, modifier, msg_start, len(result))\n",
      "d:\\VENVS\\Envs\\nlp_310\\lib\\site-packages\\sklearn\\metrics\\_classification.py:1344: UndefinedMetricWarning: Precision and F-score are ill-defined and being set to 0.0 in labels with no predicted samples. Use `zero_division` parameter to control this behavior.\n",
      "  _warn_prf(average, modifier, msg_start, len(result))\n",
      "d:\\VENVS\\Envs\\nlp_310\\lib\\site-packages\\sklearn\\metrics\\_classification.py:1344: UndefinedMetricWarning: Precision and F-score are ill-defined and being set to 0.0 in labels with no predicted samples. Use `zero_division` parameter to control this behavior.\n",
      "  _warn_prf(average, modifier, msg_start, len(result))\n",
      "d:\\VENVS\\Envs\\nlp_310\\lib\\site-packages\\sklearn\\metrics\\_classification.py:1344: UndefinedMetricWarning: Precision and F-score are ill-defined and being set to 0.0 in labels with no predicted samples. Use `zero_division` parameter to control this behavior.\n",
      "  _warn_prf(average, modifier, msg_start, len(result))\n",
      "d:\\VENVS\\Envs\\nlp_310\\lib\\site-packages\\sklearn\\metrics\\_classification.py:1344: UndefinedMetricWarning: Precision and F-score are ill-defined and being set to 0.0 in labels with no predicted samples. Use `zero_division` parameter to control this behavior.\n",
      "  _warn_prf(average, modifier, msg_start, len(result))\n",
      "d:\\VENVS\\Envs\\nlp_310\\lib\\site-packages\\sklearn\\metrics\\_classification.py:1344: UndefinedMetricWarning: Precision and F-score are ill-defined and being set to 0.0 in labels with no predicted samples. Use `zero_division` parameter to control this behavior.\n",
      "  _warn_prf(average, modifier, msg_start, len(result))\n",
      "d:\\VENVS\\Envs\\nlp_310\\lib\\site-packages\\sklearn\\metrics\\_classification.py:1344: UndefinedMetricWarning: Precision and F-score are ill-defined and being set to 0.0 in labels with no predicted samples. Use `zero_division` parameter to control this behavior.\n",
      "  _warn_prf(average, modifier, msg_start, len(result))\n",
      "d:\\VENVS\\Envs\\nlp_310\\lib\\site-packages\\sklearn\\metrics\\_classification.py:1344: UndefinedMetricWarning: Precision and F-score are ill-defined and being set to 0.0 in labels with no predicted samples. Use `zero_division` parameter to control this behavior.\n",
      "  _warn_prf(average, modifier, msg_start, len(result))\n",
      "d:\\VENVS\\Envs\\nlp_310\\lib\\site-packages\\sklearn\\metrics\\_classification.py:1344: UndefinedMetricWarning: Precision and F-score are ill-defined and being set to 0.0 in labels with no predicted samples. Use `zero_division` parameter to control this behavior.\n",
      "  _warn_prf(average, modifier, msg_start, len(result))\n",
      "d:\\VENVS\\Envs\\nlp_310\\lib\\site-packages\\sklearn\\metrics\\_classification.py:1344: UndefinedMetricWarning: Precision and F-score are ill-defined and being set to 0.0 in labels with no predicted samples. Use `zero_division` parameter to control this behavior.\n",
      "  _warn_prf(average, modifier, msg_start, len(result))\n",
      "d:\\VENVS\\Envs\\nlp_310\\lib\\site-packages\\sklearn\\metrics\\_classification.py:1344: UndefinedMetricWarning: Precision and F-score are ill-defined and being set to 0.0 in labels with no predicted samples. Use `zero_division` parameter to control this behavior.\n",
      "  _warn_prf(average, modifier, msg_start, len(result))\n",
      "d:\\VENVS\\Envs\\nlp_310\\lib\\site-packages\\sklearn\\metrics\\_classification.py:1344: UndefinedMetricWarning: Precision and F-score are ill-defined and being set to 0.0 in labels with no predicted samples. Use `zero_division` parameter to control this behavior.\n",
      "  _warn_prf(average, modifier, msg_start, len(result))\n",
      "d:\\VENVS\\Envs\\nlp_310\\lib\\site-packages\\sklearn\\metrics\\_classification.py:1344: UndefinedMetricWarning: Precision and F-score are ill-defined and being set to 0.0 in labels with no predicted samples. Use `zero_division` parameter to control this behavior.\n",
      "  _warn_prf(average, modifier, msg_start, len(result))\n",
      "d:\\VENVS\\Envs\\nlp_310\\lib\\site-packages\\sklearn\\metrics\\_classification.py:1344: UndefinedMetricWarning: Precision and F-score are ill-defined and being set to 0.0 in labels with no predicted samples. Use `zero_division` parameter to control this behavior.\n",
      "  _warn_prf(average, modifier, msg_start, len(result))\n",
      "d:\\VENVS\\Envs\\nlp_310\\lib\\site-packages\\sklearn\\metrics\\_classification.py:1344: UndefinedMetricWarning: Precision and F-score are ill-defined and being set to 0.0 in labels with no predicted samples. Use `zero_division` parameter to control this behavior.\n",
      "  _warn_prf(average, modifier, msg_start, len(result))\n",
      "d:\\VENVS\\Envs\\nlp_310\\lib\\site-packages\\sklearn\\metrics\\_classification.py:1344: UndefinedMetricWarning: Precision and F-score are ill-defined and being set to 0.0 in labels with no predicted samples. Use `zero_division` parameter to control this behavior.\n",
      "  _warn_prf(average, modifier, msg_start, len(result))\n",
      "d:\\VENVS\\Envs\\nlp_310\\lib\\site-packages\\sklearn\\metrics\\_classification.py:1344: UndefinedMetricWarning: Precision and F-score are ill-defined and being set to 0.0 in labels with no predicted samples. Use `zero_division` parameter to control this behavior.\n",
      "  _warn_prf(average, modifier, msg_start, len(result))\n",
      "d:\\VENVS\\Envs\\nlp_310\\lib\\site-packages\\sklearn\\metrics\\_classification.py:1344: UndefinedMetricWarning: Precision and F-score are ill-defined and being set to 0.0 in labels with no predicted samples. Use `zero_division` parameter to control this behavior.\n",
      "  _warn_prf(average, modifier, msg_start, len(result))\n",
      "d:\\VENVS\\Envs\\nlp_310\\lib\\site-packages\\sklearn\\metrics\\_classification.py:1344: UndefinedMetricWarning: Precision and F-score are ill-defined and being set to 0.0 in labels with no predicted samples. Use `zero_division` parameter to control this behavior.\n",
      "  _warn_prf(average, modifier, msg_start, len(result))\n",
      "d:\\VENVS\\Envs\\nlp_310\\lib\\site-packages\\sklearn\\metrics\\_classification.py:1344: UndefinedMetricWarning: Precision and F-score are ill-defined and being set to 0.0 in labels with no predicted samples. Use `zero_division` parameter to control this behavior.\n",
      "  _warn_prf(average, modifier, msg_start, len(result))\n",
      "d:\\VENVS\\Envs\\nlp_310\\lib\\site-packages\\sklearn\\metrics\\_classification.py:1344: UndefinedMetricWarning: Precision and F-score are ill-defined and being set to 0.0 in labels with no predicted samples. Use `zero_division` parameter to control this behavior.\n",
      "  _warn_prf(average, modifier, msg_start, len(result))\n",
      "d:\\VENVS\\Envs\\nlp_310\\lib\\site-packages\\sklearn\\metrics\\_classification.py:1344: UndefinedMetricWarning: Precision and F-score are ill-defined and being set to 0.0 in labels with no predicted samples. Use `zero_division` parameter to control this behavior.\n",
      "  _warn_prf(average, modifier, msg_start, len(result))\n",
      "d:\\VENVS\\Envs\\nlp_310\\lib\\site-packages\\sklearn\\metrics\\_classification.py:1344: UndefinedMetricWarning: Precision and F-score are ill-defined and being set to 0.0 in labels with no predicted samples. Use `zero_division` parameter to control this behavior.\n",
      "  _warn_prf(average, modifier, msg_start, len(result))\n",
      "d:\\VENVS\\Envs\\nlp_310\\lib\\site-packages\\sklearn\\metrics\\_classification.py:1344: UndefinedMetricWarning: Precision and F-score are ill-defined and being set to 0.0 in labels with no predicted samples. Use `zero_division` parameter to control this behavior.\n",
      "  _warn_prf(average, modifier, msg_start, len(result))\n",
      "d:\\VENVS\\Envs\\nlp_310\\lib\\site-packages\\sklearn\\metrics\\_classification.py:1344: UndefinedMetricWarning: Precision and F-score are ill-defined and being set to 0.0 in labels with no predicted samples. Use `zero_division` parameter to control this behavior.\n",
      "  _warn_prf(average, modifier, msg_start, len(result))\n",
      "d:\\VENVS\\Envs\\nlp_310\\lib\\site-packages\\sklearn\\metrics\\_classification.py:1344: UndefinedMetricWarning: Precision and F-score are ill-defined and being set to 0.0 in labels with no predicted samples. Use `zero_division` parameter to control this behavior.\n",
      "  _warn_prf(average, modifier, msg_start, len(result))\n",
      "d:\\VENVS\\Envs\\nlp_310\\lib\\site-packages\\sklearn\\metrics\\_classification.py:1344: UndefinedMetricWarning: Precision and F-score are ill-defined and being set to 0.0 in labels with no predicted samples. Use `zero_division` parameter to control this behavior.\n",
      "  _warn_prf(average, modifier, msg_start, len(result))\n",
      "d:\\VENVS\\Envs\\nlp_310\\lib\\site-packages\\sklearn\\metrics\\_classification.py:1344: UndefinedMetricWarning: Precision and F-score are ill-defined and being set to 0.0 in labels with no predicted samples. Use `zero_division` parameter to control this behavior.\n",
      "  _warn_prf(average, modifier, msg_start, len(result))\n",
      "d:\\VENVS\\Envs\\nlp_310\\lib\\site-packages\\sklearn\\metrics\\_classification.py:1344: UndefinedMetricWarning: Precision and F-score are ill-defined and being set to 0.0 in labels with no predicted samples. Use `zero_division` parameter to control this behavior.\n",
      "  _warn_prf(average, modifier, msg_start, len(result))\n",
      "d:\\VENVS\\Envs\\nlp_310\\lib\\site-packages\\sklearn\\metrics\\_classification.py:1344: UndefinedMetricWarning: Precision and F-score are ill-defined and being set to 0.0 in labels with no predicted samples. Use `zero_division` parameter to control this behavior.\n",
      "  _warn_prf(average, modifier, msg_start, len(result))\n",
      "d:\\VENVS\\Envs\\nlp_310\\lib\\site-packages\\sklearn\\metrics\\_classification.py:1344: UndefinedMetricWarning: Precision and F-score are ill-defined and being set to 0.0 in labels with no predicted samples. Use `zero_division` parameter to control this behavior.\n",
      "  _warn_prf(average, modifier, msg_start, len(result))\n",
      "d:\\VENVS\\Envs\\nlp_310\\lib\\site-packages\\sklearn\\metrics\\_classification.py:1344: UndefinedMetricWarning: Precision and F-score are ill-defined and being set to 0.0 in labels with no predicted samples. Use `zero_division` parameter to control this behavior.\n",
      "  _warn_prf(average, modifier, msg_start, len(result))\n",
      "d:\\VENVS\\Envs\\nlp_310\\lib\\site-packages\\sklearn\\metrics\\_classification.py:1344: UndefinedMetricWarning: Precision and F-score are ill-defined and being set to 0.0 in labels with no predicted samples. Use `zero_division` parameter to control this behavior.\n",
      "  _warn_prf(average, modifier, msg_start, len(result))\n",
      "d:\\VENVS\\Envs\\nlp_310\\lib\\site-packages\\sklearn\\metrics\\_classification.py:1344: UndefinedMetricWarning: Precision and F-score are ill-defined and being set to 0.0 in labels with no predicted samples. Use `zero_division` parameter to control this behavior.\n",
      "  _warn_prf(average, modifier, msg_start, len(result))\n",
      "d:\\VENVS\\Envs\\nlp_310\\lib\\site-packages\\sklearn\\metrics\\_classification.py:1344: UndefinedMetricWarning: Precision and F-score are ill-defined and being set to 0.0 in labels with no predicted samples. Use `zero_division` parameter to control this behavior.\n",
      "  _warn_prf(average, modifier, msg_start, len(result))\n",
      "d:\\VENVS\\Envs\\nlp_310\\lib\\site-packages\\sklearn\\metrics\\_classification.py:1344: UndefinedMetricWarning: Precision and F-score are ill-defined and being set to 0.0 in labels with no predicted samples. Use `zero_division` parameter to control this behavior.\n",
      "  _warn_prf(average, modifier, msg_start, len(result))\n",
      "d:\\VENVS\\Envs\\nlp_310\\lib\\site-packages\\sklearn\\metrics\\_classification.py:1344: UndefinedMetricWarning: Precision and F-score are ill-defined and being set to 0.0 in labels with no predicted samples. Use `zero_division` parameter to control this behavior.\n",
      "  _warn_prf(average, modifier, msg_start, len(result))\n",
      "d:\\VENVS\\Envs\\nlp_310\\lib\\site-packages\\sklearn\\metrics\\_classification.py:1344: UndefinedMetricWarning: Precision and F-score are ill-defined and being set to 0.0 in labels with no predicted samples. Use `zero_division` parameter to control this behavior.\n",
      "  _warn_prf(average, modifier, msg_start, len(result))\n",
      "d:\\VENVS\\Envs\\nlp_310\\lib\\site-packages\\sklearn\\metrics\\_classification.py:1344: UndefinedMetricWarning: Precision and F-score are ill-defined and being set to 0.0 in labels with no predicted samples. Use `zero_division` parameter to control this behavior.\n",
      "  _warn_prf(average, modifier, msg_start, len(result))\n",
      "d:\\VENVS\\Envs\\nlp_310\\lib\\site-packages\\sklearn\\metrics\\_classification.py:1344: UndefinedMetricWarning: Precision and F-score are ill-defined and being set to 0.0 in labels with no predicted samples. Use `zero_division` parameter to control this behavior.\n",
      "  _warn_prf(average, modifier, msg_start, len(result))\n",
      "d:\\VENVS\\Envs\\nlp_310\\lib\\site-packages\\sklearn\\metrics\\_classification.py:1344: UndefinedMetricWarning: Precision and F-score are ill-defined and being set to 0.0 in labels with no predicted samples. Use `zero_division` parameter to control this behavior.\n",
      "  _warn_prf(average, modifier, msg_start, len(result))\n",
      "d:\\VENVS\\Envs\\nlp_310\\lib\\site-packages\\sklearn\\metrics\\_classification.py:1344: UndefinedMetricWarning: Precision and F-score are ill-defined and being set to 0.0 in labels with no predicted samples. Use `zero_division` parameter to control this behavior.\n",
      "  _warn_prf(average, modifier, msg_start, len(result))\n",
      "d:\\VENVS\\Envs\\nlp_310\\lib\\site-packages\\sklearn\\metrics\\_classification.py:1344: UndefinedMetricWarning: Precision and F-score are ill-defined and being set to 0.0 in labels with no predicted samples. Use `zero_division` parameter to control this behavior.\n",
      "  _warn_prf(average, modifier, msg_start, len(result))\n",
      "d:\\VENVS\\Envs\\nlp_310\\lib\\site-packages\\sklearn\\metrics\\_classification.py:1344: UndefinedMetricWarning: Precision and F-score are ill-defined and being set to 0.0 in labels with no predicted samples. Use `zero_division` parameter to control this behavior.\n",
      "  _warn_prf(average, modifier, msg_start, len(result))\n",
      "d:\\VENVS\\Envs\\nlp_310\\lib\\site-packages\\sklearn\\metrics\\_classification.py:1344: UndefinedMetricWarning: Precision and F-score are ill-defined and being set to 0.0 in labels with no predicted samples. Use `zero_division` parameter to control this behavior.\n",
      "  _warn_prf(average, modifier, msg_start, len(result))\n",
      "d:\\VENVS\\Envs\\nlp_310\\lib\\site-packages\\sklearn\\metrics\\_classification.py:1344: UndefinedMetricWarning: Precision and F-score are ill-defined and being set to 0.0 in labels with no predicted samples. Use `zero_division` parameter to control this behavior.\n",
      "  _warn_prf(average, modifier, msg_start, len(result))\n",
      "d:\\VENVS\\Envs\\nlp_310\\lib\\site-packages\\sklearn\\metrics\\_classification.py:1344: UndefinedMetricWarning: Precision and F-score are ill-defined and being set to 0.0 in labels with no predicted samples. Use `zero_division` parameter to control this behavior.\n",
      "  _warn_prf(average, modifier, msg_start, len(result))\n",
      "d:\\VENVS\\Envs\\nlp_310\\lib\\site-packages\\sklearn\\metrics\\_classification.py:1344: UndefinedMetricWarning: Precision and F-score are ill-defined and being set to 0.0 in labels with no predicted samples. Use `zero_division` parameter to control this behavior.\n",
      "  _warn_prf(average, modifier, msg_start, len(result))\n",
      "d:\\VENVS\\Envs\\nlp_310\\lib\\site-packages\\sklearn\\metrics\\_classification.py:1344: UndefinedMetricWarning: Precision and F-score are ill-defined and being set to 0.0 in labels with no predicted samples. Use `zero_division` parameter to control this behavior.\n",
      "  _warn_prf(average, modifier, msg_start, len(result))\n",
      "d:\\VENVS\\Envs\\nlp_310\\lib\\site-packages\\sklearn\\metrics\\_classification.py:1344: UndefinedMetricWarning: Precision and F-score are ill-defined and being set to 0.0 in labels with no predicted samples. Use `zero_division` parameter to control this behavior.\n",
      "  _warn_prf(average, modifier, msg_start, len(result))\n",
      "d:\\VENVS\\Envs\\nlp_310\\lib\\site-packages\\sklearn\\metrics\\_classification.py:1344: UndefinedMetricWarning: Precision and F-score are ill-defined and being set to 0.0 in labels with no predicted samples. Use `zero_division` parameter to control this behavior.\n",
      "  _warn_prf(average, modifier, msg_start, len(result))\n",
      "d:\\VENVS\\Envs\\nlp_310\\lib\\site-packages\\sklearn\\metrics\\_classification.py:1344: UndefinedMetricWarning: Precision and F-score are ill-defined and being set to 0.0 in labels with no predicted samples. Use `zero_division` parameter to control this behavior.\n",
      "  _warn_prf(average, modifier, msg_start, len(result))\n",
      "d:\\VENVS\\Envs\\nlp_310\\lib\\site-packages\\sklearn\\metrics\\_classification.py:1344: UndefinedMetricWarning: Precision and F-score are ill-defined and being set to 0.0 in labels with no predicted samples. Use `zero_division` parameter to control this behavior.\n",
      "  _warn_prf(average, modifier, msg_start, len(result))\n",
      "d:\\VENVS\\Envs\\nlp_310\\lib\\site-packages\\sklearn\\metrics\\_classification.py:1344: UndefinedMetricWarning: Precision and F-score are ill-defined and being set to 0.0 in labels with no predicted samples. Use `zero_division` parameter to control this behavior.\n",
      "  _warn_prf(average, modifier, msg_start, len(result))\n",
      "d:\\VENVS\\Envs\\nlp_310\\lib\\site-packages\\sklearn\\metrics\\_classification.py:1344: UndefinedMetricWarning: Precision and F-score are ill-defined and being set to 0.0 in labels with no predicted samples. Use `zero_division` parameter to control this behavior.\n",
      "  _warn_prf(average, modifier, msg_start, len(result))\n",
      "d:\\VENVS\\Envs\\nlp_310\\lib\\site-packages\\sklearn\\metrics\\_classification.py:1344: UndefinedMetricWarning: Precision and F-score are ill-defined and being set to 0.0 in labels with no predicted samples. Use `zero_division` parameter to control this behavior.\n",
      "  _warn_prf(average, modifier, msg_start, len(result))\n",
      "d:\\VENVS\\Envs\\nlp_310\\lib\\site-packages\\sklearn\\metrics\\_classification.py:1344: UndefinedMetricWarning: Precision and F-score are ill-defined and being set to 0.0 in labels with no predicted samples. Use `zero_division` parameter to control this behavior.\n",
      "  _warn_prf(average, modifier, msg_start, len(result))\n",
      "d:\\VENVS\\Envs\\nlp_310\\lib\\site-packages\\sklearn\\metrics\\_classification.py:1344: UndefinedMetricWarning: Precision and F-score are ill-defined and being set to 0.0 in labels with no predicted samples. Use `zero_division` parameter to control this behavior.\n",
      "  _warn_prf(average, modifier, msg_start, len(result))\n",
      "d:\\VENVS\\Envs\\nlp_310\\lib\\site-packages\\sklearn\\metrics\\_classification.py:1344: UndefinedMetricWarning: Precision and F-score are ill-defined and being set to 0.0 in labels with no predicted samples. Use `zero_division` parameter to control this behavior.\n",
      "  _warn_prf(average, modifier, msg_start, len(result))\n",
      "d:\\VENVS\\Envs\\nlp_310\\lib\\site-packages\\sklearn\\metrics\\_classification.py:1344: UndefinedMetricWarning: Precision and F-score are ill-defined and being set to 0.0 in labels with no predicted samples. Use `zero_division` parameter to control this behavior.\n",
      "  _warn_prf(average, modifier, msg_start, len(result))\n",
      "d:\\VENVS\\Envs\\nlp_310\\lib\\site-packages\\sklearn\\metrics\\_classification.py:1344: UndefinedMetricWarning: Recall and F-score are ill-defined and being set to 0.0 in labels with no true samples. Use `zero_division` parameter to control this behavior.\n",
      "  _warn_prf(average, modifier, msg_start, len(result))\n",
      "d:\\VENVS\\Envs\\nlp_310\\lib\\site-packages\\sklearn\\metrics\\_classification.py:1344: UndefinedMetricWarning: Precision and F-score are ill-defined and being set to 0.0 in labels with no predicted samples. Use `zero_division` parameter to control this behavior.\n",
      "  _warn_prf(average, modifier, msg_start, len(result))\n",
      "d:\\VENVS\\Envs\\nlp_310\\lib\\site-packages\\sklearn\\metrics\\_classification.py:1344: UndefinedMetricWarning: Recall and F-score are ill-defined and being set to 0.0 in labels with no true samples. Use `zero_division` parameter to control this behavior.\n",
      "  _warn_prf(average, modifier, msg_start, len(result))\n",
      "d:\\VENVS\\Envs\\nlp_310\\lib\\site-packages\\sklearn\\metrics\\_classification.py:1344: UndefinedMetricWarning: Precision and F-score are ill-defined and being set to 0.0 in labels with no predicted samples. Use `zero_division` parameter to control this behavior.\n",
      "  _warn_prf(average, modifier, msg_start, len(result))\n",
      "d:\\VENVS\\Envs\\nlp_310\\lib\\site-packages\\sklearn\\metrics\\_classification.py:1344: UndefinedMetricWarning: Recall and F-score are ill-defined and being set to 0.0 in labels with no true samples. Use `zero_division` parameter to control this behavior.\n",
      "  _warn_prf(average, modifier, msg_start, len(result))\n",
      "d:\\VENVS\\Envs\\nlp_310\\lib\\site-packages\\sklearn\\metrics\\_classification.py:1344: UndefinedMetricWarning: Precision and F-score are ill-defined and being set to 0.0 in labels with no predicted samples. Use `zero_division` parameter to control this behavior.\n",
      "  _warn_prf(average, modifier, msg_start, len(result))\n",
      "d:\\VENVS\\Envs\\nlp_310\\lib\\site-packages\\sklearn\\metrics\\_classification.py:1344: UndefinedMetricWarning: Recall and F-score are ill-defined and being set to 0.0 in labels with no true samples. Use `zero_division` parameter to control this behavior.\n",
      "  _warn_prf(average, modifier, msg_start, len(result))\n",
      "d:\\VENVS\\Envs\\nlp_310\\lib\\site-packages\\sklearn\\metrics\\_classification.py:1344: UndefinedMetricWarning: Precision and F-score are ill-defined and being set to 0.0 in labels with no predicted samples. Use `zero_division` parameter to control this behavior.\n",
      "  _warn_prf(average, modifier, msg_start, len(result))\n",
      "d:\\VENVS\\Envs\\nlp_310\\lib\\site-packages\\sklearn\\metrics\\_classification.py:1344: UndefinedMetricWarning: Recall and F-score are ill-defined and being set to 0.0 in labels with no true samples. Use `zero_division` parameter to control this behavior.\n",
      "  _warn_prf(average, modifier, msg_start, len(result))\n",
      "d:\\VENVS\\Envs\\nlp_310\\lib\\site-packages\\sklearn\\metrics\\_classification.py:1344: UndefinedMetricWarning: Precision and F-score are ill-defined and being set to 0.0 in labels with no predicted samples. Use `zero_division` parameter to control this behavior.\n",
      "  _warn_prf(average, modifier, msg_start, len(result))\n",
      "d:\\VENVS\\Envs\\nlp_310\\lib\\site-packages\\sklearn\\metrics\\_classification.py:1344: UndefinedMetricWarning: Recall and F-score are ill-defined and being set to 0.0 in labels with no true samples. Use `zero_division` parameter to control this behavior.\n",
      "  _warn_prf(average, modifier, msg_start, len(result))\n",
      "d:\\VENVS\\Envs\\nlp_310\\lib\\site-packages\\sklearn\\metrics\\_classification.py:1344: UndefinedMetricWarning: Recall and F-score are ill-defined and being set to 0.0 in labels with no true samples. Use `zero_division` parameter to control this behavior.\n",
      "  _warn_prf(average, modifier, msg_start, len(result))\n",
      "d:\\VENVS\\Envs\\nlp_310\\lib\\site-packages\\sklearn\\metrics\\_classification.py:1344: UndefinedMetricWarning: Recall and F-score are ill-defined and being set to 0.0 in labels with no true samples. Use `zero_division` parameter to control this behavior.\n",
      "  _warn_prf(average, modifier, msg_start, len(result))\n",
      "d:\\VENVS\\Envs\\nlp_310\\lib\\site-packages\\sklearn\\metrics\\_classification.py:1344: UndefinedMetricWarning: Recall and F-score are ill-defined and being set to 0.0 in labels with no true samples. Use `zero_division` parameter to control this behavior.\n",
      "  _warn_prf(average, modifier, msg_start, len(result))\n",
      "d:\\VENVS\\Envs\\nlp_310\\lib\\site-packages\\sklearn\\metrics\\_classification.py:1344: UndefinedMetricWarning: Recall and F-score are ill-defined and being set to 0.0 in labels with no true samples. Use `zero_division` parameter to control this behavior.\n",
      "  _warn_prf(average, modifier, msg_start, len(result))\n",
      "d:\\VENVS\\Envs\\nlp_310\\lib\\site-packages\\sklearn\\metrics\\_classification.py:1344: UndefinedMetricWarning: Recall and F-score are ill-defined and being set to 0.0 in labels with no true samples. Use `zero_division` parameter to control this behavior.\n",
      "  _warn_prf(average, modifier, msg_start, len(result))\n",
      "d:\\VENVS\\Envs\\nlp_310\\lib\\site-packages\\sklearn\\metrics\\_classification.py:1344: UndefinedMetricWarning: Recall and F-score are ill-defined and being set to 0.0 in labels with no true samples. Use `zero_division` parameter to control this behavior.\n",
      "  _warn_prf(average, modifier, msg_start, len(result))\n",
      "d:\\VENVS\\Envs\\nlp_310\\lib\\site-packages\\sklearn\\metrics\\_classification.py:1344: UndefinedMetricWarning: Recall and F-score are ill-defined and being set to 0.0 in labels with no true samples. Use `zero_division` parameter to control this behavior.\n",
      "  _warn_prf(average, modifier, msg_start, len(result))\n",
      "d:\\VENVS\\Envs\\nlp_310\\lib\\site-packages\\sklearn\\metrics\\_classification.py:1344: UndefinedMetricWarning: Recall and F-score are ill-defined and being set to 0.0 in labels with no true samples. Use `zero_division` parameter to control this behavior.\n",
      "  _warn_prf(average, modifier, msg_start, len(result))\n",
      "d:\\VENVS\\Envs\\nlp_310\\lib\\site-packages\\sklearn\\metrics\\_classification.py:1344: UndefinedMetricWarning: Recall and F-score are ill-defined and being set to 0.0 in labels with no true samples. Use `zero_division` parameter to control this behavior.\n",
      "  _warn_prf(average, modifier, msg_start, len(result))\n",
      "d:\\VENVS\\Envs\\nlp_310\\lib\\site-packages\\sklearn\\metrics\\_classification.py:1344: UndefinedMetricWarning: Recall and F-score are ill-defined and being set to 0.0 in labels with no true samples. Use `zero_division` parameter to control this behavior.\n",
      "  _warn_prf(average, modifier, msg_start, len(result))\n",
      "d:\\VENVS\\Envs\\nlp_310\\lib\\site-packages\\sklearn\\metrics\\_classification.py:1344: UndefinedMetricWarning: Recall and F-score are ill-defined and being set to 0.0 in labels with no true samples. Use `zero_division` parameter to control this behavior.\n",
      "  _warn_prf(average, modifier, msg_start, len(result))\n",
      "d:\\VENVS\\Envs\\nlp_310\\lib\\site-packages\\sklearn\\metrics\\_classification.py:1344: UndefinedMetricWarning: Recall and F-score are ill-defined and being set to 0.0 in labels with no true samples. Use `zero_division` parameter to control this behavior.\n",
      "  _warn_prf(average, modifier, msg_start, len(result))\n",
      "d:\\VENVS\\Envs\\nlp_310\\lib\\site-packages\\sklearn\\metrics\\_classification.py:1344: UndefinedMetricWarning: Recall and F-score are ill-defined and being set to 0.0 in labels with no true samples. Use `zero_division` parameter to control this behavior.\n",
      "  _warn_prf(average, modifier, msg_start, len(result))\n",
      "d:\\VENVS\\Envs\\nlp_310\\lib\\site-packages\\sklearn\\metrics\\_classification.py:1344: UndefinedMetricWarning: Recall and F-score are ill-defined and being set to 0.0 in labels with no true samples. Use `zero_division` parameter to control this behavior.\n",
      "  _warn_prf(average, modifier, msg_start, len(result))\n",
      "d:\\VENVS\\Envs\\nlp_310\\lib\\site-packages\\sklearn\\metrics\\_classification.py:1344: UndefinedMetricWarning: Recall and F-score are ill-defined and being set to 0.0 in labels with no true samples. Use `zero_division` parameter to control this behavior.\n",
      "  _warn_prf(average, modifier, msg_start, len(result))\n",
      "d:\\VENVS\\Envs\\nlp_310\\lib\\site-packages\\sklearn\\metrics\\_classification.py:1344: UndefinedMetricWarning: Recall and F-score are ill-defined and being set to 0.0 in labels with no true samples. Use `zero_division` parameter to control this behavior.\n",
      "  _warn_prf(average, modifier, msg_start, len(result))\n",
      "d:\\VENVS\\Envs\\nlp_310\\lib\\site-packages\\sklearn\\metrics\\_classification.py:1344: UndefinedMetricWarning: Recall and F-score are ill-defined and being set to 0.0 in labels with no true samples. Use `zero_division` parameter to control this behavior.\n",
      "  _warn_prf(average, modifier, msg_start, len(result))\n",
      "d:\\VENVS\\Envs\\nlp_310\\lib\\site-packages\\sklearn\\metrics\\_classification.py:1344: UndefinedMetricWarning: Recall and F-score are ill-defined and being set to 0.0 in labels with no true samples. Use `zero_division` parameter to control this behavior.\n",
      "  _warn_prf(average, modifier, msg_start, len(result))\n",
      "d:\\VENVS\\Envs\\nlp_310\\lib\\site-packages\\sklearn\\metrics\\_classification.py:1344: UndefinedMetricWarning: Recall and F-score are ill-defined and being set to 0.0 in labels with no true samples. Use `zero_division` parameter to control this behavior.\n",
      "  _warn_prf(average, modifier, msg_start, len(result))\n",
      "d:\\VENVS\\Envs\\nlp_310\\lib\\site-packages\\sklearn\\metrics\\_classification.py:1344: UndefinedMetricWarning: Recall and F-score are ill-defined and being set to 0.0 in labels with no true samples. Use `zero_division` parameter to control this behavior.\n",
      "  _warn_prf(average, modifier, msg_start, len(result))\n",
      "d:\\VENVS\\Envs\\nlp_310\\lib\\site-packages\\sklearn\\metrics\\_classification.py:1344: UndefinedMetricWarning: Recall and F-score are ill-defined and being set to 0.0 in labels with no true samples. Use `zero_division` parameter to control this behavior.\n",
      "  _warn_prf(average, modifier, msg_start, len(result))\n",
      "d:\\VENVS\\Envs\\nlp_310\\lib\\site-packages\\sklearn\\metrics\\_classification.py:1344: UndefinedMetricWarning: Recall and F-score are ill-defined and being set to 0.0 in labels with no true samples. Use `zero_division` parameter to control this behavior.\n",
      "  _warn_prf(average, modifier, msg_start, len(result))\n",
      "d:\\VENVS\\Envs\\nlp_310\\lib\\site-packages\\sklearn\\metrics\\_classification.py:1344: UndefinedMetricWarning: Recall and F-score are ill-defined and being set to 0.0 in labels with no true samples. Use `zero_division` parameter to control this behavior.\n",
      "  _warn_prf(average, modifier, msg_start, len(result))\n",
      "d:\\VENVS\\Envs\\nlp_310\\lib\\site-packages\\sklearn\\metrics\\_classification.py:1344: UndefinedMetricWarning: Recall and F-score are ill-defined and being set to 0.0 in labels with no true samples. Use `zero_division` parameter to control this behavior.\n",
      "  _warn_prf(average, modifier, msg_start, len(result))\n",
      "d:\\VENVS\\Envs\\nlp_310\\lib\\site-packages\\sklearn\\metrics\\_classification.py:1344: UndefinedMetricWarning: Recall and F-score are ill-defined and being set to 0.0 in labels with no true samples. Use `zero_division` parameter to control this behavior.\n",
      "  _warn_prf(average, modifier, msg_start, len(result))\n",
      "d:\\VENVS\\Envs\\nlp_310\\lib\\site-packages\\sklearn\\metrics\\_classification.py:1344: UndefinedMetricWarning: Recall and F-score are ill-defined and being set to 0.0 in labels with no true samples. Use `zero_division` parameter to control this behavior.\n",
      "  _warn_prf(average, modifier, msg_start, len(result))\n",
      "d:\\VENVS\\Envs\\nlp_310\\lib\\site-packages\\sklearn\\metrics\\_classification.py:1344: UndefinedMetricWarning: Recall and F-score are ill-defined and being set to 0.0 in labels with no true samples. Use `zero_division` parameter to control this behavior.\n",
      "  _warn_prf(average, modifier, msg_start, len(result))\n",
      "d:\\VENVS\\Envs\\nlp_310\\lib\\site-packages\\sklearn\\metrics\\_classification.py:1344: UndefinedMetricWarning: Recall and F-score are ill-defined and being set to 0.0 in labels with no true samples. Use `zero_division` parameter to control this behavior.\n",
      "  _warn_prf(average, modifier, msg_start, len(result))\n",
      "d:\\VENVS\\Envs\\nlp_310\\lib\\site-packages\\sklearn\\metrics\\_classification.py:1344: UndefinedMetricWarning: Recall and F-score are ill-defined and being set to 0.0 in labels with no true samples. Use `zero_division` parameter to control this behavior.\n",
      "  _warn_prf(average, modifier, msg_start, len(result))\n",
      "d:\\VENVS\\Envs\\nlp_310\\lib\\site-packages\\sklearn\\metrics\\_classification.py:1344: UndefinedMetricWarning: Recall and F-score are ill-defined and being set to 0.0 in labels with no true samples. Use `zero_division` parameter to control this behavior.\n",
      "  _warn_prf(average, modifier, msg_start, len(result))\n",
      "d:\\VENVS\\Envs\\nlp_310\\lib\\site-packages\\sklearn\\metrics\\_classification.py:1344: UndefinedMetricWarning: Recall and F-score are ill-defined and being set to 0.0 in labels with no true samples. Use `zero_division` parameter to control this behavior.\n",
      "  _warn_prf(average, modifier, msg_start, len(result))\n",
      "d:\\VENVS\\Envs\\nlp_310\\lib\\site-packages\\sklearn\\metrics\\_classification.py:1344: UndefinedMetricWarning: Recall and F-score are ill-defined and being set to 0.0 in labels with no true samples. Use `zero_division` parameter to control this behavior.\n",
      "  _warn_prf(average, modifier, msg_start, len(result))\n",
      "d:\\VENVS\\Envs\\nlp_310\\lib\\site-packages\\sklearn\\metrics\\_classification.py:1344: UndefinedMetricWarning: Recall and F-score are ill-defined and being set to 0.0 in labels with no true samples. Use `zero_division` parameter to control this behavior.\n",
      "  _warn_prf(average, modifier, msg_start, len(result))\n",
      "d:\\VENVS\\Envs\\nlp_310\\lib\\site-packages\\sklearn\\metrics\\_classification.py:1344: UndefinedMetricWarning: Recall and F-score are ill-defined and being set to 0.0 in labels with no true samples. Use `zero_division` parameter to control this behavior.\n",
      "  _warn_prf(average, modifier, msg_start, len(result))\n",
      "d:\\VENVS\\Envs\\nlp_310\\lib\\site-packages\\sklearn\\metrics\\_classification.py:1344: UndefinedMetricWarning: Recall and F-score are ill-defined and being set to 0.0 in labels with no true samples. Use `zero_division` parameter to control this behavior.\n",
      "  _warn_prf(average, modifier, msg_start, len(result))\n",
      "d:\\VENVS\\Envs\\nlp_310\\lib\\site-packages\\sklearn\\metrics\\_classification.py:1344: UndefinedMetricWarning: Recall and F-score are ill-defined and being set to 0.0 in labels with no true samples. Use `zero_division` parameter to control this behavior.\n",
      "  _warn_prf(average, modifier, msg_start, len(result))\n",
      "d:\\VENVS\\Envs\\nlp_310\\lib\\site-packages\\sklearn\\metrics\\_classification.py:1344: UndefinedMetricWarning: Recall and F-score are ill-defined and being set to 0.0 in labels with no true samples. Use `zero_division` parameter to control this behavior.\n",
      "  _warn_prf(average, modifier, msg_start, len(result))\n",
      "d:\\VENVS\\Envs\\nlp_310\\lib\\site-packages\\sklearn\\metrics\\_classification.py:1344: UndefinedMetricWarning: Recall and F-score are ill-defined and being set to 0.0 in labels with no true samples. Use `zero_division` parameter to control this behavior.\n",
      "  _warn_prf(average, modifier, msg_start, len(result))\n",
      "d:\\VENVS\\Envs\\nlp_310\\lib\\site-packages\\sklearn\\metrics\\_classification.py:1344: UndefinedMetricWarning: Recall and F-score are ill-defined and being set to 0.0 in labels with no true samples. Use `zero_division` parameter to control this behavior.\n",
      "  _warn_prf(average, modifier, msg_start, len(result))\n",
      "d:\\VENVS\\Envs\\nlp_310\\lib\\site-packages\\sklearn\\metrics\\_classification.py:1344: UndefinedMetricWarning: Recall and F-score are ill-defined and being set to 0.0 in labels with no true samples. Use `zero_division` parameter to control this behavior.\n",
      "  _warn_prf(average, modifier, msg_start, len(result))\n",
      "d:\\VENVS\\Envs\\nlp_310\\lib\\site-packages\\sklearn\\metrics\\_classification.py:1344: UndefinedMetricWarning: Recall and F-score are ill-defined and being set to 0.0 in labels with no true samples. Use `zero_division` parameter to control this behavior.\n",
      "  _warn_prf(average, modifier, msg_start, len(result))\n",
      "d:\\VENVS\\Envs\\nlp_310\\lib\\site-packages\\sklearn\\metrics\\_classification.py:1344: UndefinedMetricWarning: Recall and F-score are ill-defined and being set to 0.0 in labels with no true samples. Use `zero_division` parameter to control this behavior.\n",
      "  _warn_prf(average, modifier, msg_start, len(result))\n",
      "d:\\VENVS\\Envs\\nlp_310\\lib\\site-packages\\sklearn\\metrics\\_classification.py:1344: UndefinedMetricWarning: Recall and F-score are ill-defined and being set to 0.0 in labels with no true samples. Use `zero_division` parameter to control this behavior.\n",
      "  _warn_prf(average, modifier, msg_start, len(result))\n",
      "d:\\VENVS\\Envs\\nlp_310\\lib\\site-packages\\sklearn\\metrics\\_classification.py:1344: UndefinedMetricWarning: Recall and F-score are ill-defined and being set to 0.0 in labels with no true samples. Use `zero_division` parameter to control this behavior.\n",
      "  _warn_prf(average, modifier, msg_start, len(result))\n",
      "d:\\VENVS\\Envs\\nlp_310\\lib\\site-packages\\sklearn\\metrics\\_classification.py:1344: UndefinedMetricWarning: Recall and F-score are ill-defined and being set to 0.0 in labels with no true samples. Use `zero_division` parameter to control this behavior.\n",
      "  _warn_prf(average, modifier, msg_start, len(result))\n",
      "d:\\VENVS\\Envs\\nlp_310\\lib\\site-packages\\sklearn\\metrics\\_classification.py:1344: UndefinedMetricWarning: Recall and F-score are ill-defined and being set to 0.0 in labels with no true samples. Use `zero_division` parameter to control this behavior.\n",
      "  _warn_prf(average, modifier, msg_start, len(result))\n",
      "d:\\VENVS\\Envs\\nlp_310\\lib\\site-packages\\sklearn\\metrics\\_classification.py:1344: UndefinedMetricWarning: Recall and F-score are ill-defined and being set to 0.0 in labels with no true samples. Use `zero_division` parameter to control this behavior.\n",
      "  _warn_prf(average, modifier, msg_start, len(result))\n",
      "d:\\VENVS\\Envs\\nlp_310\\lib\\site-packages\\sklearn\\metrics\\_classification.py:1344: UndefinedMetricWarning: Recall and F-score are ill-defined and being set to 0.0 in labels with no true samples. Use `zero_division` parameter to control this behavior.\n",
      "  _warn_prf(average, modifier, msg_start, len(result))\n",
      "d:\\VENVS\\Envs\\nlp_310\\lib\\site-packages\\sklearn\\metrics\\_classification.py:1344: UndefinedMetricWarning: Recall and F-score are ill-defined and being set to 0.0 in labels with no true samples. Use `zero_division` parameter to control this behavior.\n",
      "  _warn_prf(average, modifier, msg_start, len(result))\n",
      "d:\\VENVS\\Envs\\nlp_310\\lib\\site-packages\\sklearn\\metrics\\_classification.py:1344: UndefinedMetricWarning: Recall and F-score are ill-defined and being set to 0.0 in labels with no true samples. Use `zero_division` parameter to control this behavior.\n",
      "  _warn_prf(average, modifier, msg_start, len(result))\n",
      "d:\\VENVS\\Envs\\nlp_310\\lib\\site-packages\\sklearn\\metrics\\_classification.py:1344: UndefinedMetricWarning: Recall and F-score are ill-defined and being set to 0.0 in labels with no true samples. Use `zero_division` parameter to control this behavior.\n",
      "  _warn_prf(average, modifier, msg_start, len(result))\n",
      "d:\\VENVS\\Envs\\nlp_310\\lib\\site-packages\\sklearn\\metrics\\_classification.py:1344: UndefinedMetricWarning: Recall and F-score are ill-defined and being set to 0.0 in labels with no true samples. Use `zero_division` parameter to control this behavior.\n",
      "  _warn_prf(average, modifier, msg_start, len(result))\n",
      "d:\\VENVS\\Envs\\nlp_310\\lib\\site-packages\\sklearn\\metrics\\_classification.py:1344: UndefinedMetricWarning: Recall and F-score are ill-defined and being set to 0.0 in labels with no true samples. Use `zero_division` parameter to control this behavior.\n",
      "  _warn_prf(average, modifier, msg_start, len(result))\n",
      "d:\\VENVS\\Envs\\nlp_310\\lib\\site-packages\\sklearn\\metrics\\_classification.py:1344: UndefinedMetricWarning: Recall and F-score are ill-defined and being set to 0.0 in labels with no true samples. Use `zero_division` parameter to control this behavior.\n",
      "  _warn_prf(average, modifier, msg_start, len(result))\n",
      "d:\\VENVS\\Envs\\nlp_310\\lib\\site-packages\\sklearn\\metrics\\_classification.py:1344: UndefinedMetricWarning: Recall and F-score are ill-defined and being set to 0.0 in labels with no true samples. Use `zero_division` parameter to control this behavior.\n",
      "  _warn_prf(average, modifier, msg_start, len(result))\n",
      "d:\\VENVS\\Envs\\nlp_310\\lib\\site-packages\\sklearn\\metrics\\_classification.py:1344: UndefinedMetricWarning: Recall and F-score are ill-defined and being set to 0.0 in labels with no true samples. Use `zero_division` parameter to control this behavior.\n",
      "  _warn_prf(average, modifier, msg_start, len(result))\n",
      "d:\\VENVS\\Envs\\nlp_310\\lib\\site-packages\\sklearn\\metrics\\_classification.py:1344: UndefinedMetricWarning: Recall and F-score are ill-defined and being set to 0.0 in labels with no true samples. Use `zero_division` parameter to control this behavior.\n",
      "  _warn_prf(average, modifier, msg_start, len(result))\n",
      "d:\\VENVS\\Envs\\nlp_310\\lib\\site-packages\\sklearn\\metrics\\_classification.py:1344: UndefinedMetricWarning: Recall and F-score are ill-defined and being set to 0.0 in labels with no true samples. Use `zero_division` parameter to control this behavior.\n",
      "  _warn_prf(average, modifier, msg_start, len(result))\n",
      "d:\\VENVS\\Envs\\nlp_310\\lib\\site-packages\\sklearn\\metrics\\_classification.py:1344: UndefinedMetricWarning: Recall and F-score are ill-defined and being set to 0.0 in labels with no true samples. Use `zero_division` parameter to control this behavior.\n",
      "  _warn_prf(average, modifier, msg_start, len(result))\n",
      "d:\\VENVS\\Envs\\nlp_310\\lib\\site-packages\\sklearn\\metrics\\_classification.py:1344: UndefinedMetricWarning: Recall and F-score are ill-defined and being set to 0.0 in labels with no true samples. Use `zero_division` parameter to control this behavior.\n",
      "  _warn_prf(average, modifier, msg_start, len(result))\n",
      "d:\\VENVS\\Envs\\nlp_310\\lib\\site-packages\\sklearn\\metrics\\_classification.py:1344: UndefinedMetricWarning: Recall and F-score are ill-defined and being set to 0.0 in labels with no true samples. Use `zero_division` parameter to control this behavior.\n",
      "  _warn_prf(average, modifier, msg_start, len(result))\n",
      "d:\\VENVS\\Envs\\nlp_310\\lib\\site-packages\\sklearn\\metrics\\_classification.py:1344: UndefinedMetricWarning: Recall and F-score are ill-defined and being set to 0.0 in labels with no true samples. Use `zero_division` parameter to control this behavior.\n",
      "  _warn_prf(average, modifier, msg_start, len(result))\n",
      "d:\\VENVS\\Envs\\nlp_310\\lib\\site-packages\\sklearn\\metrics\\_classification.py:1344: UndefinedMetricWarning: Recall and F-score are ill-defined and being set to 0.0 in labels with no true samples. Use `zero_division` parameter to control this behavior.\n",
      "  _warn_prf(average, modifier, msg_start, len(result))\n",
      "d:\\VENVS\\Envs\\nlp_310\\lib\\site-packages\\sklearn\\metrics\\_classification.py:1344: UndefinedMetricWarning: Recall and F-score are ill-defined and being set to 0.0 in labels with no true samples. Use `zero_division` parameter to control this behavior.\n",
      "  _warn_prf(average, modifier, msg_start, len(result))\n",
      "d:\\VENVS\\Envs\\nlp_310\\lib\\site-packages\\sklearn\\metrics\\_classification.py:1344: UndefinedMetricWarning: Recall and F-score are ill-defined and being set to 0.0 in labels with no true samples. Use `zero_division` parameter to control this behavior.\n",
      "  _warn_prf(average, modifier, msg_start, len(result))\n",
      "d:\\VENVS\\Envs\\nlp_310\\lib\\site-packages\\sklearn\\metrics\\_classification.py:1344: UndefinedMetricWarning: Recall and F-score are ill-defined and being set to 0.0 in labels with no true samples. Use `zero_division` parameter to control this behavior.\n",
      "  _warn_prf(average, modifier, msg_start, len(result))\n",
      "d:\\VENVS\\Envs\\nlp_310\\lib\\site-packages\\sklearn\\metrics\\_classification.py:1344: UndefinedMetricWarning: Recall and F-score are ill-defined and being set to 0.0 in labels with no true samples. Use `zero_division` parameter to control this behavior.\n",
      "  _warn_prf(average, modifier, msg_start, len(result))\n",
      "d:\\VENVS\\Envs\\nlp_310\\lib\\site-packages\\sklearn\\metrics\\_classification.py:1344: UndefinedMetricWarning: Recall and F-score are ill-defined and being set to 0.0 in labels with no true samples. Use `zero_division` parameter to control this behavior.\n",
      "  _warn_prf(average, modifier, msg_start, len(result))\n",
      "d:\\VENVS\\Envs\\nlp_310\\lib\\site-packages\\sklearn\\metrics\\_classification.py:1344: UndefinedMetricWarning: Recall and F-score are ill-defined and being set to 0.0 in labels with no true samples. Use `zero_division` parameter to control this behavior.\n",
      "  _warn_prf(average, modifier, msg_start, len(result))\n",
      "d:\\VENVS\\Envs\\nlp_310\\lib\\site-packages\\sklearn\\metrics\\_classification.py:1344: UndefinedMetricWarning: Recall and F-score are ill-defined and being set to 0.0 in labels with no true samples. Use `zero_division` parameter to control this behavior.\n",
      "  _warn_prf(average, modifier, msg_start, len(result))\n",
      "d:\\VENVS\\Envs\\nlp_310\\lib\\site-packages\\sklearn\\metrics\\_classification.py:1344: UndefinedMetricWarning: Recall and F-score are ill-defined and being set to 0.0 in labels with no true samples. Use `zero_division` parameter to control this behavior.\n",
      "  _warn_prf(average, modifier, msg_start, len(result))\n",
      "d:\\VENVS\\Envs\\nlp_310\\lib\\site-packages\\sklearn\\metrics\\_classification.py:1344: UndefinedMetricWarning: Recall and F-score are ill-defined and being set to 0.0 in labels with no true samples. Use `zero_division` parameter to control this behavior.\n",
      "  _warn_prf(average, modifier, msg_start, len(result))\n",
      "d:\\VENVS\\Envs\\nlp_310\\lib\\site-packages\\sklearn\\metrics\\_classification.py:1344: UndefinedMetricWarning: Recall and F-score are ill-defined and being set to 0.0 in labels with no true samples. Use `zero_division` parameter to control this behavior.\n",
      "  _warn_prf(average, modifier, msg_start, len(result))\n",
      "d:\\VENVS\\Envs\\nlp_310\\lib\\site-packages\\sklearn\\metrics\\_classification.py:1344: UndefinedMetricWarning: Recall and F-score are ill-defined and being set to 0.0 in labels with no true samples. Use `zero_division` parameter to control this behavior.\n",
      "  _warn_prf(average, modifier, msg_start, len(result))\n",
      "d:\\VENVS\\Envs\\nlp_310\\lib\\site-packages\\sklearn\\metrics\\_classification.py:1344: UndefinedMetricWarning: Recall and F-score are ill-defined and being set to 0.0 in labels with no true samples. Use `zero_division` parameter to control this behavior.\n",
      "  _warn_prf(average, modifier, msg_start, len(result))\n",
      "d:\\VENVS\\Envs\\nlp_310\\lib\\site-packages\\sklearn\\metrics\\_classification.py:1344: UndefinedMetricWarning: Recall and F-score are ill-defined and being set to 0.0 in labels with no true samples. Use `zero_division` parameter to control this behavior.\n",
      "  _warn_prf(average, modifier, msg_start, len(result))\n",
      "d:\\VENVS\\Envs\\nlp_310\\lib\\site-packages\\sklearn\\metrics\\_classification.py:1344: UndefinedMetricWarning: Recall and F-score are ill-defined and being set to 0.0 in labels with no true samples. Use `zero_division` parameter to control this behavior.\n",
      "  _warn_prf(average, modifier, msg_start, len(result))\n",
      "d:\\VENVS\\Envs\\nlp_310\\lib\\site-packages\\sklearn\\metrics\\_classification.py:1344: UndefinedMetricWarning: Recall and F-score are ill-defined and being set to 0.0 in labels with no true samples. Use `zero_division` parameter to control this behavior.\n",
      "  _warn_prf(average, modifier, msg_start, len(result))\n",
      "d:\\VENVS\\Envs\\nlp_310\\lib\\site-packages\\sklearn\\metrics\\_classification.py:1344: UndefinedMetricWarning: Recall and F-score are ill-defined and being set to 0.0 in labels with no true samples. Use `zero_division` parameter to control this behavior.\n",
      "  _warn_prf(average, modifier, msg_start, len(result))\n",
      "d:\\VENVS\\Envs\\nlp_310\\lib\\site-packages\\sklearn\\metrics\\_classification.py:1344: UndefinedMetricWarning: Recall and F-score are ill-defined and being set to 0.0 in labels with no true samples. Use `zero_division` parameter to control this behavior.\n",
      "  _warn_prf(average, modifier, msg_start, len(result))\n",
      "d:\\VENVS\\Envs\\nlp_310\\lib\\site-packages\\sklearn\\metrics\\_classification.py:1344: UndefinedMetricWarning: Recall and F-score are ill-defined and being set to 0.0 in labels with no true samples. Use `zero_division` parameter to control this behavior.\n",
      "  _warn_prf(average, modifier, msg_start, len(result))\n",
      "d:\\VENVS\\Envs\\nlp_310\\lib\\site-packages\\sklearn\\metrics\\_classification.py:1344: UndefinedMetricWarning: Recall and F-score are ill-defined and being set to 0.0 in labels with no true samples. Use `zero_division` parameter to control this behavior.\n",
      "  _warn_prf(average, modifier, msg_start, len(result))\n",
      "d:\\VENVS\\Envs\\nlp_310\\lib\\site-packages\\sklearn\\metrics\\_classification.py:1344: UndefinedMetricWarning: Recall and F-score are ill-defined and being set to 0.0 in labels with no true samples. Use `zero_division` parameter to control this behavior.\n",
      "  _warn_prf(average, modifier, msg_start, len(result))\n",
      "d:\\VENVS\\Envs\\nlp_310\\lib\\site-packages\\sklearn\\metrics\\_classification.py:1344: UndefinedMetricWarning: Recall and F-score are ill-defined and being set to 0.0 in labels with no true samples. Use `zero_division` parameter to control this behavior.\n",
      "  _warn_prf(average, modifier, msg_start, len(result))\n",
      "d:\\VENVS\\Envs\\nlp_310\\lib\\site-packages\\sklearn\\metrics\\_classification.py:1344: UndefinedMetricWarning: Recall and F-score are ill-defined and being set to 0.0 in labels with no true samples. Use `zero_division` parameter to control this behavior.\n",
      "  _warn_prf(average, modifier, msg_start, len(result))\n",
      "d:\\VENVS\\Envs\\nlp_310\\lib\\site-packages\\sklearn\\metrics\\_classification.py:1344: UndefinedMetricWarning: Recall and F-score are ill-defined and being set to 0.0 in labels with no true samples. Use `zero_division` parameter to control this behavior.\n",
      "  _warn_prf(average, modifier, msg_start, len(result))\n",
      "d:\\VENVS\\Envs\\nlp_310\\lib\\site-packages\\sklearn\\metrics\\_classification.py:1344: UndefinedMetricWarning: Recall and F-score are ill-defined and being set to 0.0 in labels with no true samples. Use `zero_division` parameter to control this behavior.\n",
      "  _warn_prf(average, modifier, msg_start, len(result))\n",
      "d:\\VENVS\\Envs\\nlp_310\\lib\\site-packages\\sklearn\\metrics\\_classification.py:1344: UndefinedMetricWarning: Recall and F-score are ill-defined and being set to 0.0 in labels with no true samples. Use `zero_division` parameter to control this behavior.\n",
      "  _warn_prf(average, modifier, msg_start, len(result))\n",
      "d:\\VENVS\\Envs\\nlp_310\\lib\\site-packages\\sklearn\\metrics\\_classification.py:1344: UndefinedMetricWarning: Recall and F-score are ill-defined and being set to 0.0 in labels with no true samples. Use `zero_division` parameter to control this behavior.\n",
      "  _warn_prf(average, modifier, msg_start, len(result))\n",
      "d:\\VENVS\\Envs\\nlp_310\\lib\\site-packages\\sklearn\\metrics\\_classification.py:1344: UndefinedMetricWarning: Recall and F-score are ill-defined and being set to 0.0 in labels with no true samples. Use `zero_division` parameter to control this behavior.\n",
      "  _warn_prf(average, modifier, msg_start, len(result))\n",
      "d:\\VENVS\\Envs\\nlp_310\\lib\\site-packages\\sklearn\\metrics\\_classification.py:1344: UndefinedMetricWarning: Recall and F-score are ill-defined and being set to 0.0 in labels with no true samples. Use `zero_division` parameter to control this behavior.\n",
      "  _warn_prf(average, modifier, msg_start, len(result))\n",
      "d:\\VENVS\\Envs\\nlp_310\\lib\\site-packages\\sklearn\\metrics\\_classification.py:1344: UndefinedMetricWarning: Recall and F-score are ill-defined and being set to 0.0 in labels with no true samples. Use `zero_division` parameter to control this behavior.\n",
      "  _warn_prf(average, modifier, msg_start, len(result))\n",
      "d:\\VENVS\\Envs\\nlp_310\\lib\\site-packages\\sklearn\\metrics\\_classification.py:1344: UndefinedMetricWarning: Recall and F-score are ill-defined and being set to 0.0 in labels with no true samples. Use `zero_division` parameter to control this behavior.\n",
      "  _warn_prf(average, modifier, msg_start, len(result))\n",
      "d:\\VENVS\\Envs\\nlp_310\\lib\\site-packages\\sklearn\\metrics\\_classification.py:1344: UndefinedMetricWarning: Recall and F-score are ill-defined and being set to 0.0 in labels with no true samples. Use `zero_division` parameter to control this behavior.\n",
      "  _warn_prf(average, modifier, msg_start, len(result))\n",
      "d:\\VENVS\\Envs\\nlp_310\\lib\\site-packages\\sklearn\\metrics\\_classification.py:1344: UndefinedMetricWarning: Recall and F-score are ill-defined and being set to 0.0 in labels with no true samples. Use `zero_division` parameter to control this behavior.\n",
      "  _warn_prf(average, modifier, msg_start, len(result))\n",
      "d:\\VENVS\\Envs\\nlp_310\\lib\\site-packages\\sklearn\\metrics\\_classification.py:1344: UndefinedMetricWarning: Recall and F-score are ill-defined and being set to 0.0 in labels with no true samples. Use `zero_division` parameter to control this behavior.\n",
      "  _warn_prf(average, modifier, msg_start, len(result))\n"
     ]
    },
    {
     "data": {
      "text/plain": [
       "{'report': {'0': {'precision': 0.9826388888888888,\n",
       "   'recall': 0.9860627177700348,\n",
       "   'f1-score': 0.9843478260869565,\n",
       "   'support': 287},\n",
       "  '2': {'precision': 0.0, 'recall': 0.0, 'f1-score': 0.0, 'support': 1},\n",
       "  '3': {'precision': 1.0, 'recall': 1.0, 'f1-score': 1.0, 'support': 3},\n",
       "  '4': {'precision': 0.9245283018867925,\n",
       "   'recall': 0.9423076923076923,\n",
       "   'f1-score': 0.9333333333333333,\n",
       "   'support': 52},\n",
       "  '5': {'precision': 1.0,\n",
       "   'recall': 0.8333333333333334,\n",
       "   'f1-score': 0.9090909090909091,\n",
       "   'support': 12},\n",
       "  '6': {'precision': 1.0,\n",
       "   'recall': 0.9259259259259259,\n",
       "   'f1-score': 0.9615384615384615,\n",
       "   'support': 54},\n",
       "  '7': {'precision': 0.9568965517241379,\n",
       "   'recall': 0.9487179487179487,\n",
       "   'f1-score': 0.9527896995708154,\n",
       "   'support': 117},\n",
       "  'accuracy': 0.9619771863117871,\n",
       "  'macro avg': {'precision': 0.8377233917856884,\n",
       "   'recall': 0.8051925168649908,\n",
       "   'f1-score': 0.820157175660068,\n",
       "   'support': 526},\n",
       "  'weighted avg': {'precision': 0.9715774322451491,\n",
       "   'recall': 0.9619771863117871,\n",
       "   'f1-score': 0.9664443385974204,\n",
       "   'support': 526}},\n",
       " 'epoch': 15}"
      ]
     },
     "execution_count": 70,
     "metadata": {},
     "output_type": "execute_result"
    }
   ],
   "source": [
    "train_path = os.path.join(medcat_dir, \n",
    "                          'umls-dutch-v1-10_echoV2', 'input', 'meta_anno', 'metacat_outdb_140423.json')\n",
    "model_path = os.path.join(medcat_dir,\n",
    "                          'umls-dutch-v1-10_echoV2', 'assets', 'models')\n",
    "print(\"Commencing training...\")\n",
    "meta_cat.train(json_path=train_path, \n",
    "               save_dir_path=model_path)"
   ]
  },
  {
   "cell_type": "code",
   "execution_count": 40,
   "metadata": {},
   "outputs": [],
   "source": [
    "meta_cat.save(save_dir_path=model_path)\n",
    "# now manually add the model to the model_pack...."
   ]
  },
  {
   "attachments": {},
   "cell_type": "markdown",
   "metadata": {},
   "source": [
    "## Load  new model pack"
   ]
  },
  {
   "cell_type": "code",
   "execution_count": 73,
   "metadata": {},
   "outputs": [
    {
     "name": "stderr",
     "output_type": "stream",
     "text": [
      "d:\\VENVS\\Envs\\nlp_310\\lib\\site-packages\\spacy\\util.py:887: UserWarning: [W095] Model 'nl_core_news_lg' (3.1.0) was trained with spaCy v3.1 and may not be 100% compatible with the current version (3.5.2). If you see errors or degraded performance, download a newer compatible model or retrain your custom model with the current spaCy version. For more details and available updates, run: python -m spacy validate\n",
      "  warnings.warn(warn_msg)\n"
     ]
    }
   ],
   "source": [
    "MCATnew = CAT.load_model_pack(os.path.join(medcat_dir, pack_location))"
   ]
  },
  {
   "attachments": {},
   "cell_type": "markdown",
   "metadata": {},
   "source": [
    "## Apply to texts"
   ]
  },
  {
   "cell_type": "code",
   "execution_count": 74,
   "metadata": {},
   "outputs": [],
   "source": [
    "from spacy import displacy"
   ]
  },
  {
   "cell_type": "code",
   "execution_count": 75,
   "metadata": {},
   "outputs": [
    {
     "data": {
      "text/plain": [
       "[{'start': 61,\n",
       "  'end': 112,\n",
       "  'token_start': 11,\n",
       "  'token_end': 17,\n",
       "  'label': 'lv_sys_func_moderate'}]"
      ]
     },
     "execution_count": 75,
     "metadata": {},
     "output_type": "execute_result"
    }
   ],
   "source": [
    "texts.iloc[232].spans"
   ]
  },
  {
   "cell_type": "code",
   "execution_count": 76,
   "metadata": {},
   "outputs": [
    {
     "data": {
      "text/plain": [
       "'Visueel matige tot redelijke systolische LV functie'"
      ]
     },
     "execution_count": 76,
     "metadata": {},
     "output_type": "execute_result"
    }
   ],
   "source": [
    "texts.text.values[232][61:112]"
   ]
  },
  {
   "cell_type": "code",
   "execution_count": 31,
   "metadata": {},
   "outputs": [
    {
     "data": {
      "text/html": [
       "<span class=\"tex2jax_ignore\"><div class=\"entities\" style=\"line-height: 2.5; direction: ltr\">Short focused echo.\r</br>\r</br>\n",
       "<mark class=\"entity\" style=\"background: #ddd; padding: 0.45em 0.6em; margin: 0 0.25em; line-height: 1; border-radius: 0.35em;\">\n",
       "    Linker ventrikel\n",
       "    <span style=\"font-size: 0.8em; font-weight: bold; line-height: 1; border-radius: 0.35em; vertical-align: middle; margin-left: 0.5rem\">concept</span>\n",
       "</mark>\n",
       " is niet gedilateerd. Visueel matige tot redelijke systolische LV functie. Rechter ventrikel functie gelet op de TAPSE normaal. De atria zijn gedilateerd tgv \n",
       "<mark class=\"entity\" style=\"background: #ddd; padding: 0.45em 0.6em; margin: 0 0.25em; line-height: 1; border-radius: 0.35em;\">\n",
       "    harttransplantatie\n",
       "    <span style=\"font-size: 0.8em; font-weight: bold; line-height: 1; border-radius: 0.35em; vertical-align: middle; margin-left: 0.5rem\">concept</span>\n",
       "</mark>\n",
       ". De \n",
       "<mark class=\"entity\" style=\"background: #ddd; padding: 0.45em 0.6em; margin: 0 0.25em; line-height: 1; border-radius: 0.35em;\">\n",
       "    aortaklep\n",
       "    <span style=\"font-size: 0.8em; font-weight: bold; line-height: 1; border-radius: 0.35em; vertical-align: middle; margin-left: 0.5rem\">concept</span>\n",
       "</mark>\n",
       " is tricuspide en opent goed. Geen aanwijzingen voor \n",
       "<mark class=\"entity\" style=\"background: #ddd; padding: 0.45em 0.6em; margin: 0 0.25em; line-height: 1; border-radius: 0.35em;\">\n",
       "    aortaklepinsufficiëntie\n",
       "    <span style=\"font-size: 0.8em; font-weight: bold; line-height: 1; border-radius: 0.35em; vertical-align: middle; margin-left: 0.5rem\">concept</span>\n",
       "</mark>\n",
       ". Status na mitraclip plaatsing. Visueel matige rest \n",
       "<mark class=\"entity\" style=\"background: #ddd; padding: 0.45em 0.6em; margin: 0 0.25em; line-height: 1; border-radius: 0.35em;\">\n",
       "    mitralisklepinsufficientie\n",
       "    <span style=\"font-size: 0.8em; font-weight: bold; line-height: 1; border-radius: 0.35em; vertical-align: middle; margin-left: 0.5rem\">concept</span>\n",
       "</mark>\n",
       " met 2 jets. Mean PG 4,6mmHg. \n",
       "<mark class=\"entity\" style=\"background: #ddd; padding: 0.45em 0.6em; margin: 0 0.25em; line-height: 1; border-radius: 0.35em;\">\n",
       "    Matige tricuspidalisklepinsufficiëntie\n",
       "    <span style=\"font-size: 0.8em; font-weight: bold; line-height: 1; border-radius: 0.35em; vertical-align: middle; margin-left: 0.5rem\">concept</span>\n",
       "</mark>\n",
       " bij RV \n",
       "<mark class=\"entity\" style=\"background: #ddd; padding: 0.45em 0.6em; margin: 0 0.25em; line-height: 1; border-radius: 0.35em;\">\n",
       "    lead\n",
       "    <span style=\"font-size: 0.8em; font-weight: bold; line-height: 1; border-radius: 0.35em; vertical-align: middle; margin-left: 0.5rem\">concept</span>\n",
       "</mark>\n",
       " in situ. Max. TI gradient 30mmHg. \n",
       "<mark class=\"entity\" style=\"background: #ddd; padding: 0.45em 0.6em; margin: 0 0.25em; line-height: 1; border-radius: 0.35em;\">\n",
       "    VCI\n",
       "    <span style=\"font-size: 0.8em; font-weight: bold; line-height: 1; border-radius: 0.35em; vertical-align: middle; margin-left: 0.5rem\">concept</span>\n",
       "</mark>\n",
       " slank, \n",
       "<mark class=\"entity\" style=\"background: #ddd; padding: 0.45em 0.6em; margin: 0 0.25em; line-height: 1; border-radius: 0.35em;\">\n",
       "    collaps\n",
       "    <span style=\"font-size: 0.8em; font-weight: bold; line-height: 1; border-radius: 0.35em; vertical-align: middle; margin-left: 0.5rem\">concept</span>\n",
       "</mark>\n",
       " bij sniff. Geschatte RVSP 33mmHg.</div></span>"
      ],
      "text/plain": [
       "<IPython.core.display.HTML object>"
      ]
     },
     "metadata": {},
     "output_type": "display_data"
    }
   ],
   "source": [
    "i = 232\n",
    "doc = MCATnew(texts.text.values[i])\n",
    "displacy.render(doc, style='ent')"
   ]
  },
  {
   "cell_type": "code",
   "execution_count": 78,
   "metadata": {},
   "outputs": [
    {
     "name": "stdout",
     "output_type": "stream",
     "text": [
      "Linker ventrikel {'LeftVentricleFunction': {'value': 'lv_sys_func_moderate', 'confidence': 0.9993826150894165, 'name': 'LeftVentricleFunction'}, 'Negation': {'value': 'not negated', 'confidence': 0.9999436140060425, 'name': 'Negation'}}\n",
      "\n",
      "\n",
      "harttransplantatie {'LeftVentricleFunction': {'value': 'lv_sys_func_normal', 'confidence': 0.999862551689148, 'name': 'LeftVentricleFunction'}, 'Negation': {'value': 'not negated', 'confidence': 0.999977707862854, 'name': 'Negation'}}\n",
      "\n",
      "\n",
      "aortaklep {'LeftVentricleFunction': {'value': 'lv_sys_func_normal', 'confidence': 0.9999521970748901, 'name': 'LeftVentricleFunction'}, 'Negation': {'value': 'not negated', 'confidence': 0.9999804496765137, 'name': 'Negation'}}\n",
      "\n",
      "\n",
      "aortaklepinsufficiëntie {'LeftVentricleFunction': {'value': 'lv_sys_func_moderate', 'confidence': 0.9956921935081482, 'name': 'LeftVentricleFunction'}, 'Negation': {'value': 'negated', 'confidence': 0.9999101161956787, 'name': 'Negation'}}\n",
      "\n",
      "\n",
      "mitralisklepinsufficientie {'LeftVentricleFunction': {'value': 'lv_sys_func_moderate', 'confidence': 0.9899991154670715, 'name': 'LeftVentricleFunction'}, 'Negation': {'value': 'not negated', 'confidence': 0.9999701976776123, 'name': 'Negation'}}\n",
      "\n",
      "\n",
      "Matige tricuspidalisklepinsufficiëntie {'LeftVentricleFunction': {'value': 'lv_sys_func_moderate', 'confidence': 0.985780656337738, 'name': 'LeftVentricleFunction'}, 'Negation': {'value': 'not negated', 'confidence': 0.999956488609314, 'name': 'Negation'}}\n",
      "\n",
      "\n",
      "lead {'LeftVentricleFunction': {'value': 'lv_sys_func_moderate', 'confidence': 0.9381906986236572, 'name': 'LeftVentricleFunction'}, 'Negation': {'value': 'not negated', 'confidence': 0.9999356269836426, 'name': 'Negation'}}\n",
      "\n",
      "\n",
      "VCI {'LeftVentricleFunction': {'value': 'lv_sys_func_moderate', 'confidence': 0.992871105670929, 'name': 'LeftVentricleFunction'}, 'Negation': {'value': 'not negated', 'confidence': 0.9998917579650879, 'name': 'Negation'}}\n",
      "\n",
      "\n",
      "collaps {'LeftVentricleFunction': {'value': 'lv_sys_func_moderate', 'confidence': 0.997399091720581, 'name': 'LeftVentricleFunction'}, 'Negation': {'value': 'not negated', 'confidence': 0.9995017051696777, 'name': 'Negation'}}\n",
      "\n",
      "\n"
     ]
    }
   ],
   "source": [
    "doc = MCATnew(texts.text.values[i])\n",
    "for ent in doc.ents:\n",
    "    print(ent.text,  ent._.meta_anns)\n",
    "    print(\"\\n\")"
   ]
  },
  {
   "cell_type": "code",
   "execution_count": null,
   "metadata": {},
   "outputs": [],
   "source": [
    "hand_voet_re = re.compile(r'(handen|voeten|hand|voet)(.*)', re.IGNORECASE)\n",
    "texts = texts.assign(text_hv=texts.text.str.extract(hand_voet_re)[1])\n",
    "texts = texts.fillna('')"
   ]
  },
  {
   "cell_type": "code",
   "execution_count": null,
   "metadata": {},
   "outputs": [],
   "source": [
    "documents = texts.text_hv.values\n",
    "documents = [(i,t) for i,t in enumerate(documents)]\n",
    "\n",
    "#cat.cdb.config.linking['filters']['cuis'] = set()\n",
    "\n",
    "# make iterator for the documents\n",
    "def doc_iter(docs):\n",
    "    for i, doc in docs:\n",
    "        yield (i, doc)\n",
    "docerator = doc_iter(documents)\n",
    "\n",
    "res = MCATnew.multiprocessing(docerator, \n",
    "                           nproc=16, \n",
    "                           batch_size_chars=300000,\n",
    "                           save_dir_path=medcat_dir + \"/tmp\")"
   ]
  },
  {
   "cell_type": "code",
   "execution_count": null,
   "metadata": {},
   "outputs": [],
   "source": [
    "# go through the entities and check if they are in the inclusion list\n",
    "# if they are in the inclusion store the entity in defaultdict(float) tmp_dict\n",
    "# with the float being the mean polarity.\n",
    "\n",
    "# entity_1   |  entity_2 \n",
    "# -1         |   1\n",
    "\n",
    "neg_map = {'negated': -1, 'not negated': 1}\n",
    "\n",
    "\n",
    "prettified_res_negation_max = []\n",
    "prettified_res_negation = []\n",
    "prettified_res_progress = []\n",
    "prettified_res_stable= []\n",
    "\n",
    "cui_pretty = []\n",
    "index_list = []\n",
    "\n",
    "# TODO: change += to [] and finish with max()\n",
    "\n",
    "for k,v in res.items():\n",
    "    index_list.append(k)\n",
    "    tmp_neg = defaultdict(int)\n",
    "    tmp_neg_max = defaultdict(int)\n",
    "    tmp_prog = defaultdict(int)\n",
    "    tmp_stab = defaultdict(int)\n",
    "    num_ents = len(v['entities'])\n",
    "    for _, ent in v['entities'].items():\n",
    "        cui_pretty.append(tuple((ent['cui'], ent['pretty_name'])))\n",
    "        tmp_neg[ent['cui']] += \\\n",
    "             neg_map[ent['meta_anns']['Negation']['value']]*\\\n",
    "                ent['meta_anns']['Negation']['confidence']/num_ents\n",
    "        tmp_neg_max[ent['cui']] = \\\n",
    "             max(tmp_neg_max[ent['cui']], neg_map[ent['meta_anns']['Negation']['value']]*\\\n",
    "                    ent['meta_anns']['Negation']['confidence'])\n",
    "        if ent['meta_anns']['Progressive Erosion']['value']=='Positive Progressive':\n",
    "            tmp_prog[ent['cui']] += ent['meta_anns']['Progressive Erosion']['confidence']\n",
    "        if ent['meta_anns']['Progressive Erosion']['value']=='Positive Stable':\n",
    "            tmp_stab[ent['cui']] += ent['meta_anns']['Progressive Erosion']['confidence']\n",
    "    \n",
    "    prettified_res_negation_max.append(tmp_neg_max)\n",
    "    prettified_res_negation.append(tmp_neg)\n",
    "    prettified_res_progress.append(tmp_prog)\n",
    "    prettified_res_stable.append(tmp_stab)\n",
    "\n",
    "cui_pretty_map = dict(set(cui_pretty))   "
   ]
  },
  {
   "cell_type": "code",
   "execution_count": null,
   "metadata": {},
   "outputs": [],
   "source": [
    "res_df_negation_max = pd.DataFrame(prettified_res_negation_max, index=index_list)\n",
    "res_df_negation = pd.DataFrame(prettified_res_negation, index=index_list)\n",
    "res_df_progressive = pd.DataFrame(prettified_res_progress, index=index_list)\n",
    "res_df_stable = pd.DataFrame(prettified_res_stable, index=index_list)\n",
    "\n",
    "cuis = res_df_progressive.columns\n",
    "res_df_progressive['progression_count_all'] = res_df_progressive.sum(axis=1)\n",
    "res_df_stable['progression_count_all'] = res_df_stable.sum(axis=1)"
   ]
  },
  {
   "cell_type": "code",
   "execution_count": null,
   "metadata": {},
   "outputs": [],
   "source": [
    "toi = ['degeneratie', 'erosie', 'versmalling', \n",
    "       'ankylose', 'artritis', 'verlies', 'subluxatie', \n",
    "       'slijtage', 'destructie', 'botappositie', 'vervorming',\n",
    "       'afwijking', 'progressie', 'reuma']\n",
    "coi = [c for c in cuis if any(_c in cui_pretty_map[c].lower() for _c in toi)]"
   ]
  },
  {
   "cell_type": "code",
   "execution_count": null,
   "metadata": {},
   "outputs": [],
   "source": [
    "cui_pretty_map['C3495832']"
   ]
  },
  {
   "cell_type": "code",
   "execution_count": null,
   "metadata": {},
   "outputs": [],
   "source": [
    "tmp = res_df_progressive[cuis].sum().sort_values(ascending=False)\n",
    "tmp.index = tmp.index.map(cui_pretty_map)\n",
    "\n",
    "_coi = [c for c in coi if c in res_df_progressive.columns]\n",
    "res_df_progressive['progression_count_toi'] = res_df_progressive[_coi].sum(axis=1)\n",
    "_coi = [c for c in coi if c in res_df_stable.columns]\n",
    "res_df_stable['progression_count_toi'] = res_df_stable[_coi].sum(axis=1)\n",
    "\n",
    "res_df_negation['presence_sum_all'] = res_df_negation.sum(axis=1)\n",
    "res_df_negation['presence_sum_coi'] = res_df_negation[coi].sum(axis=1)\n",
    "res_df_negation['presence_pos_sum_coi'] = res_df_negation[coi].clip(lower=0).sum(axis=1)\n",
    "\n",
    "res_df_negation_max['presence_sum_all'] = res_df_negation_max.sum(axis=1)\n",
    "res_df_negation_max['presence_sum_coi'] = res_df_negation_max[coi].sum(axis=1)\n",
    "res_df_negation_max['presence_pos_sum_coi'] = res_df_negation_max[coi].clip(lower=0).sum(axis=1)"
   ]
  },
  {
   "cell_type": "code",
   "execution_count": null,
   "metadata": {},
   "outputs": [],
   "source": [
    "res_df_negation_max.loc[4166, coi]"
   ]
  },
  {
   "cell_type": "code",
   "execution_count": null,
   "metadata": {},
   "outputs": [],
   "source": [
    "(res_df_progressive.progression_count_all>0).sum(),\\\n",
    "                (res_df_progressive.progression_count_toi>0).sum()"
   ]
  },
  {
   "cell_type": "code",
   "execution_count": null,
   "metadata": {},
   "outputs": [],
   "source": [
    "(res_df_stable.progression_count_all>0).sum(),\\\n",
    "                (res_df_stable.progression_count_toi>0).sum()"
   ]
  },
  {
   "cell_type": "code",
   "execution_count": null,
   "metadata": {},
   "outputs": [],
   "source": [
    "texts_labeled = texts.join(res_df_progressive[['progression_count_toi','progression_count_all']])"
   ]
  },
  {
   "cell_type": "code",
   "execution_count": null,
   "metadata": {},
   "outputs": [],
   "source": [
    "texts_labeled[texts_labeled.progression_count_toi==0].text.values[235]"
   ]
  },
  {
   "cell_type": "code",
   "execution_count": null,
   "metadata": {},
   "outputs": [],
   "source": [
    "progressive_results_step1 = texts[['studyId_RA_hackathon', 'onderznr', 'Onderz_dt']]\\\n",
    "        .merge(res_df_progressive[['progression_count_all', 'progression_count_toi']],\n",
    "                        how='inner', left_index=True, right_index=True)\n",
    "\n",
    "progressive_results_step2 = labels[['studyId_RA_hackathon', 'onderznr', \n",
    "                                        'Onderz_dt', 'manual_annotated']]\\\n",
    "                                .merge(progressive_results_step1, \n",
    "                                        how='inner', \n",
    "                                        on=['studyId_RA_hackathon', 'onderznr', 'Onderz_dt'])"
   ]
  },
  {
   "cell_type": "code",
   "execution_count": null,
   "metadata": {},
   "outputs": [],
   "source": [
    "import matplotlib.pyplot as plt\n",
    "\n",
    "def get_scores(threshold):\n",
    "    tmp = progressive_results_step2.loc[(progressive_results_step2.progression_count_toi>threshold) &\n",
    "                                        (progressive_results_step2.manual_annotated>-1)]\n",
    "    mean_true = tmp.manual_annotated.mean()\n",
    "    recall = tmp[tmp.manual_annotated==1].shape[0]/(progressive_results_step2.manual_annotated==1).sum()\n",
    "\n",
    "    #tmp = progressive_results_step2.loc[(progressive_results_step2.progression_count_toi==0) &\n",
    "    #                                    (progressive_results_step2.manual_annotated>-1)]\n",
    "    #mean_true = tmp.manual_annotated.mean()\n",
    "    #recall = tmp[tmp.manual_annotated==0].shape[0]/(progressive_results_step2.manual_annotated==0).sum()\n",
    "\n",
    "    return mean_true, recall\n",
    "\n",
    "threshold = np.arange(0, 3.1, 0.1)\n",
    "_res = []\n",
    "for thr in threshold:\n",
    "    acc, sens = get_scores(thr)\n",
    "    _res.append({'accuracy':acc, 'sensitivity' :sens, 'threshold': thr})\n",
    "\n",
    "res_df = pd.DataFrame(data=_res)\n",
    "sns.lineplot(data=res_df, y='sensitivity', x='threshold')\n",
    "ax2 = plt.twinx()\n",
    "sns.lineplot(data=res_df, y='accuracy', x='threshold', ax=ax2, color='red')"
   ]
  },
  {
   "cell_type": "code",
   "execution_count": null,
   "metadata": {},
   "outputs": [],
   "source": [
    "progressive_results_step2"
   ]
  },
  {
   "attachments": {},
   "cell_type": "markdown",
   "metadata": {},
   "source": [
    "# Alternative\n",
    " \n",
    "If there is a positive presence/progression stable of the target disease AND there is NO mentioning of a comparison, we consider it as progressive as well"
   ]
  },
  {
   "cell_type": "code",
   "execution_count": null,
   "metadata": {},
   "outputs": [],
   "source": [
    "def get_regex_label(df, reg, txtcol, colname, conds=None):\n",
    "    df[colname]=False\n",
    "    if isinstance(conds, list)==False:\n",
    "        df.loc[df[txtcol].str.contains(reg, case=True), colname] = True\n",
    "    else:\n",
    "        df.loc[(df[txtcol].str.contains(reg, case=True)) & \n",
    "                (conds==True), colname] = True\n",
    "    return df\n",
    "\n",
    "\n",
    "# extract if there is any mentioning of a comparison\n",
    "re_geen_eerder_onderzoek = re.compile(r''+'(Geen eerder onderzoek|Geen oud onderzoek|Eerste onderzoek|Eerste bezoek|Geen voorgaande foto|Geen eerdere foto)', \n",
    "        re.IGNORECASE)\n",
    "texts['geen_eerder_onderzoek_handen_voeten']  = \\\n",
    "            texts.text_hv.str.contains(re_geen_eerder_onderzoek).astype(int)\n",
    "texts['report_rank'] = texts.groupby('studyId_RA_hackathon').Onderz_dt.rank().astype(int)\n",
    "# indicator of comparison\n",
    "\n",
    "comparison_markers = ['([Vv]ergeleken met)',\n",
    "                    '([Vv]ergelijking met)',\n",
    "                    '([Ii]n vergelijking)',\n",
    "                    '([Ii]n vergelijking met onderzoek)',\n",
    "                    '(Ten opzichte)',\n",
    "                    '([Tt]\\.?o\\.?v\\.?)',  \n",
    "                    '(Er kan vergeleken worden met onderzoek DATUM)',\n",
    "                    '(Nieuwe)',\n",
    "                    '(Ten opzichte voorgaande foto)',\n",
    "                    '(Status quo)',\n",
    "                    '(Thans)',\n",
    "                    '(Recente)',\n",
    "                    '(Ter vergelijking DATUM)',\n",
    "                    '(wijzigingen)',\n",
    "                    '(toename bestaande)',\n",
    "                    '(nieuwe)',\n",
    "                    '(DATUM ter vergelijk)',\n",
    "                    '(onveranderd)',\n",
    "                    '(veranderd)',\n",
    "                    '(gewijzigd)',\n",
    "                    '(ongewijzigd)',\n",
    "                    '(conforme?)',\n",
    "                    '([Cc]onform datum)',\n",
    "                    '([Vv]ergeleken wordt)'\n",
    "                ]\n",
    "comparison_markers_re = re.compile('|'.join(comparison_markers), re.IGNORECASE)\n",
    "texts = get_regex_label(texts, comparison_markers_re, \n",
    "                    'text', 'comparison_marker')\n",
    "texts.loc[((texts.comparison_marker)|(texts.report_rank>1)) &\n",
    "          (texts.geen_eerder_onderzoek_handen_voeten==0), 'comparison_marker']=True"
   ]
  },
  {
   "cell_type": "code",
   "execution_count": null,
   "metadata": {},
   "outputs": [],
   "source": [
    "texts[texts.comparison_marker==True].text.values[0]"
   ]
  },
  {
   "cell_type": "code",
   "execution_count": null,
   "metadata": {},
   "outputs": [],
   "source": [
    "neg_results_step1 = texts[['studyId_RA_hackathon', 'onderznr', 'Onderz_dt', 'comparison_marker']]\\\n",
    "                    .merge(res_df_negation_max[['presence_sum_all', 'presence_sum_coi', 'presence_pos_sum_coi']],\n",
    "                        how='inner', left_index=True, right_index=True)\n",
    "\n",
    "neg_results_step2 = labels[['studyId_RA_hackathon', 'onderznr', \n",
    "                                        'Onderz_dt', 'manual_annotated']]\\\n",
    "                                .merge(neg_results_step1, \n",
    "                                        how='inner', \n",
    "                                        on=['studyId_RA_hackathon', 'onderznr', 'Onderz_dt'])\n",
    "\n",
    "threshold = 0.999\n",
    "neg_results_step2['medcat_label_new'] = np.nan\n",
    "conds = (neg_results_step2.presence_pos_sum_coi>=threshold) & (neg_results_step2.comparison_marker==False)\n",
    "neg_results_step2.loc[conds, 'medcat_label_new'] = 1\n",
    "\n"
   ]
  },
  {
   "cell_type": "code",
   "execution_count": null,
   "metadata": {},
   "outputs": [],
   "source": [
    "threshold = 1.\n",
    "tmp = neg_results_step2.loc[(neg_results_step2.presence_pos_sum_coi<threshold) &\n",
    "                            (neg_results_step2.manual_annotated>-1) & \n",
    "                            (neg_results_step2.comparison_marker==False)]\n",
    "mean_true = 1-tmp.manual_annotated.mean()\n",
    "recall = tmp[tmp.manual_annotated==0].shape[0]/(neg_results_step2.manual_annotated==0).sum()\n",
    "\n",
    "print(mean_true, recall)"
   ]
  },
  {
   "cell_type": "code",
   "execution_count": null,
   "metadata": {},
   "outputs": [],
   "source": [
    "stable_results_step1 = texts[['studyId_RA_hackathon', 'onderznr', 'Onderz_dt', 'comparison_marker']]\\\n",
    "                    .merge(res_df_stable[['progression_count_all', 'progression_count_toi']],\n",
    "                        how='inner', left_index=True, right_index=True)\n",
    "\n",
    "stable_results_step2 = labels[['studyId_RA_hackathon', 'onderznr', \n",
    "                                        'Onderz_dt', 'manual_annotated']]\\\n",
    "                                .merge(stable_results_step1, \n",
    "                                        how='inner', \n",
    "                                        on=['studyId_RA_hackathon', 'onderznr', 'Onderz_dt'])\n",
    "\n",
    "threshold = 0.5\n",
    "stable_results_step2['medcat_label_stable_new'] = np.nan\n",
    "conds = (stable_results_step2.progression_count_toi>=threshold) & (stable_results_step2.comparison_marker==False)\n",
    "stable_results_step2.loc[conds, 'medcat_label_stable_new'] = 1\n"
   ]
  },
  {
   "cell_type": "code",
   "execution_count": null,
   "metadata": {},
   "outputs": [],
   "source": [
    "threshold = 0\n",
    "tmp = stable_results_step2.loc[(stable_results_step2.progression_count_toi>threshold) &\n",
    "                               (stable_results_step2.manual_annotated>-1) & \n",
    "                               (stable_results_step2.comparison_marker==False)]\n",
    "mean_true = tmp.manual_annotated.mean()\n",
    "recall = tmp[tmp.manual_annotated==1].shape[0]/(stable_results_step2.manual_annotated==1).sum()\n",
    "\n",
    "print(mean_true, recall)"
   ]
  },
  {
   "cell_type": "code",
   "execution_count": null,
   "metadata": {},
   "outputs": [],
   "source": [
    "#neg_results_step2\n",
    "#progressive_results_step2\n",
    "#stable_results_step2\n",
    "\n",
    "# ['studyId_RA_hackathon', 'onderznr', 'Onderz_dt', 'comparison_marker', 'presence_pos_sum_coi']\n",
    "neg_results_step2.rename(columns={'presence_pos_sum_coi':'medcat_presence_sum'}, inplace=True)\n",
    "\n",
    "# ['studyId_RA_hackathon', 'onderznr', 'Onderz_dt', 'progression_count_toi']\n",
    "#progressive_results_step2\n",
    "progressive_results_step2.rename(columns={'progression_count_toi':'medcat_progressive_sum'}, inplace=True)\n",
    "\n",
    "# ['studyId_RA_hackathon', 'onderznr', 'Onderz_dt', 'progression_count_toi']\n",
    "stable_results_step2.rename(columns={'progression_count_toi':'medcat_stable_sum'}, inplace=True)"
   ]
  },
  {
   "cell_type": "code",
   "execution_count": null,
   "metadata": {},
   "outputs": [],
   "source": [
    "medcat_final = neg_results_step2[['studyId_RA_hackathon', 'onderznr', 'Onderz_dt', 'comparison_marker', 'medcat_presence_sum']].merge(\n",
    "                                    progressive_results_step2[['studyId_RA_hackathon', 'onderznr', 'Onderz_dt', 'medcat_progressive_sum']],\n",
    "                                    how='inner', on=['studyId_RA_hackathon', 'onderznr', 'Onderz_dt']).merge(\n",
    "                                    stable_results_step2[['studyId_RA_hackathon', 'onderznr', 'Onderz_dt', 'medcat_stable_sum']],\n",
    "                                    how='inner', on=['studyId_RA_hackathon', 'onderznr', 'Onderz_dt'])\n",
    "medcat_final.rename(columns={'comparison_marker': 'comparing_with_previous'}, inplace=True)\n",
    "medcat_final = medcat_final[~medcat_final.duplicated(subset=['studyId_RA_hackathon', 'onderznr', 'Onderz_dt'])]"
   ]
  },
  {
   "cell_type": "code",
   "execution_count": null,
   "metadata": {},
   "outputs": [],
   "source": [
    "medcat_final.to_csv('./collected_labels/inferred/medcat_final.csv', index=False)"
   ]
  }
 ],
 "metadata": {
  "kernelspec": {
   "display_name": "Python 3.8.10 ('nlp')",
   "language": "python",
   "name": "python3"
  },
  "language_info": {
   "codemirror_mode": {
    "name": "ipython",
    "version": 3
   },
   "file_extension": ".py",
   "mimetype": "text/x-python",
   "name": "python",
   "nbconvert_exporter": "python",
   "pygments_lexer": "ipython3",
   "version": "3.10.5"
  },
  "vscode": {
   "interpreter": {
    "hash": "01a14be5a308536305ca6f1be76534a0246168409855a6497a1510fcfd428ed6"
   }
  }
 },
 "nbformat": 4,
 "nbformat_minor": 4
}
