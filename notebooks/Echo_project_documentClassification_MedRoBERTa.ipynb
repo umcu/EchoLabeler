{
 "cells": [
  {
   "cell_type": "code",
   "execution_count": 1,
   "metadata": {
    "ExecuteTime": {
     "end_time": "2024-04-25T15:39:03.484607Z",
     "start_time": "2024-04-25T15:38:35.109090Z"
    }
   },
   "outputs": [],
   "source": [
    "# add autoreload\n",
    "%load_ext autoreload\n",
    "%autoreload 2\n",
    "\n",
    "import numpy as np\n",
    "import matplotlib.pyplot as plt\n",
    "import pandas as pd\n",
    "import transformers\n",
    "import torch\n",
    "\n",
    "import os\n",
    "import sys\n",
    "import gc\n",
    "\n",
    "from typing import List, Tuple, Dict, Union"
   ]
  },
  {
   "cell_type": "code",
   "execution_count": 2,
   "metadata": {},
   "outputs": [],
   "source": [
    "from setfit import SetFitModel\n",
    "from setfit import SetFitTrainer\n",
    "from datasets import Dataset, DatasetDict\n",
    "from sklearn.metrics import accuracy_score, f1_score, precision_score, recall_score, classification_report, confusion_matrix, roc_auc_score\n",
    "\n",
    "from transformers import TrainingArguments, Trainer\n",
    "from transformers import pipeline\n",
    "from transformers import DataCollatorWithPadding\n",
    "from transformers import EvalPrediction\n",
    "\n",
    "from torchinfo import summary\n",
    "from transformers import AutoModelForSequenceClassification, AutoTokenizer\n",
    "import evaluate\n",
    "\n",
    "from sklearn.preprocessing import LabelEncoder, MultiLabelBinarizer\n",
    "\n",
    "import benedict\n",
    "import random"
   ]
  },
  {
   "cell_type": "code",
   "execution_count": 3,
   "metadata": {},
   "outputs": [],
   "source": [
    "torch.manual_seed(42)\n",
    "torch.cuda.manual_seed(42)\n",
    "np.random.seed(42)\n",
    "random.seed(42)\n",
    "\n",
    "torch.backends.cudnn.deterministic = True\n",
    "torch.backends.cudnn.benchmark = False"
   ]
  },
  {
   "cell_type": "code",
   "execution_count": 4,
   "metadata": {},
   "outputs": [
    {
     "name": "stdout",
     "output_type": "stream",
     "text": [
      "There are 1 GPU(s) available.\n",
      "We will use the GPU: NVIDIA RTX A4000\n",
      "Memory Allocated: 0\n",
      "Max memory Allocated: 0\n",
      "Memory reserved: 0\n",
      "Max memory reserved: 0\n"
     ]
    }
   ],
   "source": [
    "if torch.cuda.is_available():\n",
    "    device = torch.device(\"cuda\")\n",
    "    print(\"There are %d GPU(s) available.\" % torch.cuda.device_count())\n",
    "    print(\"We will use the GPU:\", torch.cuda.get_device_name(0))\n",
    "    print(f\"Memory Allocated: {torch.cuda.memory_allocated()}\")\n",
    "    print(f\"Max memory Allocated: {torch.cuda.max_memory_allocated()}\") \n",
    "    print(f\"Memory reserved: {torch.cuda.memory_reserved()}\")\n",
    "    print(f\"Max memory reserved: {torch.cuda.max_memory_reserved()}\")\n",
    "else:\n",
    "    print(\"No GPU available, using the CPU instead.\")\n",
    "    device = torch.device(\"cpu\")"
   ]
  },
  {
   "cell_type": "code",
   "execution_count": 5,
   "metadata": {},
   "outputs": [],
   "source": [
    "deabbreviate = False\n",
    "filter_reports = True\n",
    "Class = 'tricuspid_regurgitation' # lv_dil, rv_dil, pe, aortic_regurgitation, diastolic_dysfunction, lv_syst_func\n",
    "FLAG_TERMS = ['uitslag zie medische status', 'zie status', 'zie verslag status', 'slecht echovenster', 'echo overwegen', 'ge echo',\n",
    "              'geen echovenster', 'geen beoordeelbaar echo', 'geen beoordeelbare echo', 'verslag op ic']\n",
    "SAVE_TERMS = ['goed', 'geen', 'normaal', 'normale']\n",
    "use_multilabel = False\n",
    "\n",
    "MULTILABELS = {'Mild': ['Mild', 'Present'], \n",
    "               'Severe': ['Severe', 'Present'],\n",
    "               'Moderate': ['Moderate', 'Present'],\n",
    "               'Normal': ['Normal'],\n",
    "               'No label': ['No label'],\n",
    "               'Present': ['Present'],\n",
    "               }\n"
   ]
  },
  {
   "cell_type": "code",
   "execution_count": 6,
   "metadata": {},
   "outputs": [],
   "source": [
    "#Add the src folder to the path\n",
    "sys.path.append(os.path.abspath(os.path.join('..', 'src')))\n",
    "import deabber, echo_utils"
   ]
  },
  {
   "cell_type": "code",
   "execution_count": 7,
   "metadata": {},
   "outputs": [],
   "source": [
    "ABBREVIATIONS = benedict.benedict(\"../assets/abbreviations.yml\")"
   ]
  },
  {
   "cell_type": "code",
   "execution_count": 8,
   "metadata": {
    "ExecuteTime": {
     "end_time": "2024-04-25T15:39:03.996106Z",
     "start_time": "2024-04-25T15:39:03.489109Z"
    }
   },
   "outputs": [],
   "source": [
    "plt.style.use('ggplot')\n",
    "def plot_history(history, val=0):\n",
    "    acc = history.history['accuracy']\n",
    "    if val == 1:\n",
    "        val_acc = history.history['val_accuracy'] # we can add a validation set in our fit function with nn\n",
    "    loss = history.history['loss']\n",
    "    if val == 1:\n",
    "        val_loss = history.history['val_loss']\n",
    "    x = range(1, len(acc) + 1)\n",
    "\n",
    "    plt.figure(figsize=(12, 5))\n",
    "    plt.subplot(1, 2, 1)\n",
    "    plt.plot(x, acc, 'b', label='Training accuracy')\n",
    "    if val == 1:\n",
    "        plt.plot(x, val_acc, 'r', label='Validation accuracy')\n",
    "    plt.ylabel('accuracy')\n",
    "    plt.xlabel('epoch')\n",
    "    plt.title('Accuracy')\n",
    "    plt.legend()\n",
    "    plt.subplot(1, 2, 2)\n",
    "    plt.plot(x, loss, 'b', label='Training loss')\n",
    "    if val == 1:\n",
    "        plt.plot(x, val_loss, 'r', label='Validation loss')\n",
    "    plt.ylabel('loss')\n",
    "    plt.xlabel('epoch')\n",
    "    plt.title('Loss')\n",
    "    plt.legend()"
   ]
  },
  {
   "cell_type": "code",
   "execution_count": 9,
   "metadata": {
    "ExecuteTime": {
     "end_time": "2024-04-25T15:39:04.476606Z",
     "start_time": "2024-04-25T15:39:03.998607Z"
    }
   },
   "outputs": [],
   "source": [
    "def compute_metrics_binomial(logits_and_labels, averaging='macro'):\n",
    "  logits, labels = logits_and_labels\n",
    "  predictions = np.argmax(logits, axis=-1)\n",
    "  acc = np.mean(predictions == labels)\n",
    "  f1 = f1_score(labels, predictions, average = averaging)\n",
    "  prec = precision_score(labels, predictions, average = averaging)\n",
    "  rec = recall_score(labels, predictions, average = averaging)\n",
    "  return {\n",
    "          'accuracy': acc, \n",
    "          'f1_score': f1,\n",
    "          'precision': prec,\n",
    "          'recal': rec\n",
    "          }\n",
    "\n",
    "# source: https://jesusleal.io/2021/04/21/Longformer-multilabel-classification/\n",
    "def multi_label_metrics(predictions, labels, threshold=0.5):\n",
    "    # first, apply sigmoid on predictions which are of shape (batch_size, num_labels)\n",
    "    sigmoid = torch.nn.Sigmoid()\n",
    "    probs = sigmoid(torch.Tensor(predictions))\n",
    "    # next, use threshold to turn them into integer predictions\n",
    "    y_pred = np.zeros(probs.shape)\n",
    "    y_pred[np.where(probs >= threshold)] = 1\n",
    "    # finally, compute metrics\n",
    "    y_true = labels\n",
    "    \n",
    "    \n",
    "    f1_macro = f1_score(y_true=y_true, y_pred=y_pred, average='macro')\n",
    "    f1_weighted = f1_score(y_true=y_true, y_pred=y_pred, average='weighted')\n",
    "    prec_macro = precision_score(y_true=y_true, y_pred=y_pred, average='macro')\n",
    "    prec_weighted = precision_score(y_true=y_true, y_pred=y_pred, average='weighted')\n",
    "    recall_macro = recall_score(y_true=y_true, y_pred=y_pred, average='macro')\n",
    "    recall_weighted = recall_score(y_true=y_true, y_pred=y_pred, average='weighted')    \n",
    "    \n",
    "    try:\n",
    "        roc_auc_weighted = roc_auc_score(y_true, probs, average = 'weighted')\n",
    "        roc_auc_macro = roc_auc_score(y_true, probs, average = 'macro')\n",
    "    except:\n",
    "        roc_auc_weighted = None\n",
    "        roc_auc_macro = None\n",
    "    \n",
    "    accuracy = accuracy_score(y_true, y_pred)\n",
    "    # return as dictionary\n",
    "    metrics = {'f1_macro': f1_macro,\n",
    "               'f1_weighted': f1_weighted,\n",
    "               'prec_macro': prec_macro,\n",
    "               'prec_weighted': prec_weighted,\n",
    "               'recall_macro': recall_macro,\n",
    "               'recall_weighted': recall_weighted,\n",
    "               'roc_auc_macro': roc_auc_macro,\n",
    "               'roc_auc_weighted': roc_auc_weighted,\n",
    "               'accuracy': accuracy}\n",
    "    return metrics\n",
    "\n",
    "def compute_metrics(p: EvalPrediction):\n",
    "    preds = p.predictions[0] if isinstance(p.predictions, \n",
    "            tuple) else p.predictions\n",
    "    result = multi_label_metrics(\n",
    "        predictions=preds, \n",
    "        labels=p.label_ids)\n",
    "    return result\n",
    "     \n"
   ]
  },
  {
   "cell_type": "code",
   "execution_count": 10,
   "metadata": {
    "ExecuteTime": {
     "end_time": "2024-04-25T15:39:05.003636Z",
     "start_time": "2024-04-25T15:39:04.479108Z"
    }
   },
   "outputs": [],
   "source": [
    "def one_hot_encode(labels, num_classes):\n",
    "    # labels should be a list or a 1D tensor\n",
    "    one_hot = torch.zeros((len(labels), num_classes))\n",
    "    rows = torch.arange(len(labels))\n",
    "    one_hot[rows, labels] = 1\n",
    "    return one_hot\n",
    "\n",
    "def _mlabel_tuple_creator(x: List[int],\n",
    "                          multilabels:Dict[int,List[int]],\n",
    "                          num_classes: int=None)\\\n",
    "                          ->List[Tuple[int,...]]:\n",
    "                              \n",
    "    res = [(_sc for _sc in multilabels[sc]) for sc in x]\n",
    "    return res\n",
    "\n",
    "def multi_hot_encoding(x: List[int], \n",
    "                       multilabels: Union[Dict[int,List[int]], None]=None,\n",
    "                       num_classes: int=None)\\\n",
    "                           ->torch.Tensor:    \n",
    "    if multilabels is None:\n",
    "        return one_hot_encode(x, num_classes=num_classes)\n",
    "    else:\n",
    "        return torch.Tensor(MultiLabelBinarizer(classes=range(num_classes))\\\n",
    "                    .fit_transform(_mlabel_tuple_creator(x,multilabels)))"
   ]
  },
  {
   "cell_type": "markdown",
   "metadata": {},
   "source": [
    "# Load documents"
   ]
  },
  {
   "cell_type": "code",
   "execution_count": 11,
   "metadata": {
    "ExecuteTime": {
     "end_time": "2024-04-25T15:39:06.259117Z",
     "start_time": "2024-04-25T15:39:05.008110Z"
    }
   },
   "outputs": [],
   "source": [
    "tokenizer = AutoTokenizer.from_pretrained(\"CLTL/MedRoBERTa.nl\")"
   ]
  },
  {
   "cell_type": "code",
   "execution_count": 12,
   "metadata": {
    "ExecuteTime": {
     "end_time": "2024-04-25T15:39:07.328611Z",
     "start_time": "2024-04-25T15:39:06.261613Z"
    }
   },
   "outputs": [],
   "source": [
    "os.chdir('T://lab_research/RES-Folder-UPOD/Echo_label/E_ResearchData/2_ResearchData')"
   ]
  },
  {
   "cell_type": "code",
   "execution_count": 13,
   "metadata": {
    "ExecuteTime": {
     "end_time": "2024-04-25T15:39:08.119113Z",
     "start_time": "2024-04-25T15:39:07.331615Z"
    }
   },
   "outputs": [],
   "source": [
    "labeled_documents = pd.read_json(f\"./echo_doc_labels/{Class}.jsonl\", lines=True)"
   ]
  },
  {
   "cell_type": "code",
   "execution_count": 14,
   "metadata": {},
   "outputs": [
    {
     "data": {
      "text/plain": [
       "label\n",
       "No label    2545\n",
       "Normal      1801\n",
       "Mild         408\n",
       "Moderate     187\n",
       "Severe        59\n",
       "Name: count, dtype: int64"
      ]
     },
     "execution_count": 14,
     "metadata": {},
     "output_type": "execute_result"
    }
   ],
   "source": [
    "labeled_documents.label.value_counts()"
   ]
  },
  {
   "cell_type": "code",
   "execution_count": 15,
   "metadata": {
    "ExecuteTime": {
     "end_time": "2024-04-25T15:39:09.049113Z",
     "start_time": "2024-04-25T15:39:08.571112Z"
    }
   },
   "outputs": [],
   "source": [
    "# Expand with label columns\n",
    "Target_maps = {Label:i for i,Label in enumerate(labeled_documents['label'].unique())}"
   ]
  },
  {
   "cell_type": "code",
   "execution_count": 16,
   "metadata": {},
   "outputs": [
    {
     "data": {
      "text/plain": [
       "{'Normal': 0, 'No label': 1, 'Mild': 2, 'Moderate': 3, 'Severe': 4}"
      ]
     },
     "execution_count": 16,
     "metadata": {},
     "output_type": "execute_result"
    }
   ],
   "source": [
    "Target_maps"
   ]
  },
  {
   "cell_type": "code",
   "execution_count": 17,
   "metadata": {
    "ExecuteTime": {
     "end_time": "2024-04-25T15:39:10.056612Z",
     "start_time": "2024-04-25T15:39:09.051621Z"
    }
   },
   "outputs": [
    {
     "name": "stdout",
     "output_type": "stream",
     "text": [
      "Index(['ECHO_StudyID', 'ECHO_StudyID.1', 'input_hash', 'task_hash'], dtype='object')\n",
      "Train hashes: 96026\n",
      "Test hashes: 24051\n"
     ]
    }
   ],
   "source": [
    "# Load the train/test hashes\n",
    "test_hashes = pd.read_csv('./test_echoid.csv', sep=',')\n",
    "train_hashes = pd.read_csv('./train_echoid.csv', sep=',')\n",
    "print(train_hashes.columns)\n",
    "\n",
    "print(f\"Train hashes: {train_hashes.input_hash.nunique()}\")\n",
    "print(f\"Test hashes: {test_hashes.input_hash.nunique()}\")"
   ]
  },
  {
   "cell_type": "code",
   "execution_count": 18,
   "metadata": {},
   "outputs": [
    {
     "name": "stdout",
     "output_type": "stream",
     "text": [
      "dict_keys(['Normal', 'No label', 'Mild', 'Moderate', 'Severe'])\n"
     ]
    }
   ],
   "source": [
    "print(Target_maps.keys())"
   ]
  },
  {
   "cell_type": "code",
   "execution_count": 19,
   "metadata": {
    "ExecuteTime": {
     "end_time": "2024-04-25T15:39:14.753116Z",
     "start_time": "2024-04-25T15:39:10.601615Z"
    }
   },
   "outputs": [],
   "source": [
    "# We now make DataSets (a special HuggingFace structure)\n",
    "# assuming cross-validation\n",
    "\n",
    "DF = labeled_documents\n",
    "DF.columns = ['sentence', 'labels', '_input_hash']\n",
    "\n",
    "label2id = Target_maps\n",
    "id2label = {v:k for k,v in label2id.items()}\n",
    "num_labels = len(label2id)\n",
    "DF['labels'] = DF['labels'].map(label2id)\n",
    "\n",
    "\n",
    "if filter_reports:\n",
    "    DF = DF.assign(sentence = echo_utils.report_filter(DF.sentence, \n",
    "                                            flag_terms=FLAG_TERMS, \n",
    "                                            save_terms=SAVE_TERMS)[0])\n",
    "    DF = DF.loc[DF.sentence.notna()]\n",
    "\n",
    "if deabbreviate:\n",
    "    DeAbber = deabber.deabber(model_type='sbert', \n",
    "                              abbreviations=ABBREVIATIONS['nl']['echocardiogram'], \n",
    "                              min_sim=0.5, top_k=10)\n",
    "    DF = DF.assign(sentence=DeAbber.deabb(DF.sentence.values, TokenRadius=3))\n"
   ]
  },
  {
   "cell_type": "code",
   "execution_count": 20,
   "metadata": {},
   "outputs": [],
   "source": [
    "if use_multilabel:\n",
    "    _multilabels = {label2id[k]: [label2id[l] for l in v]\n",
    "                    for k,v in MULTILABELS.items()}\n",
    "else:\n",
    "    _multilabels = None"
   ]
  },
  {
   "cell_type": "code",
   "execution_count": 21,
   "metadata": {},
   "outputs": [
    {
     "name": "stdout",
     "output_type": "stream",
     "text": [
      "Train labels:\n",
      "labels\n",
      "1    1959\n",
      "0    1425\n",
      "2     324\n",
      "3     147\n",
      "4      48\n",
      "Name: count, dtype: int64\n",
      "Test labels:\n",
      "labels\n",
      "1    494\n",
      "0    342\n",
      "2     74\n",
      "3     34\n",
      "4     11\n",
      "Name: count, dtype: int64\n"
     ]
    },
    {
     "data": {
      "application/json": {
       "ascii": false,
       "bar_format": null,
       "colour": null,
       "elapsed": 0.015630245208740234,
       "initial": 0,
       "n": 0,
       "ncols": null,
       "nrows": null,
       "postfix": null,
       "prefix": "Map",
       "rate": null,
       "total": 3903,
       "unit": " examples",
       "unit_divisor": 1000,
       "unit_scale": false
      },
      "application/vnd.jupyter.widget-view+json": {
       "model_id": "44a2420a4c4047a7bbce0c51738da3b2",
       "version_major": 2,
       "version_minor": 0
      },
      "text/plain": [
       "Map:   0%|          | 0/3903 [00:00<?, ? examples/s]"
      ]
     },
     "metadata": {},
     "output_type": "display_data"
    },
    {
     "data": {
      "application/json": {
       "ascii": false,
       "bar_format": null,
       "colour": null,
       "elapsed": 0.015277862548828125,
       "initial": 0,
       "n": 0,
       "ncols": null,
       "nrows": null,
       "postfix": null,
       "prefix": "Map",
       "rate": null,
       "total": 955,
       "unit": " examples",
       "unit_divisor": 1000,
       "unit_scale": false
      },
      "application/vnd.jupyter.widget-view+json": {
       "model_id": "e564409be1d94e899ee637313d4603bd",
       "version_major": 2,
       "version_minor": 0
      },
      "text/plain": [
       "Map:   0%|          | 0/955 [00:00<?, ? examples/s]"
      ]
     },
     "metadata": {},
     "output_type": "display_data"
    }
   ],
   "source": [
    "\n",
    "# TODO: make proper\n",
    "DFtrain = DF.loc[DF._input_hash.isin(train_hashes.input_hash), ['sentence', 'labels']]\n",
    "DFtest = DF.loc[DF._input_hash.isin(test_hashes.input_hash), ['sentence', 'labels']]\n",
    "\n",
    "print(\"Train labels:\")\n",
    "print(DFtrain.labels.value_counts())\n",
    "print(\"Test labels:\")\n",
    "print(DFtest.labels.value_counts())\n",
    "\n",
    "TrainSet = Dataset.from_pandas(DFtrain)\n",
    "TestSet = Dataset.from_pandas(DFtest)\n",
    "\n",
    "HF_DataSet = DatasetDict(\n",
    "    {'train' : TrainSet,\n",
    "     'test': TestSet,\n",
    "    }\n",
    ")\n",
    "\n",
    "Tokenized_DataSet = HF_DataSet.map(lambda batch: tokenizer(batch, truncation=True, \n",
    "                                                                  padding=True, \n",
    "                                                                  max_length=256),\n",
    "                                  input_columns='sentence',\n",
    "                                  batched=True,\n",
    "                                  remove_columns=['sentence'])"
   ]
  },
  {
   "cell_type": "code",
   "execution_count": 22,
   "metadata": {},
   "outputs": [
    {
     "data": {
      "application/json": {
       "ascii": false,
       "bar_format": null,
       "colour": null,
       "elapsed": 0.015620708465576172,
       "initial": 0,
       "n": 0,
       "ncols": null,
       "nrows": null,
       "postfix": null,
       "prefix": "Map",
       "rate": null,
       "total": 3903,
       "unit": " examples",
       "unit_divisor": 1000,
       "unit_scale": false
      },
      "application/vnd.jupyter.widget-view+json": {
       "model_id": "8e7b47aebcf04421954afdb1ad21c050",
       "version_major": 2,
       "version_minor": 0
      },
      "text/plain": [
       "Map:   0%|          | 0/3903 [00:00<?, ? examples/s]"
      ]
     },
     "metadata": {},
     "output_type": "display_data"
    },
    {
     "data": {
      "application/json": {
       "ascii": false,
       "bar_format": null,
       "colour": null,
       "elapsed": 0.0012760162353515625,
       "initial": 0,
       "n": 0,
       "ncols": null,
       "nrows": null,
       "postfix": null,
       "prefix": "Map",
       "rate": null,
       "total": 955,
       "unit": " examples",
       "unit_divisor": 1000,
       "unit_scale": false
      },
      "application/vnd.jupyter.widget-view+json": {
       "model_id": "7bb58165e83b4ef0b12d55adc0d75fae",
       "version_major": 2,
       "version_minor": 0
      },
      "text/plain": [
       "Map:   0%|          | 0/955 [00:00<?, ? examples/s]"
      ]
     },
     "metadata": {},
     "output_type": "display_data"
    }
   ],
   "source": [
    "Tokenized_DataSet = (Tokenized_DataSet\n",
    "                      #.map(lambda x : {\"float_labels\": x[\"labels\"].to(torch.float)}, remove_columns=[\"labels\"])\n",
    "                      .map(lambda x: {\"labels\": \n",
    "                          multi_hot_encoding(x['labels'], \n",
    "                                             multilabels=_multilabels, \n",
    "                                             num_classes=num_labels)}, \n",
    "                           batched=True, remove_columns=['labels']))                      \n",
    "                      #.rename_column(\"float_labels\", \"labels\"))\n",
    "\n",
    "Tokenized_DataSet.set_format(\"torch\", \n",
    "                             columns=['input_ids', 'attention_mask', 'labels'])\n",
    "\n",
    "data_collator = DataCollatorWithPadding(tokenizer=tokenizer)"
   ]
  },
  {
   "cell_type": "code",
   "execution_count": 23,
   "metadata": {
    "ExecuteTime": {
     "end_time": "2024-04-25T15:39:15.961514Z",
     "start_time": "2024-04-25T15:39:14.755619Z"
    }
   },
   "outputs": [
    {
     "name": "stderr",
     "output_type": "stream",
     "text": [
      "Some weights of RobertaForSequenceClassification were not initialized from the model checkpoint at CLTL/MedRoBERTa.nl and are newly initialized: ['classifier.dense.bias', 'classifier.dense.weight', 'classifier.out_proj.bias', 'classifier.out_proj.weight']\n",
      "You should probably TRAIN this model on a down-stream task to be able to use it for predictions and inference.\n"
     ]
    }
   ],
   "source": [
    "# https://colab.research.google.com/drive/1aue7x525rKy6yYLqqt-5Ll96qjQvpqS7#scrollTo=1eVCRpcLUW-y\n",
    "# https://github.com/NielsRogge/Transformers-Tutorials/blob/master/BERT/Fine_tuning_BERT_(and_friends)_for_multi_label_text_classification.ipynb\n",
    "medroberta_clf = AutoModelForSequenceClassification.from_pretrained(\"CLTL/MedRoBERTa.nl\", \n",
    "                                                num_labels=len(id2label.keys()),\n",
    "                                                problem_type='multi_label_classification',\n",
    "                                                id2label=id2label,\n",
    "                                                label2id=label2id)\n"
   ]
  },
  {
   "cell_type": "code",
   "execution_count": 24,
   "metadata": {
    "ExecuteTime": {
     "end_time": "2024-04-25T15:39:16.442038Z",
     "start_time": "2024-04-25T15:39:15.968514Z"
    }
   },
   "outputs": [
    {
     "data": {
      "text/plain": [
       "=====================================================================================\n",
       "Layer (type:depth-idx)                                       Param #\n",
       "=====================================================================================\n",
       "RobertaForSequenceClassification                             --\n",
       "├─RobertaModel: 1-1                                          --\n",
       "│    └─RobertaEmbeddings: 2-1                                --\n",
       "│    │    └─Embedding: 3-1                                   39,936,000\n",
       "│    │    └─Embedding: 3-2                                   394,752\n",
       "│    │    └─Embedding: 3-3                                   768\n",
       "│    │    └─LayerNorm: 3-4                                   1,536\n",
       "│    │    └─Dropout: 3-5                                     --\n",
       "│    └─RobertaEncoder: 2-2                                   --\n",
       "│    │    └─ModuleList: 3-6                                  85,054,464\n",
       "├─RobertaClassificationHead: 1-2                             --\n",
       "│    └─Linear: 2-3                                           590,592\n",
       "│    └─Dropout: 2-4                                          --\n",
       "│    └─Linear: 2-5                                           3,845\n",
       "=====================================================================================\n",
       "Total params: 125,981,957\n",
       "Trainable params: 125,981,957\n",
       "Non-trainable params: 0\n",
       "====================================================================================="
      ]
     },
     "execution_count": 24,
     "metadata": {},
     "output_type": "execute_result"
    }
   ],
   "source": [
    "from torchinfo import summary\n",
    "summary(medroberta_clf)"
   ]
  },
  {
   "cell_type": "markdown",
   "metadata": {},
   "source": [
    "## MedRoBERTa.nl -- Training setup"
   ]
  },
  {
   "cell_type": "code",
   "execution_count": 25,
   "metadata": {
    "ExecuteTime": {
     "end_time": "2024-04-25T15:39:17.139141Z",
     "start_time": "2024-04-25T15:39:16.445015Z"
    }
   },
   "outputs": [],
   "source": [
    "train_dir = \"T://laupodteam/AIOS/Bram/data/tmp\"\n",
    "metric_name = 'f1_macro'\n",
    "training_args = TrainingArguments(output_dir=train_dir,\n",
    "                                  evaluation_strategy='epoch',\n",
    "                                  save_strategy='epoch',\n",
    "                                  num_train_epochs=20,\n",
    "                                  learning_rate=5e-5,\n",
    "                                  per_device_train_batch_size=16,\n",
    "                                  weight_decay=0.01,\n",
    "                                  per_device_eval_batch_size=10,\n",
    "                                  load_best_model_at_end=True, \n",
    "                                  metric_for_best_model=metric_name)"
   ]
  },
  {
   "cell_type": "code",
   "execution_count": 26,
   "metadata": {
    "ExecuteTime": {
     "end_time": "2024-04-25T15:39:17.650625Z",
     "start_time": "2024-04-25T15:39:17.141604Z"
    }
   },
   "outputs": [],
   "source": [
    "trainer = Trainer(medroberta_clf,\n",
    "                  training_args,\n",
    "                  train_dataset = Tokenized_DataSet[\"train\"],\n",
    "                  eval_dataset = Tokenized_DataSet[\"test\"],\n",
    "                  tokenizer=tokenizer,\n",
    "                  data_collator=data_collator,\n",
    "                  compute_metrics=compute_metrics)"
   ]
  },
  {
   "cell_type": "markdown",
   "metadata": {},
   "source": [
    "## MedRoBERTa.nl -- run Training"
   ]
  },
  {
   "cell_type": "code",
   "execution_count": 27,
   "metadata": {
    "ExecuteTime": {
     "end_time": "2024-04-25T19:28:33.043809Z",
     "start_time": "2024-04-25T15:39:17.652600Z"
    }
   },
   "outputs": [
    {
     "data": {
      "application/json": {
       "ascii": false,
       "bar_format": null,
       "colour": null,
       "elapsed": 0.016384124755859375,
       "initial": 0,
       "n": 0,
       "ncols": null,
       "nrows": null,
       "postfix": null,
       "prefix": "",
       "rate": null,
       "total": 4880,
       "unit": "it",
       "unit_divisor": 1000,
       "unit_scale": false
      },
      "application/vnd.jupyter.widget-view+json": {
       "model_id": "e1580b45fbf2405d9f10c746819b3db1",
       "version_major": 2,
       "version_minor": 0
      },
      "text/plain": [
       "  0%|          | 0/4880 [00:00<?, ?it/s]"
      ]
     },
     "metadata": {},
     "output_type": "display_data"
    },
    {
     "data": {
      "application/json": {
       "ascii": false,
       "bar_format": null,
       "colour": null,
       "elapsed": 0.03280138969421387,
       "initial": 0,
       "n": 0,
       "ncols": null,
       "nrows": null,
       "postfix": null,
       "prefix": "",
       "rate": null,
       "total": 96,
       "unit": "it",
       "unit_divisor": 1000,
       "unit_scale": false
      },
      "application/vnd.jupyter.widget-view+json": {
       "model_id": "0034274f4ce44f7f93d04f68b5cdafb0",
       "version_major": 2,
       "version_minor": 0
      },
      "text/plain": [
       "  0%|          | 0/96 [00:00<?, ?it/s]"
      ]
     },
     "metadata": {},
     "output_type": "display_data"
    },
    {
     "name": "stderr",
     "output_type": "stream",
     "text": [
      "c:\\Users\\bes3\\VIRTUALENVS\\nlp\\lib\\site-packages\\sklearn\\metrics\\_classification.py:1469: UndefinedMetricWarning: Precision is ill-defined and being set to 0.0 in labels with no predicted samples. Use `zero_division` parameter to control this behavior.\n",
      "  _warn_prf(average, modifier, msg_start, len(result))\n",
      "c:\\Users\\bes3\\VIRTUALENVS\\nlp\\lib\\site-packages\\sklearn\\metrics\\_classification.py:1469: UndefinedMetricWarning: Precision is ill-defined and being set to 0.0 in labels with no predicted samples. Use `zero_division` parameter to control this behavior.\n",
      "  _warn_prf(average, modifier, msg_start, len(result))\n"
     ]
    },
    {
     "name": "stdout",
     "output_type": "stream",
     "text": [
      "{'eval_loss': 0.11559130251407623, 'eval_f1_macro': 0.6445338809682433, 'eval_f1_weighted': 0.902515077239281, 'eval_prec_macro': 0.6286947683208852, 'eval_prec_weighted': 0.9087971285681161, 'eval_recall_macro': 0.6661128382490611, 'eval_recall_weighted': 0.900523560209424, 'eval_roc_auc_macro': 0.9656328408714867, 'eval_roc_auc_weighted': 0.9764462306888325, 'eval_accuracy': 0.8858638743455497, 'eval_runtime': 9.9861, 'eval_samples_per_second': 95.633, 'eval_steps_per_second': 9.613, 'epoch': 1.0}\n"
     ]
    },
    {
     "data": {
      "application/json": {
       "ascii": false,
       "bar_format": null,
       "colour": null,
       "elapsed": 0.0156252384185791,
       "initial": 0,
       "n": 0,
       "ncols": null,
       "nrows": null,
       "postfix": null,
       "prefix": "",
       "rate": null,
       "total": 96,
       "unit": "it",
       "unit_divisor": 1000,
       "unit_scale": false
      },
      "application/vnd.jupyter.widget-view+json": {
       "model_id": "4a71e263862a4b5ebfb68f4ed48a3129",
       "version_major": 2,
       "version_minor": 0
      },
      "text/plain": [
       "  0%|          | 0/96 [00:00<?, ?it/s]"
      ]
     },
     "metadata": {},
     "output_type": "display_data"
    },
    {
     "name": "stderr",
     "output_type": "stream",
     "text": [
      "c:\\Users\\bes3\\VIRTUALENVS\\nlp\\lib\\site-packages\\sklearn\\metrics\\_classification.py:1469: UndefinedMetricWarning: Precision is ill-defined and being set to 0.0 in labels with no predicted samples. Use `zero_division` parameter to control this behavior.\n",
      "  _warn_prf(average, modifier, msg_start, len(result))\n",
      "c:\\Users\\bes3\\VIRTUALENVS\\nlp\\lib\\site-packages\\sklearn\\metrics\\_classification.py:1469: UndefinedMetricWarning: Precision is ill-defined and being set to 0.0 in labels with no predicted samples. Use `zero_division` parameter to control this behavior.\n",
      "  _warn_prf(average, modifier, msg_start, len(result))\n"
     ]
    },
    {
     "name": "stdout",
     "output_type": "stream",
     "text": [
      "{'eval_loss': 0.0751369521021843, 'eval_f1_macro': 0.695415088424039, 'eval_f1_weighted': 0.9304613915276896, 'eval_prec_macro': 0.6749854875120939, 'eval_prec_weighted': 0.9305719576821819, 'eval_recall_macro': 0.7206748067429182, 'eval_recall_weighted': 0.9319371727748691, 'eval_roc_auc_macro': 0.9747869192280119, 'eval_roc_auc_weighted': 0.9868927931969388, 'eval_accuracy': 0.9298429319371728, 'eval_runtime': 9.8322, 'eval_samples_per_second': 97.13, 'eval_steps_per_second': 9.764, 'epoch': 2.0}\n",
      "{'loss': 0.139, 'grad_norm': 0.6982333660125732, 'learning_rate': 4.487704918032787e-05, 'epoch': 2.05}\n"
     ]
    },
    {
     "data": {
      "application/json": {
       "ascii": false,
       "bar_format": null,
       "colour": null,
       "elapsed": 0.015975475311279297,
       "initial": 0,
       "n": 0,
       "ncols": null,
       "nrows": null,
       "postfix": null,
       "prefix": "",
       "rate": null,
       "total": 96,
       "unit": "it",
       "unit_divisor": 1000,
       "unit_scale": false
      },
      "application/vnd.jupyter.widget-view+json": {
       "model_id": "9cd824db46584228bccea48e1b524bbd",
       "version_major": 2,
       "version_minor": 0
      },
      "text/plain": [
       "  0%|          | 0/96 [00:00<?, ?it/s]"
      ]
     },
     "metadata": {},
     "output_type": "display_data"
    },
    {
     "name": "stdout",
     "output_type": "stream",
     "text": [
      "{'eval_loss': 0.07805199921131134, 'eval_f1_macro': 0.8817279877392761, 'eval_f1_weighted': 0.9485011802618889, 'eval_prec_macro': 0.868329950795917, 'eval_prec_weighted': 0.9526238119881009, 'eval_recall_macro': 0.9018917183003872, 'eval_recall_weighted': 0.9465968586387434, 'eval_roc_auc_macro': 0.9877065914569269, 'eval_roc_auc_weighted': 0.9881468250958666, 'eval_accuracy': 0.9445026178010472, 'eval_runtime': 9.7942, 'eval_samples_per_second': 97.506, 'eval_steps_per_second': 9.802, 'epoch': 3.0}\n"
     ]
    },
    {
     "data": {
      "application/json": {
       "ascii": false,
       "bar_format": null,
       "colour": null,
       "elapsed": 0.03151750564575195,
       "initial": 0,
       "n": 0,
       "ncols": null,
       "nrows": null,
       "postfix": null,
       "prefix": "",
       "rate": null,
       "total": 96,
       "unit": "it",
       "unit_divisor": 1000,
       "unit_scale": false
      },
      "application/vnd.jupyter.widget-view+json": {
       "model_id": "7fb94babb4b743c9910c913895283097",
       "version_major": 2,
       "version_minor": 0
      },
      "text/plain": [
       "  0%|          | 0/96 [00:00<?, ?it/s]"
      ]
     },
     "metadata": {},
     "output_type": "display_data"
    },
    {
     "name": "stdout",
     "output_type": "stream",
     "text": [
      "{'eval_loss': 0.08167070895433426, 'eval_f1_macro': 0.8821114311233842, 'eval_f1_weighted': 0.9423341980712105, 'eval_prec_macro': 0.8566061452796147, 'eval_prec_weighted': 0.9461625780281621, 'eval_recall_macro': 0.9139735570076126, 'eval_recall_weighted': 0.9392670157068063, 'eval_roc_auc_macro': 0.9896651653918657, 'eval_roc_auc_weighted': 0.9887690186011976, 'eval_accuracy': 0.93717277486911, 'eval_runtime': 10.0038, 'eval_samples_per_second': 95.464, 'eval_steps_per_second': 9.596, 'epoch': 4.0}\n",
      "{'loss': 0.0372, 'grad_norm': 0.0470261387526989, 'learning_rate': 3.975409836065574e-05, 'epoch': 4.1}\n"
     ]
    },
    {
     "data": {
      "application/json": {
       "ascii": false,
       "bar_format": null,
       "colour": null,
       "elapsed": 0.01562643051147461,
       "initial": 0,
       "n": 0,
       "ncols": null,
       "nrows": null,
       "postfix": null,
       "prefix": "",
       "rate": null,
       "total": 96,
       "unit": "it",
       "unit_divisor": 1000,
       "unit_scale": false
      },
      "application/vnd.jupyter.widget-view+json": {
       "model_id": "10c360340f1b4cb1bc873ac395f72b5d",
       "version_major": 2,
       "version_minor": 0
      },
      "text/plain": [
       "  0%|          | 0/96 [00:00<?, ?it/s]"
      ]
     },
     "metadata": {},
     "output_type": "display_data"
    },
    {
     "name": "stdout",
     "output_type": "stream",
     "text": [
      "{'eval_loss': 0.0804516077041626, 'eval_f1_macro': 0.9137080148707784, 'eval_f1_weighted': 0.952054027425345, 'eval_prec_macro': 0.9057554302841458, 'eval_prec_weighted': 0.9525901672951245, 'eval_recall_macro': 0.9223892601601579, 'eval_recall_weighted': 0.9518324607329843, 'eval_roc_auc_macro': 0.9878580847678418, 'eval_roc_auc_weighted': 0.9888850456705511, 'eval_accuracy': 0.9507853403141361, 'eval_runtime': 9.7866, 'eval_samples_per_second': 97.583, 'eval_steps_per_second': 9.809, 'epoch': 5.0}\n"
     ]
    },
    {
     "data": {
      "application/json": {
       "ascii": false,
       "bar_format": null,
       "colour": null,
       "elapsed": 0,
       "initial": 0,
       "n": 0,
       "ncols": null,
       "nrows": null,
       "postfix": null,
       "prefix": "",
       "rate": null,
       "total": 96,
       "unit": "it",
       "unit_divisor": 1000,
       "unit_scale": false
      },
      "application/vnd.jupyter.widget-view+json": {
       "model_id": "06460964d0724125a0459f8fa7bc0b8c",
       "version_major": 2,
       "version_minor": 0
      },
      "text/plain": [
       "  0%|          | 0/96 [00:00<?, ?it/s]"
      ]
     },
     "metadata": {},
     "output_type": "display_data"
    },
    {
     "name": "stdout",
     "output_type": "stream",
     "text": [
      "{'eval_loss': 0.09145542979240417, 'eval_f1_macro': 0.9212057801877389, 'eval_f1_weighted': 0.9527494783363246, 'eval_prec_macro': 0.920944523094601, 'eval_prec_weighted': 0.9552098690300835, 'eval_recall_macro': 0.9241707511057357, 'eval_recall_weighted': 0.9518324607329843, 'eval_roc_auc_macro': 0.9810517758243463, 'eval_roc_auc_weighted': 0.9851303680136931, 'eval_accuracy': 0.9507853403141361, 'eval_runtime': 9.8209, 'eval_samples_per_second': 97.242, 'eval_steps_per_second': 9.775, 'epoch': 6.0}\n",
      "{'loss': 0.017, 'grad_norm': 0.022935491055250168, 'learning_rate': 3.463114754098361e-05, 'epoch': 6.15}\n"
     ]
    },
    {
     "data": {
      "application/json": {
       "ascii": false,
       "bar_format": null,
       "colour": null,
       "elapsed": 0.01598381996154785,
       "initial": 0,
       "n": 0,
       "ncols": null,
       "nrows": null,
       "postfix": null,
       "prefix": "",
       "rate": null,
       "total": 96,
       "unit": "it",
       "unit_divisor": 1000,
       "unit_scale": false
      },
      "application/vnd.jupyter.widget-view+json": {
       "model_id": "c4efc8a4957d4120bfab00bcfe807cfd",
       "version_major": 2,
       "version_minor": 0
      },
      "text/plain": [
       "  0%|          | 0/96 [00:00<?, ?it/s]"
      ]
     },
     "metadata": {},
     "output_type": "display_data"
    },
    {
     "name": "stdout",
     "output_type": "stream",
     "text": [
      "{'eval_loss': 0.10030101984739304, 'eval_f1_macro': 0.8937880726953186, 'eval_f1_weighted': 0.9496126457926689, 'eval_prec_macro': 0.9039964854020912, 'eval_prec_weighted': 0.9552982624298355, 'eval_recall_macro': 0.8922499715069374, 'eval_recall_weighted': 0.9465968586387434, 'eval_roc_auc_macro': 0.9825153027368921, 'eval_roc_auc_weighted': 0.9838928899608809, 'eval_accuracy': 0.9465968586387434, 'eval_runtime': 9.8837, 'eval_samples_per_second': 96.624, 'eval_steps_per_second': 9.713, 'epoch': 7.0}\n"
     ]
    },
    {
     "data": {
      "application/json": {
       "ascii": false,
       "bar_format": null,
       "colour": null,
       "elapsed": 0.01562666893005371,
       "initial": 0,
       "n": 0,
       "ncols": null,
       "nrows": null,
       "postfix": null,
       "prefix": "",
       "rate": null,
       "total": 96,
       "unit": "it",
       "unit_divisor": 1000,
       "unit_scale": false
      },
      "application/vnd.jupyter.widget-view+json": {
       "model_id": "871d379243734392a3942994536fb174",
       "version_major": 2,
       "version_minor": 0
      },
      "text/plain": [
       "  0%|          | 0/96 [00:00<?, ?it/s]"
      ]
     },
     "metadata": {},
     "output_type": "display_data"
    },
    {
     "name": "stdout",
     "output_type": "stream",
     "text": [
      "{'eval_loss': 0.09036996215581894, 'eval_f1_macro': 0.9135127252425879, 'eval_f1_weighted': 0.956162130929461, 'eval_prec_macro': 0.9266951044767104, 'eval_prec_weighted': 0.959938372964265, 'eval_recall_macro': 0.9047257263975531, 'eval_recall_weighted': 0.9539267015706806, 'eval_roc_auc_macro': 0.9803616566843413, 'eval_roc_auc_weighted': 0.9880170835461857, 'eval_accuracy': 0.9539267015706806, 'eval_runtime': 9.9878, 'eval_samples_per_second': 95.617, 'eval_steps_per_second': 9.612, 'epoch': 8.0}\n",
      "{'loss': 0.0106, 'grad_norm': 0.015553292818367481, 'learning_rate': 2.9508196721311478e-05, 'epoch': 8.2}\n"
     ]
    },
    {
     "data": {
      "application/json": {
       "ascii": false,
       "bar_format": null,
       "colour": null,
       "elapsed": 0,
       "initial": 0,
       "n": 0,
       "ncols": null,
       "nrows": null,
       "postfix": null,
       "prefix": "",
       "rate": null,
       "total": 96,
       "unit": "it",
       "unit_divisor": 1000,
       "unit_scale": false
      },
      "application/vnd.jupyter.widget-view+json": {
       "model_id": "28e5472d2a0d44baa4dc7db1135e9981",
       "version_major": 2,
       "version_minor": 0
      },
      "text/plain": [
       "  0%|          | 0/96 [00:00<?, ?it/s]"
      ]
     },
     "metadata": {},
     "output_type": "display_data"
    },
    {
     "name": "stdout",
     "output_type": "stream",
     "text": [
      "{'eval_loss': 0.10160262137651443, 'eval_f1_macro': 0.8928097147860807, 'eval_f1_weighted': 0.951122088275916, 'eval_prec_macro': 0.9048928477398995, 'eval_prec_weighted': 0.9551325719754301, 'eval_recall_macro': 0.8872223194204618, 'eval_recall_weighted': 0.9486910994764398, 'eval_roc_auc_macro': 0.9844294702320283, 'eval_roc_auc_weighted': 0.9868429202265468, 'eval_accuracy': 0.9476439790575916, 'eval_runtime': 9.9786, 'eval_samples_per_second': 95.705, 'eval_steps_per_second': 9.621, 'epoch': 9.0}\n"
     ]
    },
    {
     "data": {
      "application/json": {
       "ascii": false,
       "bar_format": null,
       "colour": null,
       "elapsed": 0.01597452163696289,
       "initial": 0,
       "n": 0,
       "ncols": null,
       "nrows": null,
       "postfix": null,
       "prefix": "",
       "rate": null,
       "total": 96,
       "unit": "it",
       "unit_divisor": 1000,
       "unit_scale": false
      },
      "application/vnd.jupyter.widget-view+json": {
       "model_id": "36f8467c16f54c5298a01268b1fc7e6f",
       "version_major": 2,
       "version_minor": 0
      },
      "text/plain": [
       "  0%|          | 0/96 [00:00<?, ?it/s]"
      ]
     },
     "metadata": {},
     "output_type": "display_data"
    },
    {
     "name": "stdout",
     "output_type": "stream",
     "text": [
      "{'eval_loss': 0.10038677603006363, 'eval_f1_macro': 0.8927920086051045, 'eval_f1_weighted': 0.950495532836159, 'eval_prec_macro': 0.895197975269242, 'eval_prec_weighted': 0.9515659546517277, 'eval_recall_macro': 0.8977453454233639, 'eval_recall_weighted': 0.9507853403141361, 'eval_roc_auc_macro': 0.9846480249609104, 'eval_roc_auc_weighted': 0.9875068584170793, 'eval_accuracy': 0.9486910994764398, 'eval_runtime': 9.8038, 'eval_samples_per_second': 97.411, 'eval_steps_per_second': 9.792, 'epoch': 10.0}\n",
      "{'loss': 0.0036, 'grad_norm': 0.006827797740697861, 'learning_rate': 2.4385245901639343e-05, 'epoch': 10.25}\n"
     ]
    },
    {
     "data": {
      "application/json": {
       "ascii": false,
       "bar_format": null,
       "colour": null,
       "elapsed": 0.015630245208740234,
       "initial": 0,
       "n": 0,
       "ncols": null,
       "nrows": null,
       "postfix": null,
       "prefix": "",
       "rate": null,
       "total": 96,
       "unit": "it",
       "unit_divisor": 1000,
       "unit_scale": false
      },
      "application/vnd.jupyter.widget-view+json": {
       "model_id": "f0c4447349f94f24904226ea7e5e69c7",
       "version_major": 2,
       "version_minor": 0
      },
      "text/plain": [
       "  0%|          | 0/96 [00:00<?, ?it/s]"
      ]
     },
     "metadata": {},
     "output_type": "display_data"
    },
    {
     "name": "stdout",
     "output_type": "stream",
     "text": [
      "{'eval_loss': 0.103363998234272, 'eval_f1_macro': 0.9219978338652453, 'eval_f1_weighted': 0.9559652489161323, 'eval_prec_macro': 0.9182716827701807, 'eval_prec_weighted': 0.9578353835308244, 'eval_recall_macro': 0.9275032333855864, 'eval_recall_weighted': 0.9549738219895288, 'eval_roc_auc_macro': 0.9811040304847657, 'eval_roc_auc_weighted': 0.987684447252445, 'eval_accuracy': 0.9549738219895288, 'eval_runtime': 9.967, 'eval_samples_per_second': 95.817, 'eval_steps_per_second': 9.632, 'epoch': 11.0}\n"
     ]
    },
    {
     "data": {
      "application/json": {
       "ascii": false,
       "bar_format": null,
       "colour": null,
       "elapsed": 0.03163862228393555,
       "initial": 0,
       "n": 0,
       "ncols": null,
       "nrows": null,
       "postfix": null,
       "prefix": "",
       "rate": null,
       "total": 96,
       "unit": "it",
       "unit_divisor": 1000,
       "unit_scale": false
      },
      "application/vnd.jupyter.widget-view+json": {
       "model_id": "93b0bf16221a41d0a330d48cf971c258",
       "version_major": 2,
       "version_minor": 0
      },
      "text/plain": [
       "  0%|          | 0/96 [00:00<?, ?it/s]"
      ]
     },
     "metadata": {},
     "output_type": "display_data"
    },
    {
     "name": "stdout",
     "output_type": "stream",
     "text": [
      "{'eval_loss': 0.10690831393003464, 'eval_f1_macro': 0.9089686960765277, 'eval_f1_weighted': 0.9548926490103973, 'eval_prec_macro': 0.9129521744085171, 'eval_prec_weighted': 0.9558606372981961, 'eval_recall_macro': 0.9076083661222981, 'eval_recall_weighted': 0.9549738219895288, 'eval_roc_auc_macro': 0.9788404448032028, 'eval_roc_auc_weighted': 0.9881071259834188, 'eval_accuracy': 0.9539267015706806, 'eval_runtime': 9.9866, 'eval_samples_per_second': 95.628, 'eval_steps_per_second': 9.613, 'epoch': 12.0}\n",
      "{'loss': 0.0021, 'grad_norm': 0.005365756805986166, 'learning_rate': 1.9262295081967212e-05, 'epoch': 12.3}\n"
     ]
    },
    {
     "data": {
      "application/json": {
       "ascii": false,
       "bar_format": null,
       "colour": null,
       "elapsed": 0.015627384185791016,
       "initial": 0,
       "n": 0,
       "ncols": null,
       "nrows": null,
       "postfix": null,
       "prefix": "",
       "rate": null,
       "total": 96,
       "unit": "it",
       "unit_divisor": 1000,
       "unit_scale": false
      },
      "application/vnd.jupyter.widget-view+json": {
       "model_id": "44551d9194224ecb80b6c4ce115f0af4",
       "version_major": 2,
       "version_minor": 0
      },
      "text/plain": [
       "  0%|          | 0/96 [00:00<?, ?it/s]"
      ]
     },
     "metadata": {},
     "output_type": "display_data"
    },
    {
     "name": "stdout",
     "output_type": "stream",
     "text": [
      "{'eval_loss': 0.10377667099237442, 'eval_f1_macro': 0.9230239856591413, 'eval_f1_weighted': 0.9559245180690369, 'eval_prec_macro': 0.9207606248240923, 'eval_prec_weighted': 0.9575649145401792, 'eval_recall_macro': 0.9271433593415018, 'eval_recall_weighted': 0.9549738219895288, 'eval_roc_auc_macro': 0.9821784416721464, 'eval_roc_auc_weighted': 0.9892353944373723, 'eval_accuracy': 0.9549738219895288, 'eval_runtime': 9.9532, 'eval_samples_per_second': 95.949, 'eval_steps_per_second': 9.645, 'epoch': 13.0}\n"
     ]
    },
    {
     "data": {
      "application/json": {
       "ascii": false,
       "bar_format": null,
       "colour": null,
       "elapsed": 0.01635599136352539,
       "initial": 0,
       "n": 0,
       "ncols": null,
       "nrows": null,
       "postfix": null,
       "prefix": "",
       "rate": null,
       "total": 96,
       "unit": "it",
       "unit_divisor": 1000,
       "unit_scale": false
      },
      "application/vnd.jupyter.widget-view+json": {
       "model_id": "55df9a0ede3f4f31a305346456fdb357",
       "version_major": 2,
       "version_minor": 0
      },
      "text/plain": [
       "  0%|          | 0/96 [00:00<?, ?it/s]"
      ]
     },
     "metadata": {},
     "output_type": "display_data"
    },
    {
     "name": "stdout",
     "output_type": "stream",
     "text": [
      "{'eval_loss': 0.10007030516862869, 'eval_f1_macro': 0.9272345257645862, 'eval_f1_weighted': 0.9594803565562718, 'eval_prec_macro': 0.9254604905309132, 'eval_prec_weighted': 0.962018137170412, 'eval_recall_macro': 0.9320773955448878, 'eval_recall_weighted': 0.9581151832460733, 'eval_roc_auc_macro': 0.9811226917768833, 'eval_roc_auc_weighted': 0.9892526140738286, 'eval_accuracy': 0.9581151832460733, 'eval_runtime': 9.6855, 'eval_samples_per_second': 98.601, 'eval_steps_per_second': 9.912, 'epoch': 14.0}\n",
      "{'loss': 0.0013, 'grad_norm': 0.004257210064679384, 'learning_rate': 1.4139344262295081e-05, 'epoch': 14.34}\n"
     ]
    },
    {
     "data": {
      "application/json": {
       "ascii": false,
       "bar_format": null,
       "colour": null,
       "elapsed": 0.015974998474121094,
       "initial": 0,
       "n": 0,
       "ncols": null,
       "nrows": null,
       "postfix": null,
       "prefix": "",
       "rate": null,
       "total": 96,
       "unit": "it",
       "unit_divisor": 1000,
       "unit_scale": false
      },
      "application/vnd.jupyter.widget-view+json": {
       "model_id": "f3cc180da2ef479ca27a7399dcbd9a60",
       "version_major": 2,
       "version_minor": 0
      },
      "text/plain": [
       "  0%|          | 0/96 [00:00<?, ?it/s]"
      ]
     },
     "metadata": {},
     "output_type": "display_data"
    },
    {
     "name": "stdout",
     "output_type": "stream",
     "text": [
      "{'eval_loss': 0.1043650433421135, 'eval_f1_macro': 0.9267789730300187, 'eval_f1_weighted': 0.9580345807554805, 'eval_prec_macro': 0.9222097166104056, 'eval_prec_weighted': 0.9601403987535763, 'eval_recall_macro': 0.9339703816484002, 'eval_recall_weighted': 0.9570680628272251, 'eval_roc_auc_macro': 0.9798190615534554, 'eval_roc_auc_weighted': 0.9880342458098413, 'eval_accuracy': 0.9570680628272251, 'eval_runtime': 9.9644, 'eval_samples_per_second': 95.841, 'eval_steps_per_second': 9.634, 'epoch': 15.0}\n"
     ]
    },
    {
     "data": {
      "application/json": {
       "ascii": false,
       "bar_format": null,
       "colour": null,
       "elapsed": 0.015624523162841797,
       "initial": 0,
       "n": 0,
       "ncols": null,
       "nrows": null,
       "postfix": null,
       "prefix": "",
       "rate": null,
       "total": 96,
       "unit": "it",
       "unit_divisor": 1000,
       "unit_scale": false
      },
      "application/vnd.jupyter.widget-view+json": {
       "model_id": "1f07495e92d54baabacf04e0f691b83c",
       "version_major": 2,
       "version_minor": 0
      },
      "text/plain": [
       "  0%|          | 0/96 [00:00<?, ?it/s]"
      ]
     },
     "metadata": {},
     "output_type": "display_data"
    },
    {
     "name": "stdout",
     "output_type": "stream",
     "text": [
      "{'eval_loss': 0.1093260645866394, 'eval_f1_macro': 0.9239719424642185, 'eval_f1_weighted': 0.9576369433080657, 'eval_prec_macro': 0.9188488104610443, 'eval_prec_weighted': 0.959176369437233, 'eval_recall_macro': 0.9307907314099264, 'eval_recall_weighted': 0.9570680628272251, 'eval_roc_auc_macro': 0.9791083569738348, 'eval_roc_auc_weighted': 0.987577114583819, 'eval_accuracy': 0.9570680628272251, 'eval_runtime': 9.907, 'eval_samples_per_second': 96.397, 'eval_steps_per_second': 9.69, 'epoch': 16.0}\n",
      "{'loss': 0.0006, 'grad_norm': 0.002441456774249673, 'learning_rate': 9.016393442622952e-06, 'epoch': 16.39}\n"
     ]
    },
    {
     "data": {
      "application/json": {
       "ascii": false,
       "bar_format": null,
       "colour": null,
       "elapsed": 0.015623807907104492,
       "initial": 0,
       "n": 0,
       "ncols": null,
       "nrows": null,
       "postfix": null,
       "prefix": "",
       "rate": null,
       "total": 96,
       "unit": "it",
       "unit_divisor": 1000,
       "unit_scale": false
      },
      "application/vnd.jupyter.widget-view+json": {
       "model_id": "20b51cd6edb04f05a2c617674c0f8238",
       "version_major": 2,
       "version_minor": 0
      },
      "text/plain": [
       "  0%|          | 0/96 [00:00<?, ?it/s]"
      ]
     },
     "metadata": {},
     "output_type": "display_data"
    },
    {
     "name": "stdout",
     "output_type": "stream",
     "text": [
      "{'eval_loss': 0.11132070422172546, 'eval_f1_macro': 0.9279845741393284, 'eval_f1_weighted': 0.9581686028386087, 'eval_prec_macro': 0.9217842067458516, 'eval_prec_weighted': 0.9594082284612236, 'eval_recall_macro': 0.9366730843511029, 'eval_recall_weighted': 0.9581151832460733, 'eval_roc_auc_macro': 0.9793986197023508, 'eval_roc_auc_weighted': 0.9875711658205673, 'eval_accuracy': 0.9581151832460733, 'eval_runtime': 9.8939, 'eval_samples_per_second': 96.524, 'eval_steps_per_second': 9.703, 'epoch': 17.0}\n"
     ]
    },
    {
     "data": {
      "application/json": {
       "ascii": false,
       "bar_format": null,
       "colour": null,
       "elapsed": 0.015670299530029297,
       "initial": 0,
       "n": 0,
       "ncols": null,
       "nrows": null,
       "postfix": null,
       "prefix": "",
       "rate": null,
       "total": 96,
       "unit": "it",
       "unit_divisor": 1000,
       "unit_scale": false
      },
      "application/vnd.jupyter.widget-view+json": {
       "model_id": "5eb59603c0864bb5a16554f73c8857d7",
       "version_major": 2,
       "version_minor": 0
      },
      "text/plain": [
       "  0%|          | 0/96 [00:00<?, ?it/s]"
      ]
     },
     "metadata": {},
     "output_type": "display_data"
    },
    {
     "name": "stdout",
     "output_type": "stream",
     "text": [
      "{'eval_loss': 0.11131041496992111, 'eval_f1_macro': 0.9282592837378612, 'eval_f1_weighted': 0.9586604912296987, 'eval_prec_macro': 0.9223086305799034, 'eval_prec_weighted': 0.960347249148374, 'eval_recall_macro': 0.9366730843511029, 'eval_recall_weighted': 0.9581151832460733, 'eval_roc_auc_macro': 0.979460855388302, 'eval_roc_auc_weighted': 0.9876584894319457, 'eval_accuracy': 0.9581151832460733, 'eval_runtime': 9.8614, 'eval_samples_per_second': 96.842, 'eval_steps_per_second': 9.735, 'epoch': 18.0}\n",
      "{'loss': 0.0006, 'grad_norm': 0.001976240426301956, 'learning_rate': 3.89344262295082e-06, 'epoch': 18.44}\n"
     ]
    },
    {
     "data": {
      "application/json": {
       "ascii": false,
       "bar_format": null,
       "colour": null,
       "elapsed": 0.015622854232788086,
       "initial": 0,
       "n": 0,
       "ncols": null,
       "nrows": null,
       "postfix": null,
       "prefix": "",
       "rate": null,
       "total": 96,
       "unit": "it",
       "unit_divisor": 1000,
       "unit_scale": false
      },
      "application/vnd.jupyter.widget-view+json": {
       "model_id": "811fd398926544469e86e961085bd45d",
       "version_major": 2,
       "version_minor": 0
      },
      "text/plain": [
       "  0%|          | 0/96 [00:00<?, ?it/s]"
      ]
     },
     "metadata": {},
     "output_type": "display_data"
    },
    {
     "name": "stdout",
     "output_type": "stream",
     "text": [
      "{'eval_loss': 0.11180665343999863, 'eval_f1_macro': 0.9294571918677139, 'eval_f1_weighted': 0.9592051184798585, 'eval_prec_macro': 0.9245175175060814, 'eval_prec_weighted': 0.9604787806308706, 'eval_recall_macro': 0.9370779426506981, 'eval_recall_weighted': 0.9591623036649215, 'eval_roc_auc_macro': 0.9789140112961008, 'eval_roc_auc_weighted': 0.9874016642343878, 'eval_accuracy': 0.9591623036649215, 'eval_runtime': 9.7982, 'eval_samples_per_second': 97.467, 'eval_steps_per_second': 9.798, 'epoch': 19.0}\n"
     ]
    },
    {
     "data": {
      "application/json": {
       "ascii": false,
       "bar_format": null,
       "colour": null,
       "elapsed": 0.015865564346313477,
       "initial": 0,
       "n": 0,
       "ncols": null,
       "nrows": null,
       "postfix": null,
       "prefix": "",
       "rate": null,
       "total": 96,
       "unit": "it",
       "unit_divisor": 1000,
       "unit_scale": false
      },
      "application/vnd.jupyter.widget-view+json": {
       "model_id": "ae8d9b3560e4416db8d2ac6c5f85e2b9",
       "version_major": 2,
       "version_minor": 0
      },
      "text/plain": [
       "  0%|          | 0/96 [00:00<?, ?it/s]"
      ]
     },
     "metadata": {},
     "output_type": "display_data"
    },
    {
     "name": "stdout",
     "output_type": "stream",
     "text": [
      "{'eval_loss': 0.11193442344665527, 'eval_f1_macro': 0.9292575632108511, 'eval_f1_weighted': 0.9586888014301712, 'eval_prec_macro': 0.924105222016, 'eval_prec_weighted': 0.9594124247560006, 'eval_recall_macro': 0.9370779426506981, 'eval_recall_weighted': 0.9591623036649215, 'eval_roc_auc_macro': 0.9788362594832911, 'eval_roc_auc_weighted': 0.9874004260366831, 'eval_accuracy': 0.9581151832460733, 'eval_runtime': 9.833, 'eval_samples_per_second': 97.122, 'eval_steps_per_second': 9.763, 'epoch': 20.0}\n",
      "{'train_runtime': 2709.4314, 'train_samples_per_second': 28.81, 'train_steps_per_second': 1.801, 'train_loss': 0.021756304021863664, 'epoch': 20.0}\n"
     ]
    },
    {
     "data": {
      "text/plain": [
       "TrainOutput(global_step=4880, training_loss=0.021756304021863664, metrics={'train_runtime': 2709.4314, 'train_samples_per_second': 28.81, 'train_steps_per_second': 1.801, 'total_flos': 1.026950110036992e+16, 'train_loss': 0.021756304021863664, 'epoch': 20.0})"
      ]
     },
     "execution_count": 27,
     "metadata": {},
     "output_type": "execute_result"
    }
   ],
   "source": [
    "trainer.train()"
   ]
  },
  {
   "cell_type": "code",
   "execution_count": 28,
   "metadata": {
    "jupyter": {
     "is_executing": true
    }
   },
   "outputs": [
    {
     "data": {
      "application/json": {
       "ascii": false,
       "bar_format": null,
       "colour": null,
       "elapsed": 0.01635575294494629,
       "initial": 0,
       "n": 0,
       "ncols": null,
       "nrows": null,
       "postfix": null,
       "prefix": "",
       "rate": null,
       "total": 96,
       "unit": "it",
       "unit_divisor": 1000,
       "unit_scale": false
      },
      "application/vnd.jupyter.widget-view+json": {
       "model_id": "0b0718377a544d10a7631d9bece93786",
       "version_major": 2,
       "version_minor": 0
      },
      "text/plain": [
       "  0%|          | 0/96 [00:00<?, ?it/s]"
      ]
     },
     "metadata": {},
     "output_type": "display_data"
    },
    {
     "data": {
      "text/plain": [
       "{'eval_loss': 0.11180665343999863,\n",
       " 'eval_f1_macro': 0.9294571918677139,\n",
       " 'eval_f1_weighted': 0.9592051184798585,\n",
       " 'eval_prec_macro': 0.9245175175060814,\n",
       " 'eval_prec_weighted': 0.9604787806308706,\n",
       " 'eval_recall_macro': 0.9370779426506981,\n",
       " 'eval_recall_weighted': 0.9591623036649215,\n",
       " 'eval_roc_auc_macro': 0.9789140112961008,\n",
       " 'eval_roc_auc_weighted': 0.9874016642343878,\n",
       " 'eval_accuracy': 0.9591623036649215,\n",
       " 'eval_runtime': 10.2565,\n",
       " 'eval_samples_per_second': 93.112,\n",
       " 'eval_steps_per_second': 9.36,\n",
       " 'epoch': 20.0}"
      ]
     },
     "execution_count": 28,
     "metadata": {},
     "output_type": "execute_result"
    }
   ],
   "source": [
    "trainer.eval_dataset = Tokenized_DataSet[\"test\"]\n",
    "trainer.evaluate()"
   ]
  },
  {
   "cell_type": "code",
   "execution_count": 29,
   "metadata": {
    "ExecuteTime": {
     "end_time": "2024-04-25T19:31:44.706606Z",
     "start_time": "2024-04-25T19:31:44.706095Z"
    }
   },
   "outputs": [],
   "source": [
    "#medroberta_clf_pipe = pipeline('text-classification', model=medroberta_clf, tokenizer=tokenizer)"
   ]
  },
  {
   "cell_type": "code",
   "execution_count": 30,
   "metadata": {},
   "outputs": [],
   "source": [
    "# get current directory of .py file, i.e. NOT os.getcwd()\n",
    "#os.path.dirname(os.path.realpath(__file__))"
   ]
  },
  {
   "cell_type": "code",
   "execution_count": null,
   "metadata": {},
   "outputs": [],
   "source": []
  }
 ],
 "metadata": {
  "kernelspec": {
   "display_name": "nlp",
   "language": "python",
   "name": "python3"
  },
  "language_info": {
   "codemirror_mode": {
    "name": "ipython",
    "version": 3
   },
   "file_extension": ".py",
   "mimetype": "text/x-python",
   "name": "python",
   "nbconvert_exporter": "python",
   "pygments_lexer": "ipython3",
   "version": "3.10.0"
  }
 },
 "nbformat": 4,
 "nbformat_minor": 2
}
