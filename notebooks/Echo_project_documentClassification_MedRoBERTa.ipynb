{
 "cells": [
  {
   "cell_type": "code",
   "execution_count": 1,
   "metadata": {
    "ExecuteTime": {
     "end_time": "2024-04-25T15:39:03.484607Z",
     "start_time": "2024-04-25T15:38:35.109090Z"
    }
   },
   "outputs": [
    {
     "ename": "OSError",
     "evalue": "[WinError 127] Kan opgegeven procedure niet vinden. Error loading \"c:\\Users\\bes3\\AppData\\Local\\pypoetry\\Cache\\virtualenvs\\echolabeler-DyKQcQCO-py3.11\\Lib\\site-packages\\torch\\lib\\torch_python.dll\" or one of its dependencies.",
     "output_type": "error",
     "traceback": [
      "\u001b[1;31m---------------------------------------------------------------------------\u001b[0m",
      "\u001b[1;31mOSError\u001b[0m                                   Traceback (most recent call last)",
      "Cell \u001b[1;32mIn[1], line 8\u001b[0m\n\u001b[0;32m      6\u001b[0m \u001b[38;5;28;01mimport\u001b[39;00m \u001b[38;5;21;01mmatplotlib\u001b[39;00m\u001b[38;5;21;01m.\u001b[39;00m\u001b[38;5;21;01mpyplot\u001b[39;00m \u001b[38;5;28;01mas\u001b[39;00m \u001b[38;5;21;01mplt\u001b[39;00m\n\u001b[0;32m      7\u001b[0m \u001b[38;5;28;01mimport\u001b[39;00m \u001b[38;5;21;01mpandas\u001b[39;00m \u001b[38;5;28;01mas\u001b[39;00m \u001b[38;5;21;01mpd\u001b[39;00m\n\u001b[1;32m----> 8\u001b[0m \u001b[38;5;28;01mimport\u001b[39;00m \u001b[38;5;21;01mtorch\u001b[39;00m\n\u001b[0;32m     10\u001b[0m \u001b[38;5;28;01mimport\u001b[39;00m \u001b[38;5;21;01mos\u001b[39;00m\n\u001b[0;32m     11\u001b[0m \u001b[38;5;28;01mimport\u001b[39;00m \u001b[38;5;21;01msys\u001b[39;00m\n",
      "File \u001b[1;32mc:\\Users\\bes3\\AppData\\Local\\pypoetry\\Cache\\virtualenvs\\echolabeler-DyKQcQCO-py3.11\\Lib\\site-packages\\torch\\__init__.py:130\u001b[0m\n\u001b[0;32m    128\u001b[0m     err \u001b[38;5;241m=\u001b[39m ctypes\u001b[38;5;241m.\u001b[39mWinError(last_error)\n\u001b[0;32m    129\u001b[0m     err\u001b[38;5;241m.\u001b[39mstrerror \u001b[38;5;241m+\u001b[39m\u001b[38;5;241m=\u001b[39m \u001b[38;5;124mf\u001b[39m\u001b[38;5;124m'\u001b[39m\u001b[38;5;124m Error loading \u001b[39m\u001b[38;5;124m\"\u001b[39m\u001b[38;5;132;01m{\u001b[39;00mdll\u001b[38;5;132;01m}\u001b[39;00m\u001b[38;5;124m\"\u001b[39m\u001b[38;5;124m or one of its dependencies.\u001b[39m\u001b[38;5;124m'\u001b[39m\n\u001b[1;32m--> 130\u001b[0m     \u001b[38;5;28;01mraise\u001b[39;00m err\n\u001b[0;32m    131\u001b[0m \u001b[38;5;28;01melif\u001b[39;00m res \u001b[38;5;129;01mis\u001b[39;00m \u001b[38;5;129;01mnot\u001b[39;00m \u001b[38;5;28;01mNone\u001b[39;00m:\n\u001b[0;32m    132\u001b[0m     is_loaded \u001b[38;5;241m=\u001b[39m \u001b[38;5;28;01mTrue\u001b[39;00m\n",
      "\u001b[1;31mOSError\u001b[0m: [WinError 127] Kan opgegeven procedure niet vinden. Error loading \"c:\\Users\\bes3\\AppData\\Local\\pypoetry\\Cache\\virtualenvs\\echolabeler-DyKQcQCO-py3.11\\Lib\\site-packages\\torch\\lib\\torch_python.dll\" or one of its dependencies."
     ]
    }
   ],
   "source": [
    "# add autoreload\n",
    "%load_ext autoreload\n",
    "%autoreload 2\n",
    "\n",
    "import numpy as np\n",
    "import matplotlib.pyplot as plt\n",
    "import pandas as pd\n",
    "import torch\n",
    "\n",
    "import os\n",
    "import sys\n",
    "import gc\n",
    "\n",
    "from typing import List, Tuple, Dict, Union"
   ]
  },
  {
   "cell_type": "code",
   "execution_count": 2,
   "metadata": {},
   "outputs": [
    {
     "ename": "OSError",
     "evalue": "[WinError 127] Kan opgegeven procedure niet vinden. Error loading \"c:\\Users\\bes3\\AppData\\Local\\pypoetry\\Cache\\virtualenvs\\echolabeler-DyKQcQCO-py3.11\\Lib\\site-packages\\torch\\lib\\torch_python.dll\" or one of its dependencies.",
     "output_type": "error",
     "traceback": [
      "\u001b[1;31m---------------------------------------------------------------------------\u001b[0m",
      "\u001b[1;31mOSError\u001b[0m                                   Traceback (most recent call last)",
      "Cell \u001b[1;32mIn[2], line 1\u001b[0m\n\u001b[1;32m----> 1\u001b[0m \u001b[38;5;28;01mfrom\u001b[39;00m \u001b[38;5;21;01msetfit\u001b[39;00m \u001b[38;5;28;01mimport\u001b[39;00m SetFitModel\n\u001b[0;32m      2\u001b[0m \u001b[38;5;28;01mfrom\u001b[39;00m \u001b[38;5;21;01msetfit\u001b[39;00m \u001b[38;5;28;01mimport\u001b[39;00m SetFitTrainer\n\u001b[0;32m      3\u001b[0m \u001b[38;5;28;01mfrom\u001b[39;00m \u001b[38;5;21;01mdatasets\u001b[39;00m \u001b[38;5;28;01mimport\u001b[39;00m Dataset, DatasetDict\n",
      "File \u001b[1;32mc:\\Users\\bes3\\AppData\\Local\\pypoetry\\Cache\\virtualenvs\\echolabeler-DyKQcQCO-py3.11\\Lib\\site-packages\\setfit\\__init__.py:7\u001b[0m\n\u001b[0;32m      4\u001b[0m \u001b[38;5;28;01mimport\u001b[39;00m \u001b[38;5;21;01mos\u001b[39;00m\n\u001b[0;32m      5\u001b[0m \u001b[38;5;28;01mimport\u001b[39;00m \u001b[38;5;21;01mwarnings\u001b[39;00m\n\u001b[1;32m----> 7\u001b[0m \u001b[38;5;28;01mfrom\u001b[39;00m \u001b[38;5;21;01m.\u001b[39;00m\u001b[38;5;21;01mdata\u001b[39;00m \u001b[38;5;28;01mimport\u001b[39;00m get_templated_dataset, sample_dataset\n\u001b[0;32m      8\u001b[0m \u001b[38;5;28;01mfrom\u001b[39;00m \u001b[38;5;21;01m.\u001b[39;00m\u001b[38;5;21;01mmodel_card\u001b[39;00m \u001b[38;5;28;01mimport\u001b[39;00m SetFitModelCardData\n\u001b[0;32m      9\u001b[0m \u001b[38;5;28;01mfrom\u001b[39;00m \u001b[38;5;21;01m.\u001b[39;00m\u001b[38;5;21;01mmodeling\u001b[39;00m \u001b[38;5;28;01mimport\u001b[39;00m SetFitHead, SetFitModel\n",
      "File \u001b[1;32mc:\\Users\\bes3\\AppData\\Local\\pypoetry\\Cache\\virtualenvs\\echolabeler-DyKQcQCO-py3.11\\Lib\\site-packages\\setfit\\data.py:4\u001b[0m\n\u001b[0;32m      1\u001b[0m \u001b[38;5;28;01mfrom\u001b[39;00m \u001b[38;5;21;01mtyping\u001b[39;00m \u001b[38;5;28;01mimport\u001b[39;00m TYPE_CHECKING, Dict, List, Optional, Tuple, Union\n\u001b[0;32m      3\u001b[0m \u001b[38;5;28;01mimport\u001b[39;00m \u001b[38;5;21;01mpandas\u001b[39;00m \u001b[38;5;28;01mas\u001b[39;00m \u001b[38;5;21;01mpd\u001b[39;00m\n\u001b[1;32m----> 4\u001b[0m \u001b[38;5;28;01mimport\u001b[39;00m \u001b[38;5;21;01mtorch\u001b[39;00m\n\u001b[0;32m      5\u001b[0m \u001b[38;5;28;01mfrom\u001b[39;00m \u001b[38;5;21;01mdatasets\u001b[39;00m \u001b[38;5;28;01mimport\u001b[39;00m Dataset, DatasetDict, load_dataset\n\u001b[0;32m      6\u001b[0m \u001b[38;5;28;01mfrom\u001b[39;00m \u001b[38;5;21;01mtorch\u001b[39;00m\u001b[38;5;21;01m.\u001b[39;00m\u001b[38;5;21;01mutils\u001b[39;00m\u001b[38;5;21;01m.\u001b[39;00m\u001b[38;5;21;01mdata\u001b[39;00m \u001b[38;5;28;01mimport\u001b[39;00m Dataset \u001b[38;5;28;01mas\u001b[39;00m TorchDataset\n",
      "File \u001b[1;32mc:\\Users\\bes3\\AppData\\Local\\pypoetry\\Cache\\virtualenvs\\echolabeler-DyKQcQCO-py3.11\\Lib\\site-packages\\torch\\__init__.py:130\u001b[0m\n\u001b[0;32m    128\u001b[0m     err \u001b[38;5;241m=\u001b[39m ctypes\u001b[38;5;241m.\u001b[39mWinError(last_error)\n\u001b[0;32m    129\u001b[0m     err\u001b[38;5;241m.\u001b[39mstrerror \u001b[38;5;241m+\u001b[39m\u001b[38;5;241m=\u001b[39m \u001b[38;5;124mf\u001b[39m\u001b[38;5;124m'\u001b[39m\u001b[38;5;124m Error loading \u001b[39m\u001b[38;5;124m\"\u001b[39m\u001b[38;5;132;01m{\u001b[39;00mdll\u001b[38;5;132;01m}\u001b[39;00m\u001b[38;5;124m\"\u001b[39m\u001b[38;5;124m or one of its dependencies.\u001b[39m\u001b[38;5;124m'\u001b[39m\n\u001b[1;32m--> 130\u001b[0m     \u001b[38;5;28;01mraise\u001b[39;00m err\n\u001b[0;32m    131\u001b[0m \u001b[38;5;28;01melif\u001b[39;00m res \u001b[38;5;129;01mis\u001b[39;00m \u001b[38;5;129;01mnot\u001b[39;00m \u001b[38;5;28;01mNone\u001b[39;00m:\n\u001b[0;32m    132\u001b[0m     is_loaded \u001b[38;5;241m=\u001b[39m \u001b[38;5;28;01mTrue\u001b[39;00m\n",
      "\u001b[1;31mOSError\u001b[0m: [WinError 127] Kan opgegeven procedure niet vinden. Error loading \"c:\\Users\\bes3\\AppData\\Local\\pypoetry\\Cache\\virtualenvs\\echolabeler-DyKQcQCO-py3.11\\Lib\\site-packages\\torch\\lib\\torch_python.dll\" or one of its dependencies."
     ]
    }
   ],
   "source": [
    "from setfit import SetFitModel\n",
    "from setfit import SetFitTrainer\n",
    "from datasets import Dataset, DatasetDict\n",
    "from sklearn.metrics import accuracy_score, f1_score, precision_score, recall_score, classification_report, confusion_matrix, roc_auc_score\n",
    "\n",
    "from transformers import TrainingArguments, Trainer\n",
    "from transformers import pipeline\n",
    "from transformers import DataCollatorWithPadding\n",
    "from transformers import EvalPrediction\n",
    "\n",
    "from torchinfo import summary\n",
    "from transformers import AutoModelForSequenceClassification, AutoTokenizer\n",
    "import evaluate\n",
    "\n",
    "from sklearn.preprocessing import LabelEncoder, MultiLabelBinarizer\n",
    "\n",
    "import benedict\n",
    "import random"
   ]
  },
  {
   "cell_type": "code",
   "execution_count": 3,
   "metadata": {},
   "outputs": [],
   "source": [
    "torch.manual_seed(42)\n",
    "torch.cuda.manual_seed(42)\n",
    "np.random.seed(42)\n",
    "random.seed(42)\n",
    "\n",
    "torch.backends.cudnn.deterministic = True\n",
    "torch.backends.cudnn.benchmark = False"
   ]
  },
  {
   "cell_type": "code",
   "execution_count": 4,
   "metadata": {},
   "outputs": [
    {
     "name": "stdout",
     "output_type": "stream",
     "text": [
      "There are 1 GPU(s) available.\n",
      "We will use the GPU: NVIDIA RTX A4000\n",
      "Memory Allocated: 0\n",
      "Max memory Allocated: 0\n",
      "Memory reserved: 0\n",
      "Max memory reserved: 0\n"
     ]
    }
   ],
   "source": [
    "if torch.cuda.is_available():\n",
    "    device = torch.device(\"cuda\")\n",
    "    print(\"There are %d GPU(s) available.\" % torch.cuda.device_count())\n",
    "    print(\"We will use the GPU:\", torch.cuda.get_device_name(0))\n",
    "    print(f\"Memory Allocated: {torch.cuda.memory_allocated()}\")\n",
    "    print(f\"Max memory Allocated: {torch.cuda.max_memory_allocated()}\") \n",
    "    print(f\"Memory reserved: {torch.cuda.memory_reserved()}\")\n",
    "    print(f\"Max memory reserved: {torch.cuda.max_memory_reserved()}\")\n",
    "else:\n",
    "    print(\"No GPU available, using the CPU instead.\")\n",
    "    device = torch.device(\"cpu\")"
   ]
  },
  {
   "cell_type": "code",
   "execution_count": 5,
   "metadata": {},
   "outputs": [],
   "source": [
    "deabbreviate = False\n",
    "filter_reports = True\n",
    "Class = 'wma' # lv_dil, rv_dil, pe, aortic_regurgitation, diastolic_dysfunction, lv_syst_func\n",
    "FLAG_TERMS = ['uitslag zie medische status', 'zie status', 'zie verslag status', 'slecht echovenster', 'echo overwegen', 'ge echo',\n",
    "              'geen echovenster', 'geen beoordeelbaar echo', 'geen beoordeelbare echo', 'verslag op ic']\n",
    "SAVE_TERMS = ['goed', 'geen', 'normaal', 'normale']\n",
    "use_multilabel = False\n",
    "\n",
    "MULTILABELS = {'Mild': ['Mild', 'Present'], \n",
    "               'Severe': ['Severe', 'Present'],\n",
    "               'Moderate': ['Moderate', 'Present'],\n",
    "               'Normal': ['Normal'],\n",
    "               'No label': ['No label'],\n",
    "               'Present': ['Present'],\n",
    "               }\n"
   ]
  },
  {
   "cell_type": "code",
   "execution_count": 6,
   "metadata": {},
   "outputs": [],
   "source": [
    "#Add the src folder to the path\n",
    "sys.path.append(os.path.abspath(os.path.join('..', 'src')))\n",
    "import deabber, echo_utils"
   ]
  },
  {
   "cell_type": "code",
   "execution_count": 7,
   "metadata": {},
   "outputs": [],
   "source": [
    "ABBREVIATIONS = benedict.benedict(\"../assets/abbreviations.yml\")"
   ]
  },
  {
   "cell_type": "code",
   "execution_count": 8,
   "metadata": {
    "ExecuteTime": {
     "end_time": "2024-04-25T15:39:03.996106Z",
     "start_time": "2024-04-25T15:39:03.489109Z"
    }
   },
   "outputs": [],
   "source": [
    "plt.style.use('ggplot')\n",
    "def plot_history(history, val=0):\n",
    "    acc = history.history['accuracy']\n",
    "    if val == 1:\n",
    "        val_acc = history.history['val_accuracy'] # we can add a validation set in our fit function with nn\n",
    "    loss = history.history['loss']\n",
    "    if val == 1:\n",
    "        val_loss = history.history['val_loss']\n",
    "    x = range(1, len(acc) + 1)\n",
    "\n",
    "    plt.figure(figsize=(12, 5))\n",
    "    plt.subplot(1, 2, 1)\n",
    "    plt.plot(x, acc, 'b', label='Training accuracy')\n",
    "    if val == 1:\n",
    "        plt.plot(x, val_acc, 'r', label='Validation accuracy')\n",
    "    plt.ylabel('accuracy')\n",
    "    plt.xlabel('epoch')\n",
    "    plt.title('Accuracy')\n",
    "    plt.legend()\n",
    "    plt.subplot(1, 2, 2)\n",
    "    plt.plot(x, loss, 'b', label='Training loss')\n",
    "    if val == 1:\n",
    "        plt.plot(x, val_loss, 'r', label='Validation loss')\n",
    "    plt.ylabel('loss')\n",
    "    plt.xlabel('epoch')\n",
    "    plt.title('Loss')\n",
    "    plt.legend()"
   ]
  },
  {
   "cell_type": "code",
   "execution_count": 9,
   "metadata": {
    "ExecuteTime": {
     "end_time": "2024-04-25T15:39:04.476606Z",
     "start_time": "2024-04-25T15:39:03.998607Z"
    }
   },
   "outputs": [],
   "source": [
    "def compute_metrics_binomial(logits_and_labels, averaging='macro'):\n",
    "  logits, labels = logits_and_labels\n",
    "  predictions = np.argmax(logits, axis=-1)\n",
    "  acc = np.mean(predictions == labels)\n",
    "  f1 = f1_score(labels, predictions, average = averaging)\n",
    "  prec = precision_score(labels, predictions, average = averaging)\n",
    "  rec = recall_score(labels, predictions, average = averaging)\n",
    "  return {\n",
    "          'accuracy': acc, \n",
    "          'f1_score': f1,\n",
    "          'precision': prec,\n",
    "          'recal': rec\n",
    "          }\n",
    "\n",
    "# source: https://jesusleal.io/2021/04/21/Longformer-multilabel-classification/\n",
    "def multi_label_metrics(predictions, labels, threshold=0.5):\n",
    "    # first, apply sigmoid on predictions which are of shape (batch_size, num_labels)\n",
    "    sigmoid = torch.nn.Sigmoid()\n",
    "    probs = sigmoid(torch.Tensor(predictions))\n",
    "    # next, use threshold to turn them into integer predictions\n",
    "    y_pred = np.zeros(probs.shape)\n",
    "    y_pred[np.where(probs >= threshold)] = 1\n",
    "    # finally, compute metrics\n",
    "    y_true = labels\n",
    "    \n",
    "    \n",
    "    f1_macro = f1_score(y_true=y_true, y_pred=y_pred, average='macro')\n",
    "    f1_weighted = f1_score(y_true=y_true, y_pred=y_pred, average='weighted')\n",
    "    prec_macro = precision_score(y_true=y_true, y_pred=y_pred, average='macro')\n",
    "    prec_weighted = precision_score(y_true=y_true, y_pred=y_pred, average='weighted')\n",
    "    recall_macro = recall_score(y_true=y_true, y_pred=y_pred, average='macro')\n",
    "    recall_weighted = recall_score(y_true=y_true, y_pred=y_pred, average='weighted')    \n",
    "    \n",
    "    try:\n",
    "        roc_auc_weighted = roc_auc_score(y_true, probs, average = 'weighted')\n",
    "        roc_auc_macro = roc_auc_score(y_true, probs, average = 'macro')\n",
    "    except:\n",
    "        roc_auc_weighted = None\n",
    "        roc_auc_macro = None\n",
    "    \n",
    "    accuracy = accuracy_score(y_true, y_pred)\n",
    "    # return as dictionary\n",
    "    metrics = {'f1_macro': f1_macro,\n",
    "               'f1_weighted': f1_weighted,\n",
    "               'prec_macro': prec_macro,\n",
    "               'prec_weighted': prec_weighted,\n",
    "               'recall_macro': recall_macro,\n",
    "               'recall_weighted': recall_weighted,\n",
    "               'roc_auc_macro': roc_auc_macro,\n",
    "               'roc_auc_weighted': roc_auc_weighted,\n",
    "               'accuracy': accuracy}\n",
    "    return metrics\n",
    "\n",
    "def compute_metrics(p: EvalPrediction):\n",
    "    preds = p.predictions[0] if isinstance(p.predictions, \n",
    "            tuple) else p.predictions\n",
    "    result = multi_label_metrics(\n",
    "        predictions=preds, \n",
    "        labels=p.label_ids)\n",
    "    return result\n",
    "     \n"
   ]
  },
  {
   "cell_type": "code",
   "execution_count": 10,
   "metadata": {
    "ExecuteTime": {
     "end_time": "2024-04-25T15:39:05.003636Z",
     "start_time": "2024-04-25T15:39:04.479108Z"
    }
   },
   "outputs": [],
   "source": [
    "def one_hot_encode(labels, num_classes):\n",
    "    # labels should be a list or a 1D tensor\n",
    "    one_hot = torch.zeros((len(labels), num_classes))\n",
    "    rows = torch.arange(len(labels))\n",
    "    one_hot[rows, labels] = 1\n",
    "    return one_hot\n",
    "\n",
    "def _mlabel_tuple_creator(x: List[int],\n",
    "                          multilabels:Dict[int,List[int]],\n",
    "                          num_classes: int=None)\\\n",
    "                          ->List[Tuple[int,...]]:\n",
    "                              \n",
    "    res = [(_sc for _sc in multilabels[sc]) for sc in x]\n",
    "    return res\n",
    "\n",
    "def multi_hot_encoding(x: List[int], \n",
    "                       multilabels: Union[Dict[int,List[int]], None]=None,\n",
    "                       num_classes: int=None)\\\n",
    "                           ->torch.Tensor:    \n",
    "    if multilabels is None:\n",
    "        return one_hot_encode(x, num_classes=num_classes)\n",
    "    else:\n",
    "        return torch.Tensor(MultiLabelBinarizer(classes=range(num_classes))\\\n",
    "                    .fit_transform(_mlabel_tuple_creator(x,multilabels)))"
   ]
  },
  {
   "cell_type": "markdown",
   "metadata": {},
   "source": [
    "# Load documents"
   ]
  },
  {
   "cell_type": "code",
   "execution_count": 11,
   "metadata": {
    "ExecuteTime": {
     "end_time": "2024-04-25T15:39:06.259117Z",
     "start_time": "2024-04-25T15:39:05.008110Z"
    }
   },
   "outputs": [],
   "source": [
    "tokenizer = AutoTokenizer.from_pretrained(\"CLTL/MedRoBERTa.nl\")"
   ]
  },
  {
   "cell_type": "code",
   "execution_count": 12,
   "metadata": {
    "ExecuteTime": {
     "end_time": "2024-04-25T15:39:07.328611Z",
     "start_time": "2024-04-25T15:39:06.261613Z"
    }
   },
   "outputs": [],
   "source": [
    "os.chdir('T://lab_research/RES-Folder-UPOD/Echo_label/E_ResearchData/2_ResearchData')"
   ]
  },
  {
   "cell_type": "code",
   "execution_count": 13,
   "metadata": {
    "ExecuteTime": {
     "end_time": "2024-04-25T15:39:08.119113Z",
     "start_time": "2024-04-25T15:39:07.331615Z"
    }
   },
   "outputs": [],
   "source": [
    "labeled_documents = pd.read_json(f\"./echo_doc_labels/{Class}.jsonl\", lines=True)"
   ]
  },
  {
   "cell_type": "code",
   "execution_count": 14,
   "metadata": {},
   "outputs": [
    {
     "data": {
      "text/plain": [
       "label\n",
       "No label    3777\n",
       "Present      834\n",
       "Normal       389\n",
       "Name: count, dtype: int64"
      ]
     },
     "execution_count": 14,
     "metadata": {},
     "output_type": "execute_result"
    }
   ],
   "source": [
    "labeled_documents.label.value_counts()"
   ]
  },
  {
   "cell_type": "code",
   "execution_count": 15,
   "metadata": {
    "ExecuteTime": {
     "end_time": "2024-04-25T15:39:09.049113Z",
     "start_time": "2024-04-25T15:39:08.571112Z"
    }
   },
   "outputs": [],
   "source": [
    "# Expand with label columns\n",
    "Target_maps = {Label:i for i,Label in enumerate(labeled_documents['label'].unique())}"
   ]
  },
  {
   "cell_type": "code",
   "execution_count": 16,
   "metadata": {},
   "outputs": [
    {
     "data": {
      "text/plain": [
       "{'No label': 0, 'Normal': 1, 'Present': 2}"
      ]
     },
     "execution_count": 16,
     "metadata": {},
     "output_type": "execute_result"
    }
   ],
   "source": [
    "Target_maps"
   ]
  },
  {
   "cell_type": "code",
   "execution_count": 17,
   "metadata": {
    "ExecuteTime": {
     "end_time": "2024-04-25T15:39:10.056612Z",
     "start_time": "2024-04-25T15:39:09.051621Z"
    }
   },
   "outputs": [
    {
     "name": "stdout",
     "output_type": "stream",
     "text": [
      "Index(['ECHO_StudyID', 'ECHO_StudyID.1', 'input_hash', 'task_hash'], dtype='object')\n",
      "Train hashes: 96026\n",
      "Test hashes: 24051\n"
     ]
    }
   ],
   "source": [
    "# Load the train/test hashes\n",
    "test_hashes = pd.read_csv('./test_echoid.csv', sep=',')\n",
    "train_hashes = pd.read_csv('./train_echoid.csv', sep=',')\n",
    "print(train_hashes.columns)\n",
    "\n",
    "print(f\"Train hashes: {train_hashes.input_hash.nunique()}\")\n",
    "print(f\"Test hashes: {test_hashes.input_hash.nunique()}\")"
   ]
  },
  {
   "cell_type": "code",
   "execution_count": 18,
   "metadata": {},
   "outputs": [
    {
     "name": "stdout",
     "output_type": "stream",
     "text": [
      "dict_keys(['No label', 'Normal', 'Present'])\n"
     ]
    }
   ],
   "source": [
    "print(Target_maps.keys())"
   ]
  },
  {
   "cell_type": "code",
   "execution_count": 19,
   "metadata": {
    "ExecuteTime": {
     "end_time": "2024-04-25T15:39:14.753116Z",
     "start_time": "2024-04-25T15:39:10.601615Z"
    }
   },
   "outputs": [],
   "source": [
    "# We now make DataSets (a special HuggingFace structure)\n",
    "# assuming cross-validation\n",
    "\n",
    "DF = labeled_documents\n",
    "DF.columns = ['sentence', 'labels', '_input_hash']\n",
    "\n",
    "label2id = Target_maps\n",
    "id2label = {v:k for k,v in label2id.items()}\n",
    "num_labels = len(label2id)\n",
    "DF['labels'] = DF['labels'].map(label2id)\n",
    "\n",
    "\n",
    "if filter_reports:\n",
    "    DF = DF.assign(sentence = echo_utils.report_filter(DF.sentence, \n",
    "                                            flag_terms=FLAG_TERMS, \n",
    "                                            save_terms=SAVE_TERMS)[0])\n",
    "    DF = DF.loc[DF.sentence.notna()]\n",
    "\n",
    "if deabbreviate:\n",
    "    DeAbber = deabber.deabber(model_type='sbert', \n",
    "                              abbreviations=ABBREVIATIONS['nl']['echocardiogram'], \n",
    "                              min_sim=0.5, top_k=10)\n",
    "    DF = DF.assign(sentence=DeAbber.deabb(DF.sentence.values, TokenRadius=3))\n"
   ]
  },
  {
   "cell_type": "code",
   "execution_count": 20,
   "metadata": {},
   "outputs": [],
   "source": [
    "if use_multilabel:\n",
    "    _multilabels = {label2id[k]: [label2id[l] for l in v]\n",
    "                    for k,v in MULTILABELS.items()}\n",
    "else:\n",
    "    _multilabels = None"
   ]
  },
  {
   "cell_type": "code",
   "execution_count": 21,
   "metadata": {},
   "outputs": [
    {
     "name": "stdout",
     "output_type": "stream",
     "text": [
      "Train labels:\n",
      "labels\n",
      "0    2933\n",
      "2     661\n",
      "1     309\n",
      "Name: count, dtype: int64\n",
      "Test labels:\n",
      "labels\n",
      "0    724\n",
      "2    150\n",
      "1     81\n",
      "Name: count, dtype: int64\n"
     ]
    },
    {
     "data": {
      "application/json": {
       "ascii": false,
       "bar_format": null,
       "colour": null,
       "elapsed": 0.032396793365478516,
       "initial": 0,
       "n": 0,
       "ncols": null,
       "nrows": null,
       "postfix": null,
       "prefix": "Map",
       "rate": null,
       "total": 3903,
       "unit": " examples",
       "unit_divisor": 1000,
       "unit_scale": false
      },
      "application/vnd.jupyter.widget-view+json": {
       "model_id": "a92f009b8e974348b62125a5c69ee5c5",
       "version_major": 2,
       "version_minor": 0
      },
      "text/plain": [
       "Map:   0%|          | 0/3903 [00:00<?, ? examples/s]"
      ]
     },
     "metadata": {},
     "output_type": "display_data"
    },
    {
     "data": {
      "application/json": {
       "ascii": false,
       "bar_format": null,
       "colour": null,
       "elapsed": 0.015270471572875977,
       "initial": 0,
       "n": 0,
       "ncols": null,
       "nrows": null,
       "postfix": null,
       "prefix": "Map",
       "rate": null,
       "total": 955,
       "unit": " examples",
       "unit_divisor": 1000,
       "unit_scale": false
      },
      "application/vnd.jupyter.widget-view+json": {
       "model_id": "53f8592eec494b9ea7c2b499395cc21f",
       "version_major": 2,
       "version_minor": 0
      },
      "text/plain": [
       "Map:   0%|          | 0/955 [00:00<?, ? examples/s]"
      ]
     },
     "metadata": {},
     "output_type": "display_data"
    }
   ],
   "source": [
    "\n",
    "# TODO: make proper\n",
    "DFtrain = DF.loc[DF._input_hash.isin(train_hashes.input_hash), ['sentence', 'labels']]\n",
    "DFtest = DF.loc[DF._input_hash.isin(test_hashes.input_hash), ['sentence', 'labels']]\n",
    "\n",
    "print(\"Train labels:\")\n",
    "print(DFtrain.labels.value_counts())\n",
    "print(\"Test labels:\")\n",
    "print(DFtest.labels.value_counts())\n",
    "\n",
    "TrainSet = Dataset.from_pandas(DFtrain)\n",
    "TestSet = Dataset.from_pandas(DFtest)\n",
    "\n",
    "HF_DataSet = DatasetDict(\n",
    "    {'train' : TrainSet,\n",
    "     'test': TestSet,\n",
    "    }\n",
    ")\n",
    "\n",
    "Tokenized_DataSet = HF_DataSet.map(lambda batch: tokenizer(batch, truncation=True, \n",
    "                                                                  padding=True, \n",
    "                                                                  max_length=256),\n",
    "                                  input_columns='sentence',\n",
    "                                  batched=True,\n",
    "                                  remove_columns=['sentence'])"
   ]
  },
  {
   "cell_type": "code",
   "execution_count": 22,
   "metadata": {},
   "outputs": [
    {
     "data": {
      "application/json": {
       "ascii": false,
       "bar_format": null,
       "colour": null,
       "elapsed": 0.0159757137298584,
       "initial": 0,
       "n": 0,
       "ncols": null,
       "nrows": null,
       "postfix": null,
       "prefix": "Map",
       "rate": null,
       "total": 3903,
       "unit": " examples",
       "unit_divisor": 1000,
       "unit_scale": false
      },
      "application/vnd.jupyter.widget-view+json": {
       "model_id": "ec9d863610024495820cdfd7c131ecb7",
       "version_major": 2,
       "version_minor": 0
      },
      "text/plain": [
       "Map:   0%|          | 0/3903 [00:00<?, ? examples/s]"
      ]
     },
     "metadata": {},
     "output_type": "display_data"
    },
    {
     "data": {
      "application/json": {
       "ascii": false,
       "bar_format": null,
       "colour": null,
       "elapsed": 0.012153387069702148,
       "initial": 0,
       "n": 0,
       "ncols": null,
       "nrows": null,
       "postfix": null,
       "prefix": "Map",
       "rate": null,
       "total": 955,
       "unit": " examples",
       "unit_divisor": 1000,
       "unit_scale": false
      },
      "application/vnd.jupyter.widget-view+json": {
       "model_id": "3a09bc7f9bfd4646b8d5dc6919b1ec25",
       "version_major": 2,
       "version_minor": 0
      },
      "text/plain": [
       "Map:   0%|          | 0/955 [00:00<?, ? examples/s]"
      ]
     },
     "metadata": {},
     "output_type": "display_data"
    }
   ],
   "source": [
    "Tokenized_DataSet = (Tokenized_DataSet\n",
    "                      #.map(lambda x : {\"float_labels\": x[\"labels\"].to(torch.float)}, remove_columns=[\"labels\"])\n",
    "                      .map(lambda x: {\"labels\": \n",
    "                          multi_hot_encoding(x['labels'], \n",
    "                                             multilabels=_multilabels, \n",
    "                                             num_classes=num_labels)}, \n",
    "                           batched=True, remove_columns=['labels']))                      \n",
    "                      #.rename_column(\"float_labels\", \"labels\"))\n",
    "\n",
    "Tokenized_DataSet.set_format(\"torch\", \n",
    "                             columns=['input_ids', 'attention_mask', 'labels'])\n",
    "\n",
    "data_collator = DataCollatorWithPadding(tokenizer=tokenizer)"
   ]
  },
  {
   "cell_type": "code",
   "execution_count": 23,
   "metadata": {
    "ExecuteTime": {
     "end_time": "2024-04-25T15:39:15.961514Z",
     "start_time": "2024-04-25T15:39:14.755619Z"
    }
   },
   "outputs": [
    {
     "name": "stderr",
     "output_type": "stream",
     "text": [
      "Some weights of RobertaForSequenceClassification were not initialized from the model checkpoint at CLTL/MedRoBERTa.nl and are newly initialized: ['classifier.dense.bias', 'classifier.dense.weight', 'classifier.out_proj.bias', 'classifier.out_proj.weight']\n",
      "You should probably TRAIN this model on a down-stream task to be able to use it for predictions and inference.\n"
     ]
    }
   ],
   "source": [
    "# https://colab.research.google.com/drive/1aue7x525rKy6yYLqqt-5Ll96qjQvpqS7#scrollTo=1eVCRpcLUW-y\n",
    "# https://github.com/NielsRogge/Transformers-Tutorials/blob/master/BERT/Fine_tuning_BERT_(and_friends)_for_multi_label_text_classification.ipynb\n",
    "medroberta_clf = AutoModelForSequenceClassification.from_pretrained(\"CLTL/MedRoBERTa.nl\", \n",
    "                                                num_labels=len(id2label.keys()),\n",
    "                                                problem_type='multi_label_classification',\n",
    "                                                id2label=id2label,\n",
    "                                                label2id=label2id)\n"
   ]
  },
  {
   "cell_type": "code",
   "execution_count": 24,
   "metadata": {
    "ExecuteTime": {
     "end_time": "2024-04-25T15:39:16.442038Z",
     "start_time": "2024-04-25T15:39:15.968514Z"
    }
   },
   "outputs": [
    {
     "data": {
      "text/plain": [
       "=====================================================================================\n",
       "Layer (type:depth-idx)                                       Param #\n",
       "=====================================================================================\n",
       "RobertaForSequenceClassification                             --\n",
       "├─RobertaModel: 1-1                                          --\n",
       "│    └─RobertaEmbeddings: 2-1                                --\n",
       "│    │    └─Embedding: 3-1                                   39,936,000\n",
       "│    │    └─Embedding: 3-2                                   394,752\n",
       "│    │    └─Embedding: 3-3                                   768\n",
       "│    │    └─LayerNorm: 3-4                                   1,536\n",
       "│    │    └─Dropout: 3-5                                     --\n",
       "│    └─RobertaEncoder: 2-2                                   --\n",
       "│    │    └─ModuleList: 3-6                                  85,054,464\n",
       "├─RobertaClassificationHead: 1-2                             --\n",
       "│    └─Linear: 2-3                                           590,592\n",
       "│    └─Dropout: 2-4                                          --\n",
       "│    └─Linear: 2-5                                           2,307\n",
       "=====================================================================================\n",
       "Total params: 125,980,419\n",
       "Trainable params: 125,980,419\n",
       "Non-trainable params: 0\n",
       "====================================================================================="
      ]
     },
     "execution_count": 24,
     "metadata": {},
     "output_type": "execute_result"
    }
   ],
   "source": [
    "from torchinfo import summary\n",
    "summary(medroberta_clf)"
   ]
  },
  {
   "cell_type": "markdown",
   "metadata": {},
   "source": [
    "## MedRoBERTa.nl -- Training setup"
   ]
  },
  {
   "cell_type": "code",
   "execution_count": 25,
   "metadata": {
    "ExecuteTime": {
     "end_time": "2024-04-25T15:39:17.139141Z",
     "start_time": "2024-04-25T15:39:16.445015Z"
    }
   },
   "outputs": [],
   "source": [
    "train_dir = \"T://laupodteam/AIOS/Bram/data/tmp\"\n",
    "metric_name = 'f1_macro'\n",
    "training_args = TrainingArguments(output_dir=train_dir,\n",
    "                                  evaluation_strategy='epoch',\n",
    "                                  save_strategy='epoch',\n",
    "                                  num_train_epochs=20,\n",
    "                                  learning_rate=5e-5,\n",
    "                                  per_device_train_batch_size=16,\n",
    "                                  weight_decay=0.01,\n",
    "                                  per_device_eval_batch_size=10,\n",
    "                                  load_best_model_at_end=True, \n",
    "                                  metric_for_best_model=metric_name)"
   ]
  },
  {
   "cell_type": "code",
   "execution_count": 26,
   "metadata": {
    "ExecuteTime": {
     "end_time": "2024-04-25T15:39:17.650625Z",
     "start_time": "2024-04-25T15:39:17.141604Z"
    }
   },
   "outputs": [],
   "source": [
    "trainer = Trainer(medroberta_clf,\n",
    "                  training_args,\n",
    "                  train_dataset = Tokenized_DataSet[\"train\"],\n",
    "                  eval_dataset = Tokenized_DataSet[\"test\"],\n",
    "                  tokenizer=tokenizer,\n",
    "                  data_collator=data_collator,\n",
    "                  compute_metrics=compute_metrics)"
   ]
  },
  {
   "cell_type": "markdown",
   "metadata": {},
   "source": [
    "## MedRoBERTa.nl -- run Training"
   ]
  },
  {
   "cell_type": "code",
   "execution_count": 27,
   "metadata": {
    "ExecuteTime": {
     "end_time": "2024-04-25T19:28:33.043809Z",
     "start_time": "2024-04-25T15:39:17.652600Z"
    }
   },
   "outputs": [
    {
     "data": {
      "application/json": {
       "ascii": false,
       "bar_format": null,
       "colour": null,
       "elapsed": 0.0316004753112793,
       "initial": 0,
       "n": 0,
       "ncols": null,
       "nrows": null,
       "postfix": null,
       "prefix": "",
       "rate": null,
       "total": 4880,
       "unit": "it",
       "unit_divisor": 1000,
       "unit_scale": false
      },
      "application/vnd.jupyter.widget-view+json": {
       "model_id": "3c87d8912cd54001ba1245859ccb3698",
       "version_major": 2,
       "version_minor": 0
      },
      "text/plain": [
       "  0%|          | 0/4880 [00:00<?, ?it/s]"
      ]
     },
     "metadata": {},
     "output_type": "display_data"
    },
    {
     "data": {
      "application/json": {
       "ascii": false,
       "bar_format": null,
       "colour": null,
       "elapsed": 0.06351184844970703,
       "initial": 0,
       "n": 0,
       "ncols": null,
       "nrows": null,
       "postfix": null,
       "prefix": "",
       "rate": null,
       "total": 96,
       "unit": "it",
       "unit_divisor": 1000,
       "unit_scale": false
      },
      "application/vnd.jupyter.widget-view+json": {
       "model_id": "a2b8a826d4134576b15581b13f302536",
       "version_major": 2,
       "version_minor": 0
      },
      "text/plain": [
       "  0%|          | 0/96 [00:00<?, ?it/s]"
      ]
     },
     "metadata": {},
     "output_type": "display_data"
    },
    {
     "name": "stdout",
     "output_type": "stream",
     "text": [
      "{'eval_loss': 0.09698667377233505, 'eval_f1_macro': 0.9204363242963048, 'eval_f1_weighted': 0.953242542011603, 'eval_prec_macro': 0.9117987415683616, 'eval_prec_weighted': 0.9561235644672136, 'eval_recall_macro': 0.92974240047291, 'eval_recall_weighted': 0.9507853403141361, 'eval_roc_auc_macro': 0.9899824681330484, 'eval_roc_auc_weighted': 0.9869655317027333, 'eval_accuracy': 0.9465968586387434, 'eval_runtime': 10.0434, 'eval_samples_per_second': 95.087, 'eval_steps_per_second': 9.559, 'epoch': 1.0}\n"
     ]
    },
    {
     "data": {
      "application/json": {
       "ascii": false,
       "bar_format": null,
       "colour": null,
       "elapsed": 0.015280008316040039,
       "initial": 0,
       "n": 0,
       "ncols": null,
       "nrows": null,
       "postfix": null,
       "prefix": "",
       "rate": null,
       "total": 96,
       "unit": "it",
       "unit_divisor": 1000,
       "unit_scale": false
      },
      "application/vnd.jupyter.widget-view+json": {
       "model_id": "8d58e22c81214c8b8570a1d50e9bc671",
       "version_major": 2,
       "version_minor": 0
      },
      "text/plain": [
       "  0%|          | 0/96 [00:00<?, ?it/s]"
      ]
     },
     "metadata": {},
     "output_type": "display_data"
    },
    {
     "name": "stdout",
     "output_type": "stream",
     "text": [
      "{'eval_loss': 0.08688715845346451, 'eval_f1_macro': 0.9315535983044753, 'eval_f1_weighted': 0.9602171752690773, 'eval_prec_macro': 0.9144713278696743, 'eval_prec_weighted': 0.964303126096217, 'eval_recall_macro': 0.9506477502671485, 'eval_recall_weighted': 0.9570680628272251, 'eval_roc_auc_macro': 0.992883664370129, 'eval_roc_auc_weighted': 0.9929014670857554, 'eval_accuracy': 0.956020942408377, 'eval_runtime': 9.9615, 'eval_samples_per_second': 95.87, 'eval_steps_per_second': 9.637, 'epoch': 2.0}\n",
      "{'loss': 0.1383, 'grad_norm': 0.05871616303920746, 'learning_rate': 4.487704918032787e-05, 'epoch': 2.05}\n"
     ]
    },
    {
     "data": {
      "application/json": {
       "ascii": false,
       "bar_format": null,
       "colour": null,
       "elapsed": 0.03126096725463867,
       "initial": 0,
       "n": 0,
       "ncols": null,
       "nrows": null,
       "postfix": null,
       "prefix": "",
       "rate": null,
       "total": 96,
       "unit": "it",
       "unit_divisor": 1000,
       "unit_scale": false
      },
      "application/vnd.jupyter.widget-view+json": {
       "model_id": "7d5124c5f803452d805376d87eb46207",
       "version_major": 2,
       "version_minor": 0
      },
      "text/plain": [
       "  0%|          | 0/96 [00:00<?, ?it/s]"
      ]
     },
     "metadata": {},
     "output_type": "display_data"
    },
    {
     "name": "stdout",
     "output_type": "stream",
     "text": [
      "{'eval_loss': 0.07700932025909424, 'eval_f1_macro': 0.9544452092027292, 'eval_f1_weighted': 0.9721402506742821, 'eval_prec_macro': 0.9576060695064467, 'eval_prec_weighted': 0.9736296612885993, 'eval_recall_macro': 0.9513475661050861, 'eval_recall_weighted': 0.9706806282722513, 'eval_roc_auc_macro': 0.9938199479143411, 'eval_roc_auc_weighted': 0.9941953013859276, 'eval_accuracy': 0.9706806282722513, 'eval_runtime': 9.8996, 'eval_samples_per_second': 96.469, 'eval_steps_per_second': 9.697, 'epoch': 3.0}\n"
     ]
    },
    {
     "data": {
      "application/json": {
       "ascii": false,
       "bar_format": null,
       "colour": null,
       "elapsed": 0.0468134880065918,
       "initial": 0,
       "n": 0,
       "ncols": null,
       "nrows": null,
       "postfix": null,
       "prefix": "",
       "rate": null,
       "total": 96,
       "unit": "it",
       "unit_divisor": 1000,
       "unit_scale": false
      },
      "application/vnd.jupyter.widget-view+json": {
       "model_id": "c9247dcb4b394ae3be41070d8eecc90a",
       "version_major": 2,
       "version_minor": 0
      },
      "text/plain": [
       "  0%|          | 0/96 [00:00<?, ?it/s]"
      ]
     },
     "metadata": {},
     "output_type": "display_data"
    },
    {
     "name": "stdout",
     "output_type": "stream",
     "text": [
      "{'eval_loss': 0.0880352258682251, 'eval_f1_macro': 0.9454984539156844, 'eval_f1_weighted': 0.9700011989090846, 'eval_prec_macro': 0.9466782847184527, 'eval_prec_weighted': 0.9717263414818744, 'eval_recall_macro': 0.9451413045949572, 'eval_recall_weighted': 0.9685863874345549, 'eval_roc_auc_macro': 0.9941435380346929, 'eval_roc_auc_weighted': 0.9937506950539646, 'eval_accuracy': 0.9664921465968587, 'eval_runtime': 9.965, 'eval_samples_per_second': 95.836, 'eval_steps_per_second': 9.634, 'epoch': 4.0}\n",
      "{'loss': 0.0318, 'grad_norm': 0.25716322660446167, 'learning_rate': 3.975409836065574e-05, 'epoch': 4.1}\n"
     ]
    },
    {
     "data": {
      "application/json": {
       "ascii": false,
       "bar_format": null,
       "colour": null,
       "elapsed": 0.015625715255737305,
       "initial": 0,
       "n": 0,
       "ncols": null,
       "nrows": null,
       "postfix": null,
       "prefix": "",
       "rate": null,
       "total": 96,
       "unit": "it",
       "unit_divisor": 1000,
       "unit_scale": false
      },
      "application/vnd.jupyter.widget-view+json": {
       "model_id": "159bce5b42fd475d8cd589781218d823",
       "version_major": 2,
       "version_minor": 0
      },
      "text/plain": [
       "  0%|          | 0/96 [00:00<?, ?it/s]"
      ]
     },
     "metadata": {},
     "output_type": "display_data"
    },
    {
     "name": "stdout",
     "output_type": "stream",
     "text": [
      "{'eval_loss': 0.13911063969135284, 'eval_f1_macro': 0.9301209914860253, 'eval_f1_weighted': 0.9594366588418026, 'eval_prec_macro': 0.9585545727524357, 'eval_prec_weighted': 0.9601161097553342, 'eval_recall_macro': 0.9051722256326308, 'eval_recall_weighted': 0.9602094240837696, 'eval_roc_auc_macro': 0.9851939340164487, 'eval_roc_auc_weighted': 0.9878390282765664, 'eval_accuracy': 0.9602094240837696, 'eval_runtime': 9.7674, 'eval_samples_per_second': 97.774, 'eval_steps_per_second': 9.829, 'epoch': 5.0}\n"
     ]
    },
    {
     "data": {
      "application/json": {
       "ascii": false,
       "bar_format": null,
       "colour": null,
       "elapsed": 0,
       "initial": 0,
       "n": 0,
       "ncols": null,
       "nrows": null,
       "postfix": null,
       "prefix": "",
       "rate": null,
       "total": 96,
       "unit": "it",
       "unit_divisor": 1000,
       "unit_scale": false
      },
      "application/vnd.jupyter.widget-view+json": {
       "model_id": "2a6689c59b7046c297b23fdb2b8abbd3",
       "version_major": 2,
       "version_minor": 0
      },
      "text/plain": [
       "  0%|          | 0/96 [00:00<?, ?it/s]"
      ]
     },
     "metadata": {},
     "output_type": "display_data"
    },
    {
     "name": "stdout",
     "output_type": "stream",
     "text": [
      "{'eval_loss': 0.15098439157009125, 'eval_f1_macro': 0.9387025171151553, 'eval_f1_weighted': 0.9621941776736387, 'eval_prec_macro': 0.9583713977671607, 'eval_prec_weighted': 0.9622774297093126, 'eval_recall_macro': 0.9213039128754291, 'eval_recall_weighted': 0.9633507853403142, 'eval_roc_auc_macro': 0.9778907930324897, 'eval_roc_auc_weighted': 0.9809288446785902, 'eval_accuracy': 0.962303664921466, 'eval_runtime': 9.7812, 'eval_samples_per_second': 97.637, 'eval_steps_per_second': 9.815, 'epoch': 6.0}\n",
      "{'loss': 0.0104, 'grad_norm': 0.00945280957967043, 'learning_rate': 3.463114754098361e-05, 'epoch': 6.15}\n"
     ]
    },
    {
     "data": {
      "application/json": {
       "ascii": false,
       "bar_format": null,
       "colour": null,
       "elapsed": 0,
       "initial": 0,
       "n": 0,
       "ncols": null,
       "nrows": null,
       "postfix": null,
       "prefix": "",
       "rate": null,
       "total": 96,
       "unit": "it",
       "unit_divisor": 1000,
       "unit_scale": false
      },
      "application/vnd.jupyter.widget-view+json": {
       "model_id": "355631165e5b4d87b23cc3ed8a691b8b",
       "version_major": 2,
       "version_minor": 0
      },
      "text/plain": [
       "  0%|          | 0/96 [00:00<?, ?it/s]"
      ]
     },
     "metadata": {},
     "output_type": "display_data"
    },
    {
     "name": "stdout",
     "output_type": "stream",
     "text": [
      "{'eval_loss': 0.12250920385122299, 'eval_f1_macro': 0.9387221737681056, 'eval_f1_weighted': 0.9658609971814878, 'eval_prec_macro': 0.9426519647639577, 'eval_prec_weighted': 0.9652831671310715, 'eval_recall_macro': 0.9348866607552918, 'eval_recall_weighted': 0.9664921465968587, 'eval_roc_auc_macro': 0.9879247145769924, 'eval_roc_auc_weighted': 0.9892881055151175, 'eval_accuracy': 0.9654450261780104, 'eval_runtime': 9.9482, 'eval_samples_per_second': 95.997, 'eval_steps_per_second': 9.65, 'epoch': 7.0}\n"
     ]
    },
    {
     "data": {
      "application/json": {
       "ascii": false,
       "bar_format": null,
       "colour": null,
       "elapsed": 0.031359195709228516,
       "initial": 0,
       "n": 0,
       "ncols": null,
       "nrows": null,
       "postfix": null,
       "prefix": "",
       "rate": null,
       "total": 96,
       "unit": "it",
       "unit_divisor": 1000,
       "unit_scale": false
      },
      "application/vnd.jupyter.widget-view+json": {
       "model_id": "4a5233a8f9ba462fb5d1862fe93c6b5a",
       "version_major": 2,
       "version_minor": 0
      },
      "text/plain": [
       "  0%|          | 0/96 [00:00<?, ?it/s]"
      ]
     },
     "metadata": {},
     "output_type": "display_data"
    },
    {
     "name": "stdout",
     "output_type": "stream",
     "text": [
      "{'eval_loss': 0.13034452497959137, 'eval_f1_macro': 0.9445785440613027, 'eval_f1_weighted': 0.9685266293554793, 'eval_prec_macro': 0.9480305936232288, 'eval_prec_weighted': 0.9684942253556356, 'eval_recall_macro': 0.9412241093149626, 'eval_recall_weighted': 0.9685863874345549, 'eval_roc_auc_macro': 0.9897460671856049, 'eval_roc_auc_weighted': 0.9905972140167691, 'eval_accuracy': 0.9675392670157068, 'eval_runtime': 9.9787, 'eval_samples_per_second': 95.703, 'eval_steps_per_second': 9.62, 'epoch': 8.0}\n",
      "{'loss': 0.0017, 'grad_norm': 0.0037677877116948366, 'learning_rate': 2.9508196721311478e-05, 'epoch': 8.2}\n"
     ]
    },
    {
     "data": {
      "application/json": {
       "ascii": false,
       "bar_format": null,
       "colour": null,
       "elapsed": 0.016069889068603516,
       "initial": 0,
       "n": 0,
       "ncols": null,
       "nrows": null,
       "postfix": null,
       "prefix": "",
       "rate": null,
       "total": 96,
       "unit": "it",
       "unit_divisor": 1000,
       "unit_scale": false
      },
      "application/vnd.jupyter.widget-view+json": {
       "model_id": "ed2ac7d50466478d8f7542fa341f0176",
       "version_major": 2,
       "version_minor": 0
      },
      "text/plain": [
       "  0%|          | 0/96 [00:00<?, ?it/s]"
      ]
     },
     "metadata": {},
     "output_type": "display_data"
    },
    {
     "name": "stdout",
     "output_type": "stream",
     "text": [
      "{'eval_loss': 0.1379902958869934, 'eval_f1_macro': 0.9391131093425468, 'eval_f1_weighted': 0.9648083899666869, 'eval_prec_macro': 0.9439305691063778, 'eval_prec_weighted': 0.9642266208594882, 'eval_recall_macro': 0.934426255598754, 'eval_recall_weighted': 0.9654450261780104, 'eval_roc_auc_macro': 0.9874237982329439, 'eval_roc_auc_weighted': 0.9882239464522283, 'eval_accuracy': 0.9643979057591623, 'eval_runtime': 9.6517, 'eval_samples_per_second': 98.946, 'eval_steps_per_second': 9.946, 'epoch': 9.0}\n"
     ]
    },
    {
     "data": {
      "application/json": {
       "ascii": false,
       "bar_format": null,
       "colour": null,
       "elapsed": 0.016405344009399414,
       "initial": 0,
       "n": 0,
       "ncols": null,
       "nrows": null,
       "postfix": null,
       "prefix": "",
       "rate": null,
       "total": 96,
       "unit": "it",
       "unit_divisor": 1000,
       "unit_scale": false
      },
      "application/vnd.jupyter.widget-view+json": {
       "model_id": "cf10a8141241413c8879dff39a90a9f0",
       "version_major": 2,
       "version_minor": 0
      },
      "text/plain": [
       "  0%|          | 0/96 [00:00<?, ?it/s]"
      ]
     },
     "metadata": {},
     "output_type": "display_data"
    },
    {
     "name": "stdout",
     "output_type": "stream",
     "text": [
      "{'eval_loss': 0.14393161237239838, 'eval_f1_macro': 0.9426193108352029, 'eval_f1_weighted': 0.9663604778830412, 'eval_prec_macro': 0.9472456475703229, 'eval_prec_weighted': 0.967314558812145, 'eval_recall_macro': 0.9380810767796648, 'eval_recall_weighted': 0.9654450261780104, 'eval_roc_auc_macro': 0.9870257600223042, 'eval_roc_auc_weighted': 0.9876145758307571, 'eval_accuracy': 0.9654450261780104, 'eval_runtime': 9.945, 'eval_samples_per_second': 96.028, 'eval_steps_per_second': 9.653, 'epoch': 10.0}\n",
      "{'loss': 0.0013, 'grad_norm': 0.0038308906368911266, 'learning_rate': 2.4385245901639343e-05, 'epoch': 10.25}\n"
     ]
    },
    {
     "data": {
      "application/json": {
       "ascii": false,
       "bar_format": null,
       "colour": null,
       "elapsed": 0.015627145767211914,
       "initial": 0,
       "n": 0,
       "ncols": null,
       "nrows": null,
       "postfix": null,
       "prefix": "",
       "rate": null,
       "total": 96,
       "unit": "it",
       "unit_divisor": 1000,
       "unit_scale": false
      },
      "application/vnd.jupyter.widget-view+json": {
       "model_id": "d9d5f92532474f9f95c64d4b0bf5f1fe",
       "version_major": 2,
       "version_minor": 0
      },
      "text/plain": [
       "  0%|          | 0/96 [00:00<?, ?it/s]"
      ]
     },
     "metadata": {},
     "output_type": "display_data"
    },
    {
     "name": "stdout",
     "output_type": "stream",
     "text": [
      "{'eval_loss': 0.15840879082679749, 'eval_f1_macro': 0.9300838000051534, 'eval_f1_weighted': 0.9616404268844975, 'eval_prec_macro': 0.9319821174993589, 'eval_prec_weighted': 0.9632865469969641, 'eval_recall_macro': 0.9287317827342383, 'eval_recall_weighted': 0.9602094240837696, 'eval_roc_auc_macro': 0.9843277301868231, 'eval_roc_auc_weighted': 0.9856506371572207, 'eval_accuracy': 0.9602094240837696, 'eval_runtime': 9.8448, 'eval_samples_per_second': 97.005, 'eval_steps_per_second': 9.751, 'epoch': 11.0}\n"
     ]
    },
    {
     "data": {
      "application/json": {
       "ascii": false,
       "bar_format": null,
       "colour": null,
       "elapsed": 0.01638317108154297,
       "initial": 0,
       "n": 0,
       "ncols": null,
       "nrows": null,
       "postfix": null,
       "prefix": "",
       "rate": null,
       "total": 96,
       "unit": "it",
       "unit_divisor": 1000,
       "unit_scale": false
      },
      "application/vnd.jupyter.widget-view+json": {
       "model_id": "87dcd9923839474e818bd0620b69b61e",
       "version_major": 2,
       "version_minor": 0
      },
      "text/plain": [
       "  0%|          | 0/96 [00:00<?, ?it/s]"
      ]
     },
     "metadata": {},
     "output_type": "display_data"
    },
    {
     "name": "stdout",
     "output_type": "stream",
     "text": [
      "{'eval_loss': 0.15680676698684692, 'eval_f1_macro': 0.9370954789425207, 'eval_f1_weighted': 0.9641847375443622, 'eval_prec_macro': 0.942576199520644, 'eval_prec_weighted': 0.9651501639721535, 'eval_recall_macro': 0.931874815269536, 'eval_recall_weighted': 0.9633507853403142, 'eval_roc_auc_macro': 0.9845066354999236, 'eval_roc_auc_weighted': 0.9858848070033328, 'eval_accuracy': 0.962303664921466, 'eval_runtime': 9.8308, 'eval_samples_per_second': 97.144, 'eval_steps_per_second': 9.765, 'epoch': 12.0}\n",
      "{'loss': 0.0003, 'grad_norm': 0.0019513156730681658, 'learning_rate': 1.9262295081967212e-05, 'epoch': 12.3}\n"
     ]
    },
    {
     "data": {
      "application/json": {
       "ascii": false,
       "bar_format": null,
       "colour": null,
       "elapsed": 0.016077518463134766,
       "initial": 0,
       "n": 0,
       "ncols": null,
       "nrows": null,
       "postfix": null,
       "prefix": "",
       "rate": null,
       "total": 96,
       "unit": "it",
       "unit_divisor": 1000,
       "unit_scale": false
      },
      "application/vnd.jupyter.widget-view+json": {
       "model_id": "b0330d0b63844625a07de5c0bc49e9d1",
       "version_major": 2,
       "version_minor": 0
      },
      "text/plain": [
       "  0%|          | 0/96 [00:00<?, ?it/s]"
      ]
     },
     "metadata": {},
     "output_type": "display_data"
    },
    {
     "name": "stdout",
     "output_type": "stream",
     "text": [
      "{'eval_loss': 0.1549070030450821, 'eval_f1_macro': 0.9415798332856582, 'eval_f1_weighted': 0.9658706717078631, 'eval_prec_macro': 0.9451312883131066, 'eval_prec_weighted': 0.9663182638741896, 'eval_recall_macro': 0.9380810767796648, 'eval_recall_weighted': 0.9654450261780104, 'eval_roc_auc_macro': 0.9854683113077264, 'eval_roc_auc_weighted': 0.986670164432873, 'eval_accuracy': 0.9654450261780104, 'eval_runtime': 10.0723, 'eval_samples_per_second': 94.815, 'eval_steps_per_second': 9.531, 'epoch': 13.0}\n"
     ]
    },
    {
     "data": {
      "application/json": {
       "ascii": false,
       "bar_format": null,
       "colour": null,
       "elapsed": 0.03170442581176758,
       "initial": 0,
       "n": 0,
       "ncols": null,
       "nrows": null,
       "postfix": null,
       "prefix": "",
       "rate": null,
       "total": 96,
       "unit": "it",
       "unit_divisor": 1000,
       "unit_scale": false
      },
      "application/vnd.jupyter.widget-view+json": {
       "model_id": "7a51f6ad3cd04c15a17e7493ff64570b",
       "version_major": 2,
       "version_minor": 0
      },
      "text/plain": [
       "  0%|          | 0/96 [00:00<?, ?it/s]"
      ]
     },
     "metadata": {},
     "output_type": "display_data"
    },
    {
     "name": "stdout",
     "output_type": "stream",
     "text": [
      "{'eval_loss': 0.1521805077791214, 'eval_f1_macro': 0.9422429775965129, 'eval_f1_weighted': 0.9674381490659452, 'eval_prec_macro': 0.9456025681292043, 'eval_prec_weighted': 0.9674018157127962, 'eval_recall_macro': 0.9390018870927404, 'eval_recall_weighted': 0.9675392670157068, 'eval_roc_auc_macro': 0.9856299300578842, 'eval_roc_auc_weighted': 0.9868274425483863, 'eval_accuracy': 0.9664921465968587, 'eval_runtime': 9.9195, 'eval_samples_per_second': 96.275, 'eval_steps_per_second': 9.678, 'epoch': 14.0}\n",
      "{'loss': 0.0002, 'grad_norm': 0.003330979263409972, 'learning_rate': 1.4139344262295081e-05, 'epoch': 14.34}\n"
     ]
    },
    {
     "data": {
      "application/json": {
       "ascii": false,
       "bar_format": null,
       "colour": null,
       "elapsed": 0.015624046325683594,
       "initial": 0,
       "n": 0,
       "ncols": null,
       "nrows": null,
       "postfix": null,
       "prefix": "",
       "rate": null,
       "total": 96,
       "unit": "it",
       "unit_divisor": 1000,
       "unit_scale": false
      },
      "application/vnd.jupyter.widget-view+json": {
       "model_id": "7c451e5024124bb18c9c30b448f92099",
       "version_major": 2,
       "version_minor": 0
      },
      "text/plain": [
       "  0%|          | 0/96 [00:00<?, ?it/s]"
      ]
     },
     "metadata": {},
     "output_type": "display_data"
    },
    {
     "name": "stdout",
     "output_type": "stream",
     "text": [
      "{'eval_loss': 0.15676246583461761, 'eval_f1_macro': 0.9415873313148339, 'eval_f1_weighted': 0.9660440145531991, 'eval_prec_macro': 0.9363889418090219, 'eval_prec_weighted': 0.9658783173858098, 'eval_recall_macro': 0.9477441284132505, 'eval_recall_weighted': 0.9664921465968587, 'eval_roc_auc_macro': 0.9855375353650707, 'eval_roc_auc_weighted': 0.9863828434775038, 'eval_accuracy': 0.9654450261780104, 'eval_runtime': 9.818, 'eval_samples_per_second': 97.27, 'eval_steps_per_second': 9.778, 'epoch': 15.0}\n"
     ]
    },
    {
     "data": {
      "application/json": {
       "ascii": false,
       "bar_format": null,
       "colour": null,
       "elapsed": 0.01607370376586914,
       "initial": 0,
       "n": 0,
       "ncols": null,
       "nrows": null,
       "postfix": null,
       "prefix": "",
       "rate": null,
       "total": 96,
       "unit": "it",
       "unit_divisor": 1000,
       "unit_scale": false
      },
      "application/vnd.jupyter.widget-view+json": {
       "model_id": "6f37bfe8531f4a06a5247a9496e7f205",
       "version_major": 2,
       "version_minor": 0
      },
      "text/plain": [
       "  0%|          | 0/96 [00:00<?, ?it/s]"
      ]
     },
     "metadata": {},
     "output_type": "display_data"
    },
    {
     "name": "stdout",
     "output_type": "stream",
     "text": [
      "{'eval_loss': 0.14779004454612732, 'eval_f1_macro': 0.9453028367970896, 'eval_f1_weighted': 0.9679719892552533, 'eval_prec_macro': 0.9480134263684047, 'eval_prec_weighted': 0.9684373286331538, 'eval_recall_macro': 0.9426567082736512, 'eval_recall_weighted': 0.9675392670157068, 'eval_roc_auc_macro': 0.9865158185885942, 'eval_roc_auc_weighted': 0.9874358604123661, 'eval_accuracy': 0.9675392670157068, 'eval_runtime': 9.8699, 'eval_samples_per_second': 96.759, 'eval_steps_per_second': 9.727, 'epoch': 16.0}\n",
      "{'loss': 0.0003, 'grad_norm': 0.0012041801819577813, 'learning_rate': 9.016393442622952e-06, 'epoch': 16.39}\n"
     ]
    },
    {
     "data": {
      "application/json": {
       "ascii": false,
       "bar_format": null,
       "colour": null,
       "elapsed": 0.015976428985595703,
       "initial": 0,
       "n": 0,
       "ncols": null,
       "nrows": null,
       "postfix": null,
       "prefix": "",
       "rate": null,
       "total": 96,
       "unit": "it",
       "unit_divisor": 1000,
       "unit_scale": false
      },
      "application/vnd.jupyter.widget-view+json": {
       "model_id": "787d697c00fa4275bbc96e58f851fe89",
       "version_major": 2,
       "version_minor": 0
      },
      "text/plain": [
       "  0%|          | 0/96 [00:00<?, ?it/s]"
      ]
     },
     "metadata": {},
     "output_type": "display_data"
    },
    {
     "name": "stdout",
     "output_type": "stream",
     "text": [
      "{'eval_loss': 0.15704785287380219, 'eval_f1_macro': 0.9441914431712622, 'eval_f1_weighted': 0.9662549864549012, 'eval_prec_macro': 0.9518665533009796, 'eval_prec_weighted': 0.9662340752687075, 'eval_recall_macro': 0.93691085192006, 'eval_recall_weighted': 0.9664921465968587, 'eval_roc_auc_macro': 0.9845155225732253, 'eval_roc_auc_weighted': 0.9860099901057405, 'eval_accuracy': 0.9664921465968587, 'eval_runtime': 9.9982, 'eval_samples_per_second': 95.518, 'eval_steps_per_second': 9.602, 'epoch': 17.0}\n"
     ]
    },
    {
     "data": {
      "application/json": {
       "ascii": false,
       "bar_format": null,
       "colour": null,
       "elapsed": 0.04713916778564453,
       "initial": 0,
       "n": 0,
       "ncols": null,
       "nrows": null,
       "postfix": null,
       "prefix": "",
       "rate": null,
       "total": 96,
       "unit": "it",
       "unit_divisor": 1000,
       "unit_scale": false
      },
      "application/vnd.jupyter.widget-view+json": {
       "model_id": "17dd7b1db57c487da2d7a46732c0fd9c",
       "version_major": 2,
       "version_minor": 0
      },
      "text/plain": [
       "  0%|          | 0/96 [00:00<?, ?it/s]"
      ]
     },
     "metadata": {},
     "output_type": "display_data"
    },
    {
     "name": "stdout",
     "output_type": "stream",
     "text": [
      "{'eval_loss': 0.15604206919670105, 'eval_f1_macro': 0.9457979960613194, 'eval_f1_weighted': 0.9674000907078338, 'eval_prec_macro': 0.9508455161571177, 'eval_prec_weighted': 0.9673377201435552, 'eval_recall_macro': 0.9408948912079668, 'eval_recall_weighted': 0.9675392670157068, 'eval_roc_auc_macro': 0.9852821774102368, 'eval_roc_auc_weighted': 0.9864948269728602, 'eval_accuracy': 0.9664921465968587, 'eval_runtime': 9.9245, 'eval_samples_per_second': 96.227, 'eval_steps_per_second': 9.673, 'epoch': 18.0}\n",
      "{'loss': 0.0001, 'grad_norm': 0.0012400823179632425, 'learning_rate': 3.89344262295082e-06, 'epoch': 18.44}\n"
     ]
    },
    {
     "data": {
      "application/json": {
       "ascii": false,
       "bar_format": null,
       "colour": null,
       "elapsed": 0.016371726989746094,
       "initial": 0,
       "n": 0,
       "ncols": null,
       "nrows": null,
       "postfix": null,
       "prefix": "",
       "rate": null,
       "total": 96,
       "unit": "it",
       "unit_divisor": 1000,
       "unit_scale": false
      },
      "application/vnd.jupyter.widget-view+json": {
       "model_id": "49f92a0e079d460199c0b029eddac955",
       "version_major": 2,
       "version_minor": 0
      },
      "text/plain": [
       "  0%|          | 0/96 [00:00<?, ?it/s]"
      ]
     },
     "metadata": {},
     "output_type": "display_data"
    },
    {
     "name": "stdout",
     "output_type": "stream",
     "text": [
      "{'eval_loss': 0.15660811960697174, 'eval_f1_macro': 0.9438809651587811, 'eval_f1_weighted': 0.9669123016928425, 'eval_prec_macro': 0.9469874914657597, 'eval_prec_weighted': 0.9663560447508851, 'eval_recall_macro': 0.9408948912079668, 'eval_recall_weighted': 0.9675392670157068, 'eval_roc_auc_macro': 0.9853187585909842, 'eval_roc_auc_weighted': 0.9864928737422061, 'eval_accuracy': 0.9654450261780104, 'eval_runtime': 9.9011, 'eval_samples_per_second': 96.454, 'eval_steps_per_second': 9.696, 'epoch': 19.0}\n"
     ]
    },
    {
     "data": {
      "application/json": {
       "ascii": false,
       "bar_format": null,
       "colour": null,
       "elapsed": 0.015971660614013672,
       "initial": 0,
       "n": 0,
       "ncols": null,
       "nrows": null,
       "postfix": null,
       "prefix": "",
       "rate": null,
       "total": 96,
       "unit": "it",
       "unit_divisor": 1000,
       "unit_scale": false
      },
      "application/vnd.jupyter.widget-view+json": {
       "model_id": "2e9d655f20da4cea8161e57fb6ba71e3",
       "version_major": 2,
       "version_minor": 0
      },
      "text/plain": [
       "  0%|          | 0/96 [00:00<?, ?it/s]"
      ]
     },
     "metadata": {},
     "output_type": "display_data"
    },
    {
     "name": "stdout",
     "output_type": "stream",
     "text": [
      "{'eval_loss': 0.15727464854717255, 'eval_f1_macro': 0.9426761842511159, 'eval_f1_weighted': 0.9663610933988844, 'eval_prec_macro': 0.9464110524663695, 'eval_prec_weighted': 0.9653005463806082, 'eval_recall_macro': 0.9391330741422822, 'eval_recall_weighted': 0.9675392670157068, 'eval_roc_auc_macro': 0.9848658197619514, 'eval_roc_auc_weighted': 0.9862590617636323, 'eval_accuracy': 0.9654450261780104, 'eval_runtime': 9.9315, 'eval_samples_per_second': 96.158, 'eval_steps_per_second': 9.666, 'epoch': 20.0}\n",
      "{'train_runtime': 2674.4412, 'train_samples_per_second': 29.187, 'train_steps_per_second': 1.825, 'train_loss': 0.0189447997107369, 'epoch': 20.0}\n"
     ]
    },
    {
     "data": {
      "text/plain": [
       "TrainOutput(global_step=4880, training_loss=0.0189447997107369, metrics={'train_runtime': 2674.4412, 'train_samples_per_second': 29.187, 'train_steps_per_second': 1.825, 'total_flos': 1.026931669392384e+16, 'train_loss': 0.0189447997107369, 'epoch': 20.0})"
      ]
     },
     "execution_count": 27,
     "metadata": {},
     "output_type": "execute_result"
    }
   ],
   "source": [
    "trainer.train()"
   ]
  },
  {
   "cell_type": "code",
   "execution_count": 28,
   "metadata": {
    "jupyter": {
     "is_executing": true
    }
   },
   "outputs": [
    {
     "data": {
      "application/json": {
       "ascii": false,
       "bar_format": null,
       "colour": null,
       "elapsed": 0.015622615814208984,
       "initial": 0,
       "n": 0,
       "ncols": null,
       "nrows": null,
       "postfix": null,
       "prefix": "",
       "rate": null,
       "total": 96,
       "unit": "it",
       "unit_divisor": 1000,
       "unit_scale": false
      },
      "application/vnd.jupyter.widget-view+json": {
       "model_id": "9021e37cf4614bee85e02bcf6270f0ca",
       "version_major": 2,
       "version_minor": 0
      },
      "text/plain": [
       "  0%|          | 0/96 [00:00<?, ?it/s]"
      ]
     },
     "metadata": {},
     "output_type": "display_data"
    },
    {
     "data": {
      "text/plain": [
       "{'eval_loss': 0.07700932025909424,\n",
       " 'eval_f1_macro': 0.9544452092027292,\n",
       " 'eval_f1_weighted': 0.9721402506742821,\n",
       " 'eval_prec_macro': 0.9576060695064467,\n",
       " 'eval_prec_weighted': 0.9736296612885993,\n",
       " 'eval_recall_macro': 0.9513475661050861,\n",
       " 'eval_recall_weighted': 0.9706806282722513,\n",
       " 'eval_roc_auc_macro': 0.9938199479143411,\n",
       " 'eval_roc_auc_weighted': 0.9941953013859276,\n",
       " 'eval_accuracy': 0.9706806282722513,\n",
       " 'eval_runtime': 10.3639,\n",
       " 'eval_samples_per_second': 92.146,\n",
       " 'eval_steps_per_second': 9.263,\n",
       " 'epoch': 20.0}"
      ]
     },
     "execution_count": 28,
     "metadata": {},
     "output_type": "execute_result"
    }
   ],
   "source": [
    "trainer.eval_dataset = Tokenized_DataSet[\"test\"]\n",
    "trainer.evaluate()"
   ]
  },
  {
   "cell_type": "code",
   "execution_count": 29,
   "metadata": {
    "ExecuteTime": {
     "end_time": "2024-04-25T19:31:44.706606Z",
     "start_time": "2024-04-25T19:31:44.706095Z"
    }
   },
   "outputs": [],
   "source": [
    "#medroberta_clf_pipe = pipeline('text-classification', model=medroberta_clf, tokenizer=tokenizer)"
   ]
  },
  {
   "cell_type": "code",
   "execution_count": 30,
   "metadata": {},
   "outputs": [],
   "source": [
    "# get current directory of .py file, i.e. NOT os.getcwd()\n",
    "#os.path.dirname(os.path.realpath(__file__))"
   ]
  },
  {
   "cell_type": "code",
   "execution_count": null,
   "metadata": {},
   "outputs": [],
   "source": []
  }
 ],
 "metadata": {
  "kernelspec": {
   "display_name": "nlp",
   "language": "python",
   "name": "python3"
  },
  "language_info": {
   "codemirror_mode": {
    "name": "ipython",
    "version": 3
   },
   "file_extension": ".py",
   "mimetype": "text/x-python",
   "name": "python",
   "nbconvert_exporter": "python",
   "pygments_lexer": "ipython3",
   "version": "3.11.0"
  }
 },
 "nbformat": 4,
 "nbformat_minor": 2
}
